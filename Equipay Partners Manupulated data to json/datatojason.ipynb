{
 "cells": [
  {
   "cell_type": "code",
   "execution_count": 1,
   "metadata": {},
   "outputs": [],
   "source": [
    "import pandas as pd\n",
    "import json"
   ]
  },
  {
   "cell_type": "code",
   "execution_count": 2,
   "metadata": {},
   "outputs": [],
   "source": [
    "df = pd.read_excel('Equipay Partners Data.xlsx')"
   ]
  },
  {
   "cell_type": "code",
   "execution_count": 3,
   "metadata": {},
   "outputs": [
    {
     "data": {
      "text/plain": [
       "Index(['Title', 'Experience', 'Industry', 'location', 'Average Salary', 'Min',\n",
       "       '25th Percentile', 'MEDIAN', '75th Percentile', 'Max',\n",
       "       'growth_last_30days', 'growth_last_60days', 'growth_last_90days',\n",
       "       'Technical Sales', 'Sales Management', 'Sales', 'Presentation',\n",
       "       'Oral / Verbal Communication', 'Negotiation', 'Leadership',\n",
       "       'Lead Generation', 'Inside Sales', 'Field Sales', 'Customer Service',\n",
       "       'Customer Relationship Management (crm)', 'Customer Relations',\n",
       "       'Business To Business (b2b) Sales', 'Team Management', 'Sourcing',\n",
       "       'Scheduling', 'Recruiting', 'Project Management', 'Screening', 'Hiring',\n",
       "       'Employee Engagement', 'Applicant Tracking System (ats) Software',\n",
       "       'Administration', 'Retail', 'Spring Boot',\n",
       "       'Security Information And Event Management (siem)', 'Salesforce',\n",
       "       'React.js', 'SQL', 'Python', 'Microsoft Azure', 'Microservices',\n",
       "       'Linux', 'Java Script', 'Java', 'Google Cloud Platform (gcp)',\n",
       "       'Development Operations (devops)', 'C# Programming Language',\n",
       "       'Autodesk Autocad', 'Applications', 'Amazon Web Services (aws)',\n",
       "       'Agile Software Development', '.NET', 'MySQL',\n",
       "       'Model-view-controller (MVC)', 'Microsoft SQL Server', 'HTML',\n",
       "       'Cascading Style Sheets (CSS)', 'C++ Programming Language',\n",
       "       'C Programming Language', 'Angular', 'ASP.NET Framework', '.NET Core',\n",
       "       'Software Development', 'Node.js'],\n",
       "      dtype='object')"
      ]
     },
     "execution_count": 3,
     "metadata": {},
     "output_type": "execute_result"
    }
   ],
   "source": [
    "df.columns"
   ]
  },
  {
   "cell_type": "code",
   "execution_count": 4,
   "metadata": {},
   "outputs": [],
   "source": [
    "rows = []\n",
    "reqs = ['Title', 'Experience', 'Industry', 'location', 'Average Salary', 'Min',\n",
    "       '25th Percentile', 'MEDIAN', '75th Percentile', 'Max','growth_last_30days','growth_last_60days','growth_last_90days']\n",
    "for inde, row in df.iterrows():\n",
    "    data = {}\n",
    "    data.update(row[row.index.isin(reqs)].to_dict())\n",
    "    skills = (row[~row.index.isin(reqs)].dropna().to_dict())\n",
    "    skilllis = []\n",
    "    for k,v in skills.items():\n",
    "        skilllis.append({'skill':k,'value':v})\n",
    "    data.update({'skills':skilllis})\n",
    "    rows.append(data)"
   ]
  },
  {
   "cell_type": "code",
   "execution_count": 5,
   "metadata": {},
   "outputs": [],
   "source": [
    "with open('Equipay_Partners_Data.json', 'w') as json_file:\n",
    "    json.dump(rows, json_file, indent=4)"
   ]
  },
  {
   "cell_type": "code",
   "execution_count": null,
   "metadata": {},
   "outputs": [],
   "source": []
  }
 ],
 "metadata": {
  "kernelspec": {
   "display_name": "Python 3",
   "language": "python",
   "name": "python3"
  },
  "language_info": {
   "codemirror_mode": {
    "name": "ipython",
    "version": 3
   },
   "file_extension": ".py",
   "mimetype": "text/x-python",
   "name": "python",
   "nbconvert_exporter": "python",
   "pygments_lexer": "ipython3",
   "version": "3.11.4"
  }
 },
 "nbformat": 4,
 "nbformat_minor": 2
}
