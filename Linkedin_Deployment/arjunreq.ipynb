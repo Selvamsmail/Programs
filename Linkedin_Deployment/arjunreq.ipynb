{
 "cells": [
  {
   "cell_type": "code",
   "execution_count": 2,
   "metadata": {},
   "outputs": [],
   "source": [
    "import pandas as pd\n",
    "from bs4 import BeautifulSoup\n",
    "from selenium import webdriver\n",
    "from selenium.webdriver.common.by import By\n",
    "from selenium.webdriver.support.ui import WebDriverWait\n",
    "from selenium.webdriver.support import expected_conditions as EC\n",
    "import time\n",
    "import pytz\n",
    "import datetime\n",
    "import os\n",
    "from tqdm import tqdm\n",
    "\n",
    "def driver_setup():# Assigning a Headless Firefox Driver\n",
    "  options = webdriver.ChromeOptions()\n",
    "  options.binary_location = 'C:/Program Files/Google/Chrome/Application/chrome.exe'  # Path to Chrome executable\n",
    "  options.add_argument('chromedriver.exe')\n",
    "  options.add_argument('--no-sandbox')\n",
    "  options.add_argument('--disable-dev-shm-usage')\n",
    "  driver = webdriver.Chrome(options=options)\n",
    "  return driver\n",
    "\n",
    "def save_data_to_disk(data, filename):\n",
    "    if os.path.isfile(filename):\n",
    "        existing_df = pd.read_csv(filename)\n",
    "        data = pd.concat([existing_df, data], ignore_index=True)\n",
    "        os.remove(filename)\n",
    "        data.to_csv(filename,index=False)\n",
    "    else:\n",
    "        data.to_csv(filename, mode='w', header=True, index=False)"
   ]
  },
  {
   "cell_type": "code",
   "execution_count": 3,
   "metadata": {},
   "outputs": [],
   "source": [
    "driver = driver_setup()\n",
    "driver.get('https://www.google.com/search?sa=X&sca_esv=555467477&tbs=lf:1,lf_ui:2&tbm=lcl&sxsrf=AB5stBh_lBZEMgFnp0PUMCv05-Rk2cFBiw:1691679664628&q=%22Training+Institutes+for+IELTS+in+Bangalore%22,+%22Training+Institutes+for+TOEFL+in+Bangalore%22&rflfq=1&num=10&ved=2ahUKEwiqgO_rrdKAAxXHTWwGHYeoBukQjGp6BAgZEAE&biw=1366&bih=671&dpr=1#rlfi=hd:;si:;mv:[[13.547449208248395,79.24952417535208],[12.16577476726602,76.65125757378956]]')\n"
   ]
  },
  {
   "cell_type": "code",
   "execution_count": 41,
   "metadata": {},
   "outputs": [],
   "source": [
    "elements_with_class = driver.find_elements(By.CLASS_NAME, \"uMdZh\")\n",
    "# Loop through the found elements and print their text content\n",
    "\n",
    "for ind in range(1,len(elements_with_class)):\n",
    "    res = ' '.join(elements_with_class[ind].text.split('\\n'))\n",
    "    main = {\n",
    "        \"content\":res\n",
    "    }\n",
    "    \n",
    "    if main != {}:    \n",
    "        tempdf = pd.DataFrame(main, index=[0])\n",
    "        tempfilename = 'IELTS_and_TOEFL.csv'\n",
    "\n",
    "        save_data_to_disk(tempdf, tempfilename)\n",
    "        tempdf = pd.DataFrame()\n",
    "        "
   ]
  },
  {
   "cell_type": "code",
   "execution_count": 42,
   "metadata": {},
   "outputs": [],
   "source": [
    "df = pd.read_csv('E:\\Programs\\IELTS_and_TOEFL.csv')"
   ]
  },
  {
   "cell_type": "code",
   "execution_count": 50,
   "metadata": {},
   "outputs": [],
   "source": [
    "pattern = r'(\\d{3} \\d{4} \\d{4}|\\d{6} \\d{5}|\\d{5} \\d{5})'\n",
    "\n",
    "# Use str.contains() to create a boolean mask for matching rows\n",
    "df['phone'] = df['content'].str.extract(pattern)\n",
    "df = df.reindex(columns = ['phone', 'content'])\n",
    "df.to_csv('IELTS_and_TOEFL.csv',index = False)"
   ]
  },
  {
   "cell_type": "code",
   "execution_count": 40,
   "metadata": {},
   "outputs": [
    {
     "name": "stdout",
     "output_type": "stream",
     "text": [
      "3\n"
     ]
    }
   ],
   "source": [
    "elements_with_class = driver.find_elements(By.CLASS_NAME, \"uMdZh\")\n",
    "print(len(elements_with_class))"
   ]
  }
 ],
 "metadata": {
  "kernelspec": {
   "display_name": "Python 3",
   "language": "python",
   "name": "python3"
  },
  "language_info": {
   "codemirror_mode": {
    "name": "ipython",
    "version": 3
   },
   "file_extension": ".py",
   "mimetype": "text/x-python",
   "name": "python",
   "nbconvert_exporter": "python",
   "pygments_lexer": "ipython3",
   "version": "3.11.4"
  },
  "orig_nbformat": 4
 },
 "nbformat": 4,
 "nbformat_minor": 2
}
