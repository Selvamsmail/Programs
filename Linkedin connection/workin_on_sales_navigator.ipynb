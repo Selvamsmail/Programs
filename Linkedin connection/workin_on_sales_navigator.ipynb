{
 "cells": [
  {
   "cell_type": "code",
   "execution_count": 22,
   "metadata": {},
   "outputs": [],
   "source": [
    "import pandas as pd\n",
    "from bs4 import BeautifulSoup\n",
    "from selenium import webdriver\n",
    "from selenium.webdriver.common.by import By\n",
    "from selenium.webdriver.support.ui import WebDriverWait\n",
    "from selenium.webdriver.support import expected_conditions as EC\n",
    "from selenium.common.exceptions import NoSuchElementException\n",
    "from selenium.common.exceptions import StaleElementReferenceException\n",
    "import shutil\n",
    "import pyperclip\n",
    "import time\n",
    "import pytz\n",
    "import datetime\n",
    "import os\n",
    "from tqdm import tqdm\n",
    "import random"
   ]
  },
  {
   "cell_type": "code",
   "execution_count": 23,
   "metadata": {},
   "outputs": [],
   "source": [
    "def driver_setup():# Assigning a Headless Firefox Driver\n",
    "    options = webdriver.FirefoxOptions()\n",
    "    options.binary_location = 'C:/Program Files/Mozilla Firefox/firefox.exe'  # Path to Chrome executable\n",
    "    options.add_argument('E:/Programs/geckodriver.exe')\n",
    "    # options.add_argument('--headless')\n",
    "    options.add_argument(\"--start-with-cache\")\n",
    "    options.add_argument(\"0\")\n",
    "    options.add_argument(\"--disk-cache-size=0\")\n",
    "    options.add_argument('--no-sandbox')\n",
    "    options.add_argument('--disable-dev-shm-usage')\n",
    "    driver = webdriver.Firefox(options=options)\n",
    "    return driver\n",
    "\n",
    "def save_data_to_disk(data, filename):\n",
    "    max_attempts = 5  # Maximum number of attempts\n",
    "    wait_time = 5  # Time to wait between attempts (in seconds)\n",
    "    \n",
    "    for _ in range(max_attempts):\n",
    "        try:\n",
    "            backup_filename = filename + 'bak.parquet'\n",
    "            if os.path.isfile(backup_filename):\n",
    "                os.remove(backup_filename)  # Remove old backup before creating a new one\n",
    "            shutil.copyfile(filename, backup_filename)\n",
    "            \n",
    "            if os.path.isfile(filename):\n",
    "                existing_df = pd.read_parquet(backup_filename)\n",
    "                data = pd.concat([existing_df, data], ignore_index=True)\n",
    "                data.to_parquet(filename, index=False)\n",
    "            else:\n",
    "                data.to_parquet(filename, index=False)\n",
    "            break  # Break out of the loop if successful\n",
    "        except Exception as e:\n",
    "            print(f\"Error: {e}\")\n",
    "            print(f\"File '{filename}' is in use. Waiting {wait_time} seconds before trying again...\")\n",
    "            time.sleep(wait_time)\n",
    "    else:\n",
    "        print(f\"Failed to save data to '{filename}' after {max_attempts} attempts.\")"
   ]
  },
  {
   "cell_type": "code",
   "execution_count": 24,
   "metadata": {},
   "outputs": [
    {
     "name": "stderr",
     "output_type": "stream",
     "text": [
      "The version of firefox cannot be detected. Trying with latest driver version\n"
     ]
    }
   ],
   "source": [
    "driver = driver_setup()"
   ]
  },
  {
   "cell_type": "code",
   "execution_count": 25,
   "metadata": {},
   "outputs": [],
   "source": [
    "driver.get(f\"https://www.linkedin.com/authwall?trk=qf&original_referer=&sessionRedirect=https%3A%2F%2Fwww.linkedin.com%2F\")\n",
    "Sign_in_button = driver.find_element(By.XPATH, \"/html/body/div/main/div/form/p/button\").click()\n",
    "time.sleep(5)\n",
    "email_phone = driver.find_element(By.XPATH, '//*[@id=\"session_key\"]')\n",
    "password = driver.find_element(By.XPATH, '//*[@id=\"session_password\"]')\n",
    "email_phone.send_keys(\"pannersmail@gmail.com\")\n",
    "# email_phone.send_keys(\"urvibabla@gmail.com\")\n",
    "# email_phone.send_keys(\"r.panneerselvam@firebird.net.in\")\n",
    "password.send_keys(\"MK90473@yahoo.com\")\n",
    "# password.send_keys(\"SkillIQ@123\")\n",
    "\n",
    "# email_phone.send_keys(\"chakrabortiarjun@gmail.com\")\n",
    "# password.send_keys(\"Reafactor_Academy\")\n",
    "\n",
    "# email_phone.send_keys(\"renjithcm.renju@gmail.com\")\n",
    "# password.send_keys(\"Renjith#@1\")\n",
    "submit_button = driver.find_element(By.XPATH, \"/html/body/div/main/div/div/form[1]/div[2]/button\")\n",
    "submit_button.click()\n",
    "\n",
    "wait = WebDriverWait(driver, 4)"
   ]
  },
  {
   "cell_type": "code",
   "execution_count": 26,
   "metadata": {},
   "outputs": [],
   "source": [
    "driver.switch_to.window(driver.window_handles[0])"
   ]
  },
  {
   "cell_type": "markdown",
   "metadata": {},
   "source": [
    "# Sales Navigator"
   ]
  },
  {
   "cell_type": "markdown",
   "metadata": {},
   "source": [
    "# connection reqs extract"
   ]
  },
  {
   "cell_type": "code",
   "execution_count": 10,
   "metadata": {},
   "outputs": [],
   "source": [
    "dalis = []"
   ]
  },
  {
   "cell_type": "code",
   "execution_count": null,
   "metadata": {},
   "outputs": [],
   "source": [
    "# scroll to view implimentation.\n",
    "run = True\n",
    "page = 0\n",
    "while run == True:\n",
    "    page += 1\n",
    "    driver.execute_script(\"window.scrollTo(0, 0);\")\n",
    "    nextorli = 1\n",
    "    time.sleep(2)\n",
    "    WebDriverWait(driver, 10).until(EC.presence_of_all_elements_located((By.XPATH, '//ol[contains(@class, \"artdeco-list\")]/li')))\n",
    "    li_elements = driver.find_elements(By.XPATH, '//ol[contains(@class, \"artdeco-list\")]/li')\n",
    "    for li in range(len(li_elements)):\n",
    "        try:\n",
    "            driver.execute_script(\"arguments[0].scrollIntoView(true);\", li_elements[li])\n",
    "        except StaleElementReferenceException:\n",
    "            driver.execute_script(\"arguments[0].scrollIntoView(true);\", li_elements[li])\n",
    "        dalis.append({'textcol':li_elements[li].text})\n",
    "        \n",
    "        print(f'\\rLi: {li} lent: {len(li_elements)}, page: {page} tot_extract: {len(dalis)}', end='')\n",
    "    time.sleep(1)\n",
    "    next_button = driver.find_element(By.CSS_SELECTOR, '.artdeco-pagination__button.artdeco-pagination__button--next.artdeco-button.artdeco-button--muted.artdeco-button--icon-right.artdeco-button--1.artdeco-button--tertiary.ember-view')\n",
    "    \n",
    "    if next_button.is_enabled():\n",
    "        driver.find_element(By.XPATH, '//button[@aria-label=\"Next\"]').click()\n",
    "        time.sleep(2)\n",
    "    else:\n",
    "        run = False"
   ]
  },
  {
   "cell_type": "code",
   "execution_count": 38,
   "metadata": {},
   "outputs": [],
   "source": [
    "pd.DataFrame(dalis).to_csv('connection_req_proper_HR_names.csv',index=False)"
   ]
  },
  {
   "cell_type": "markdown",
   "metadata": {},
   "source": [
    "# Contact extraction"
   ]
  },
  {
   "cell_type": "code",
   "execution_count": 6,
   "metadata": {},
   "outputs": [],
   "source": [
    "contalis = []"
   ]
  },
  {
   "cell_type": "code",
   "execution_count": 18,
   "metadata": {},
   "outputs": [
    {
     "name": "stdout",
     "output_type": "stream",
     "text": [
      "Li: 5 lent: 6, page: 12 tot_extract: 10301"
     ]
    }
   ],
   "source": [
    "# scroll to view implimentation.\n",
    "run = True\n",
    "page = 0\n",
    "while run == True:\n",
    "    page += 1\n",
    "    driver.execute_script(\"window.scrollTo(0, 0);\")\n",
    "    nextorli = 1\n",
    "    time.sleep(2)\n",
    "    WebDriverWait(driver, 10).until(EC.presence_of_all_elements_located((By.XPATH, '//ol[contains(@class, \"artdeco-list\")]/li')))\n",
    "    li_elements = driver.find_elements(By.XPATH, '//ol[contains(@class, \"artdeco-list\")]/li')\n",
    "    for li in range(len(li_elements)):\n",
    "        try:\n",
    "            driver.execute_script(\"arguments[0].scrollIntoView(true);\", li_elements[li])\n",
    "        except StaleElementReferenceException:\n",
    "            driver.execute_script(\"arguments[0].scrollIntoView(true);\", li_elements[li])\n",
    "        # time.sleep(1)\n",
    "        # clicking the name so profile opens.\n",
    "        if nextorli:\n",
    "            WebDriverWait(li_elements[li], 10).until(EC.visibility_of_element_located((By.CSS_SELECTOR, \".artdeco-entity-lockup__content.ember-view a\"))).click()\n",
    "            nextorli = 0\n",
    "        else:\n",
    "            driver.find_elements(By.CSS_SELECTOR, '._inline-sidesheet-header_1cn7lg > div:nth-child(1) > button')[1].click()\n",
    "        time.sleep(1)\n",
    "        try:\n",
    "            phonetext = WebDriverWait(driver, 5).until(EC.visibility_of_element_located((By.CSS_SELECTOR, \"._layout_hqxetg._panel_hqxetg._grid_17ha7o._gap-none_17ha7o\"))).text\n",
    "        except:\n",
    "            phonetext = ''\n",
    "        \n",
    "        if 'phone' in phonetext:\n",
    "            \n",
    "            data = {}\n",
    "            \n",
    "            name_and_comp = WebDriverWait(li_elements[li], 10).until(EC.visibility_of_all_elements_located((By.CSS_SELECTOR, \".artdeco-entity-lockup__content.ember-view a\")))\n",
    "            namelis = ['name','comp']\n",
    "            for i in range(len(name_and_comp)):\n",
    "                data[namelis[i]] = name_and_comp[i].text\n",
    "            #------------------------------------------------------------------------------------------------------    \n",
    "            try:\n",
    "                title = driver.find_element(By.CSS_SELECTOR, '.lbhdzEDRUBChRxKDPXPcbnKQXXAJiQHiDW._inset-horizontal-compact_sfmhx2 > div > div').text\n",
    "            except:\n",
    "                title = driver.find_element(By.CSS_SELECTOR, '.lbhdzEDRUBChRxKDPXPcbnKQXXAJiQHiDW._inset-horizontal-compact_sfmhx2 ul > li').text\n",
    "            data['title'] = title   \n",
    "            #------------------------------------------------------------------------------------------------------\n",
    "            driver.find_element(By.CSS_SELECTOR, '._layout_hqxetg._panel_hqxetg._grid_17ha7o._gap-none_17ha7o button').click()\n",
    "            time.sleep(1)\n",
    "            sections = WebDriverWait(driver, 10).until(EC.visibility_of_all_elements_located((By.CSS_SELECTOR, \".artdeco-modal__content.ember-view section\")))\n",
    "            for section in sections:\n",
    "                head = section.find_element(By.CSS_SELECTOR, 'h3').text\n",
    "                try:\n",
    "                    tail = section.find_element(By.CSS_SELECTOR, 'div').text.split('\\n')[0]\n",
    "                except:\n",
    "                    tail = 'NA'\n",
    "                data[head]=tail\n",
    "            \n",
    "            driver.find_elements(By.CSS_SELECTOR, '.artdeco-modal.artdeco-modal--layer-default  button')[0].click() #close button\n",
    "            time.sleep(1)\n",
    "            \n",
    "            contalis.append(data)\n",
    "        print(f'\\rLi: {li} lent: {len(li_elements)}, page: {page} tot_extract: {len(contalis)}', end='')\n",
    "    \n",
    "    next_button = driver.find_element(By.CSS_SELECTOR, '.artdeco-pagination__button.artdeco-pagination__button--next.artdeco-button.artdeco-button--muted.artdeco-button--icon-right.artdeco-button--1.artdeco-button--tertiary.ember-view')\n",
    "    \n",
    "    if next_button.is_enabled():\n",
    "        driver.find_element(By.XPATH, '//button[@aria-label=\"Next\"]').click()\n",
    "        time.sleep(2)\n",
    "    else:\n",
    "        run = False"
   ]
  },
  {
   "cell_type": "code",
   "execution_count": 19,
   "metadata": {},
   "outputs": [],
   "source": [
    "df = pd.DataFrame(contalis)"
   ]
  },
  {
   "cell_type": "code",
   "execution_count": 21,
   "metadata": {},
   "outputs": [],
   "source": [
    "df.rename(columns= {'name':'Name', 'Email address':'Email','comp':'Company/Organization', 'title':'Position/Role'},inplace=True)"
   ]
  },
  {
   "cell_type": "code",
   "execution_count": 27,
   "metadata": {},
   "outputs": [],
   "source": [
    "exisdf = pd.read_parquet('original_syeda_contacts.parquet')\n",
    "toparkdf = pd.concat([exisdf,df],ignore_index=True)\n",
    "toparkdf.drop_duplicates(inplace=True)\n",
    "toparkdf = toparkdf.reset_index(drop=True)\n",
    "toparkdf.to_parquet('original_syeda_contacts.parquet',index=False)"
   ]
  },
  {
   "cell_type": "code",
   "execution_count": 28,
   "metadata": {},
   "outputs": [],
   "source": [
    "toparkdf.reindex(columns=['Name','Email','Phone','Company/Organization','Position/Role']).to_excel('linkedincontacts.xlsx',index=False)"
   ]
  },
  {
   "cell_type": "markdown",
   "metadata": {},
   "source": [
    "# connection from sales navigator.      "
   ]
  },
  {
   "cell_type": "code",
   "execution_count": 27,
   "metadata": {},
   "outputs": [
    {
     "name": "stdout",
     "output_type": "stream",
     "text": [
      "Li: 0 lent: 25, page = 32"
     ]
    },
    {
     "ename": "ElementClickInterceptedException",
     "evalue": "Message: Element <li> is not clickable at point (1746,215) because another element <div id=\"ember10930\" class=\"artdeco-modal-overlay artdeco-modal-overlay--layer-default artdeco-modal-overlay--is-top-layer  ember-view\"> obscures it\nStacktrace:\nRemoteError@chrome://remote/content/shared/RemoteError.sys.mjs:8:8\nWebDriverError@chrome://remote/content/shared/webdriver/Errors.sys.mjs:189:5\nElementClickInterceptedError@chrome://remote/content/shared/webdriver/Errors.sys.mjs:333:5\nwebdriverClickElement@chrome://remote/content/marionette/interaction.sys.mjs:176:11\ninteraction.clickElement@chrome://remote/content/marionette/interaction.sys.mjs:135:11\nclickElement@chrome://remote/content/marionette/actors/MarionetteCommandsChild.sys.mjs:204:29\nreceiveMessage@chrome://remote/content/marionette/actors/MarionetteCommandsChild.sys.mjs:84:31\n",
     "output_type": "error",
     "traceback": [
      "\u001b[1;31m---------------------------------------------------------------------------\u001b[0m",
      "\u001b[1;31mElementClickInterceptedException\u001b[0m          Traceback (most recent call last)",
      "Cell \u001b[1;32mIn[27], line 17\u001b[0m\n\u001b[0;32m     14\u001b[0m     driver\u001b[38;5;241m.\u001b[39mexecute_script(\u001b[38;5;124m\"\u001b[39m\u001b[38;5;124marguments[0].scrollIntoView(true);\u001b[39m\u001b[38;5;124m\"\u001b[39m, li_elements[li])\n\u001b[0;32m     15\u001b[0m \u001b[38;5;66;03m# time.sleep(1)\u001b[39;00m\n\u001b[1;32m---> 17\u001b[0m \u001b[43mWebDriverWait\u001b[49m\u001b[43m(\u001b[49m\u001b[43mli_elements\u001b[49m\u001b[43m[\u001b[49m\u001b[43mli\u001b[49m\u001b[43m]\u001b[49m\u001b[43m,\u001b[49m\u001b[43m \u001b[49m\u001b[38;5;241;43m10\u001b[39;49m\u001b[43m)\u001b[49m\u001b[38;5;241;43m.\u001b[39;49m\u001b[43muntil\u001b[49m\u001b[43m(\u001b[49m\u001b[43mEC\u001b[49m\u001b[38;5;241;43m.\u001b[39;49m\u001b[43mvisibility_of_all_elements_located\u001b[49m\u001b[43m(\u001b[49m\u001b[43m(\u001b[49m\u001b[43mBy\u001b[49m\u001b[38;5;241;43m.\u001b[39;49m\u001b[43mCSS_SELECTOR\u001b[49m\u001b[43m,\u001b[49m\u001b[43m \u001b[49m\u001b[38;5;124;43m\"\u001b[39;49m\u001b[38;5;124;43m.mt4.mr5 li\u001b[39;49m\u001b[38;5;124;43m\"\u001b[39;49m\u001b[43m)\u001b[49m\u001b[43m)\u001b[49m\u001b[43m)\u001b[49m\u001b[43m[\u001b[49m\u001b[38;5;241;43m0\u001b[39;49m\u001b[43m]\u001b[49m\u001b[38;5;241;43m.\u001b[39;49m\u001b[43mclick\u001b[49m\u001b[43m(\u001b[49m\u001b[43m)\u001b[49m\n\u001b[0;32m     18\u001b[0m \u001b[38;5;28;01mtry\u001b[39;00m:\n\u001b[0;32m     19\u001b[0m     buttons3 \u001b[38;5;241m=\u001b[39m WebDriverWait(driver, \u001b[38;5;241m3\u001b[39m)\u001b[38;5;241m.\u001b[39muntil(EC\u001b[38;5;241m.\u001b[39mvisibility_of_all_elements_located((By\u001b[38;5;241m.\u001b[39mCSS_SELECTOR, \u001b[38;5;124m\"\u001b[39m\u001b[38;5;124m._container_x5gf48._container_iq15dg._raised_1aegh9.ph2 button\u001b[39m\u001b[38;5;124m\"\u001b[39m)))\n",
      "File \u001b[1;32mc:\\Users\\PM\\AppData\\Local\\Programs\\Python\\Python311\\Lib\\site-packages\\selenium\\webdriver\\remote\\webelement.py:94\u001b[0m, in \u001b[0;36mWebElement.click\u001b[1;34m(self)\u001b[0m\n\u001b[0;32m     92\u001b[0m \u001b[38;5;28;01mdef\u001b[39;00m \u001b[38;5;21mclick\u001b[39m(\u001b[38;5;28mself\u001b[39m) \u001b[38;5;241m-\u001b[39m\u001b[38;5;241m>\u001b[39m \u001b[38;5;28;01mNone\u001b[39;00m:\n\u001b[0;32m     93\u001b[0m \u001b[38;5;250m    \u001b[39m\u001b[38;5;124;03m\"\"\"Clicks the element.\"\"\"\u001b[39;00m\n\u001b[1;32m---> 94\u001b[0m     \u001b[38;5;28;43mself\u001b[39;49m\u001b[38;5;241;43m.\u001b[39;49m\u001b[43m_execute\u001b[49m\u001b[43m(\u001b[49m\u001b[43mCommand\u001b[49m\u001b[38;5;241;43m.\u001b[39;49m\u001b[43mCLICK_ELEMENT\u001b[49m\u001b[43m)\u001b[49m\n",
      "File \u001b[1;32mc:\\Users\\PM\\AppData\\Local\\Programs\\Python\\Python311\\Lib\\site-packages\\selenium\\webdriver\\remote\\webelement.py:395\u001b[0m, in \u001b[0;36mWebElement._execute\u001b[1;34m(self, command, params)\u001b[0m\n\u001b[0;32m    393\u001b[0m     params \u001b[38;5;241m=\u001b[39m {}\n\u001b[0;32m    394\u001b[0m params[\u001b[38;5;124m\"\u001b[39m\u001b[38;5;124mid\u001b[39m\u001b[38;5;124m\"\u001b[39m] \u001b[38;5;241m=\u001b[39m \u001b[38;5;28mself\u001b[39m\u001b[38;5;241m.\u001b[39m_id\n\u001b[1;32m--> 395\u001b[0m \u001b[38;5;28;01mreturn\u001b[39;00m \u001b[38;5;28;43mself\u001b[39;49m\u001b[38;5;241;43m.\u001b[39;49m\u001b[43m_parent\u001b[49m\u001b[38;5;241;43m.\u001b[39;49m\u001b[43mexecute\u001b[49m\u001b[43m(\u001b[49m\u001b[43mcommand\u001b[49m\u001b[43m,\u001b[49m\u001b[43m \u001b[49m\u001b[43mparams\u001b[49m\u001b[43m)\u001b[49m\n",
      "File \u001b[1;32mc:\\Users\\PM\\AppData\\Local\\Programs\\Python\\Python311\\Lib\\site-packages\\selenium\\webdriver\\remote\\webdriver.py:346\u001b[0m, in \u001b[0;36mWebDriver.execute\u001b[1;34m(self, driver_command, params)\u001b[0m\n\u001b[0;32m    344\u001b[0m response \u001b[38;5;241m=\u001b[39m \u001b[38;5;28mself\u001b[39m\u001b[38;5;241m.\u001b[39mcommand_executor\u001b[38;5;241m.\u001b[39mexecute(driver_command, params)\n\u001b[0;32m    345\u001b[0m \u001b[38;5;28;01mif\u001b[39;00m response:\n\u001b[1;32m--> 346\u001b[0m     \u001b[38;5;28;43mself\u001b[39;49m\u001b[38;5;241;43m.\u001b[39;49m\u001b[43merror_handler\u001b[49m\u001b[38;5;241;43m.\u001b[39;49m\u001b[43mcheck_response\u001b[49m\u001b[43m(\u001b[49m\u001b[43mresponse\u001b[49m\u001b[43m)\u001b[49m\n\u001b[0;32m    347\u001b[0m     response[\u001b[38;5;124m\"\u001b[39m\u001b[38;5;124mvalue\u001b[39m\u001b[38;5;124m\"\u001b[39m] \u001b[38;5;241m=\u001b[39m \u001b[38;5;28mself\u001b[39m\u001b[38;5;241m.\u001b[39m_unwrap_value(response\u001b[38;5;241m.\u001b[39mget(\u001b[38;5;124m\"\u001b[39m\u001b[38;5;124mvalue\u001b[39m\u001b[38;5;124m\"\u001b[39m, \u001b[38;5;28;01mNone\u001b[39;00m))\n\u001b[0;32m    348\u001b[0m     \u001b[38;5;28;01mreturn\u001b[39;00m response\n",
      "File \u001b[1;32mc:\\Users\\PM\\AppData\\Local\\Programs\\Python\\Python311\\Lib\\site-packages\\selenium\\webdriver\\remote\\errorhandler.py:245\u001b[0m, in \u001b[0;36mErrorHandler.check_response\u001b[1;34m(self, response)\u001b[0m\n\u001b[0;32m    243\u001b[0m         alert_text \u001b[38;5;241m=\u001b[39m value[\u001b[38;5;124m\"\u001b[39m\u001b[38;5;124malert\u001b[39m\u001b[38;5;124m\"\u001b[39m]\u001b[38;5;241m.\u001b[39mget(\u001b[38;5;124m\"\u001b[39m\u001b[38;5;124mtext\u001b[39m\u001b[38;5;124m\"\u001b[39m)\n\u001b[0;32m    244\u001b[0m     \u001b[38;5;28;01mraise\u001b[39;00m exception_class(message, screen, stacktrace, alert_text)  \u001b[38;5;66;03m# type: ignore[call-arg]  # mypy is not smart enough here\u001b[39;00m\n\u001b[1;32m--> 245\u001b[0m \u001b[38;5;28;01mraise\u001b[39;00m exception_class(message, screen, stacktrace)\n",
      "\u001b[1;31mElementClickInterceptedException\u001b[0m: Message: Element <li> is not clickable at point (1746,215) because another element <div id=\"ember10930\" class=\"artdeco-modal-overlay artdeco-modal-overlay--layer-default artdeco-modal-overlay--is-top-layer  ember-view\"> obscures it\nStacktrace:\nRemoteError@chrome://remote/content/shared/RemoteError.sys.mjs:8:8\nWebDriverError@chrome://remote/content/shared/webdriver/Errors.sys.mjs:189:5\nElementClickInterceptedError@chrome://remote/content/shared/webdriver/Errors.sys.mjs:333:5\nwebdriverClickElement@chrome://remote/content/marionette/interaction.sys.mjs:176:11\ninteraction.clickElement@chrome://remote/content/marionette/interaction.sys.mjs:135:11\nclickElement@chrome://remote/content/marionette/actors/MarionetteCommandsChild.sys.mjs:204:29\nreceiveMessage@chrome://remote/content/marionette/actors/MarionetteCommandsChild.sys.mjs:84:31\n"
     ]
    }
   ],
   "source": [
    "# scroll to view implimentation.\n",
    "run = True\n",
    "page = 0\n",
    "while run == True:\n",
    "    page += 1\n",
    "    driver.execute_script(\"window.scrollTo(0, 0);\")\n",
    "    time.sleep(2)\n",
    "    WebDriverWait(driver, 10).until(EC.presence_of_all_elements_located((By.XPATH, '//ol[contains(@class, \"artdeco-list\")]/li')))\n",
    "    li_elements = driver.find_elements(By.XPATH, '//ol[contains(@class, \"artdeco-list\")]/li')\n",
    "    for li in range(len(li_elements)):\n",
    "        try:\n",
    "            driver.execute_script(\"arguments[0].scrollIntoView(true);\", li_elements[li])\n",
    "        except StaleElementReferenceException:\n",
    "            driver.execute_script(\"arguments[0].scrollIntoView(true);\", li_elements[li])\n",
    "        # time.sleep(1)\n",
    "        \n",
    "        WebDriverWait(li_elements[li], 10).until(EC.visibility_of_all_elements_located((By.CSS_SELECTOR, \".mt4.mr5 li\")))[0].click()\n",
    "        try:\n",
    "            buttons3 = WebDriverWait(driver, 3).until(EC.visibility_of_all_elements_located((By.CSS_SELECTOR, \"._container_x5gf48._container_iq15dg._raised_1aegh9.ph2 button\")))\n",
    "        except:\n",
    "            WebDriverWait(li_elements[li], 10).until(EC.visibility_of_all_elements_located((By.CSS_SELECTOR, \".mt4.mr5 li\")))[0].click()\n",
    "            buttons3 = WebDriverWait(driver, 3).until(EC.visibility_of_all_elements_located((By.CSS_SELECTOR, \"._container_x5gf48._container_iq15dg._raised_1aegh9.ph2 button\")))\n",
    "        for buttons in buttons3:\n",
    "            if buttons.text == 'Connect':\n",
    "                buttons.click()\n",
    "                time.sleep(2)\n",
    "                if 'email is required to connect' in driver.find_element(By.CSS_SELECTOR,'.connect-cta-form__content-container').text:\n",
    "                    driver.find_element(By.CSS_SELECTOR,'.artdeco-modal__dismiss.artdeco-button.artdeco-button--circle.artdeco-button--muted.artdeco-button--2.artdeco-button--tertiary.ember-view').click()\n",
    "                    time.sleep(1)\n",
    "                    continue\n",
    "                WebDriverWait(driver, 10).until(EC.visibility_of_element_located((By.CSS_SELECTOR, \".button-primary-medium.connect-cta-form__send\"))).click()\n",
    "                time.sleep(2)\n",
    "            else:\n",
    "                WebDriverWait(li_elements[li], 10).until(EC.visibility_of_all_elements_located((By.CSS_SELECTOR, \".mt4.mr5 li\")))[0].click()\n",
    "\n",
    "        print(f'\\rLi: {li} lent: {len(li_elements)}, page = {page}', end='')\n",
    "        li += 1\n",
    "    try:\n",
    "        driver.find_element(By.XPATH, '//button[@aria-label=\"Next\"]').click()\n",
    "        driver.execute_script(\"window.scrollTo(0, 0);\")\n",
    "        time.sleep(2)\n",
    "    except NoSuchElementException:\n",
    "        run = False"
   ]
  },
  {
   "cell_type": "code",
   "execution_count": 25,
   "metadata": {},
   "outputs": [
    {
     "name": "stdout",
     "output_type": "stream",
     "text": [
      "Connect — Pending\n",
      "Edit list\n",
      "Unsave\n"
     ]
    }
   ],
   "source": [
    "for i in driver.find_elements(By.CSS_SELECTOR, '._container_x5gf48._container_iq15dg._raised_1aegh9.ph2 button'):\n",
    "    print(i.text)"
   ]
  },
  {
   "cell_type": "markdown",
   "metadata": {},
   "source": [
    "# Sending messages from sales navigator"
   ]
  },
  {
   "cell_type": "code",
   "execution_count": null,
   "metadata": {},
   "outputs": [],
   "source": [
    "message = \"\"\"Hi,\n",
    "\n",
    "I hope this message finds you well. We are excited to invite you to a webinar on Saturday 4:00pm, 6th April 2024, where we will introduce PayPulse - our cutting-edge tool for real-time salary data and compensation insights.\n",
    "\n",
    "Key Benefits of PayPulse:\n",
    "- Empower your HR team with accurate salary benchmarks.\n",
    "- Real Time insights tailored to your industry and location.\n",
    "- Weekly updated data from 25,000 companies and 150,000 jobs.\n",
    "\n",
    "Don't miss this opportunity to revolutionize your compensation strategy with PayPulse. \n",
    "\n",
    "Register here: https://forms.gle/mCgg6sZsEL2ZHEfZ8\n",
    "\n",
    "Looking forward to having you join us for this informative session!\n",
    "\n",
    "Check Our Company Page: 'https://www.linkedin.com/company/equipay-partners'\n",
    "Check Our website: 'https://equipaypartners.com/'\n",
    "\n",
    "Please reply unsubscribe if you don’t want to hear from us.\"\"\"\n",
    "\n",
    "message2 = \"\"\"Thank you for your interest in attending our webinar! We're glad to hear that you're considering joining.\n",
    "\n",
    "The webinar promises to be an insightful session, and we believe you'll find the information valuable.\n",
    "\n",
    "kindly register in the link below for the webinar\n",
    "https://forms.gle/mCgg6sZsEL2ZHEfZ8\n",
    "\"\"\""
   ]
  },
  {
   "cell_type": "code",
   "execution_count": null,
   "metadata": {},
   "outputs": [],
   "source": [
    "# scroll to view implimentation.\n",
    "run = True\n",
    "page = 0\n",
    "while run == True:\n",
    "    page += 1\n",
    "    driver.execute_script(\"window.scrollTo(0, 0);\")\n",
    "    time.sleep(2)\n",
    "    WebDriverWait(driver, 10).until(EC.presence_of_all_elements_located((By.XPATH, '//ol[contains(@class, \"artdeco-list\")]/li')))\n",
    "    li_elements = driver.find_elements(By.XPATH, '//ol[contains(@class, \"artdeco-list\")]/li')\n",
    "    for li in range(len(li_elements)):\n",
    "        try:\n",
    "            driver.execute_script(\"arguments[0].scrollIntoView(true);\", li_elements[li])\n",
    "        except StaleElementReferenceException:\n",
    "            driver.execute_script(\"arguments[0].scrollIntoView(true);\", li_elements[li])\n",
    "        # time.sleep(1)\n",
    "        try:\n",
    "            [butele.click() for butele in WebDriverWait(li_elements[li], 5).until(EC.visibility_of_all_elements_located((By.CSS_SELECTOR, \".mt4.mr5 li\"))) if 'Message' in butele.text]\n",
    "        except:\n",
    "            [butele.click() for butele in WebDriverWait(li_elements[li], 5).until(EC.visibility_of_all_elements_located((By.CSS_SELECTOR, \".mt4.mr5 li\"))) if 'Message' in butele.text]\n",
    "        time.sleep(2)\n",
    "        message_box = WebDriverWait(driver, 10).until(EC.visibility_of_element_located((By.CSS_SELECTOR,'.compose-form__message-field.pv3.flex-grow-1.flex-shrink-zero.border-none.resize-none')))\n",
    "        message_box.clear()\n",
    "        content = WebDriverWait(driver, 10).until(EC.visibility_of_element_located((By.CSS_SELECTOR,'.message-container-width.flex.flex-column.full-height.overflow-y-auto'))).text.split('\\n')[-1]\n",
    "\n",
    "        if 'beginning of your conversation' in content:\n",
    "            message_box.send_keys(message)\n",
    "            #sendbutton\n",
    "            driver.find_element(By.CSS_SELECTOR,'.ember-view._button_ps32ck._small_ps32ck._primary_ps32ck._left_ps32ck._container_iq15dg.ml4').click()\n",
    "            time.sleep(1)\n",
    "        elif 'thank' in content.lower():\n",
    "            message_box.send_keys(message2)\n",
    "            #sendbutton\n",
    "            driver.find_element(By.CSS_SELECTOR,'.ember-view._button_ps32ck._small_ps32ck._primary_ps32ck._left_ps32ck._container_iq15dg.ml4').click()\n",
    "            time.sleep(1)\n",
    "        \n",
    "        WebDriverWait(driver, 5).until(EC.visibility_of_all_elements_located((By.CSS_SELECTOR,'.z-index-1.m0.pv1.pl3.background-color-blue9.elevation-2dp.flex.flex-shrink-zero.align-items-center button')))[-1].click()\n",
    "        time.sleep(1)\n",
    "        print(f'\\rLi: {li} lent: {len(li_elements)}, page = {page}', end='')\n",
    "        li += 1\n",
    "        \n",
    "    try:\n",
    "        driver.find_element(By.XPATH, '//button[@aria-label=\"Next\"]').click()\n",
    "        driver.execute_script(\"window.scrollTo(0, 0);\")\n",
    "        time.sleep(2)\n",
    "    except NoSuchElementException:\n",
    "        run = False"
   ]
  },
  {
   "cell_type": "markdown",
   "metadata": {},
   "source": [
    "# SALES Navigator Message intrest finding. and also Arjun lead table extraction."
   ]
  },
  {
   "cell_type": "code",
   "execution_count": null,
   "metadata": {},
   "outputs": [],
   "source": [
    "while True:\n",
    "    last_li_element = driver.find_elements(By.CSS_SELECTOR, '.overflow-y-auto.overflow-hidden.flex-grow-1 > ul li')[-1]\n",
    "    driver.execute_script(\"arguments[0].scrollIntoView();\", last_li_element)\n",
    "    try:\n",
    "        button = driver.find_element(By.CSS_SELECTOR, '.overflow-y-auto.overflow-hidden.flex-grow-1 > div button')\n",
    "        driver.execute_script(\"arguments[0].scrollIntoView();\", button)\n",
    "        button.click()\n",
    "    except:\n",
    "        None\n",
    "    time.sleep(2)"
   ]
  },
  {
   "cell_type": "code",
   "execution_count": null,
   "metadata": {},
   "outputs": [],
   "source": [
    "len(driver.find_elements(By.CSS_SELECTOR, '.overflow-y-auto.overflow-hidden.flex-grow-1 > ul li'))"
   ]
  },
  {
   "cell_type": "code",
   "execution_count": null,
   "metadata": {},
   "outputs": [],
   "source": [
    "st_ran = 0"
   ]
  },
  {
   "cell_type": "code",
   "execution_count": null,
   "metadata": {},
   "outputs": [],
   "source": [
    "li_ele = driver.find_elements(By.CSS_SELECTOR, '.overflow-y-auto.overflow-hidden.flex-grow-1 > ul li')\n",
    "allrows = []\n",
    "for li_ind in range(st_ran,len(li_ele)):    \n",
    "    data = {}\n",
    "    \n",
    "    last_message = li_ele[li_ind].find_element(By.CSS_SELECTOR,'.t-14.t-black--light.truncated-content.break-words').text\n",
    "    if not 'Hi, I hope this message finds you well.' in last_message:\n",
    "        li_ele[li_ind].find_element(By.CSS_SELECTOR,'a').click()\n",
    "        time.sleep(2)\n",
    "        wait = WebDriverWait(driver, 10)\n",
    "        wait.until(EC.visibility_of_element_located((By.CSS_SELECTOR, '.flex.align-items-flex-start a')))\n",
    "        data['name'] = driver.find_element(By.CSS_SELECTOR, '.flex.align-items-flex-start a').find_element(By.CSS_SELECTOR, '.artdeco-entity-lockup__title.ember-view').text\n",
    "        data['sales_nav_link'] = driver.find_element(By.CSS_SELECTOR, '.flex.align-items-flex-start a').get_attribute('href')\n",
    "        data['messages'] = driver.find_element(By.CSS_SELECTOR,'.message-container-width.flex.flex-column.full-height.overflow-y-auto').text\n",
    "        allrows.append(data)\n",
    "    print(f'\\rcompletion {li_ind}')\n",
    "    st_ran = li_ind+1"
   ]
  },
  {
   "cell_type": "code",
   "execution_count": null,
   "metadata": {},
   "outputs": [],
   "source": [
    "pd.DataFrame(allrows).to_excel('message_responders.xlsx',index=False)"
   ]
  },
  {
   "cell_type": "code",
   "execution_count": null,
   "metadata": {},
   "outputs": [],
   "source": [
    "df = pd.DataFrame()"
   ]
  },
  {
   "cell_type": "code",
   "execution_count": null,
   "metadata": {},
   "outputs": [],
   "source": [
    "# leads data extraction\n",
    "while True:    \n",
    "    wait = WebDriverWait(driver, 10)\n",
    "    wait.until(EC.visibility_of_element_located((By.CSS_SELECTOR, '.background-color-white.models-table-wrapper.ember-view table')))\n",
    "    table = driver.find_element(By.CSS_SELECTOR, '.background-color-white.models-table-wrapper.ember-view table')\n",
    "    html = table.get_attribute('outerHTML')\n",
    "    tempdf = pd.read_html(html)[0]\n",
    "    trow = table.find_elements(By.CSS_SELECTOR,'tr')[1:]\n",
    "    profilelinks = []\n",
    "    for i in trow:\n",
    "        profilelinks.append(i.find_element(By.CSS_SELECTOR,'td a').get_attribute('href'))\n",
    "    tempdf['slaesnav_links'] = profilelinks\n",
    "    df = pd.concat([df,tempdf],ignore_index=True)\n",
    "    try:\n",
    "        next = driver.find_elements(By.CSS_SELECTOR,'.artdeco-models-table-pagination__pagination-cmpt.artdeco-pagination.artdeco-pagination--has-controls.ember-view > button')[1]\n",
    "        driver.execute_script(\"arguments[0].scrollIntoView();\", next)\n",
    "        next.click()\n",
    "        time.sleep(2)\n",
    "    except:\n",
    "        break"
   ]
  },
  {
   "cell_type": "code",
   "execution_count": null,
   "metadata": {},
   "outputs": [],
   "source": [
    "df.drop_duplicates(inplace=True)"
   ]
  },
  {
   "cell_type": "code",
   "execution_count": null,
   "metadata": {},
   "outputs": [],
   "source": [
    "df"
   ]
  },
  {
   "cell_type": "code",
   "execution_count": null,
   "metadata": {},
   "outputs": [],
   "source": [
    "df = pd.DataFrame(allrows)"
   ]
  },
  {
   "cell_type": "code",
   "execution_count": null,
   "metadata": {},
   "outputs": [],
   "source": [
    "driver.switch_to.window(driver.window_handles[0])"
   ]
  },
  {
   "cell_type": "code",
   "execution_count": null,
   "metadata": {},
   "outputs": [],
   "source": [
    "st = 0"
   ]
  },
  {
   "cell_type": "code",
   "execution_count": null,
   "metadata": {},
   "outputs": [],
   "source": [
    "driver.switch_to.window(driver.window_handles[0])"
   ]
  },
  {
   "cell_type": "code",
   "execution_count": null,
   "metadata": {},
   "outputs": [],
   "source": [
    "# linkedin url\n",
    "for inde,row in df.iloc[st:].iterrows():\n",
    "    driver.get(row['slaesnav_links'])\n",
    "    # 3button\n",
    "    wait = WebDriverWait(driver, 30)\n",
    "    wait.until(EC.visibility_of_element_located((By.CSS_SELECTOR,'.ember-view._button_ps32ck._small_ps32ck._tertiary_ps32ck._circle_ps32ck._container_iq15dg._overflow-menu--trigger_1xow7n')))\n",
    "    driver.find_element(By.CSS_SELECTOR,'.ember-view._button_ps32ck._small_ps32ck._tertiary_ps32ck._circle_ps32ck._container_iq15dg._overflow-menu--trigger_1xow7n').click()\n",
    "    for i in driver.find_elements(By.CSS_SELECTOR,'._container_x5gf48._visible_x5gf48._container_iq15dg._raised_1aegh9 > ul > li'):\n",
    "        try:    \n",
    "            if 'View LinkedIn profile' in i.text:\n",
    "                try:\n",
    "                    time.sleep(0.5)\n",
    "                    i.click()\n",
    "                except:\n",
    "                    None\n",
    "        except:\n",
    "            None\n",
    "    time.sleep(2)\n",
    "    try:\n",
    "        driver.switch_to.window(driver.window_handles[1])\n",
    "    except:\n",
    "        time.sleep(3)\n",
    "        driver.switch_to.window(driver.window_handles[1])\n",
    "    wait.until(EC.visibility_of_element_located((By.CSS_SELECTOR,'.pvs-header__left-container--stack')))\n",
    "    df.at[inde,'linkedin_url'] = driver.current_url\n",
    "    driver.close()\n",
    "    driver.switch_to.window(driver.window_handles[0])\n",
    "    print(f'\\rcompletion {inde} total {len(df)}')\n",
    "    st = inde+1"
   ]
  },
  {
   "cell_type": "code",
   "execution_count": null,
   "metadata": {},
   "outputs": [],
   "source": [
    "df['Name'] = df['Name'].str.replace('Select LinkedIn Member  ','')"
   ]
  },
  {
   "cell_type": "code",
   "execution_count": null,
   "metadata": {},
   "outputs": [],
   "source": [
    "df['title'] = df['Name'].apply(lambda x: x.split('Saved Badge')[1])"
   ]
  },
  {
   "cell_type": "code",
   "execution_count": null,
   "metadata": {},
   "outputs": [],
   "source": [
    "for ind,row in df.iterrows():\n",
    "    firstname = row['Name'].split(' ')[0]\n",
    "    index = row['Name'].find(firstname,1)\n",
    "    df.at[ind,'Name'] = row['Name'][:index]"
   ]
  },
  {
   "cell_type": "code",
   "execution_count": null,
   "metadata": {},
   "outputs": [],
   "source": [
    "df"
   ]
  },
  {
   "cell_type": "code",
   "execution_count": null,
   "metadata": {},
   "outputs": [],
   "source": [
    "df.to_excel('arjun_sir.xlsx',index=False)"
   ]
  },
  {
   "cell_type": "code",
   "execution_count": null,
   "metadata": {},
   "outputs": [],
   "source": [
    "df.to_excel('message_responders.xlsx',index=False)"
   ]
  },
  {
   "cell_type": "markdown",
   "metadata": {},
   "source": [
    "# END"
   ]
  }
 ],
 "metadata": {
  "kernelspec": {
   "display_name": "Python 3",
   "language": "python",
   "name": "python3"
  },
  "language_info": {
   "codemirror_mode": {
    "name": "ipython",
    "version": 3
   },
   "file_extension": ".py",
   "mimetype": "text/x-python",
   "name": "python",
   "nbconvert_exporter": "python",
   "pygments_lexer": "ipython3",
   "version": "3.11.4"
  },
  "orig_nbformat": 4
 },
 "nbformat": 4,
 "nbformat_minor": 2
}
