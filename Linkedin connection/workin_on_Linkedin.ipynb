{
 "cells": [
  {
   "cell_type": "code",
   "execution_count": 1,
   "metadata": {},
   "outputs": [],
   "source": [
    "import pandas as pd\n",
    "from bs4 import BeautifulSoup\n",
    "from selenium import webdriver\n",
    "from selenium.webdriver.common.by import By\n",
    "from selenium.webdriver.support.ui import WebDriverWait\n",
    "from selenium.webdriver.support import expected_conditions as EC\n",
    "from selenium.common.exceptions import NoSuchElementException\n",
    "from selenium.common.exceptions import StaleElementReferenceException\n",
    "import shutil\n",
    "import pyperclip\n",
    "import time\n",
    "import pytz\n",
    "import datetime\n",
    "import os\n",
    "from tqdm import tqdm\n",
    "import random"
   ]
  },
  {
   "cell_type": "code",
   "execution_count": 2,
   "metadata": {},
   "outputs": [],
   "source": [
    "def driver_setup():# Assigning a Headless Firefox Driver\n",
    "    options = webdriver.FirefoxOptions()\n",
    "    options.binary_location = 'C:/Program Files/Mozilla Firefox/firefox.exe'  # Path to Chrome executable\n",
    "    options.add_argument('E:/Programs/geckodriver.exe')\n",
    "    # options.add_argument('--headless')\n",
    "    options.add_argument(\"--start-with-cache\")\n",
    "    options.add_argument(\"0\")\n",
    "    options.add_argument(\"--disk-cache-size=0\")\n",
    "    options.add_argument('--no-sandbox')\n",
    "    options.add_argument('--disable-dev-shm-usage')\n",
    "    driver = webdriver.Firefox(options=options)\n",
    "    return driver\n",
    "\n",
    "def save_data_to_disk(data, filename):\n",
    "    max_attempts = 5  # Maximum number of attempts\n",
    "    wait_time = 5  # Time to wait between attempts (in seconds)\n",
    "    \n",
    "    for _ in range(max_attempts):\n",
    "        try:\n",
    "            backup_filename = filename + 'bak.parquet'\n",
    "            if os.path.isfile(backup_filename):\n",
    "                os.remove(backup_filename)  # Remove old backup before creating a new one\n",
    "            shutil.copyfile(filename, backup_filename)\n",
    "            \n",
    "            if os.path.isfile(filename):\n",
    "                existing_df = pd.read_parquet(backup_filename)\n",
    "                data = pd.concat([existing_df, data], ignore_index=True)\n",
    "                data.to_parquet(filename, index=False)\n",
    "            else:\n",
    "                data.to_parquet(filename, index=False)\n",
    "            break  # Break out of the loop if successful\n",
    "        except Exception as e:\n",
    "            print(f\"Error: {e}\")\n",
    "            print(f\"File '{filename}' is in use. Waiting {wait_time} seconds before trying again...\")\n",
    "            time.sleep(wait_time)\n",
    "    else:\n",
    "        print(f\"Failed to save data to '{filename}' after {max_attempts} attempts.\")"
   ]
  },
  {
   "cell_type": "code",
   "execution_count": 3,
   "metadata": {},
   "outputs": [
    {
     "name": "stderr",
     "output_type": "stream",
     "text": [
      "The version of firefox cannot be detected. Trying with latest driver version\n"
     ]
    }
   ],
   "source": [
    "driver = driver_setup()"
   ]
  },
  {
   "cell_type": "code",
   "execution_count": 4,
   "metadata": {},
   "outputs": [],
   "source": [
    "driver.get(f\"https://www.linkedin.com/authwall?trk=qf&original_referer=&sessionRedirect=https%3A%2F%2Fwww.linkedin.com%2F\")\n",
    "Sign_in_button = driver.find_element(By.XPATH, \"/html/body/div/main/div/form/p/button\").click()\n",
    "time.sleep(5)\n",
    "email_phone = driver.find_element(By.XPATH, '//*[@id=\"session_key\"]')\n",
    "password = driver.find_element(By.XPATH, '//*[@id=\"session_password\"]')\n",
    "email_phone.send_keys(\"pannersmail@gmail.com\")\n",
    "# email_phone.send_keys(\"urvibabla@gmail.com\")\n",
    "# email_phone.send_keys(\"r.panneerselvam@firebird.net.in\")\n",
    "password.send_keys(\"MK90473@yahoo.com\")\n",
    "# password.send_keys(\"SkillIQ@123\")\n",
    "\n",
    "# email_phone.send_keys(\"chakrabortiarjun@gmail.com\")\n",
    "# password.send_keys(\"Reafactor_Academy\")\n",
    "\n",
    "# email_phone.send_keys(\"renjithcm.renju@gmail.com\")\n",
    "# password.send_keys(\"Renjith#@1\")\n",
    "submit_button = driver.find_element(By.XPATH, \"/html/body/div/main/div/div/form[1]/div[2]/button\")\n",
    "submit_button.click()\n",
    "\n",
    "wait = WebDriverWait(driver, 4)"
   ]
  },
  {
   "cell_type": "code",
   "execution_count": 5,
   "metadata": {},
   "outputs": [],
   "source": [
    "driver.switch_to.window(driver.window_handles[0])"
   ]
  },
  {
   "cell_type": "markdown",
   "metadata": {},
   "source": [
    "# connection page scroller.------------------"
   ]
  },
  {
   "cell_type": "code",
   "execution_count": null,
   "metadata": {},
   "outputs": [],
   "source": [
    "#------------------------------------------------------------------------------------------------------\n",
    "pg = 1\n",
    "while True:    \n",
    "    # url = f'https://www.linkedin.com/search/results/people/?geoUrn=[%22102713980%22]&keywords=%22head%22%20%22compensation%22&origin=FACETED_SEARCH&page='+str(pg)\n",
    "    url = f'https://www.linkedin.com/search/results/people/?geoUrn=%5B%22102713980%22%5D&industry=%5B%223099%22%2C%227%22%5D&keywords=head%20talent%20acquisition&network=%5B%22S%22%2C%22O%22%5D&origin=FACETED_SEARCH&page='+str(pg)\n",
    "    driver.get(url)\n",
    "    input()\n",
    "    pg += 1"
   ]
  },
  {
   "cell_type": "markdown",
   "metadata": {},
   "source": [
    "# --messaging--from--connections--people scroller--------------------------"
   ]
  },
  {
   "cell_type": "code",
   "execution_count": 8,
   "metadata": {},
   "outputs": [
    {
     "data": {
      "text/plain": [
       "40"
      ]
     },
     "execution_count": 8,
     "metadata": {},
     "output_type": "execute_result"
    }
   ],
   "source": [
    "(driver.find_elements(By.CSS_SELECTOR,'.scaffold-finite-scroll__content li'))"
   ]
  },
  {
   "cell_type": "code",
   "execution_count": null,
   "metadata": {},
   "outputs": [],
   "source": [
    "\n",
    "li_elements = driver.find_elements(By.XPATH, \"//div[@class='scaffold-finite-scroll__content']/ul/li\")\n",
    "print(len(li_elements))"
   ]
  },
  {
   "cell_type": "code",
   "execution_count": null,
   "metadata": {},
   "outputs": [],
   "source": [
    "st = 0"
   ]
  },
  {
   "cell_type": "code",
   "execution_count": null,
   "metadata": {},
   "outputs": [],
   "source": [
    "while st <= len(li_elements):\n",
    "    try:\n",
    "        li_elements[st].find_element(By.TAG_NAME, \"button\").click()\n",
    "        print(f'\\rProgress: {st}', end='')\n",
    "        input()\n",
    "        close = driver.find_element(By.CSS_SELECTOR, \".msg-overlay-bubble-header__controls.display-flex.align-items-center\").find_elements(By.TAG_NAME, \"button\")\n",
    "        close[-1].click()\n",
    "        st+=1\n",
    "    except IndexError:\n",
    "        li_elements = driver.find_elements(By.XPATH, \"//div[@class='scaffold-finite-scroll__content']/ul/li\")"
   ]
  },
  {
   "cell_type": "markdown",
   "metadata": {},
   "source": [
    "# connection's contact finder."
   ]
  },
  {
   "cell_type": "markdown",
   "metadata": {},
   "source": [
    "### find all links."
   ]
  },
  {
   "cell_type": "code",
   "execution_count": null,
   "metadata": {},
   "outputs": [],
   "source": [
    "linklen = int(driver.find_element(By.CLASS_NAME, \"pb2\").text.split(' ')[0])\n",
    "linklen"
   ]
  },
  {
   "cell_type": "code",
   "execution_count": null,
   "metadata": {},
   "outputs": [],
   "source": [
    "links = []"
   ]
  },
  {
   "cell_type": "code",
   "execution_count": null,
   "metadata": {},
   "outputs": [],
   "source": [
    "urlno = 1\n",
    "while len(links) < linklen-1:    \n",
    "    url = f'https://www.linkedin.com/search/results/people/?geoUrn=%5B%22102713980%22%5D&keywords=-recruiter&network=%5B%22F%22%5D&origin=GLOBAL_SEARCH_HEADER&page='+str(urlno)+f''\n",
    "    driver.get(url)\n",
    "    time.sleep(4)\n",
    "\n",
    "    li_elements = driver.find_elements(By.CLASS_NAME, \"reusable-search__result-container\")\n",
    "    for li in li_elements:\n",
    "        link_element = li.find_element(By.TAG_NAME, \"a\")\n",
    "        link = link_element.get_attribute(\"href\")\n",
    "        links.append(link)\n",
    "    urlno +=1\n",
    "print(len(links))"
   ]
  },
  {
   "cell_type": "code",
   "execution_count": null,
   "metadata": {},
   "outputs": [],
   "source": [
    "len(links)"
   ]
  },
  {
   "cell_type": "markdown",
   "metadata": {},
   "source": [
    "### drop duplicates and append the newlinks for later referance"
   ]
  },
  {
   "cell_type": "code",
   "execution_count": null,
   "metadata": {},
   "outputs": [],
   "source": [
    "linksdf = pd.read_csv('links.csv')\n",
    "linksdf.drop_duplicates(inplace=True)\n",
    "for i in links:\n",
    "    if i in linksdf['links'].tolist():\n",
    "        links.remove(i)\n",
    "# if links != []:    \n",
    "#     #index=[0]\n",
    "#     linksdf = pd.concat([linksdf,pd.DataFrame(links)],ignore_index=True)\n",
    "#     linksdf.to_csv('links.csv',index=False)"
   ]
  },
  {
   "cell_type": "code",
   "execution_count": null,
   "metadata": {},
   "outputs": [],
   "source": [
    "# pd.DataFrame(links).to_csv('links.csv',index=False)"
   ]
  },
  {
   "cell_type": "markdown",
   "metadata": {},
   "source": [
    "### find contacts."
   ]
  },
  {
   "cell_type": "code",
   "execution_count": null,
   "metadata": {},
   "outputs": [],
   "source": [
    "df = pd.DataFrame()"
   ]
  },
  {
   "cell_type": "code",
   "execution_count": null,
   "metadata": {},
   "outputs": [],
   "source": [
    "strng = 0"
   ]
  },
  {
   "cell_type": "code",
   "execution_count": null,
   "metadata": {},
   "outputs": [],
   "source": [
    "for linkind in range(strng,len(links_for_contact)):\n",
    "    driver.get(links_for_contact[linkind])\n",
    "    time.sleep(5)\n",
    "    data = {}\n",
    "    #------------------------------------------------------------------------------------------------------\n",
    "    data['name'] = driver.find_element(By.CLASS_NAME, \"text-heading-xlarge\").text\n",
    "    data['title_text'] = driver.find_element(By.CLASS_NAME, \"text-body-medium\").text\n",
    "    data['link'] = links_for_contact[linkind]\n",
    "    expind = 0\n",
    "    conts = wait.until(EC.presence_of_all_elements_located((By.CSS_SELECTOR, '.artdeco-card.pv-profile-card.break-words.mt2 h2')))\n",
    "    for contind in range(len(conts)):\n",
    "        if 'experience' in conts[contind].text.lower():\n",
    "            expind = contind\n",
    "            break \n",
    "    liele = driver.find_elements(By.CSS_SELECTOR, '.artdeco-card.pv-profile-card.break-words.mt2')[expind].find_element(By.CSS_SELECTOR,'.pvs-list__outer-container > ul > li')\n",
    "    data['job_title'] = liele.find_element(By.CSS_SELECTOR, '.display-flex.flex-wrap.align-items-center.full-height').text.split('\\n')[0]\n",
    "    data['company'] = liele.find_element(By.CSS_SELECTOR, '.t-14.t-normal').text.split('\\n')[0]\n",
    "    try:\n",
    "        data['location'] = liele.find_elements(By.CSS_SELECTOR, '.t-14.t-normal.t-black--light')[1].text.split('\\n')\n",
    "    except:\n",
    "        None\n",
    "    try:\n",
    "        data['duration'] = liele.find_elements(By.CSS_SELECTOR, '.t-14.t-normal.t-black--light')[0].text.split('\\n')\n",
    "    except:\n",
    "        None\n",
    "    #------------------------------------------------------------------------------------------------------\n",
    "    driver.find_element(By.ID, \"top-card-text-details-contact-info\").click()\n",
    "    time.sleep(3)\n",
    "    for i in driver.find_elements(By.CLASS_NAME, \"pv-contact-info__contact-type\"):\n",
    "        cdet = i.text.split('\\n')\n",
    "        data[cdet[0]] = cdet[1]\n",
    "    try:\n",
    "        temp = pd.DataFrame(data,index=[0])\n",
    "    except:\n",
    "        temp = pd.DataFrame(data)\n",
    "    temp = temp[[i for i in temp.columns if 'rofile' not in i]]\n",
    "    df = pd.concat([df, temp], ignore_index=True)\n",
    "    linksdf = pd.concat([linksdf,pd.DataFrame({'links': [links[linkind]]})],ignore_index=True)\n",
    "    print(f'\\rProgress: {linkind}', end='')\n",
    "    if linkind > 79:\n",
    "        break\n",
    "    strng = linkind"
   ]
  },
  {
   "cell_type": "code",
   "execution_count": null,
   "metadata": {},
   "outputs": [],
   "source": [
    "df[df['Phone'].notna()]"
   ]
  },
  {
   "cell_type": "code",
   "execution_count": null,
   "metadata": {},
   "outputs": [],
   "source": [
    "existing_df = pd.read_excel('All_Contacts.xlsx')\n",
    "existing_df = pd.concat([existing_df,df],ignore_index=True)\n",
    "existing_df.drop(columns=[col for col in existing_df.columns if 'rofile' in col],inplace=True)\n",
    "existing_df.drop_duplicates(inplace=True)\n",
    "existing_df.reset_index(drop=True, inplace=True)\n",
    "linksdf.drop_duplicates(inplace=True)\n",
    "linksdf.reset_index(drop=True, inplace=True)\n",
    "existing_df.to_excel('semiconductor_and_embedded.xlsx',index=False)\n",
    "linksdf.to_csv('links.csv',index=False)"
   ]
  },
  {
   "cell_type": "code",
   "execution_count": null,
   "metadata": {},
   "outputs": [],
   "source": [
    "existing_df[existing_df['Phone'].notna()]"
   ]
  },
  {
   "cell_type": "markdown",
   "metadata": {},
   "source": [
    "# END"
   ]
  }
 ],
 "metadata": {
  "kernelspec": {
   "display_name": "Python 3",
   "language": "python",
   "name": "python3"
  },
  "language_info": {
   "codemirror_mode": {
    "name": "ipython",
    "version": 3
   },
   "file_extension": ".py",
   "mimetype": "text/x-python",
   "name": "python",
   "nbconvert_exporter": "python",
   "pygments_lexer": "ipython3",
   "version": "3.11.4"
  },
  "orig_nbformat": 4
 },
 "nbformat": 4,
 "nbformat_minor": 2
}
