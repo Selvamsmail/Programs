{
 "cells": [
  {
   "cell_type": "code",
   "execution_count": 1,
   "metadata": {},
   "outputs": [],
   "source": [
    "import pandas as pd"
   ]
  },
  {
   "cell_type": "code",
   "execution_count": 38,
   "metadata": {},
   "outputs": [],
   "source": [
    "df = pd.read_excel('linkedincontacts.xlsx')"
   ]
  },
  {
   "cell_type": "code",
   "execution_count": 41,
   "metadata": {},
   "outputs": [],
   "source": [
    "df.drop_duplicates(subset='Phone',keep=False,inplace=True)\n",
    "df.drop_duplicates(subset='Email',keep=False,inplace=True)\n",
    "df.drop_duplicates(subset='Name',keep=False,inplace=True)"
   ]
  },
  {
   "cell_type": "code",
   "execution_count": 42,
   "metadata": {},
   "outputs": [
    {
     "data": {
      "text/html": [
       "<div>\n",
       "<style scoped>\n",
       "    .dataframe tbody tr th:only-of-type {\n",
       "        vertical-align: middle;\n",
       "    }\n",
       "\n",
       "    .dataframe tbody tr th {\n",
       "        vertical-align: top;\n",
       "    }\n",
       "\n",
       "    .dataframe thead th {\n",
       "        text-align: right;\n",
       "    }\n",
       "</style>\n",
       "<table border=\"1\" class=\"dataframe\">\n",
       "  <thead>\n",
       "    <tr style=\"text-align: right;\">\n",
       "      <th></th>\n",
       "      <th>Name</th>\n",
       "      <th>Email</th>\n",
       "      <th>Phone</th>\n",
       "      <th>Company/Organization</th>\n",
       "      <th>Position/Role</th>\n",
       "      <th>Unnamed: 5</th>\n",
       "      <th>Unnamed: 6</th>\n",
       "      <th>Unnamed: 7</th>\n",
       "    </tr>\n",
       "  </thead>\n",
       "  <tbody>\n",
       "  </tbody>\n",
       "</table>\n",
       "</div>"
      ],
      "text/plain": [
       "Empty DataFrame\n",
       "Columns: [Name, Email, Phone, Company/Organization, Position/Role, Unnamed: 5, Unnamed: 6, Unnamed: 7]\n",
       "Index: []"
      ]
     },
     "execution_count": 42,
     "metadata": {},
     "output_type": "execute_result"
    }
   ],
   "source": [
    "df[df['Name'].duplicated()].reset_index(drop=True)"
   ]
  },
  {
   "cell_type": "code",
   "execution_count": 43,
   "metadata": {},
   "outputs": [],
   "source": [
    "# df.to_excel('nonduplicates.xlsx',index=False)"
   ]
  },
  {
   "cell_type": "code",
   "execution_count": 45,
   "metadata": {},
   "outputs": [],
   "source": [
    "df = pd.read_excel('nonduplicates.xlsx')"
   ]
  },
  {
   "cell_type": "code",
   "execution_count": 60,
   "metadata": {},
   "outputs": [],
   "source": [
    "df['Phone'] = df['Phone'].str.replace(r'-|\\+91|\\(Home\\)|\\(Mobile\\)|\\(Work\\)|\" \"', '',regex=True).str.strip().str.replace(' ','')"
   ]
  },
  {
   "cell_type": "code",
   "execution_count": 72,
   "metadata": {},
   "outputs": [],
   "source": [
    "df = df[df['Phone'].apply(lambda x: len(x) > 9 )]"
   ]
  },
  {
   "cell_type": "code",
   "execution_count": 74,
   "metadata": {},
   "outputs": [],
   "source": [
    "df.to_excel('nonduplicates.xlsx',index=False)"
   ]
  },
  {
   "cell_type": "code",
   "execution_count": 73,
   "metadata": {},
   "outputs": [
    {
     "data": {
      "text/plain": [
       "array(['09910170118', '9891258065', '9880280578', '9820461053',\n",
       "       '9718035139', '7759047975', '9740555588', '7605036361',\n",
       "       '8872188723', '9962586781', '919663398073', '9944047725',\n",
       "       '8000320139', '8073652365', '9903986126', '9502322000',\n",
       "       '9489580748', '9633649750', '9624759898', '9820180015',\n",
       "       '9790957419', '8904529996', '9909954830', '9791007576',\n",
       "       '9573847063', '9311230889', '9747960652', '9940678999',\n",
       "       '9821822552', '7760029900', '9831935422', '9999154069',\n",
       "       '9757219804', '8830559617', '9999316903', '8130598727',\n",
       "       '9910392550', '9066667590', '9028720335', '9632711228',\n",
       "       '9854002003', '9008510118', '9810444437', '8297125599',\n",
       "       '9950919450', '9620066528', '8790967180', '9958002909',\n",
       "       '9833094375', '9820088392', '9892973796', '7718886221',\n",
       "       '9967102669', '7259113145', '9787186303', '9960154845',\n",
       "       '9080032077', '9820597077', '9167938347', '9952191229',\n",
       "       '8983087773', '9740888778', '8866581706', '9351972465',\n",
       "       '9825010404/9737011116', '7411465785', '9462537767', '9791177766',\n",
       "       '7016721210', '9898553223', '9945273155', '9944486061',\n",
       "       '08826044855', '8882530569', '9845159747', '9482135643',\n",
       "       '9700439452', '9900036758', '8128674855', '9777441780',\n",
       "       '7981165083', '9867455549', '08220888201', '9824004119',\n",
       "       '9930976664', '8814082222', '8618214265', '9624060933',\n",
       "       '9841341396', '9227250838', '9503010682', '09676165481',\n",
       "       '9225658248', '7506260910', '9711379131', '9873620829',\n",
       "       '9819747473', '9884780500', '9624492228', '918700425917',\n",
       "       '9052267778', '9940657612', '9524245792', '9994987847',\n",
       "       '9899112390', '4957140400', '9871637772', '9819327030',\n",
       "       '9851558060', '9632393007', '9481715559', '9381552889',\n",
       "       '9726852299', '9327466561', '9849992911', '9886201625',\n",
       "       '8800436888', '9867002009', '9912966617', '8919760128',\n",
       "       '8130218499', '9999596849', '8929850733', '08160561868',\n",
       "       '00919048515626', '6238422838', '9790750750', '9840181412',\n",
       "       '9820293002', '8878854666', '9820692323', '9300000053',\n",
       "       '9994285453', '9663371856', '9926318000', '8800091417',\n",
       "       '9867131701', '9057504441', '09880948435', '9664189997',\n",
       "       '9846874291', '+16408673847', '09820275384', '7834838883',\n",
       "       '9321127999', '07775973212', '9941018000', '8200986692',\n",
       "       '8744044232', '9341879319', '9871112932', '9844764698',\n",
       "       '9711202057', '9004777188', '(6301776314', '9949617371',\n",
       "       '9403461386', '9780774478', '9843506869', '9909942945',\n",
       "       '7093923218', '07087753869', '9842284849', '9599109286',\n",
       "       '9582355577', '9581524000', '08692958222', '7738010195',\n",
       "       '9960839942', '09322134678', '9620025270', '7625032469',\n",
       "       '9158555233', '09819944468', '9995151996', '9036662359',\n",
       "       '8460013568', '9821515922', '7028055848', '9900052868',\n",
       "       '9731005303', '9742014693', '9845207685', '9880865598',\n",
       "       '09820018004', '9594066960', '9849597375', '9924413334',\n",
       "       '9829074306', '8849425100', '9620164304', '9025907129',\n",
       "       '9818166866', '09880330697', '9886883054', '9496384211',\n",
       "       '9821080977', '09930258399', '9111116677', '7900075696',\n",
       "       '7039017048', '9773501489', '8918539874', '9926188115',\n",
       "       '9994721495', '7208871816', '7977453156', '9952099288',\n",
       "       '8098305966'], dtype=object)"
      ]
     },
     "execution_count": 73,
     "metadata": {},
     "output_type": "execute_result"
    }
   ],
   "source": [
    "df['Phone'].unique()"
   ]
  },
  {
   "cell_type": "code",
   "execution_count": 2,
   "metadata": {},
   "outputs": [],
   "source": [
    "df = pd.read_excel('nonduplicates.xlsx')"
   ]
  },
  {
   "cell_type": "code",
   "execution_count": 13,
   "metadata": {},
   "outputs": [],
   "source": [
    "df['titles'] = df['Position/Role'].apply(lambda x: x.split('\\n')[0])"
   ]
  },
  {
   "cell_type": "code",
   "execution_count": 14,
   "metadata": {},
   "outputs": [],
   "source": [
    "df.to_excel('nonduplicates.xlsx',index=False)"
   ]
  }
 ],
 "metadata": {
  "kernelspec": {
   "display_name": "Python 3",
   "language": "python",
   "name": "python3"
  },
  "language_info": {
   "codemirror_mode": {
    "name": "ipython",
    "version": 3
   },
   "file_extension": ".py",
   "mimetype": "text/x-python",
   "name": "python",
   "nbconvert_exporter": "python",
   "pygments_lexer": "ipython3",
   "version": "3.11.4"
  }
 },
 "nbformat": 4,
 "nbformat_minor": 2
}
