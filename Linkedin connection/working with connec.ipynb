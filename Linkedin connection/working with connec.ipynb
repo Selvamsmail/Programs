{
 "cells": [
  {
   "cell_type": "code",
   "execution_count": 152,
   "metadata": {},
   "outputs": [],
   "source": [
    "import pandas as pd"
   ]
  },
  {
   "cell_type": "code",
   "execution_count": 153,
   "metadata": {},
   "outputs": [],
   "source": [
    "df = pd.read_csv('connection_req_proper_HR_names.csv')"
   ]
  },
  {
   "cell_type": "code",
   "execution_count": 154,
   "metadata": {},
   "outputs": [],
   "source": [
    "df['textcol'] = df['textcol'].apply(lambda x: x.split('\\n') if not pd.isna(x) else None)"
   ]
  },
  {
   "cell_type": "code",
   "execution_count": 155,
   "metadata": {},
   "outputs": [],
   "source": [
    "df['len'] = df['textcol'].apply(lambda x: len(x) if isinstance(x, list) else 0)"
   ]
  },
  {
   "cell_type": "code",
   "execution_count": 156,
   "metadata": {},
   "outputs": [],
   "source": [
    "df = df[df['textcol'].apply(lambda x: True if isinstance(x, list) and len(x) > 8 else False)]"
   ]
  },
  {
   "cell_type": "code",
   "execution_count": 186,
   "metadata": {},
   "outputs": [
    {
     "data": {
      "text/plain": [
       "array([ 9, 10, 11, 12, 13, 14, 15, 16, 17], dtype=int64)"
      ]
     },
     "execution_count": 186,
     "metadata": {},
     "output_type": "execute_result"
    }
   ],
   "source": [
    "a = df['len'].unique()\n",
    "a.sort()\n",
    "a"
   ]
  },
  {
   "cell_type": "code",
   "execution_count": 158,
   "metadata": {},
   "outputs": [],
   "source": [
    "for inde,row in df.iterrows():\n",
    "    if row['len'] == 17:\n",
    "        # print(row['textcol'])\n",
    "        newlis = row['textcol'].copy()\n",
    "        inlis = ['Save', 'Message', 'posts on Linkedin', 'Recently hired', 'mutual connections', 'Shared groups','see more','About:','months in company','months in role',\n",
    "                 'Viewed','You’ve already seen','2nd','to selection','years in company','recent post on Linkedin']\n",
    "        newlis = [i for i in newlis if not any(word.lower() in i.lower() for word in inlis)]\n",
    "        df.at[inde,'corlis'] = '\\n'.join(newlis)"
   ]
  },
  {
   "cell_type": "code",
   "execution_count": 159,
   "metadata": {},
   "outputs": [],
   "source": [
    "for inde,row in df.iterrows():\n",
    "    if row['len'] == 16:\n",
    "        # print(row['textcol'])\n",
    "        newlis = row['textcol'].copy()\n",
    "        inlis = ['Save', 'Message', 'posts on Linkedin', 'Recently hired', 'mutual connections', 'Shared groups','see more','About:','months in company','months in role',\n",
    "                 'Viewed','You’ve already seen','2nd','to selection','years in company','recent post on Linkedin']\n",
    "        newlis = [i for i in newlis if not any(word.lower() in i.lower() for word in inlis)]\n",
    "        # print(newlis)\n",
    "        df.at[inde,'corlis'] = '\\n'.join(newlis)"
   ]
  },
  {
   "cell_type": "code",
   "execution_count": 160,
   "metadata": {},
   "outputs": [],
   "source": [
    "for inde,row in df.iterrows():\n",
    "    if row['len'] == 15:\n",
    "        # print(row['textcol'])\n",
    "        newlis = row['textcol'].copy()\n",
    "        inlis = ['Save', 'Message', 'posts on Linkedin', 'Recently hired', 'mutual connections', 'Shared groups','see more','About:','months in company','months in role',\n",
    "                 'Viewed','You’ve already seen','2nd','to selection','years in company','recent post on Linkedin','month in company','Recently promoted']\n",
    "        newlis = [i for i in newlis if not any(word.lower() in i.lower() for word in inlis)]\n",
    "        # if len(newlis) > 3:\n",
    "        #     print(len(newlis),newlis)\n",
    "        #     print('*')\n",
    "        newlis = newlis[:3]\n",
    "        df.at[inde,'corlis'] = '\\n'.join(newlis)"
   ]
  },
  {
   "cell_type": "code",
   "execution_count": 161,
   "metadata": {},
   "outputs": [],
   "source": [
    "inlis = ['Save', 'Message', 'posts on Linkedin', 'Recently hired', 'mutual connections', 'Shared groups','see more','About:','months in company','months in role',\n",
    "                 'Viewed','You’ve already seen','2nd','to selection','years in company','recent post on Linkedin','month in company','Recently promoted','mutual connection','year in role',\n",
    "                 '3rd']"
   ]
  },
  {
   "cell_type": "code",
   "execution_count": 162,
   "metadata": {},
   "outputs": [],
   "source": [
    "for inde,row in df.iterrows():\n",
    "    if row['len'] == 14:\n",
    "        # print(row['textcol'])\n",
    "        newlis = row['textcol'].copy()\n",
    "        newlis = [i for i in newlis if not any(word.lower() in i.lower() for word in inlis)]\n",
    "        # if len(newlis) > 3:\n",
    "        #     print(len(newlis),newlis)\n",
    "        #     print('*')\n",
    "        newlis = newlis[:3]\n",
    "        df.at[inde,'corlis'] = '\\n'.join(newlis)"
   ]
  },
  {
   "cell_type": "code",
   "execution_count": 163,
   "metadata": {},
   "outputs": [],
   "source": [
    "for inde,row in df[df['len']==13].iterrows():\n",
    "    # print(row['textcol'])\n",
    "    newlis = row['textcol'].copy()\n",
    "    newlis = [i for i in newlis if not any(word.lower() in i.lower() for word in inlis)]\n",
    "    # if len(newlis) > 3:\n",
    "    #     print(len(newlis),newlis)\n",
    "    #     print('*')\n",
    "    newlis = newlis[:3]\n",
    "    df.at[inde,'corlis'] = '\\n'.join(newlis)"
   ]
  },
  {
   "cell_type": "code",
   "execution_count": 164,
   "metadata": {},
   "outputs": [],
   "source": [
    "for inde,row in df[df['len']==12].iterrows():\n",
    "    # print(row['textcol'])\n",
    "    newlis = row['textcol'].copy()\n",
    "    newlis = [i for i in newlis if not any(word.lower() in i.lower() for word in inlis)]\n",
    "    # if len(newlis) > 3:\n",
    "    #     print(len(newlis),newlis)\n",
    "    #     print('*')\n",
    "    newlis = newlis[:3]\n",
    "    df.at[inde,'corlis'] = '\\n'.join(newlis)"
   ]
  },
  {
   "cell_type": "code",
   "execution_count": 165,
   "metadata": {},
   "outputs": [],
   "source": [
    "for inde,row in df[df['len']==11].iterrows():\n",
    "    # print(row['textcol'])\n",
    "    newlis = row['textcol'].copy()\n",
    "    newlis = [i for i in newlis if not any(word.lower() in i.lower() for word in inlis)]\n",
    "    # if len(newlis) > 3:\n",
    "    #     print(len(newlis),newlis)\n",
    "    #     print('*')\n",
    "    newlis = newlis[:3]\n",
    "    df.at[inde,'corlis'] = '\\n'.join(newlis)"
   ]
  },
  {
   "cell_type": "code",
   "execution_count": 166,
   "metadata": {},
   "outputs": [],
   "source": [
    "for inde,row in df[df['len']==10].iterrows():\n",
    "    # print(row['textcol'])\n",
    "    newlis = row['textcol'].copy()\n",
    "    newlis = [i for i in newlis if not any(word.lower() in i.lower() for word in inlis)]\n",
    "    # if len(newlis) > 3:\n",
    "    #     print(len(newlis),newlis)\n",
    "    #     print('*')\n",
    "    newlis = newlis[:3]\n",
    "    df.at[inde,'corlis'] = '\\n'.join(newlis)"
   ]
  },
  {
   "cell_type": "code",
   "execution_count": 167,
   "metadata": {},
   "outputs": [],
   "source": [
    "for inde,row in df[df['len']==9].iterrows():\n",
    "    # print(row['textcol'])\n",
    "    newlis = row['textcol'].copy()\n",
    "    newlis = [i for i in newlis if not any(word.lower() in i.lower() for word in inlis)]\n",
    "    # if len(newlis) > 3:\n",
    "    #     print(len(newlis),newlis)\n",
    "    #     print('*')\n",
    "    newlis = newlis[:3]\n",
    "    df.at[inde,'corlis'] = '\\n'.join(newlis)"
   ]
  },
  {
   "cell_type": "code",
   "execution_count": 169,
   "metadata": {},
   "outputs": [],
   "source": [
    "for inde,row in df[df['corlis'].apply(lambda x: True if len(x.split('\\n')) > 2 else False)].iterrows():\n",
    "    Name = row['corlis'].split('\\n')[0]\n",
    "    designation = row['corlis'].split('\\n')[1]\n",
    "    location = row['corlis'].split('\\n')[2]\n",
    "    df.at[inde,'Name'] = Name\n",
    "    df.at[inde,'locaiton'] = location\n",
    "    df.at[inde,'designation'] = designation"
   ]
  },
  {
   "cell_type": "code",
   "execution_count": 173,
   "metadata": {},
   "outputs": [],
   "source": [
    "for inde,row in df[df['corlis'].apply(lambda x: True if len(x.split('\\n')) < 3 else False)].iterrows():\n",
    "    Name = row['corlis'].split('\\n')[0]\n",
    "    designation = row['corlis'].split('\\n')[1]\n",
    "    df.at[inde,'Name'] = Name\n",
    "    df.at[inde,'unknown'] = designation"
   ]
  },
  {
   "cell_type": "code",
   "execution_count": 174,
   "metadata": {},
   "outputs": [
    {
     "data": {
      "text/html": [
       "<div>\n",
       "<style scoped>\n",
       "    .dataframe tbody tr th:only-of-type {\n",
       "        vertical-align: middle;\n",
       "    }\n",
       "\n",
       "    .dataframe tbody tr th {\n",
       "        vertical-align: top;\n",
       "    }\n",
       "\n",
       "    .dataframe thead th {\n",
       "        text-align: right;\n",
       "    }\n",
       "</style>\n",
       "<table border=\"1\" class=\"dataframe\">\n",
       "  <thead>\n",
       "    <tr style=\"text-align: right;\">\n",
       "      <th></th>\n",
       "      <th>textcol</th>\n",
       "      <th>len</th>\n",
       "      <th>corlis</th>\n",
       "      <th>Name</th>\n",
       "      <th>locaiton</th>\n",
       "      <th>designation</th>\n",
       "      <th>unknown</th>\n",
       "    </tr>\n",
       "  </thead>\n",
       "  <tbody>\n",
       "    <tr>\n",
       "      <th>32</th>\n",
       "      <td>[Add Sachin Rode to selection, Sachin Rode, 2n...</td>\n",
       "      <td>11</td>\n",
       "      <td>Sachin Rode\\nMumbai, Maharashtra, India</td>\n",
       "      <td>Sachin Rode</td>\n",
       "      <td>NaN</td>\n",
       "      <td>NaN</td>\n",
       "      <td>Mumbai, Maharashtra, India</td>\n",
       "    </tr>\n",
       "    <tr>\n",
       "      <th>43</th>\n",
       "      <td>[Add Pooja Velhal to selection, Pooja Velhal, ...</td>\n",
       "      <td>12</td>\n",
       "      <td>Pooja Velhal\\nChennai, Tamil Nadu, India</td>\n",
       "      <td>Pooja Velhal</td>\n",
       "      <td>NaN</td>\n",
       "      <td>NaN</td>\n",
       "      <td>Chennai, Tamil Nadu, India</td>\n",
       "    </tr>\n",
       "    <tr>\n",
       "      <th>395</th>\n",
       "      <td>[Add Sandeep Panhale to selection, Sandeep Pan...</td>\n",
       "      <td>12</td>\n",
       "      <td>Sandeep Panhale\\nPune, Maharashtra, India</td>\n",
       "      <td>Sandeep Panhale</td>\n",
       "      <td>NaN</td>\n",
       "      <td>NaN</td>\n",
       "      <td>Pune, Maharashtra, India</td>\n",
       "    </tr>\n",
       "    <tr>\n",
       "      <th>625</th>\n",
       "      <td>[Add Aditi Singhania to selection, Aditi Singh...</td>\n",
       "      <td>12</td>\n",
       "      <td>Aditi Singhania\\n  Bengaluru, Karnataka, India</td>\n",
       "      <td>Aditi Singhania</td>\n",
       "      <td>NaN</td>\n",
       "      <td>NaN</td>\n",
       "      <td>Bengaluru, Karnataka, India</td>\n",
       "    </tr>\n",
       "    <tr>\n",
       "      <th>910</th>\n",
       "      <td>[Add Rajani Thathoor Saran to selection, Rajan...</td>\n",
       "      <td>10</td>\n",
       "      <td>Rajani Thathoor Saran\\n  Bengaluru, Karnataka,...</td>\n",
       "      <td>Rajani Thathoor Saran</td>\n",
       "      <td>NaN</td>\n",
       "      <td>NaN</td>\n",
       "      <td>Bengaluru, Karnataka, India</td>\n",
       "    </tr>\n",
       "    <tr>\n",
       "      <th>1208</th>\n",
       "      <td>[Add Khushboo Saraiya to selection, Khushboo S...</td>\n",
       "      <td>11</td>\n",
       "      <td>Khushboo Saraiya\\nPune, Maharashtra, India</td>\n",
       "      <td>Khushboo Saraiya</td>\n",
       "      <td>NaN</td>\n",
       "      <td>NaN</td>\n",
       "      <td>Pune, Maharashtra, India</td>\n",
       "    </tr>\n",
       "    <tr>\n",
       "      <th>1250</th>\n",
       "      <td>[Add Shaunak Upadhyay to selection, Shaunak Up...</td>\n",
       "      <td>10</td>\n",
       "      <td>Shaunak Upadhyay\\n  Ahmedabad, Gujarat, India</td>\n",
       "      <td>Shaunak Upadhyay</td>\n",
       "      <td>NaN</td>\n",
       "      <td>NaN</td>\n",
       "      <td>Ahmedabad, Gujarat, India</td>\n",
       "    </tr>\n",
       "    <tr>\n",
       "      <th>1286</th>\n",
       "      <td>[Add Neelima Vaka to selection, Neelima Vaka, ...</td>\n",
       "      <td>13</td>\n",
       "      <td>Neelima Vaka\\nAssociate Director Human Resourc...</td>\n",
       "      <td>Neelima Vaka</td>\n",
       "      <td>NaN</td>\n",
       "      <td>NaN</td>\n",
       "      <td>Associate Director Human Resources Clinovo</td>\n",
       "    </tr>\n",
       "    <tr>\n",
       "      <th>1581</th>\n",
       "      <td>[Add Swapnali Nagvekar to selection, Swapnali ...</td>\n",
       "      <td>11</td>\n",
       "      <td>Swapnali Nagvekar\\nMumbai, Maharashtra, India</td>\n",
       "      <td>Swapnali Nagvekar</td>\n",
       "      <td>NaN</td>\n",
       "      <td>NaN</td>\n",
       "      <td>Mumbai, Maharashtra, India</td>\n",
       "    </tr>\n",
       "    <tr>\n",
       "      <th>1868</th>\n",
       "      <td>[Add Dheeraj Makhani to selection, Dheeraj Mak...</td>\n",
       "      <td>11</td>\n",
       "      <td>Dheeraj Makhani\\nHead - HR Business Partner Ba...</td>\n",
       "      <td>Dheeraj Makhani</td>\n",
       "      <td>NaN</td>\n",
       "      <td>NaN</td>\n",
       "      <td>Head - HR Business Partner Bajaj Markets</td>\n",
       "    </tr>\n",
       "    <tr>\n",
       "      <th>1952</th>\n",
       "      <td>[Add Raja G. to selection, Raja G., 2nd degree...</td>\n",
       "      <td>11</td>\n",
       "      <td>Raja G.\\n  Manager - HR Jubilant Pharmova</td>\n",
       "      <td>Raja G.</td>\n",
       "      <td>NaN</td>\n",
       "      <td>NaN</td>\n",
       "      <td>Manager - HR Jubilant Pharmova</td>\n",
       "    </tr>\n",
       "  </tbody>\n",
       "</table>\n",
       "</div>"
      ],
      "text/plain": [
       "                                                textcol  len  \\\n",
       "32    [Add Sachin Rode to selection, Sachin Rode, 2n...   11   \n",
       "43    [Add Pooja Velhal to selection, Pooja Velhal, ...   12   \n",
       "395   [Add Sandeep Panhale to selection, Sandeep Pan...   12   \n",
       "625   [Add Aditi Singhania to selection, Aditi Singh...   12   \n",
       "910   [Add Rajani Thathoor Saran to selection, Rajan...   10   \n",
       "1208  [Add Khushboo Saraiya to selection, Khushboo S...   11   \n",
       "1250  [Add Shaunak Upadhyay to selection, Shaunak Up...   10   \n",
       "1286  [Add Neelima Vaka to selection, Neelima Vaka, ...   13   \n",
       "1581  [Add Swapnali Nagvekar to selection, Swapnali ...   11   \n",
       "1868  [Add Dheeraj Makhani to selection, Dheeraj Mak...   11   \n",
       "1952  [Add Raja G. to selection, Raja G., 2nd degree...   11   \n",
       "\n",
       "                                                 corlis  \\\n",
       "32              Sachin Rode\\nMumbai, Maharashtra, India   \n",
       "43             Pooja Velhal\\nChennai, Tamil Nadu, India   \n",
       "395           Sandeep Panhale\\nPune, Maharashtra, India   \n",
       "625      Aditi Singhania\\n  Bengaluru, Karnataka, India   \n",
       "910   Rajani Thathoor Saran\\n  Bengaluru, Karnataka,...   \n",
       "1208         Khushboo Saraiya\\nPune, Maharashtra, India   \n",
       "1250      Shaunak Upadhyay\\n  Ahmedabad, Gujarat, India   \n",
       "1286  Neelima Vaka\\nAssociate Director Human Resourc...   \n",
       "1581      Swapnali Nagvekar\\nMumbai, Maharashtra, India   \n",
       "1868  Dheeraj Makhani\\nHead - HR Business Partner Ba...   \n",
       "1952          Raja G.\\n  Manager - HR Jubilant Pharmova   \n",
       "\n",
       "                       Name locaiton designation  \\\n",
       "32              Sachin Rode      NaN         NaN   \n",
       "43             Pooja Velhal      NaN         NaN   \n",
       "395         Sandeep Panhale      NaN         NaN   \n",
       "625         Aditi Singhania      NaN         NaN   \n",
       "910   Rajani Thathoor Saran      NaN         NaN   \n",
       "1208       Khushboo Saraiya      NaN         NaN   \n",
       "1250       Shaunak Upadhyay      NaN         NaN   \n",
       "1286           Neelima Vaka      NaN         NaN   \n",
       "1581      Swapnali Nagvekar      NaN         NaN   \n",
       "1868        Dheeraj Makhani      NaN         NaN   \n",
       "1952                Raja G.      NaN         NaN   \n",
       "\n",
       "                                         unknown  \n",
       "32                    Mumbai, Maharashtra, India  \n",
       "43                    Chennai, Tamil Nadu, India  \n",
       "395                     Pune, Maharashtra, India  \n",
       "625                  Bengaluru, Karnataka, India  \n",
       "910                  Bengaluru, Karnataka, India  \n",
       "1208                    Pune, Maharashtra, India  \n",
       "1250                   Ahmedabad, Gujarat, India  \n",
       "1286  Associate Director Human Resources Clinovo  \n",
       "1581                  Mumbai, Maharashtra, India  \n",
       "1868    Head - HR Business Partner Bajaj Markets  \n",
       "1952              Manager - HR Jubilant Pharmova  "
      ]
     },
     "execution_count": 174,
     "metadata": {},
     "output_type": "execute_result"
    }
   ],
   "source": [
    "df[df['corlis'].apply(lambda x: True if len(x.split('\\n'))< 3 else False)]"
   ]
  },
  {
   "cell_type": "code",
   "execution_count": 182,
   "metadata": {},
   "outputs": [],
   "source": [
    "df[['Name','designation','locaiton','unknown']].to_excel('connection_req_proper_cleaned.xlsx',index=False)"
   ]
  },
  {
   "cell_type": "code",
   "execution_count": 176,
   "metadata": {},
   "outputs": [
    {
     "data": {
      "text/plain": [
       "0                       Mahesh Phadke\n",
       "1                   Mohd Ilyas Akhter\n",
       "2                        Abhay Kapoor\n",
       "3                       Rupali Sharma\n",
       "4       Mahua Ray Chaudhuri, SHRM-SCP\n",
       "                    ...              \n",
       "2501                      Neha Mittal\n",
       "2502                    Prachi Sharma\n",
       "2503                  Nisha Venugopal\n",
       "2504                Rajkiran Sherigar\n",
       "2505                  Pradanya Dilpak\n",
       "Name: textcol, Length: 2452, dtype: object"
      ]
     },
     "execution_count": 176,
     "metadata": {},
     "output_type": "execute_result"
    }
   ],
   "source": [
    "df['textcol'].apply(lambda x: x[1] if isinstance(x, list) and len(x)>2 else 0)"
   ]
  }
 ],
 "metadata": {
  "kernelspec": {
   "display_name": "Python 3",
   "language": "python",
   "name": "python3"
  },
  "language_info": {
   "codemirror_mode": {
    "name": "ipython",
    "version": 3
   },
   "file_extension": ".py",
   "mimetype": "text/x-python",
   "name": "python",
   "nbconvert_exporter": "python",
   "pygments_lexer": "ipython3",
   "version": "3.11.4"
  }
 },
 "nbformat": 4,
 "nbformat_minor": 2
}
