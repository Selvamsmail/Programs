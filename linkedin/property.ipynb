{
 "cells": [
  {
   "cell_type": "code",
   "execution_count": 1,
   "metadata": {},
   "outputs": [],
   "source": [
    "import pandas as pd\n",
    "from bs4 import BeautifulSoup\n",
    "from selenium import webdriver\n",
    "from selenium.webdriver.common.by import By\n",
    "from selenium.webdriver.support.ui import WebDriverWait\n",
    "from selenium.webdriver.support import expected_conditions as EC\n",
    "import time\n",
    "import pytz\n",
    "import datetime\n",
    "import os"
   ]
  },
  {
   "cell_type": "code",
   "execution_count": 8,
   "metadata": {},
   "outputs": [],
   "source": [
    "def driver_setup():# Assigning a Headless Firefox Driver\n",
    "  options = webdriver.ChromeOptions()\n",
    "  options.binary_location = 'C:/Program Files/Google/Chrome/Application/chrome.exe'  # Path to Chrome executable\n",
    "  options.add_argument('chromedriver.exe')\n",
    "  options.add_argument('--headless')\n",
    "  options.add_argument('--no-sandbox')\n",
    "  options.add_argument('--disable-dev-shm-usage')\n",
    "  driver = webdriver.Chrome(options=options)\n",
    "  return driver\n",
    "\n",
    "def save_data_to_disk(data, filename):\n",
    "    if os.path.isfile(filename):\n",
    "        existing_df = pd.read_csv(filename)\n",
    "        data = pd.concat([existing_df, data], ignore_index=True)\n",
    "        os.remove(filename)\n",
    "        data.to_csv(filename,index=False)\n",
    "    else:\n",
    "        data.to_csv(filename, mode='w', header=True, index=False)"
   ]
  },
  {
   "cell_type": "code",
   "execution_count": 9,
   "metadata": {},
   "outputs": [
    {
     "ename": "NoSuchElementException",
     "evalue": "Message: no such element: Unable to locate element: {\"method\":\"xpath\",\"selector\":\"//*[@id=\"username\"]\"}\n  (Session info: headless chrome=94.0.4606.61); For documentation on this error, please visit: https://www.selenium.dev/documentation/webdriver/troubleshooting/errors#no-such-element-exception\nStacktrace:\nBacktrace:\n\tOrdinal0 [0x0106B9D3+2472403]\n\tOrdinal0 [0x01006961+2058593]\n\tOrdinal0 [0x00F122B8+1057464]\n\tOrdinal0 [0x00F3C68B+1230475]\n\tOrdinal0 [0x00F665B2+1402290]\n\tOrdinal0 [0x00F555CA+1332682]\n\tOrdinal0 [0x00F6495F+1395039]\n\tOrdinal0 [0x00F5545B+1332315]\n\tOrdinal0 [0x00F31FB4+1187764]\n\tOrdinal0 [0x00F32E09+1191433]\n\tGetHandleVerifier [0x011F3396+1551078]\n\tGetHandleVerifier [0x0129D53A+2247818]\n\tGetHandleVerifier [0x010F7FBB+521995]\n\tGetHandleVerifier [0x010F7079+518089]\n\tOrdinal0 [0x0100BD4D+2080077]\n\tOrdinal0 [0x0100FC18+2096152]\n\tOrdinal0 [0x0100FD52+2096466]\n\tOrdinal0 [0x010194B1+2135217]\n\tBaseThreadInitThunk [0x773C00C9+25]\n\tRtlGetAppContainerNamedObjectPath [0x77A37B1E+286]\n\tRtlGetAppContainerNamedObjectPath [0x77A37AEE+238]\n",
     "output_type": "error",
     "traceback": [
      "\u001b[1;31m---------------------------------------------------------------------------\u001b[0m",
      "\u001b[1;31mNoSuchElementException\u001b[0m                    Traceback (most recent call last)",
      "Cell \u001b[1;32mIn[9], line 13\u001b[0m\n\u001b[0;32m     10\u001b[0m submit_button \u001b[39m=\u001b[39m driver\u001b[39m.\u001b[39mfind_element(By\u001b[39m.\u001b[39mXPATH, \u001b[39m'\u001b[39m\u001b[39m//*[@id=\u001b[39m\u001b[39m\"\u001b[39m\u001b[39mlogIn\u001b[39m\u001b[39m\"\u001b[39m\u001b[39m]\u001b[39m\u001b[39m'\u001b[39m)\n\u001b[0;32m     11\u001b[0m submit_button\u001b[39m.\u001b[39mclick()\n\u001b[1;32m---> 13\u001b[0m email_phone \u001b[39m=\u001b[39m driver\u001b[39m.\u001b[39;49mfind_element(By\u001b[39m.\u001b[39;49mXPATH, \u001b[39m'\u001b[39;49m\u001b[39m//*[@id=\u001b[39;49m\u001b[39m\"\u001b[39;49m\u001b[39musername\u001b[39;49m\u001b[39m\"\u001b[39;49m\u001b[39m]\u001b[39;49m\u001b[39m'\u001b[39;49m)\u001b[39m.\u001b[39msend_keys(\u001b[39m\"\u001b[39m\u001b[39mps90473\u001b[39m\u001b[39m\"\u001b[39m)\n\u001b[0;32m     14\u001b[0m password \u001b[39m=\u001b[39m driver\u001b[39m.\u001b[39mfind_element(By\u001b[39m.\u001b[39mXPATH, \u001b[39m'\u001b[39m\u001b[39m//*[@id=\u001b[39m\u001b[39m\"\u001b[39m\u001b[39mpassword\u001b[39m\u001b[39m\"\u001b[39m\u001b[39m]\u001b[39m\u001b[39m'\u001b[39m)\u001b[39m.\u001b[39msend_keys(\u001b[39m\"\u001b[39m\u001b[39mAsddsa@123321\u001b[39m\u001b[39m\"\u001b[39m)\n\u001b[0;32m     15\u001b[0m submit_button \u001b[39m=\u001b[39m driver\u001b[39m.\u001b[39mfind_element(By\u001b[39m.\u001b[39mXPATH, \u001b[39m'\u001b[39m\u001b[39m/html/body/div[2]/div[2]/div/form/div[6]/span/a\u001b[39m\u001b[39m'\u001b[39m)\u001b[39m.\u001b[39mclick()\n",
      "File \u001b[1;32mc:\\Users\\PM\\AppData\\Local\\Programs\\Python\\Python311\\Lib\\site-packages\\selenium\\webdriver\\remote\\webdriver.py:740\u001b[0m, in \u001b[0;36mWebDriver.find_element\u001b[1;34m(self, by, value)\u001b[0m\n\u001b[0;32m    737\u001b[0m     by \u001b[39m=\u001b[39m By\u001b[39m.\u001b[39mCSS_SELECTOR\n\u001b[0;32m    738\u001b[0m     value \u001b[39m=\u001b[39m \u001b[39mf\u001b[39m\u001b[39m'\u001b[39m\u001b[39m[name=\u001b[39m\u001b[39m\"\u001b[39m\u001b[39m{\u001b[39;00mvalue\u001b[39m}\u001b[39;00m\u001b[39m\"\u001b[39m\u001b[39m]\u001b[39m\u001b[39m'\u001b[39m\n\u001b[1;32m--> 740\u001b[0m \u001b[39mreturn\u001b[39;00m \u001b[39mself\u001b[39;49m\u001b[39m.\u001b[39;49mexecute(Command\u001b[39m.\u001b[39;49mFIND_ELEMENT, {\u001b[39m\"\u001b[39;49m\u001b[39musing\u001b[39;49m\u001b[39m\"\u001b[39;49m: by, \u001b[39m\"\u001b[39;49m\u001b[39mvalue\u001b[39;49m\u001b[39m\"\u001b[39;49m: value})[\u001b[39m\"\u001b[39m\u001b[39mvalue\u001b[39m\u001b[39m\"\u001b[39m]\n",
      "File \u001b[1;32mc:\\Users\\PM\\AppData\\Local\\Programs\\Python\\Python311\\Lib\\site-packages\\selenium\\webdriver\\remote\\webdriver.py:346\u001b[0m, in \u001b[0;36mWebDriver.execute\u001b[1;34m(self, driver_command, params)\u001b[0m\n\u001b[0;32m    344\u001b[0m response \u001b[39m=\u001b[39m \u001b[39mself\u001b[39m\u001b[39m.\u001b[39mcommand_executor\u001b[39m.\u001b[39mexecute(driver_command, params)\n\u001b[0;32m    345\u001b[0m \u001b[39mif\u001b[39;00m response:\n\u001b[1;32m--> 346\u001b[0m     \u001b[39mself\u001b[39;49m\u001b[39m.\u001b[39;49merror_handler\u001b[39m.\u001b[39;49mcheck_response(response)\n\u001b[0;32m    347\u001b[0m     response[\u001b[39m\"\u001b[39m\u001b[39mvalue\u001b[39m\u001b[39m\"\u001b[39m] \u001b[39m=\u001b[39m \u001b[39mself\u001b[39m\u001b[39m.\u001b[39m_unwrap_value(response\u001b[39m.\u001b[39mget(\u001b[39m\"\u001b[39m\u001b[39mvalue\u001b[39m\u001b[39m\"\u001b[39m, \u001b[39mNone\u001b[39;00m))\n\u001b[0;32m    348\u001b[0m     \u001b[39mreturn\u001b[39;00m response\n",
      "File \u001b[1;32mc:\\Users\\PM\\AppData\\Local\\Programs\\Python\\Python311\\Lib\\site-packages\\selenium\\webdriver\\remote\\errorhandler.py:245\u001b[0m, in \u001b[0;36mErrorHandler.check_response\u001b[1;34m(self, response)\u001b[0m\n\u001b[0;32m    243\u001b[0m         alert_text \u001b[39m=\u001b[39m value[\u001b[39m\"\u001b[39m\u001b[39malert\u001b[39m\u001b[39m\"\u001b[39m]\u001b[39m.\u001b[39mget(\u001b[39m\"\u001b[39m\u001b[39mtext\u001b[39m\u001b[39m\"\u001b[39m)\n\u001b[0;32m    244\u001b[0m     \u001b[39mraise\u001b[39;00m exception_class(message, screen, stacktrace, alert_text)  \u001b[39m# type: ignore[call-arg]  # mypy is not smart enough here\u001b[39;00m\n\u001b[1;32m--> 245\u001b[0m \u001b[39mraise\u001b[39;00m exception_class(message, screen, stacktrace)\n",
      "\u001b[1;31mNoSuchElementException\u001b[0m: Message: no such element: Unable to locate element: {\"method\":\"xpath\",\"selector\":\"//*[@id=\"username\"]\"}\n  (Session info: headless chrome=94.0.4606.61); For documentation on this error, please visit: https://www.selenium.dev/documentation/webdriver/troubleshooting/errors#no-such-element-exception\nStacktrace:\nBacktrace:\n\tOrdinal0 [0x0106B9D3+2472403]\n\tOrdinal0 [0x01006961+2058593]\n\tOrdinal0 [0x00F122B8+1057464]\n\tOrdinal0 [0x00F3C68B+1230475]\n\tOrdinal0 [0x00F665B2+1402290]\n\tOrdinal0 [0x00F555CA+1332682]\n\tOrdinal0 [0x00F6495F+1395039]\n\tOrdinal0 [0x00F5545B+1332315]\n\tOrdinal0 [0x00F31FB4+1187764]\n\tOrdinal0 [0x00F32E09+1191433]\n\tGetHandleVerifier [0x011F3396+1551078]\n\tGetHandleVerifier [0x0129D53A+2247818]\n\tGetHandleVerifier [0x010F7FBB+521995]\n\tGetHandleVerifier [0x010F7079+518089]\n\tOrdinal0 [0x0100BD4D+2080077]\n\tOrdinal0 [0x0100FC18+2096152]\n\tOrdinal0 [0x0100FD52+2096466]\n\tOrdinal0 [0x010194B1+2135217]\n\tBaseThreadInitThunk [0x773C00C9+25]\n\tRtlGetAppContainerNamedObjectPath [0x77A37B1E+286]\n\tRtlGetAppContainerNamedObjectPath [0x77A37AEE+238]\n"
     ]
    }
   ],
   "source": [
    "driver = driver_setup()\n",
    "driver.implicitly_wait(30)\n",
    "\n",
    "driver.get(\"https://propertyhub.corelogic.asia/advance-search\")\n",
    "wait = WebDriverWait(driver, 10)\n",
    "\n",
    "email_phone = driver.find_element(By.XPATH, '//*[@id=\"au-form\"]/div/div[1]/div/div[2]/div/input')\n",
    "email_phone.send_keys(\"pannersmail@gmail.com\")\n",
    "\n",
    "submit_button = driver.find_element(By.XPATH, '//*[@id=\"logIn\"]')\n",
    "submit_button.click()\n",
    "\n",
    "email_phone = driver.find_element(By.XPATH, '//*[@id=\"username\"]').send_keys(\"ps90473\")\n",
    "password = driver.find_element(By.XPATH, '//*[@id=\"password\"]').send_keys(\"Asddsa@123321\")\n",
    "submit_button = driver.find_element(By.XPATH, '/html/body/div[2]/div[2]/div/form/div[6]/span/a').click()\n",
    "\n"
   ]
  }
 ],
 "metadata": {
  "kernelspec": {
   "display_name": "Python 3",
   "language": "python",
   "name": "python3"
  },
  "language_info": {
   "codemirror_mode": {
    "name": "ipython",
    "version": 3
   },
   "file_extension": ".py",
   "mimetype": "text/x-python",
   "name": "python",
   "nbconvert_exporter": "python",
   "pygments_lexer": "ipython3",
   "version": "3.11.4"
  },
  "orig_nbformat": 4
 },
 "nbformat": 4,
 "nbformat_minor": 2
}
