{
 "cells": [
  {
   "cell_type": "code",
   "execution_count": 1,
   "metadata": {},
   "outputs": [],
   "source": [
    "import pandas as pd"
   ]
  },
  {
   "cell_type": "code",
   "execution_count": 2,
   "metadata": {},
   "outputs": [],
   "source": [
    "df1 = pd.read_csv('table 1 _ 2021 Latest data all companies.csv')\n",
    "df2 = pd.read_csv('table 2 _ 2021 Latest data all companies.csv')"
   ]
  },
  {
   "cell_type": "code",
   "execution_count": 3,
   "metadata": {},
   "outputs": [],
   "source": [
    "df = pd.merge(df1,df2[['NSE symbol','Company Name']], on='Company Name',how = 'left')\n",
    "df.to_excel('2021 Latest data all companies.xlsx',index=False)"
   ]
  },
  {
   "cell_type": "code",
   "execution_count": 11,
   "metadata": {},
   "outputs": [
    {
     "data": {
      "text/plain": [
       "{'Den Networks Ltd.',\n",
       " 'Dredging Corpn. Of India Ltd.',\n",
       " 'H D F C Life Insurance Co. Ltd.',\n",
       " 'I F C I Ltd.',\n",
       " 'India Tourism Devp. Corpn. Ltd.',\n",
       " 'M M T C Ltd.',\n",
       " 'P C Jeweller Ltd.',\n",
       " 'Rail Vikas Nigam Ltd.',\n",
       " 'Spicejet Ltd.',\n",
       " 'Tata Consultancy Services Ltd.'}"
      ]
     },
     "execution_count": 11,
     "metadata": {},
     "output_type": "execute_result"
    }
   ],
   "source": [
    "se1 = set(df2['Company Name'].unique())\n",
    "se2 = set(df1['Company Name'].unique())\n",
    "se1-se2"
   ]
  },
  {
   "cell_type": "code",
   "execution_count": 6,
   "metadata": {},
   "outputs": [],
   "source": [
    "df.columns = df.columns.str.replace(r'\\W+', '_', regex=True).str.replace(r'_+', '_', regex=True).str.strip('_').str.lower()"
   ]
  },
  {
   "cell_type": "code",
   "execution_count": 7,
   "metadata": {},
   "outputs": [
    {
     "name": "stdout",
     "output_type": "stream",
     "text": [
      "Connected to MySQL database\n"
     ]
    }
   ],
   "source": [
    "from sqlalchemy import create_engine\n",
    "import mysql.connector\n",
    "\n",
    "# Define your database connection parameters\n",
    "host = \"54.79.186.42\"\n",
    "user = \"root\"\n",
    "password = \"secondstorey\"\n",
    "database = \"salary_app\"\n",
    "\n",
    "# Establish a connection to the database\n",
    "connection = mysql.connector.connect(\n",
    "    host=host,\n",
    "    user=user,\n",
    "    password=password,\n",
    "    database=database\n",
    ")\n",
    "\n",
    "# Check if the connection was successful\n",
    "if connection.is_connected():\n",
    "    print(\"Connected to MySQL database\")\n",
    "\n",
    "# Close the connection when done\n",
    "# Define the SQLAlchemy connection string\n",
    "engine = create_engine(f\"mysql+mysqlconnector://{user}:{password}@{host}/{database}\")\n",
    "\n",
    "# Create the table in MySQL (if_exists='replace' will create the table if it doesn't exist)\n",
    "df.to_sql(name='companies_2021', con=engine, if_exists='replace', index=False)\n",
    "engine.dispose()"
   ]
  }
 ],
 "metadata": {
  "kernelspec": {
   "display_name": "Python 3",
   "language": "python",
   "name": "python3"
  },
  "language_info": {
   "codemirror_mode": {
    "name": "ipython",
    "version": 3
   },
   "file_extension": ".py",
   "mimetype": "text/x-python",
   "name": "python",
   "nbconvert_exporter": "python",
   "pygments_lexer": "ipython3",
   "version": "3.11.4"
  }
 },
 "nbformat": 4,
 "nbformat_minor": 2
}
