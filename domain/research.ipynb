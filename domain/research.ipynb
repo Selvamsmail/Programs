{
 "cells": [
  {
   "cell_type": "code",
   "execution_count": 2,
   "metadata": {},
   "outputs": [],
   "source": [
    "import pandas as pd"
   ]
  },
  {
   "cell_type": "code",
   "execution_count": 3,
   "metadata": {},
   "outputs": [],
   "source": [
    "df = pd.read_excel('Domain_Extract_20240318.xlsx')"
   ]
  },
  {
   "cell_type": "code",
   "execution_count": 4,
   "metadata": {},
   "outputs": [],
   "source": [
    "citydf = pd.read_excel('sub_city_latandlon.xlsx')"
   ]
  },
  {
   "cell_type": "code",
   "execution_count": 5,
   "metadata": {},
   "outputs": [],
   "source": [
    "regdf = pd.read_csv('reg.csv')"
   ]
  },
  {
   "cell_type": "code",
   "execution_count": 6,
   "metadata": {},
   "outputs": [],
   "source": [
    "df = pd.merge(df,citydf,left_on='suburb',right_on='domain_search_string',how='left')"
   ]
  },
  {
   "cell_type": "code",
   "execution_count": 7,
   "metadata": {},
   "outputs": [],
   "source": [
    "df = pd.merge(df,regdf,left_on=['postcode','state_x'],right_on=['Postcode','State'],how='left')"
   ]
  },
  {
   "cell_type": "code",
   "execution_count": 8,
   "metadata": {},
   "outputs": [],
   "source": [
    "df['Category'].fillna('Nanns',inplace=True)"
   ]
  },
  {
   "cell_type": "code",
   "execution_count": 9,
   "metadata": {},
   "outputs": [],
   "source": [
    "df['rental_yield'] = round((df['rental_median_price'] * 52 / df['median_price']) * 100,2)"
   ]
  },
  {
   "cell_type": "code",
   "execution_count": 10,
   "metadata": {},
   "outputs": [
    {
     "data": {
      "text/plain": [
       "3        9.63\n",
       "4        7.52\n",
       "5        7.22\n",
       "6        5.53\n",
       "13       6.74\n",
       "         ... \n",
       "25793    4.81\n",
       "25805    4.63\n",
       "25806    3.34\n",
       "25818    5.69\n",
       "25825    6.87\n",
       "Name: rental_yield, Length: 7641, dtype: float64"
      ]
     },
     "execution_count": 10,
     "metadata": {},
     "output_type": "execute_result"
    }
   ],
   "source": [
    "df[~df['rental_yield'].isna()]['rental_yield']"
   ]
  },
  {
   "cell_type": "code",
   "execution_count": 11,
   "metadata": {},
   "outputs": [],
   "source": [
    "df[(df['city'] == 'Sydney') & (df['type'] == 'House') & (df['median_price'] < 1800000) & (df['bedrooms'] >= 3)].sort_values(by=['median_price','rental_yield'],ascending=False).to_excel('top_suburbs_in_melbourne.xlsx',index=False)"
   ]
  },
  {
   "cell_type": "code",
   "execution_count": 12,
   "metadata": {},
   "outputs": [],
   "source": [
    "df[\n",
    "    (df['state_y'] != 'NT') &\n",
    "    (df['state_y'] != 'TAS') &\n",
    "    (df['type'] == 'House') &\n",
    "    # (df['median_price'] >= 500000) &\n",
    "    (df['median_price'] <= 600000) &\n",
    "    (df['bedrooms'] >= 3) &\n",
    "    (df['rental_yield'] >= 6) &\n",
    "    (df['Category'] == 'Nanns') \n",
    "].sort_values(by=['rental_yield','median_price'],ascending=False).to_excel('top_suburbs_in_all_states.xlsx',index=False)"
   ]
  },
  {
   "cell_type": "code",
   "execution_count": 7,
   "metadata": {},
   "outputs": [
    {
     "name": "stdout",
     "output_type": "stream",
     "text": [
      "{'road': 'Perth Avenue', 'suburb': 'Albion', 'city': 'Melbourne', 'municipality': 'City of Brimbank', 'state': 'Victoria', 'ISO3166-2-lvl4': 'AU-VIC', 'postcode': '3022', 'country': 'Australia', 'country_code': 'au'}\n",
      "{'road': 'Aitken Boulevard', 'suburb': 'Craigieburn', 'city': 'Melbourne', 'municipality': 'City of Hume', 'state': 'Victoria', 'ISO3166-2-lvl4': 'AU-VIC', 'postcode': '3064', 'country': 'Australia', 'country_code': 'au'}\n",
      "{'road': 'Station Road', 'suburb': 'Melton South', 'city': 'Melbourne', 'municipality': 'City of Melton', 'state': 'Victoria', 'ISO3166-2-lvl4': 'AU-VIC', 'postcode': '3338', 'country': 'Australia', 'country_code': 'au'}\n",
      "{'road': 'Vearings Road', 'residential': 'Rathdowne Estate', 'suburb': 'Wollert', 'city': 'Melbourne', 'municipality': 'City of Whittlesea', 'state': 'Victoria', 'ISO3166-2-lvl4': 'AU-VIC', 'postcode': '3750', 'country': 'Australia', 'country_code': 'au'}\n",
      "{'road': 'Murtoa Street', 'suburb': 'Dallas', 'city': 'Melbourne', 'municipality': 'City of Hume', 'state': 'Victoria', 'ISO3166-2-lvl4': 'AU-VIC', 'postcode': '3047', 'country': 'Australia', 'country_code': 'au'}\n",
      "{'road': 'Tarneit Road', 'residential': 'Tarneit Gardens', 'suburb': 'Tarneit', 'city': 'Melbourne', 'municipality': 'City of Wyndham', 'state': 'Victoria', 'ISO3166-2-lvl4': 'AU-VIC', 'postcode': '3029', 'country': 'Australia', 'country_code': 'au'}\n",
      "{'road': 'Overton Lea Boulevard', 'suburb': 'Sydenham', 'city': 'Melbourne', 'municipality': 'City of Brimbank', 'state': 'Victoria', 'ISO3166-2-lvl4': 'AU-VIC', 'postcode': '3037', 'country': 'Australia', 'country_code': 'au'}\n",
      "{'suburb': 'Pakenham', 'city': 'Melbourne', 'municipality': 'Shire of Cardinia', 'state': 'Victoria', 'ISO3166-2-lvl4': 'AU-VIC', 'country': 'Australia', 'country_code': 'au'}\n",
      "{'road': 'Goldminers Place', 'residential': 'Lyndarum Estate', 'suburb': 'Epping', 'city': 'Melbourne', 'municipality': 'City of Whittlesea', 'state': 'Victoria', 'ISO3166-2-lvl4': 'AU-VIC', 'postcode': '3076', 'country': 'Australia', 'country_code': 'au'}\n",
      "{'road': 'High Street', 'suburb': 'Cranbourne', 'city': 'Melbourne', 'municipality': 'City of Casey', 'state': 'Victoria', 'ISO3166-2-lvl4': 'AU-VIC', 'postcode': '3977', 'country': 'Australia', 'country_code': 'au'}\n",
      "{'road': 'Point Cook Road', 'suburb': 'Point Cook', 'city': 'Melbourne', 'municipality': 'City of Wyndham', 'state': 'Victoria', 'ISO3166-2-lvl4': 'AU-VIC', 'postcode': '3030', 'country': 'Australia', 'country_code': 'au'}\n",
      "{'road': 'Station Road', 'suburb': 'Deer Park', 'city': 'Melbourne', 'municipality': 'City of Brimbank', 'state': 'Victoria', 'ISO3166-2-lvl4': 'AU-VIC', 'postcode': '3022', 'country': 'Australia', 'country_code': 'au'}\n",
      "{'suburb': 'Werribee', 'city': 'Melbourne', 'municipality': 'City of Wyndham', 'state': 'Victoria', 'ISO3166-2-lvl4': 'AU-VIC', 'postcode': '3030', 'country': 'Australia', 'country_code': 'au'}\n",
      "{'suburb': 'Hoppers Crossing', 'city': 'Melbourne', 'municipality': 'City of Wyndham', 'state': 'Victoria', 'ISO3166-2-lvl4': 'AU-VIC', 'postcode': '3029', 'country': 'Australia', 'country_code': 'au'}\n",
      "{'road': 'Station Road', 'suburb': 'Melton South', 'city': 'Melbourne', 'municipality': 'City of Melton', 'state': 'Victoria', 'ISO3166-2-lvl4': 'AU-VIC', 'postcode': '3338', 'country': 'Australia', 'country_code': 'au'}\n",
      "{'road': 'Palmers Road', 'suburb': 'Truganina', 'city': 'Melbourne', 'municipality': 'City of Wyndham', 'state': 'Victoria', 'ISO3166-2-lvl4': 'AU-VIC', 'postcode': '3029', 'country': 'Australia', 'country_code': 'au'}\n",
      "{'suburb': 'Wyndham Vale', 'city': 'Melbourne', 'municipality': 'City of Wyndham', 'state': 'Victoria', 'ISO3166-2-lvl4': 'AU-VIC', 'postcode': '3024', 'country': 'Australia', 'country_code': 'au'}\n",
      "{'road': 'Palmerston Street', 'town': 'Melton', 'city': 'Melbourne', 'municipality': 'City of Melton', 'state': 'Victoria', 'ISO3166-2-lvl4': 'AU-VIC', 'postcode': '3337', 'country': 'Australia', 'country_code': 'au'}\n",
      "{'road': 'Victoria Avenue', 'residential': 'Victoria Grove', 'suburb': 'Kurunjang', 'city': 'Melbourne', 'municipality': 'City of Melton', 'state': 'Victoria', 'ISO3166-2-lvl4': 'AU-VIC', 'postcode': '3337', 'country': 'Australia', 'country_code': 'au'}\n",
      "{'residential': 'Cloverton', 'suburb': 'Kalkallo', 'city': 'Melbourne', 'municipality': 'City of Hume', 'state': 'Victoria', 'ISO3166-2-lvl4': 'AU-VIC', 'postcode': '3064', 'country': 'Australia', 'country_code': 'au'}\n"
     ]
    }
   ],
   "source": [
    "for i in df['adress']:\n",
    "    print(i)"
   ]
  }
 ],
 "metadata": {
  "kernelspec": {
   "display_name": "Python 3",
   "language": "python",
   "name": "python3"
  },
  "language_info": {
   "codemirror_mode": {
    "name": "ipython",
    "version": 3
   },
   "file_extension": ".py",
   "mimetype": "text/x-python",
   "name": "python",
   "nbconvert_exporter": "python",
   "pygments_lexer": "ipython3",
   "version": "3.11.4"
  }
 },
 "nbformat": 4,
 "nbformat_minor": 2
}
