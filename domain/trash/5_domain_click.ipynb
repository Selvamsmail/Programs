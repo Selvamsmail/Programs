{
  "cells": [
    {
      "cell_type": "code",
      "execution_count": 1,
      "metadata": {
        "id": "YReJQI7rbDKP"
      },
      "outputs": [],
      "source": [
        "import pandas as pd\n",
        "import gdown\n",
        "import re\n",
        "import requests\n",
        "from bs4 import BeautifulSoup\n",
        "import json\n",
        "import pandas as pd\n",
        "import os\n",
        "from selenium import webdriver\n",
        "from selenium.webdriver.common.by import By\n",
        "from selenium.webdriver.support.ui import WebDriverWait\n",
        "from selenium.webdriver.support import expected_conditions as EC\n",
        "import gc\n",
        "import time\n",
        "import pytz\n",
        "import datetime\n",
        "import logging\n",
        "from tqdm import tqdm\n",
        "import traceback"
      ]
    },
    {
      "cell_type": "code",
      "execution_count": 2,
      "metadata": {
        "colab": {
          "base_uri": "https://localhost:8080/"
        },
        "id": "wHjBfwkOuA-O",
        "outputId": "11d423d5-7a9a-4955-cc84-3015632eac11"
      },
      "outputs": [
        {
          "name": "stderr",
          "output_type": "stream",
          "text": [
            "Downloading...\n",
            "From: https://drive.google.com/uc?id=1DuT3nnIouLKuRFbGo5lqcQwKTTb5GM8r\n",
            "To: e:\\Programs\\domain\\suburbs.csv\n",
            "100%|██████████| 975k/975k [00:00<00:00, 4.61MB/s]\n"
          ]
        }
      ],
      "source": [
        "gdown.download(id = '1DuT3nnIouLKuRFbGo5lqcQwKTTb5GM8r')\n",
        "df = pd.read_csv('suburbs.csv')"
      ]
    },
    {
      "cell_type": "code",
      "execution_count": 3,
      "metadata": {
        "colab": {
          "base_uri": "https://localhost:8080/"
        },
        "id": "v0FaTNQRu-Su",
        "outputId": "21a2a922-0e7c-4f16-c12a-54932922ba18"
      },
      "outputs": [
        {
          "data": {
            "text/plain": [
              "(15879, 2)"
            ]
          },
          "execution_count": 3,
          "metadata": {},
          "output_type": "execute_result"
        }
      ],
      "source": [
        "df.shape"
      ]
    },
    {
      "cell_type": "code",
      "execution_count": 5,
      "metadata": {
        "id": "gerNcz0mTdZ0"
      },
      "outputs": [],
      "source": [
        "def driver_setup():# Assigning a Headless Firefox Driver\n",
        "  options = webdriver.FirefoxOptions()\n",
        "  options.binary_location = 'C:/Program Files/Mozilla Firefox/firefox.exe'  # Path to Chrome executable\n",
        "  options.add_argument('E:/Programs/geckodriver.exe')\n",
        "  options.add_argument('--headless')\n",
        "  options.add_argument('--no-sandbox')\n",
        "  options.add_argument('--disable-dev-shm-usage')\n",
        "  driver = webdriver.Firefox(options=options)\n",
        "  return driver\n",
        "\n",
        "def save_data_to_disk(data, filename):\n",
        "    if os.path.isfile(filename):\n",
        "        existing_df = pd.read_csv(filename)\n",
        "        data = pd.concat([existing_df, data], ignore_index=True)\n",
        "        os.remove(filename)\n",
        "        data.to_csv(filename,index=False)\n",
        "    else:\n",
        "        data.to_csv(filename, mode='w', header=True, index=False)\n",
        "\n",
        "log_filename = 'exemption_logs.txt'\n",
        "logging.basicConfig(level=logging.INFO, format='%(asctime)s - %(levelname)s - %(message)s')\n",
        "file_handler = logging.FileHandler(log_filename)\n",
        "file_handler.setLevel(logging.INFO)\n",
        "formatter = logging.Formatter('%(asctime)s - %(levelname)s - %(message)s')\n",
        "file_handler.setFormatter(formatter)\n",
        "logging.getLogger().addHandler(file_handler)"
      ]
    },
    {
      "cell_type": "code",
      "execution_count": 6,
      "metadata": {
        "colab": {
          "base_uri": "https://localhost:8080/",
          "height": 35
        },
        "id": "Yeyv5hc_rJi_",
        "outputId": "940d6367-3c51-4117-ab5a-2fa3d4f44740"
      },
      "outputs": [
        {
          "data": {
            "text/plain": [
              "'gibraltar-range-nsw-2370'"
            ]
          },
          "execution_count": 6,
          "metadata": {},
          "output_type": "execute_result"
        }
      ],
      "source": [
        "df['0'][1]"
      ]
    },
    {
      "cell_type": "code",
      "execution_count": 7,
      "metadata": {
        "id": "ixUqo31f24wr"
      },
      "outputs": [],
      "source": [
        "implicit_wait_time = 2\n",
        "explicit_wait_time = 2"
      ]
    },
    {
      "cell_type": "code",
      "execution_count": 8,
      "metadata": {
        "colab": {
          "base_uri": "https://localhost:8080/",
          "height": 363
        },
        "id": "Aejew2K7Qr6s",
        "outputId": "9336ddd9-fed4-4abd-93ce-216afa89ad42"
      },
      "outputs": [
        {
          "name": "stderr",
          "output_type": "stream",
          "text": [
            "Searching:   0%|          | 0/1058 [00:00<?, ?query/s]"
          ]
        },
        {
          "name": "stderr",
          "output_type": "stream",
          "text": [
            "2023-07-25 11:40:41,720 - WARNING - The version of firefox cannot be detected. Trying with latest driver version\n"
          ]
        },
        {
          "name": "stdout",
          "output_type": "stream",
          "text": [
            "Close\n",
            "Close\n",
            "Close\n",
            "Close\n",
            "Close\n",
            "Close\n",
            "Close\n"
          ]
        },
        {
          "name": "stderr",
          "output_type": "stream",
          "text": [
            "Searching:   0%|          | 2/1058 [00:37<5:32:48, 18.91s/query]2023-07-25 11:41:15,513 - WARNING - The version of firefox cannot be detected. Trying with latest driver version\n"
          ]
        },
        {
          "name": "stdout",
          "output_type": "stream",
          "text": [
            "Close\n",
            "Close\n"
          ]
        },
        {
          "name": "stderr",
          "output_type": "stream",
          "text": [
            "Searching:   0%|          | 3/1058 [01:34<10:06:09, 34.47s/query]2023-07-25 11:42:10,103 - WARNING - The version of firefox cannot be detected. Trying with latest driver version\n"
          ]
        },
        {
          "name": "stdout",
          "output_type": "stream",
          "text": [
            "Close\n",
            "Close\n",
            "Close\n",
            "Close\n"
          ]
        },
        {
          "name": "stderr",
          "output_type": "stream",
          "text": [
            "Searching:   0%|          | 4/1058 [02:20<11:24:42, 38.98s/query]2023-07-25 11:42:57,172 - WARNING - The version of firefox cannot be detected. Trying with latest driver version\n"
          ]
        },
        {
          "name": "stdout",
          "output_type": "stream",
          "text": [
            "Close\n",
            "Close\n",
            "Close\n",
            "Close\n",
            "Close\n"
          ]
        },
        {
          "name": "stderr",
          "output_type": "stream",
          "text": [
            "Searching:   0%|          | 5/1058 [03:17<13:12:47, 45.17s/query]2023-07-25 11:43:53,956 - WARNING - The version of firefox cannot be detected. Trying with latest driver version\n",
            "Searching:   1%|          | 6/1058 [04:26<15:31:22, 53.12s/query]2023-07-25 11:45:03,205 - WARNING - The version of firefox cannot be detected. Trying with latest driver version\n"
          ]
        },
        {
          "name": "stdout",
          "output_type": "stream",
          "text": [
            "Close\n",
            "Close\n",
            "Close\n"
          ]
        },
        {
          "name": "stderr",
          "output_type": "stream",
          "text": [
            "Searching:   1%|          | 7/1058 [04:58<13:31:32, 46.33s/query]2023-07-25 11:45:35,545 - WARNING - The version of firefox cannot be detected. Trying with latest driver version\n"
          ]
        },
        {
          "name": "stdout",
          "output_type": "stream",
          "text": [
            "Close\n",
            "Close\n",
            "Close\n",
            "Close\n"
          ]
        },
        {
          "name": "stderr",
          "output_type": "stream",
          "text": [
            "Searching:   1%|          | 8/1058 [05:27<11:53:14, 40.76s/query]2023-07-25 11:46:04,295 - WARNING - The version of firefox cannot be detected. Trying with latest driver version\n",
            "Searching:   1%|          | 9/1058 [06:10<12:05:39, 41.51s/query]2023-07-25 11:46:46,900 - WARNING - The version of firefox cannot be detected. Trying with latest driver version\n"
          ]
        },
        {
          "name": "stdout",
          "output_type": "stream",
          "text": [
            "Close\n",
            "Close\n",
            "Close\n",
            "Close\n",
            "Close\n",
            "Close\n"
          ]
        },
        {
          "name": "stderr",
          "output_type": "stream",
          "text": [
            "Searching:   1%|          | 10/1058 [06:42<11:13:59, 38.59s/query]2023-07-25 11:47:18,631 - WARNING - The version of firefox cannot be detected. Trying with latest driver version\n",
            "Searching:   1%|          | 11/1058 [07:29<12:00:28, 41.29s/query]2023-07-25 11:48:05,941 - WARNING - The version of firefox cannot be detected. Trying with latest driver version\n",
            "Searching:   1%|          | 12/1058 [07:50<10:11:14, 35.06s/query]2023-07-25 11:48:27,422 - WARNING - The version of firefox cannot be detected. Trying with latest driver version\n",
            "Searching:   1%|          | 13/1058 [08:42<11:39:01, 40.14s/query]2023-07-25 11:49:21,186 - WARNING - The version of firefox cannot be detected. Trying with latest driver version\n",
            "Searching:   1%|▏         | 14/1058 [09:49<13:59:35, 48.25s/query]2023-07-25 11:50:26,075 - WARNING - The version of firefox cannot be detected. Trying with latest driver version\n"
          ]
        },
        {
          "name": "stdout",
          "output_type": "stream",
          "text": [
            "Close\n"
          ]
        },
        {
          "name": "stderr",
          "output_type": "stream",
          "text": [
            "Searching:   1%|▏         | 15/1058 [10:16<12:09:56, 41.99s/query]2023-07-25 11:50:53,308 - WARNING - The version of firefox cannot be detected. Trying with latest driver version\n"
          ]
        },
        {
          "name": "stdout",
          "output_type": "stream",
          "text": [
            "Close\n"
          ]
        },
        {
          "name": "stderr",
          "output_type": "stream",
          "text": [
            "Searching:   2%|▏         | 16/1058 [10:42<10:41:06, 36.92s/query]2023-07-25 11:51:18,023 - WARNING - The version of firefox cannot be detected. Trying with latest driver version\n",
            "Searching:   2%|▏         | 17/1058 [11:02<9:15:09, 32.00s/query] 2023-07-25 11:51:40,098 - WARNING - The version of firefox cannot be detected. Trying with latest driver version\n",
            "Searching:   2%|▏         | 18/1058 [12:02<11:41:49, 40.49s/query]2023-07-25 11:52:40,228 - WARNING - The version of firefox cannot be detected. Trying with latest driver version\n"
          ]
        },
        {
          "name": "stdout",
          "output_type": "stream",
          "text": [
            "Close\n",
            "Close\n"
          ]
        },
        {
          "name": "stderr",
          "output_type": "stream",
          "text": [
            "Searching:   2%|▏         | 19/1058 [12:44<11:46:40, 40.81s/query]2023-07-25 11:53:20,489 - WARNING - The version of firefox cannot be detected. Trying with latest driver version\n",
            "Searching:   2%|▏         | 20/1058 [13:07<10:16:26, 35.63s/query]2023-07-25 11:53:44,503 - WARNING - The version of firefox cannot be detected. Trying with latest driver version\n",
            "Searching:   2%|▏         | 21/1058 [13:41<10:05:43, 35.05s/query]2023-07-25 11:54:17,707 - WARNING - The version of firefox cannot be detected. Trying with latest driver version\n"
          ]
        },
        {
          "name": "stdout",
          "output_type": "stream",
          "text": [
            "Close\n",
            "Close\n",
            "Close\n"
          ]
        },
        {
          "name": "stderr",
          "output_type": "stream",
          "text": [
            "Searching:   2%|▏         | 22/1058 [14:18<10:14:57, 35.62s/query]2023-07-25 11:54:55,121 - WARNING - The version of firefox cannot be detected. Trying with latest driver version\n"
          ]
        },
        {
          "name": "stdout",
          "output_type": "stream",
          "text": [
            "Close\n",
            "Close\n",
            "Close\n",
            "Close\n",
            "Close\n",
            "Close\n"
          ]
        },
        {
          "name": "stderr",
          "output_type": "stream",
          "text": [
            "Searching:   2%|▏         | 23/1058 [14:52<10:05:19, 35.09s/query]2023-07-25 11:55:28,700 - WARNING - The version of firefox cannot be detected. Trying with latest driver version\n",
            "Searching:   2%|▏         | 24/1058 [15:16<9:08:18, 31.82s/query] 2023-07-25 11:55:53,083 - WARNING - The version of firefox cannot be detected. Trying with latest driver version\n"
          ]
        },
        {
          "name": "stdout",
          "output_type": "stream",
          "text": [
            "Close\n",
            "Close\n",
            "Close\n",
            "Close\n",
            "Close\n",
            "Close\n",
            "Close\n"
          ]
        },
        {
          "name": "stderr",
          "output_type": "stream",
          "text": [
            "Searching:   2%|▏         | 25/1058 [16:13<11:15:40, 39.25s/query]2023-07-25 11:56:49,605 - WARNING - The version of firefox cannot be detected. Trying with latest driver version\n",
            "Searching:   2%|▏         | 26/1058 [17:37<15:06:56, 52.73s/query]2023-07-25 11:58:16,126 - WARNING - The version of firefox cannot be detected. Trying with latest driver version\n",
            "Searching:   3%|▎         | 27/1058 [18:06<13:02:35, 45.54s/query]2023-07-25 11:58:42,851 - WARNING - The version of firefox cannot be detected. Trying with latest driver version\n",
            "Searching:   3%|▎         | 28/1058 [18:38<11:54:16, 41.61s/query]2023-07-25 11:59:16,910 - WARNING - The version of firefox cannot be detected. Trying with latest driver version\n"
          ]
        },
        {
          "name": "stdout",
          "output_type": "stream",
          "text": [
            "Close\n",
            "Close\n",
            "Close\n",
            "Close\n"
          ]
        },
        {
          "name": "stderr",
          "output_type": "stream",
          "text": [
            "Searching:   3%|▎         | 29/1058 [19:20<11:53:28, 41.60s/query]2023-07-25 11:59:56,606 - WARNING - The version of firefox cannot be detected. Trying with latest driver version\n",
            "Searching:   3%|▎         | 30/1058 [19:45<10:31:08, 36.84s/query]2023-07-25 12:00:23,363 - WARNING - The version of firefox cannot be detected. Trying with latest driver version\n"
          ]
        },
        {
          "name": "stdout",
          "output_type": "stream",
          "text": [
            "Close\n",
            "Close\n",
            "Close\n",
            "Close\n",
            "Close\n",
            "Close\n",
            "Close\n"
          ]
        },
        {
          "name": "stderr",
          "output_type": "stream",
          "text": [
            "Searching:   3%|▎         | 31/1058 [20:31<11:16:09, 39.50s/query]2023-07-25 12:01:07,707 - WARNING - The version of firefox cannot be detected. Trying with latest driver version\n"
          ]
        },
        {
          "name": "stdout",
          "output_type": "stream",
          "text": [
            "Close\n",
            "Close\n"
          ]
        },
        {
          "name": "stderr",
          "output_type": "stream",
          "text": [
            "Searching:   3%|▎         | 32/1058 [21:05<10:48:33, 37.93s/query]2023-07-25 12:01:43,053 - WARNING - The version of firefox cannot be detected. Trying with latest driver version\n"
          ]
        },
        {
          "name": "stdout",
          "output_type": "stream",
          "text": [
            "Close\n",
            "Close\n",
            "Close\n"
          ]
        },
        {
          "name": "stderr",
          "output_type": "stream",
          "text": [
            "Searching:   3%|▎         | 33/1058 [21:38<10:22:16, 36.43s/query]2023-07-25 12:02:14,851 - WARNING - The version of firefox cannot be detected. Trying with latest driver version\n",
            "Searching:   3%|▎         | 34/1058 [22:08<9:47:15, 34.41s/query] 2023-07-25 12:02:45,580 - WARNING - The version of firefox cannot be detected. Trying with latest driver version\n"
          ]
        },
        {
          "name": "stdout",
          "output_type": "stream",
          "text": [
            "Close\n",
            "Close\n",
            "Close\n",
            "Close\n",
            "Close\n",
            "Close\n"
          ]
        },
        {
          "name": "stderr",
          "output_type": "stream",
          "text": [
            "Searching:   3%|▎         | 35/1058 [22:45<10:00:10, 35.20s/query]2023-07-25 12:03:22,431 - WARNING - The version of firefox cannot be detected. Trying with latest driver version\n",
            "Searching:   3%|▎         | 36/1058 [23:14<9:26:24, 33.25s/query] 2023-07-25 12:03:50,798 - WARNING - The version of firefox cannot be detected. Trying with latest driver version\n"
          ]
        },
        {
          "name": "stdout",
          "output_type": "stream",
          "text": [
            "Close\n",
            "Close\n",
            "Close\n",
            "Close\n"
          ]
        },
        {
          "name": "stderr",
          "output_type": "stream",
          "text": [
            "Searching:   3%|▎         | 37/1058 [23:48<9:30:29, 33.53s/query]2023-07-25 12:04:24,756 - WARNING - The version of firefox cannot be detected. Trying with latest driver version\n"
          ]
        },
        {
          "name": "stdout",
          "output_type": "stream",
          "text": [
            "Close\n",
            "Close\n",
            "Close\n"
          ]
        },
        {
          "name": "stderr",
          "output_type": "stream",
          "text": [
            "Searching:   4%|▎         | 38/1058 [24:28<10:02:26, 35.44s/query]2023-07-25 12:05:06,193 - WARNING - The version of firefox cannot be detected. Trying with latest driver version\n",
            "Searching:   4%|▎         | 39/1058 [24:57<9:31:48, 33.67s/query] 2023-07-25 12:05:34,482 - WARNING - The version of firefox cannot be detected. Trying with latest driver version\n",
            "Searching:   4%|▍         | 40/1058 [25:37<9:59:44, 35.35s/query]2023-07-25 12:06:14,345 - WARNING - The version of firefox cannot be detected. Trying with latest driver version\n",
            "Searching:   4%|▍         | 41/1058 [26:12<9:57:16, 35.24s/query]2023-07-25 12:06:48,658 - WARNING - The version of firefox cannot be detected. Trying with latest driver version\n"
          ]
        },
        {
          "name": "stdout",
          "output_type": "stream",
          "text": [
            "Close\n",
            "Close\n",
            "Close\n"
          ]
        },
        {
          "name": "stderr",
          "output_type": "stream",
          "text": [
            "Searching:   4%|▍         | 42/1058 [26:51<10:19:38, 36.59s/query]2023-07-25 12:07:28,140 - WARNING - The version of firefox cannot be detected. Trying with latest driver version\n",
            "Searching:   4%|▍         | 43/1058 [27:20<9:37:28, 34.14s/query] 2023-07-25 12:07:56,439 - WARNING - The version of firefox cannot be detected. Trying with latest driver version\n",
            "Searching:   4%|▍         | 44/1058 [27:55<9:43:32, 34.53s/query]2023-07-25 12:08:33,930 - WARNING - The version of firefox cannot be detected. Trying with latest driver version\n",
            "Searching:   4%|▍         | 45/1058 [28:32<9:56:36, 35.34s/query]2023-07-25 12:09:08,953 - WARNING - The version of firefox cannot be detected. Trying with latest driver version\n",
            "Searching:   4%|▍         | 46/1058 [29:12<10:15:54, 36.52s/query]2023-07-25 12:09:48,918 - WARNING - The version of firefox cannot be detected. Trying with latest driver version\n",
            "Searching:   4%|▍         | 47/1058 [30:20<12:53:35, 45.91s/query]2023-07-25 12:10:57,558 - WARNING - The version of firefox cannot be detected. Trying with latest driver version\n",
            "Searching:   5%|▍         | 48/1058 [30:58<12:13:54, 43.60s/query]2023-07-25 12:11:35,470 - WARNING - The version of firefox cannot be detected. Trying with latest driver version\n"
          ]
        },
        {
          "name": "stdout",
          "output_type": "stream",
          "text": [
            "Close\n",
            "Close\n",
            "Close\n",
            "Close\n"
          ]
        },
        {
          "name": "stderr",
          "output_type": "stream",
          "text": [
            "Searching:   5%|▍         | 49/1058 [31:40<12:07:05, 43.24s/query]2023-07-25 12:12:16,894 - WARNING - The version of firefox cannot be detected. Trying with latest driver version\n"
          ]
        },
        {
          "name": "stdout",
          "output_type": "stream",
          "text": [
            "Close\n",
            "Close\n",
            "Close\n"
          ]
        },
        {
          "name": "stderr",
          "output_type": "stream",
          "text": [
            "Searching:   5%|▍         | 50/1058 [32:22<11:58:14, 42.75s/query]2023-07-25 12:12:58,529 - WARNING - The version of firefox cannot be detected. Trying with latest driver version\n"
          ]
        },
        {
          "name": "stdout",
          "output_type": "stream",
          "text": [
            "Close\n"
          ]
        },
        {
          "name": "stderr",
          "output_type": "stream",
          "text": [
            "Searching:   5%|▍         | 51/1058 [33:03<11:49:25, 42.27s/query]2023-07-25 12:13:39,960 - WARNING - The version of firefox cannot be detected. Trying with latest driver version\n",
            "Searching:   5%|▍         | 52/1058 [33:42<11:31:43, 41.26s/query]2023-07-25 12:14:20,544 - WARNING - The version of firefox cannot be detected. Trying with latest driver version\n"
          ]
        },
        {
          "name": "stdout",
          "output_type": "stream",
          "text": [
            "Close\n"
          ]
        },
        {
          "name": "stderr",
          "output_type": "stream",
          "text": [
            "Searching:   5%|▌         | 53/1058 [34:22<11:24:41, 40.88s/query]2023-07-25 12:14:59,525 - WARNING - The version of firefox cannot be detected. Trying with latest driver version\n",
            "Searching:   5%|▌         | 54/1058 [34:51<10:25:09, 37.36s/query]2023-07-25 12:15:30,855 - WARNING - The version of firefox cannot be detected. Trying with latest driver version\n",
            "Searching:   5%|▌         | 55/1058 [35:26<10:11:04, 36.56s/query]2023-07-25 12:16:03,335 - WARNING - The version of firefox cannot be detected. Trying with latest driver version\n"
          ]
        },
        {
          "name": "stdout",
          "output_type": "stream",
          "text": [
            "Close\n",
            "Close\n",
            "Close\n"
          ]
        },
        {
          "name": "stderr",
          "output_type": "stream",
          "text": [
            "Searching:   5%|▌         | 56/1058 [36:06<10:30:52, 37.78s/query]2023-07-25 12:16:43,317 - WARNING - The version of firefox cannot be detected. Trying with latest driver version\n"
          ]
        },
        {
          "name": "stdout",
          "output_type": "stream",
          "text": [
            "Close\n",
            "Close\n",
            "Close\n",
            "Close\n",
            "Close\n",
            "Close\n",
            "Close\n"
          ]
        },
        {
          "name": "stderr",
          "output_type": "stream",
          "text": [
            "Searching:   5%|▌         | 57/1058 [36:53<11:15:58, 40.52s/query]2023-07-25 12:17:31,217 - WARNING - The version of firefox cannot be detected. Trying with latest driver version\n",
            "Searching:   5%|▌         | 58/1058 [37:19<10:03:16, 36.20s/query]2023-07-25 12:17:56,459 - WARNING - The version of firefox cannot be detected. Trying with latest driver version\n"
          ]
        },
        {
          "name": "stdout",
          "output_type": "stream",
          "text": [
            "Close\n",
            "Close\n",
            "Close\n"
          ]
        },
        {
          "name": "stderr",
          "output_type": "stream",
          "text": [
            "Searching:   6%|▌         | 59/1058 [37:53<9:48:05, 35.32s/query] 2023-07-25 12:18:29,940 - WARNING - The version of firefox cannot be detected. Trying with latest driver version\n",
            "Searching:   6%|▌         | 60/1058 [38:21<9:10:46, 33.11s/query]2023-07-25 12:18:57,444 - WARNING - The version of firefox cannot be detected. Trying with latest driver version\n",
            "Searching:   6%|▌         | 61/1058 [38:54<9:12:17, 33.24s/query]2023-07-25 12:19:30,549 - WARNING - The version of firefox cannot be detected. Trying with latest driver version\n",
            "Searching:   6%|▌         | 62/1058 [39:33<9:39:47, 34.93s/query]2023-07-25 12:20:10,406 - WARNING - The version of firefox cannot be detected. Trying with latest driver version\n",
            "Searching:   6%|▌         | 63/1058 [40:16<10:20:07, 37.39s/query]2023-07-25 12:20:54,717 - WARNING - The version of firefox cannot be detected. Trying with latest driver version\n",
            "Searching:   6%|▌         | 64/1058 [40:51<10:08:07, 36.71s/query]2023-07-25 12:21:28,183 - WARNING - The version of firefox cannot be detected. Trying with latest driver version\n",
            "Searching:   6%|▌         | 65/1058 [41:24<9:48:16, 35.55s/query] 2023-07-25 12:22:01,031 - WARNING - The version of firefox cannot be detected. Trying with latest driver version\n",
            "Searching:   6%|▌         | 66/1058 [42:00<9:48:10, 35.58s/query]2023-07-25 12:22:36,763 - WARNING - The version of firefox cannot be detected. Trying with latest driver version\n",
            "Searching:   6%|▋         | 67/1058 [43:13<12:55:47, 46.97s/query]2023-07-25 12:23:50,131 - WARNING - The version of firefox cannot be detected. Trying with latest driver version\n"
          ]
        },
        {
          "name": "stdout",
          "output_type": "stream",
          "text": [
            "Close\n",
            "Close\n",
            "Close\n",
            "Close\n"
          ]
        },
        {
          "name": "stderr",
          "output_type": "stream",
          "text": [
            "Searching:   6%|▋         | 68/1058 [43:54<12:26:53, 45.27s/query]2023-07-25 12:24:32,926 - WARNING - The version of firefox cannot be detected. Trying with latest driver version\n",
            "Searching:   7%|▋         | 69/1058 [44:26<11:18:27, 41.16s/query]2023-07-25 12:25:02,548 - WARNING - The version of firefox cannot be detected. Trying with latest driver version\n"
          ]
        },
        {
          "name": "stdout",
          "output_type": "stream",
          "text": [
            "Close\n",
            "Close\n",
            "Close\n",
            "Close\n",
            "Close\n"
          ]
        },
        {
          "name": "stderr",
          "output_type": "stream",
          "text": [
            "Searching:   7%|▋         | 70/1058 [45:16<12:01:14, 43.80s/query]2023-07-25 12:25:52,601 - WARNING - The version of firefox cannot be detected. Trying with latest driver version\n"
          ]
        },
        {
          "name": "stdout",
          "output_type": "stream",
          "text": [
            "Close\n",
            "Close\n",
            "Close\n",
            "Close\n",
            "Close\n",
            "Close\n",
            "Close\n"
          ]
        },
        {
          "name": "stderr",
          "output_type": "stream",
          "text": [
            "Searching:   7%|▋         | 71/1058 [46:13<13:07:35, 47.88s/query]2023-07-25 12:26:50,053 - WARNING - The version of firefox cannot be detected. Trying with latest driver version\n"
          ]
        },
        {
          "name": "stdout",
          "output_type": "stream",
          "text": [
            "Close\n",
            "Close\n",
            "Close\n"
          ]
        },
        {
          "name": "stderr",
          "output_type": "stream",
          "text": [
            "Searching:   7%|▋         | 72/1058 [46:52<12:18:49, 44.96s/query]2023-07-25 12:27:28,852 - WARNING - The version of firefox cannot be detected. Trying with latest driver version\n",
            "Searching:   7%|▋         | 73/1058 [47:26<11:26:07, 41.79s/query]2023-07-25 12:28:05,888 - WARNING - The version of firefox cannot be detected. Trying with latest driver version\n",
            "Searching:   7%|▋         | 74/1058 [48:14<11:57:56, 43.78s/query]2023-07-25 12:28:51,847 - WARNING - The version of firefox cannot be detected. Trying with latest driver version\n"
          ]
        },
        {
          "name": "stdout",
          "output_type": "stream",
          "text": [
            "Close\n",
            "Close\n",
            "Close\n",
            "Close\n",
            "Close\n",
            "Close\n",
            "Close\n"
          ]
        },
        {
          "name": "stderr",
          "output_type": "stream",
          "text": [
            "Searching:   7%|▋         | 75/1058 [49:08<12:45:28, 46.72s/query]2023-07-25 12:29:47,778 - WARNING - The version of firefox cannot be detected. Trying with latest driver version\n"
          ]
        },
        {
          "name": "stdout",
          "output_type": "stream",
          "text": [
            "Close\n",
            "Close\n",
            "Close\n",
            "Close\n",
            "Close\n",
            "Close\n",
            "Close\n"
          ]
        },
        {
          "name": "stderr",
          "output_type": "stream",
          "text": [
            "Searching:   7%|▋         | 76/1058 [50:03<13:27:24, 49.33s/query]2023-07-25 12:30:40,984 - WARNING - The version of firefox cannot be detected. Trying with latest driver version\n"
          ]
        },
        {
          "name": "stdout",
          "output_type": "stream",
          "text": [
            "Close\n",
            "Close\n",
            "Close\n",
            "Close\n",
            "Close\n",
            "Close\n",
            "Close\n"
          ]
        },
        {
          "name": "stderr",
          "output_type": "stream",
          "text": [
            "Searching:   7%|▋         | 77/1058 [50:47<13:00:18, 47.72s/query]2023-07-25 12:31:24,609 - WARNING - The version of firefox cannot be detected. Trying with latest driver version\n",
            "Searching:   7%|▋         | 78/1058 [51:18<11:37:45, 42.72s/query]2023-07-25 12:31:56,179 - WARNING - The version of firefox cannot be detected. Trying with latest driver version\n",
            "Searching:   7%|▋         | 79/1058 [51:54<11:03:08, 40.64s/query]2023-07-25 12:32:31,304 - WARNING - The version of firefox cannot be detected. Trying with latest driver version\n",
            "Searching:   8%|▊         | 80/1058 [52:24<10:11:15, 37.50s/query]2023-07-25 12:33:01,120 - WARNING - The version of firefox cannot be detected. Trying with latest driver version\n"
          ]
        },
        {
          "name": "stdout",
          "output_type": "stream",
          "text": [
            "Close\n",
            "Close\n",
            "Close\n",
            "Close\n",
            "Close\n"
          ]
        },
        {
          "name": "stderr",
          "output_type": "stream",
          "text": [
            "Searching:   8%|▊         | 81/1058 [53:02<10:13:25, 37.67s/query]2023-07-25 12:33:39,403 - WARNING - The version of firefox cannot be detected. Trying with latest driver version\n"
          ]
        },
        {
          "name": "stdout",
          "output_type": "stream",
          "text": [
            "Close\n"
          ]
        },
        {
          "name": "stderr",
          "output_type": "stream",
          "text": [
            "Searching:   8%|▊         | 82/1058 [53:36<9:52:54, 36.45s/query] 2023-07-25 12:34:12,745 - WARNING - The version of firefox cannot be detected. Trying with latest driver version\n"
          ]
        },
        {
          "name": "stdout",
          "output_type": "stream",
          "text": [
            "Close\n",
            "Close\n",
            "Close\n",
            "Close\n",
            "Close\n"
          ]
        },
        {
          "name": "stderr",
          "output_type": "stream",
          "text": [
            "Searching:   8%|▊         | 83/1058 [54:16<10:08:53, 37.47s/query]2023-07-25 12:34:53,711 - WARNING - The version of firefox cannot be detected. Trying with latest driver version\n",
            "Searching:   8%|▊         | 84/1058 [54:47<9:37:58, 35.60s/query] 2023-07-25 12:35:24,293 - WARNING - The version of firefox cannot be detected. Trying with latest driver version\n"
          ]
        },
        {
          "name": "stdout",
          "output_type": "stream",
          "text": [
            "Close\n",
            "Close\n",
            "Close\n",
            "Close\n",
            "Close\n",
            "Close\n"
          ]
        },
        {
          "name": "stderr",
          "output_type": "stream",
          "text": [
            "Searching:   8%|▊         | 85/1058 [55:24<9:41:24, 35.85s/query]2023-07-25 12:36:02,106 - WARNING - The version of firefox cannot be detected. Trying with latest driver version\n",
            "Searching:   8%|▊         | 86/1058 [55:54<9:16:11, 34.33s/query]2023-07-25 12:36:30,902 - WARNING - The version of firefox cannot be detected. Trying with latest driver version\n"
          ]
        },
        {
          "name": "stdout",
          "output_type": "stream",
          "text": [
            "Close\n",
            "Close\n",
            "Close\n",
            "Close\n"
          ]
        },
        {
          "name": "stderr",
          "output_type": "stream",
          "text": [
            "Searching:   8%|▊         | 87/1058 [56:35<9:45:19, 36.17s/query]2023-07-25 12:37:13,333 - WARNING - The version of firefox cannot be detected. Trying with latest driver version\n"
          ]
        },
        {
          "name": "stdout",
          "output_type": "stream",
          "text": [
            "Close\n",
            "Close\n"
          ]
        },
        {
          "name": "stderr",
          "output_type": "stream",
          "text": [
            "Searching:   8%|▊         | 88/1058 [57:13<9:55:38, 36.84s/query]2023-07-25 12:37:50,151 - WARNING - The version of firefox cannot be detected. Trying with latest driver version\n"
          ]
        },
        {
          "name": "stdout",
          "output_type": "stream",
          "text": [
            "Close\n",
            "Close\n"
          ]
        },
        {
          "name": "stderr",
          "output_type": "stream",
          "text": [
            "Searching:   8%|▊         | 89/1058 [57:50<9:55:07, 36.85s/query]2023-07-25 12:38:26,945 - WARNING - The version of firefox cannot be detected. Trying with latest driver version\n",
            "Searching:   9%|▊         | 90/1058 [58:51<11:52:58, 44.19s/query]2023-07-25 12:39:28,860 - WARNING - The version of firefox cannot be detected. Trying with latest driver version\n",
            "Searching:   9%|▊         | 91/1058 [59:29<11:18:01, 42.07s/query]2023-07-25 12:40:06,104 - WARNING - The version of firefox cannot be detected. Trying with latest driver version\n"
          ]
        },
        {
          "name": "stdout",
          "output_type": "stream",
          "text": [
            "Close\n",
            "Close\n",
            "Close\n",
            "Close\n",
            "Close\n",
            "Close\n",
            "Close\n"
          ]
        },
        {
          "name": "stderr",
          "output_type": "stream",
          "text": [
            "Searching:   9%|▊         | 92/1058 [1:00:21<12:08:58, 45.28s/query]2023-07-25 12:41:02,256 - WARNING - The version of firefox cannot be detected. Trying with latest driver version\n",
            "Searching:   9%|▉         | 93/1058 [1:01:20<13:10:36, 49.16s/query]2023-07-25 12:41:56,283 - WARNING - The version of firefox cannot be detected. Trying with latest driver version\n"
          ]
        },
        {
          "name": "stdout",
          "output_type": "stream",
          "text": [
            "Close\n"
          ]
        },
        {
          "name": "stderr",
          "output_type": "stream",
          "text": [
            "Searching:   9%|▉         | 94/1058 [1:01:58<12:16:15, 45.83s/query]2023-07-25 12:42:34,094 - WARNING - The version of firefox cannot be detected. Trying with latest driver version\n",
            "Searching:   9%|▉         | 95/1058 [1:02:28<11:03:07, 41.32s/query]2023-07-25 12:43:05,440 - WARNING - The version of firefox cannot be detected. Trying with latest driver version\n",
            "Searching:   9%|▉         | 96/1058 [1:03:24<12:12:48, 45.70s/query]2023-07-25 12:44:06,839 - WARNING - The version of firefox cannot be detected. Trying with latest driver version\n"
          ]
        },
        {
          "name": "stdout",
          "output_type": "stream",
          "text": [
            "Close\n"
          ]
        },
        {
          "name": "stderr",
          "output_type": "stream",
          "text": [
            "Searching:   9%|▉         | 97/1058 [1:04:07<11:57:31, 44.80s/query]2023-07-25 12:44:43,496 - WARNING - The version of firefox cannot be detected. Trying with latest driver version\n",
            "Searching:   9%|▉         | 98/1058 [1:04:43<11:13:36, 42.10s/query]2023-07-25 12:45:21,514 - WARNING - The version of firefox cannot be detected. Trying with latest driver version\n",
            "Searching:   9%|▉         | 99/1058 [1:05:26<11:17:19, 42.38s/query]2023-07-25 12:46:02,359 - WARNING - The version of firefox cannot be detected. Trying with latest driver version\n"
          ]
        },
        {
          "name": "stdout",
          "output_type": "stream",
          "text": [
            "Close\n",
            "Close\n",
            "Close\n"
          ]
        },
        {
          "name": "stderr",
          "output_type": "stream",
          "text": [
            "Searching:   9%|▉         | 100/1058 [1:06:09<11:20:27, 42.62s/query]2023-07-25 12:46:46,414 - WARNING - The version of firefox cannot be detected. Trying with latest driver version\n",
            "Searching:  10%|▉         | 101/1058 [1:06:39<10:19:27, 38.84s/query]2023-07-25 12:47:16,324 - WARNING - The version of firefox cannot be detected. Trying with latest driver version\n"
          ]
        },
        {
          "name": "stdout",
          "output_type": "stream",
          "text": [
            "Close\n",
            "Close\n",
            "Close\n",
            "Close\n",
            "Close\n",
            "Close\n",
            "Close\n"
          ]
        },
        {
          "name": "stderr",
          "output_type": "stream",
          "text": [
            "Searching:  10%|▉         | 102/1058 [1:07:23<10:45:42, 40.53s/query]2023-07-25 12:48:02,226 - WARNING - The version of firefox cannot be detected. Trying with latest driver version\n",
            "Searching:  10%|▉         | 103/1058 [1:07:54<9:56:56, 37.50s/query] 2023-07-25 12:48:30,610 - WARNING - The version of firefox cannot be detected. Trying with latest driver version\n"
          ]
        },
        {
          "name": "stdout",
          "output_type": "stream",
          "text": [
            "Close\n",
            "Close\n"
          ]
        },
        {
          "name": "stderr",
          "output_type": "stream",
          "text": [
            "Searching:  10%|▉         | 104/1058 [1:08:41<10:40:47, 40.30s/query]2023-07-25 12:49:18,686 - WARNING - The version of firefox cannot be detected. Trying with latest driver version\n"
          ]
        },
        {
          "name": "stdout",
          "output_type": "stream",
          "text": [
            "Close\n"
          ]
        },
        {
          "name": "stderr",
          "output_type": "stream",
          "text": [
            "Searching:  10%|▉         | 105/1058 [1:09:21<10:39:23, 40.26s/query]2023-07-25 12:49:57,745 - WARNING - The version of firefox cannot be detected. Trying with latest driver version\n"
          ]
        },
        {
          "name": "stdout",
          "output_type": "stream",
          "text": [
            "Close\n",
            "Close\n",
            "Close\n",
            "Close\n"
          ]
        },
        {
          "name": "stderr",
          "output_type": "stream",
          "text": [
            "Searching:  10%|█         | 106/1058 [1:09:59<10:29:57, 39.70s/query]2023-07-25 12:50:37,233 - WARNING - The version of firefox cannot be detected. Trying with latest driver version\n",
            "Searching:  10%|█         | 107/1058 [1:11:03<12:24:12, 46.95s/query]2023-07-25 12:51:40,644 - WARNING - The version of firefox cannot be detected. Trying with latest driver version\n",
            "Searching:  10%|█         | 108/1058 [1:11:39<11:30:07, 43.59s/query]2023-07-25 12:52:16,711 - WARNING - The version of firefox cannot be detected. Trying with latest driver version\n"
          ]
        },
        {
          "name": "stdout",
          "output_type": "stream",
          "text": [
            "Close\n",
            "Close\n",
            "Close\n"
          ]
        },
        {
          "name": "stderr",
          "output_type": "stream",
          "text": [
            "Searching:  10%|█         | 109/1058 [1:12:25<11:42:35, 44.42s/query]2023-07-25 12:53:03,430 - WARNING - The version of firefox cannot be detected. Trying with latest driver version\n"
          ]
        },
        {
          "name": "stdout",
          "output_type": "stream",
          "text": [
            "Close\n",
            "Close\n",
            "Close\n",
            "Close\n"
          ]
        },
        {
          "name": "stderr",
          "output_type": "stream",
          "text": [
            "Searching:  10%|█         | 110/1058 [1:13:08<11:34:27, 43.95s/query]2023-07-25 12:53:45,662 - WARNING - The version of firefox cannot be detected. Trying with latest driver version\n"
          ]
        },
        {
          "name": "stdout",
          "output_type": "stream",
          "text": [
            "Close\n",
            "Close\n"
          ]
        },
        {
          "name": "stderr",
          "output_type": "stream",
          "text": [
            "Searching:  10%|█         | 111/1058 [1:13:50<11:23:58, 43.34s/query]2023-07-25 12:54:27,501 - WARNING - The version of firefox cannot be detected. Trying with latest driver version\n",
            "Searching:  11%|█         | 112/1058 [1:14:19<10:16:26, 39.10s/query]2023-07-25 12:54:58,991 - WARNING - The version of firefox cannot be detected. Trying with latest driver version\n"
          ]
        },
        {
          "name": "stdout",
          "output_type": "stream",
          "text": [
            "Close\n",
            "Close\n",
            "Close\n"
          ]
        },
        {
          "name": "stderr",
          "output_type": "stream",
          "text": [
            "Searching:  11%|█         | 113/1058 [1:15:49<14:13:23, 54.18s/query]2023-07-25 12:56:31,906 - WARNING - The version of firefox cannot be detected. Trying with latest driver version\n",
            "Searching:  11%|█         | 114/1058 [1:16:43<14:12:34, 54.19s/query]2023-07-25 12:57:19,623 - WARNING - The version of firefox cannot be detected. Trying with latest driver version\n",
            "Searching:  11%|█         | 115/1058 [1:17:45<14:47:05, 56.44s/query]2023-07-25 12:58:25,062 - WARNING - The version of firefox cannot be detected. Trying with latest driver version\n",
            "Searching:  11%|█         | 116/1058 [1:18:25<13:29:11, 51.54s/query]2023-07-25 12:59:01,978 - WARNING - The version of firefox cannot be detected. Trying with latest driver version\n"
          ]
        },
        {
          "name": "stdout",
          "output_type": "stream",
          "text": [
            "Close\n",
            "Close\n"
          ]
        },
        {
          "name": "stderr",
          "output_type": "stream",
          "text": [
            "Searching:  11%|█         | 117/1058 [1:19:01<12:15:04, 46.87s/query]2023-07-25 12:59:37,524 - WARNING - The version of firefox cannot be detected. Trying with latest driver version\n",
            "Searching:  11%|█         | 118/1058 [1:19:31<10:54:55, 41.80s/query]2023-07-25 13:00:07,197 - WARNING - The version of firefox cannot be detected. Trying with latest driver version\n"
          ]
        },
        {
          "name": "stdout",
          "output_type": "stream",
          "text": [
            "Close\n",
            "Close\n",
            "Close\n"
          ]
        },
        {
          "name": "stderr",
          "output_type": "stream",
          "text": [
            "Searching:  11%|█         | 119/1058 [1:20:11<10:47:39, 41.38s/query]2023-07-25 13:00:48,106 - WARNING - The version of firefox cannot be detected. Trying with latest driver version\n"
          ]
        },
        {
          "name": "stdout",
          "output_type": "stream",
          "text": [
            "Close\n",
            "Close\n",
            "Close\n",
            "Close\n"
          ]
        },
        {
          "name": "stderr",
          "output_type": "stream",
          "text": [
            "Searching:  11%|█▏        | 120/1058 [1:21:03<11:37:41, 44.63s/query]2023-07-25 13:01:44,266 - WARNING - The version of firefox cannot be detected. Trying with latest driver version\n",
            "Searching:  11%|█▏        | 121/1058 [1:22:04<12:52:58, 49.50s/query]2023-07-25 13:02:41,537 - WARNING - The version of firefox cannot be detected. Trying with latest driver version\n",
            "Searching:  12%|█▏        | 122/1058 [1:22:37<11:36:16, 44.63s/query]2023-07-25 13:03:14,371 - WARNING - The version of firefox cannot be detected. Trying with latest driver version\n",
            "Searching:  12%|█▏        | 123/1058 [1:23:08<10:32:14, 40.57s/query]2023-07-25 13:03:45,697 - WARNING - The version of firefox cannot be detected. Trying with latest driver version\n"
          ]
        },
        {
          "name": "stdout",
          "output_type": "stream",
          "text": [
            "Close\n",
            "Close\n"
          ]
        },
        {
          "name": "stderr",
          "output_type": "stream",
          "text": [
            "Searching:  12%|█▏        | 124/1058 [1:23:42<9:58:32, 38.45s/query] 2023-07-25 13:04:19,341 - WARNING - The version of firefox cannot be detected. Trying with latest driver version\n",
            "Searching:  12%|█▏        | 125/1058 [1:24:10<9:11:00, 35.43s/query]2023-07-25 13:04:47,766 - WARNING - The version of firefox cannot be detected. Trying with latest driver version\n"
          ]
        },
        {
          "name": "stdout",
          "output_type": "stream",
          "text": [
            "Close\n",
            "Close\n"
          ]
        },
        {
          "name": "stderr",
          "output_type": "stream",
          "text": [
            "Searching:  12%|█▏        | 126/1058 [1:24:51<9:36:33, 37.12s/query]2023-07-25 13:05:28,490 - WARNING - The version of firefox cannot be detected. Trying with latest driver version\n"
          ]
        },
        {
          "name": "stdout",
          "output_type": "stream",
          "text": [
            "Close\n",
            "Close\n"
          ]
        },
        {
          "name": "stderr",
          "output_type": "stream",
          "text": [
            "Searching:  12%|█▏        | 127/1058 [1:25:36<10:09:25, 39.28s/query]2023-07-25 13:06:12,874 - WARNING - The version of firefox cannot be detected. Trying with latest driver version\n"
          ]
        },
        {
          "name": "stdout",
          "output_type": "stream",
          "text": [
            "Close\n",
            "Close\n",
            "Close\n",
            "Close\n",
            "Close\n",
            "Close\n",
            "Close\n"
          ]
        },
        {
          "name": "stderr",
          "output_type": "stream",
          "text": [
            "Searching:  12%|█▏        | 128/1058 [1:26:12<9:53:22, 38.28s/query] 2023-07-25 13:06:49,360 - WARNING - The version of firefox cannot be detected. Trying with latest driver version\n"
          ]
        },
        {
          "name": "stdout",
          "output_type": "stream",
          "text": [
            "Close\n",
            "Close\n",
            "Close\n",
            "Close\n",
            "Close\n",
            "Close\n",
            "Close\n"
          ]
        },
        {
          "name": "stderr",
          "output_type": "stream",
          "text": [
            "Searching:  12%|█▏        | 129/1058 [1:26:56<10:21:39, 40.15s/query]2023-07-25 13:07:33,969 - WARNING - The version of firefox cannot be detected. Trying with latest driver version\n",
            "Searching:  12%|█▏        | 130/1058 [1:28:05<12:36:04, 48.88s/query]2023-07-25 13:08:44,732 - WARNING - The version of firefox cannot be detected. Trying with latest driver version\n",
            "Searching:  12%|█▏        | 131/1058 [1:28:45<11:51:29, 46.05s/query]2023-07-25 13:09:22,790 - WARNING - The version of firefox cannot be detected. Trying with latest driver version\n",
            "Searching:  12%|█▏        | 132/1058 [1:29:23<11:14:51, 43.73s/query]2023-07-25 13:10:01,246 - WARNING - The version of firefox cannot be detected. Trying with latest driver version\n"
          ]
        },
        {
          "name": "stdout",
          "output_type": "stream",
          "text": [
            "Close\n",
            "Close\n",
            "Close\n"
          ]
        },
        {
          "name": "stderr",
          "output_type": "stream",
          "text": [
            "Searching:  13%|█▎        | 133/1058 [1:30:00<10:43:32, 41.74s/query]2023-07-25 13:10:36,968 - WARNING - The version of firefox cannot be detected. Trying with latest driver version\n",
            "Searching:  13%|█▎        | 134/1058 [1:30:30<9:47:23, 38.14s/query] 2023-07-25 13:11:07,156 - WARNING - The version of firefox cannot be detected. Trying with latest driver version\n"
          ]
        },
        {
          "name": "stdout",
          "output_type": "stream",
          "text": [
            "Close\n",
            "Close\n"
          ]
        },
        {
          "name": "stderr",
          "output_type": "stream",
          "text": [
            "Searching:  13%|█▎        | 135/1058 [1:31:13<10:10:29, 39.69s/query]2023-07-25 13:11:50,265 - WARNING - The version of firefox cannot be detected. Trying with latest driver version\n",
            "Searching:  13%|█▎        | 136/1058 [1:31:47<9:40:28, 37.78s/query] 2023-07-25 13:12:23,279 - WARNING - The version of firefox cannot be detected. Trying with latest driver version\n",
            "Searching:  13%|█▎        | 137/1058 [1:32:23<9:34:34, 37.43s/query]2023-07-25 13:13:00,544 - WARNING - The version of firefox cannot be detected. Trying with latest driver version\n",
            "Searching:  13%|█▎        | 138/1058 [1:32:57<9:18:09, 36.40s/query]2023-07-25 13:13:35,799 - WARNING - The version of firefox cannot be detected. Trying with latest driver version\n"
          ]
        },
        {
          "name": "stdout",
          "output_type": "stream",
          "text": [
            "Close\n",
            "Close\n",
            "Close\n",
            "Close\n",
            "Close\n",
            "Close\n",
            "Close\n"
          ]
        },
        {
          "name": "stderr",
          "output_type": "stream",
          "text": [
            "Searching:  13%|█▎        | 139/1058 [1:33:50<10:34:07, 41.40s/query]2023-07-25 13:14:29,840 - WARNING - The version of firefox cannot be detected. Trying with latest driver version\n",
            "Searching:  13%|█▎        | 140/1058 [1:34:23<9:53:20, 38.78s/query] 2023-07-25 13:15:00,452 - WARNING - The version of firefox cannot be detected. Trying with latest driver version\n",
            "Searching:  13%|█▎        | 141/1058 [1:35:31<12:07:30, 47.60s/query]2023-07-25 13:16:08,455 - WARNING - The version of firefox cannot be detected. Trying with latest driver version\n",
            "Searching:  13%|█▎        | 142/1058 [1:36:07<11:14:17, 44.17s/query]2023-07-25 13:16:44,690 - WARNING - The version of firefox cannot be detected. Trying with latest driver version\n"
          ]
        },
        {
          "name": "stdout",
          "output_type": "stream",
          "text": [
            "Close\n",
            "Close\n",
            "Close\n",
            "Close\n"
          ]
        },
        {
          "name": "stderr",
          "output_type": "stream",
          "text": [
            "Searching:  14%|█▎        | 143/1058 [1:36:50<11:08:25, 43.83s/query]2023-07-25 13:17:28,575 - WARNING - The version of firefox cannot be detected. Trying with latest driver version\n",
            "Searching:  14%|█▎        | 144/1058 [1:37:27<10:36:43, 41.80s/query]2023-07-25 13:18:04,962 - WARNING - The version of firefox cannot be detected. Trying with latest driver version\n"
          ]
        },
        {
          "name": "stdout",
          "output_type": "stream",
          "text": [
            "Close\n",
            "Close\n",
            "Close\n",
            "Close\n",
            "Close\n",
            "Close\n",
            "Close\n"
          ]
        },
        {
          "name": "stderr",
          "output_type": "stream",
          "text": [
            "Searching:  14%|█▎        | 145/1058 [1:38:18<11:15:25, 44.39s/query]2023-07-25 13:18:55,319 - WARNING - The version of firefox cannot be detected. Trying with latest driver version\n",
            "Searching:  14%|█▍        | 146/1058 [1:38:54<10:38:09, 41.98s/query]2023-07-25 13:19:31,017 - WARNING - The version of firefox cannot be detected. Trying with latest driver version\n",
            "Searching:  14%|█▍        | 147/1058 [1:39:29<10:05:39, 39.89s/query]2023-07-25 13:20:06,409 - WARNING - The version of firefox cannot be detected. Trying with latest driver version\n"
          ]
        },
        {
          "name": "stdout",
          "output_type": "stream",
          "text": [
            "Close\n",
            "Close\n",
            "Close\n",
            "Close\n",
            "Close\n"
          ]
        },
        {
          "name": "stderr",
          "output_type": "stream",
          "text": [
            "Searching:  14%|█▍        | 148/1058 [1:40:12<10:19:12, 40.83s/query]2023-07-25 13:20:49,576 - WARNING - The version of firefox cannot be detected. Trying with latest driver version\n",
            "Searching:  14%|█▍        | 149/1058 [1:41:21<12:24:56, 49.17s/query]2023-07-25 13:21:58,797 - WARNING - The version of firefox cannot be detected. Trying with latest driver version\n",
            "Searching:  14%|█▍        | 150/1058 [1:42:07<12:11:15, 48.32s/query]2023-07-25 13:22:46,712 - WARNING - The version of firefox cannot be detected. Trying with latest driver version\n",
            "Searching:  14%|█▍        | 151/1058 [1:43:05<12:51:05, 51.01s/query]2023-07-25 13:23:42,638 - WARNING - The version of firefox cannot be detected. Trying with latest driver version\n"
          ]
        },
        {
          "name": "stdout",
          "output_type": "stream",
          "text": [
            "Close\n",
            "Close\n",
            "Close\n",
            "Close\n",
            "Close\n"
          ]
        },
        {
          "name": "stderr",
          "output_type": "stream",
          "text": [
            "Searching:  14%|█▍        | 152/1058 [1:43:55<12:48:41, 50.91s/query]2023-07-25 13:24:32,426 - WARNING - The version of firefox cannot be detected. Trying with latest driver version\n"
          ]
        },
        {
          "name": "stdout",
          "output_type": "stream",
          "text": [
            "Close\n",
            "Close\n",
            "Close\n",
            "Close\n",
            "Close\n",
            "Close\n",
            "Close\n"
          ]
        },
        {
          "name": "stderr",
          "output_type": "stream",
          "text": [
            "Searching:  14%|█▍        | 153/1058 [1:44:45<12:42:45, 50.57s/query]2023-07-25 13:25:22,736 - WARNING - The version of firefox cannot be detected. Trying with latest driver version\n"
          ]
        },
        {
          "name": "stdout",
          "output_type": "stream",
          "text": [
            "Close\n",
            "Close\n",
            "Close\n",
            "Close\n",
            "Close\n",
            "Close\n",
            "Close\n"
          ]
        },
        {
          "name": "stderr",
          "output_type": "stream",
          "text": [
            "Searching:  15%|█▍        | 154/1058 [1:45:26<11:58:45, 47.71s/query]2023-07-25 13:26:03,871 - WARNING - The version of firefox cannot be detected. Trying with latest driver version\n",
            "Searching:  15%|█▍        | 155/1058 [1:46:25<12:47:46, 51.01s/query]2023-07-25 13:27:02,329 - WARNING - The version of firefox cannot be detected. Trying with latest driver version\n",
            "Searching:  15%|█▍        | 156/1058 [1:47:31<13:55:21, 55.57s/query]2023-07-25 13:28:11,034 - WARNING - The version of firefox cannot be detected. Trying with latest driver version\n",
            "Searching:  15%|█▍        | 157/1058 [1:48:19<13:19:35, 53.25s/query]2023-07-25 13:28:56,994 - WARNING - The version of firefox cannot be detected. Trying with latest driver version\n",
            "Searching:  15%|█▍        | 158/1058 [1:48:57<12:12:55, 48.86s/query]2023-07-25 13:29:35,766 - WARNING - The version of firefox cannot be detected. Trying with latest driver version\n"
          ]
        },
        {
          "name": "stdout",
          "output_type": "stream",
          "text": [
            "Close\n",
            "Close\n",
            "Close\n",
            "Close\n"
          ]
        },
        {
          "name": "stderr",
          "output_type": "stream",
          "text": [
            "Searching:  15%|█▌        | 159/1058 [1:49:38<11:33:42, 46.30s/query]2023-07-25 13:30:14,802 - WARNING - The version of firefox cannot be detected. Trying with latest driver version\n",
            "Searching:  15%|█▌        | 160/1058 [1:50:10<10:30:39, 42.14s/query]2023-07-25 13:30:48,952 - WARNING - The version of firefox cannot be detected. Trying with latest driver version\n",
            "Searching:  15%|█▌        | 161/1058 [1:50:49<10:14:54, 41.13s/query]2023-07-25 13:31:27,658 - WARNING - The version of firefox cannot be detected. Trying with latest driver version\n",
            "Searching:  15%|█▌        | 162/1058 [1:51:53<11:57:43, 48.06s/query]2023-07-25 13:32:30,862 - WARNING - The version of firefox cannot be detected. Trying with latest driver version\n",
            "Searching:  15%|█▌        | 163/1058 [1:52:27<10:55:34, 43.95s/query]2023-07-25 13:33:04,675 - WARNING - The version of firefox cannot be detected. Trying with latest driver version\n",
            "Searching:  16%|█▌        | 164/1058 [1:52:56<9:47:51, 39.45s/query] 2023-07-25 13:33:32,973 - WARNING - The version of firefox cannot be detected. Trying with latest driver version\n"
          ]
        },
        {
          "name": "stdout",
          "output_type": "stream",
          "text": [
            "Close\n",
            "Close\n"
          ]
        },
        {
          "name": "stderr",
          "output_type": "stream",
          "text": [
            "Searching:  16%|█▌        | 165/1058 [1:53:35<9:43:38, 39.21s/query]2023-07-25 13:34:12,273 - WARNING - The version of firefox cannot be detected. Trying with latest driver version\n",
            "Searching:  16%|█▌        | 166/1058 [1:54:05<9:02:04, 36.46s/query]2023-07-25 13:34:43,680 - WARNING - The version of firefox cannot be detected. Trying with latest driver version\n",
            "Searching:  16%|█▌        | 167/1058 [1:54:41<8:58:54, 36.29s/query]2023-07-25 13:35:18,914 - WARNING - The version of firefox cannot be detected. Trying with latest driver version\n",
            "Searching:  16%|█▌        | 168/1058 [1:55:17<8:57:17, 36.22s/query]2023-07-25 13:35:54,606 - WARNING - The version of firefox cannot be detected. Trying with latest driver version\n",
            "Searching:  16%|█▌        | 169/1058 [1:55:52<8:48:55, 35.70s/query]2023-07-25 13:36:28,063 - WARNING - The version of firefox cannot be detected. Trying with latest driver version\n",
            "Searching:  16%|█▌        | 170/1058 [1:56:27<8:46:50, 35.60s/query]2023-07-25 13:37:05,706 - WARNING - The version of firefox cannot be detected. Trying with latest driver version\n"
          ]
        },
        {
          "name": "stdout",
          "output_type": "stream",
          "text": [
            "Close\n",
            "Close\n"
          ]
        },
        {
          "name": "stderr",
          "output_type": "stream",
          "text": [
            "Searching:  16%|█▌        | 171/1058 [1:57:13<9:34:39, 38.87s/query]2023-07-25 13:37:50,110 - WARNING - The version of firefox cannot be detected. Trying with latest driver version\n",
            "Searching:  16%|█▋        | 172/1058 [1:57:45<9:00:21, 36.59s/query]2023-07-25 13:38:22,299 - WARNING - The version of firefox cannot be detected. Trying with latest driver version\n",
            "Searching:  16%|█▋        | 173/1058 [1:58:18<8:46:13, 35.68s/query]2023-07-25 13:38:55,861 - WARNING - The version of firefox cannot be detected. Trying with latest driver version\n",
            "Searching:  16%|█▋        | 174/1058 [1:58:54<8:43:48, 35.55s/query]2023-07-25 13:39:30,944 - WARNING - The version of firefox cannot be detected. Trying with latest driver version\n",
            "Searching:  17%|█▋        | 175/1058 [1:59:26<8:31:22, 34.75s/query]2023-07-25 13:40:03,037 - WARNING - The version of firefox cannot be detected. Trying with latest driver version\n"
          ]
        },
        {
          "name": "stdout",
          "output_type": "stream",
          "text": [
            "Close\n",
            "Close\n",
            "Close\n",
            "Close\n"
          ]
        },
        {
          "name": "stderr",
          "output_type": "stream",
          "text": [
            "Searching:  17%|█▋        | 176/1058 [2:00:14<9:28:40, 38.69s/query]2023-07-25 13:40:55,113 - WARNING - The version of firefox cannot be detected. Trying with latest driver version\n",
            "Searching:  17%|█▋        | 177/1058 [2:00:51<9:17:35, 37.97s/query]2023-07-25 13:41:28,495 - WARNING - The version of firefox cannot be detected. Trying with latest driver version\n",
            "Searching:  17%|█▋        | 178/1058 [2:01:28<9:16:32, 37.95s/query]2023-07-25 13:42:08,259 - WARNING - The version of firefox cannot be detected. Trying with latest driver version\n"
          ]
        },
        {
          "name": "stdout",
          "output_type": "stream",
          "text": [
            "Close\n",
            "Close\n",
            "Close\n"
          ]
        },
        {
          "name": "stderr",
          "output_type": "stream",
          "text": [
            "Searching:  17%|█▋        | 179/1058 [2:02:07<9:18:06, 38.10s/query]2023-07-25 13:42:48,707 - WARNING - The version of firefox cannot be detected. Trying with latest driver version\n",
            "Searching:  17%|█▋        | 180/1058 [2:02:40<8:53:39, 36.47s/query]2023-07-25 13:43:18,556 - WARNING - The version of firefox cannot be detected. Trying with latest driver version\n",
            "Searching:  17%|█▋        | 181/1058 [2:03:41<10:40:28, 43.82s/query]2023-07-25 13:44:18,408 - WARNING - The version of firefox cannot be detected. Trying with latest driver version\n",
            "Searching:  17%|█▋        | 182/1058 [2:04:46<12:14:07, 50.28s/query]2023-07-25 13:45:22,835 - WARNING - The version of firefox cannot be detected. Trying with latest driver version\n"
          ]
        },
        {
          "name": "stdout",
          "output_type": "stream",
          "text": [
            "Close\n",
            "Close\n",
            "Close\n"
          ]
        },
        {
          "name": "stderr",
          "output_type": "stream",
          "text": [
            "Searching:  17%|█▋        | 183/1058 [2:05:25<11:25:37, 47.01s/query]2023-07-25 13:46:01,906 - WARNING - The version of firefox cannot be detected. Trying with latest driver version\n",
            "Searching:  17%|█▋        | 184/1058 [2:05:58<10:20:42, 42.61s/query]2023-07-25 13:46:34,520 - WARNING - The version of firefox cannot be detected. Trying with latest driver version\n",
            "Searching:  17%|█▋        | 185/1058 [2:06:34<9:52:43, 40.74s/query] 2023-07-25 13:47:10,667 - WARNING - The version of firefox cannot be detected. Trying with latest driver version\n",
            "Searching:  18%|█▊        | 186/1058 [2:07:09<9:26:54, 39.01s/query]2023-07-25 13:47:48,595 - WARNING - The version of firefox cannot be detected. Trying with latest driver version\n",
            "Searching:  18%|█▊        | 187/1058 [2:07:49<9:30:24, 39.29s/query]2023-07-25 13:48:26,825 - WARNING - The version of firefox cannot be detected. Trying with latest driver version\n"
          ]
        },
        {
          "name": "stdout",
          "output_type": "stream",
          "text": [
            "Close\n",
            "Close\n",
            "Close\n",
            "Close\n"
          ]
        },
        {
          "name": "stderr",
          "output_type": "stream",
          "text": [
            "Searching:  18%|█▊        | 188/1058 [2:08:29<9:32:04, 39.45s/query]2023-07-25 13:49:05,586 - WARNING - The version of firefox cannot be detected. Trying with latest driver version\n",
            "Searching:  18%|█▊        | 189/1058 [2:08:59<8:53:04, 36.81s/query]2023-07-25 13:49:36,445 - WARNING - The version of firefox cannot be detected. Trying with latest driver version\n"
          ]
        },
        {
          "name": "stdout",
          "output_type": "stream",
          "text": [
            "Close\n"
          ]
        },
        {
          "name": "stderr",
          "output_type": "stream",
          "text": [
            "Searching:  18%|█▊        | 190/1058 [2:09:48<9:41:38, 40.21s/query]2023-07-25 13:50:24,180 - WARNING - The version of firefox cannot be detected. Trying with latest driver version\n"
          ]
        },
        {
          "name": "stdout",
          "output_type": "stream",
          "text": [
            "Close\n",
            "Close\n",
            "Close\n",
            "Close\n"
          ]
        },
        {
          "name": "stderr",
          "output_type": "stream",
          "text": [
            "Searching:  18%|█▊        | 191/1058 [2:10:23<9:18:59, 38.68s/query]2023-07-25 13:50:59,138 - WARNING - The version of firefox cannot be detected. Trying with latest driver version\n",
            "Searching:  18%|█▊        | 192/1058 [2:10:55<8:50:56, 36.79s/query]2023-07-25 13:51:32,622 - WARNING - The version of firefox cannot be detected. Trying with latest driver version\n"
          ]
        },
        {
          "name": "stdout",
          "output_type": "stream",
          "text": [
            "Close\n",
            "Close\n",
            "Close\n",
            "Close\n",
            "Close\n",
            "Close\n",
            "Close\n"
          ]
        },
        {
          "name": "stderr",
          "output_type": "stream",
          "text": [
            "Searching:  18%|█▊        | 193/1058 [2:11:40<9:24:18, 39.14s/query]2023-07-25 13:52:19,588 - WARNING - The version of firefox cannot be detected. Trying with latest driver version\n",
            "Searching:  18%|█▊        | 194/1058 [2:12:18<9:19:45, 38.87s/query]2023-07-25 13:52:54,461 - WARNING - The version of firefox cannot be detected. Trying with latest driver version\n"
          ]
        },
        {
          "name": "stdout",
          "output_type": "stream",
          "text": [
            "Close\n",
            "Close\n",
            "Close\n",
            "Close\n",
            "Close\n",
            "Close\n",
            "Close\n"
          ]
        },
        {
          "name": "stderr",
          "output_type": "stream",
          "text": [
            "Searching:  18%|█▊        | 195/1058 [2:13:06<9:59:09, 41.66s/query]2023-07-25 13:53:43,733 - WARNING - The version of firefox cannot be detected. Trying with latest driver version\n",
            "Searching:  19%|█▊        | 196/1058 [2:14:13<11:49:27, 49.38s/query]2023-07-25 13:54:50,428 - WARNING - The version of firefox cannot be detected. Trying with latest driver version\n",
            "Searching:  19%|█▊        | 197/1058 [2:15:10<12:19:41, 51.55s/query]2023-07-25 13:55:47,211 - WARNING - The version of firefox cannot be detected. Trying with latest driver version\n",
            "Searching:  19%|█▊        | 198/1058 [2:15:45<11:05:50, 46.45s/query]2023-07-25 13:56:21,764 - WARNING - The version of firefox cannot be detected. Trying with latest driver version\n"
          ]
        },
        {
          "name": "stdout",
          "output_type": "stream",
          "text": [
            "Close\n"
          ]
        },
        {
          "name": "stderr",
          "output_type": "stream",
          "text": [
            "Searching:  19%|█▉        | 199/1058 [2:16:23<10:31:58, 44.14s/query]2023-07-25 13:57:00,008 - WARNING - The version of firefox cannot be detected. Trying with latest driver version\n"
          ]
        },
        {
          "name": "stdout",
          "output_type": "stream",
          "text": [
            "Close\n",
            "Close\n",
            "Close\n",
            "Close\n"
          ]
        },
        {
          "name": "stderr",
          "output_type": "stream",
          "text": [
            "Searching:  19%|█▉        | 200/1058 [2:17:02<10:07:11, 42.46s/query]2023-07-25 13:57:38,768 - WARNING - The version of firefox cannot be detected. Trying with latest driver version\n"
          ]
        },
        {
          "name": "stdout",
          "output_type": "stream",
          "text": [
            "Close\n",
            "Close\n",
            "Close\n",
            "Close\n"
          ]
        },
        {
          "name": "stderr",
          "output_type": "stream",
          "text": [
            "Searching:  19%|█▉        | 201/1058 [2:17:36<9:29:20, 39.86s/query] 2023-07-25 13:58:12,548 - WARNING - The version of firefox cannot be detected. Trying with latest driver version\n",
            "Searching:  19%|█▉        | 202/1058 [2:18:11<9:08:56, 38.48s/query]2023-07-25 13:58:48,280 - WARNING - The version of firefox cannot be detected. Trying with latest driver version\n",
            "Searching:  19%|█▉        | 203/1058 [2:18:44<8:45:19, 36.86s/query]2023-07-25 13:59:21,596 - WARNING - The version of firefox cannot be detected. Trying with latest driver version\n"
          ]
        },
        {
          "name": "stdout",
          "output_type": "stream",
          "text": [
            "Close\n",
            "Close\n",
            "Close\n",
            "Close\n",
            "Close\n",
            "Close\n"
          ]
        },
        {
          "name": "stderr",
          "output_type": "stream",
          "text": [
            "Searching:  19%|█▉        | 204/1058 [2:19:32<9:31:00, 40.12s/query]2023-07-25 14:00:08,991 - WARNING - The version of firefox cannot be detected. Trying with latest driver version\n"
          ]
        },
        {
          "name": "stdout",
          "output_type": "stream",
          "text": [
            "Close\n",
            "Close\n",
            "Close\n",
            "Close\n",
            "Close\n"
          ]
        },
        {
          "name": "stderr",
          "output_type": "stream",
          "text": [
            "Searching:  19%|█▉        | 205/1058 [2:20:19<10:00:38, 42.25s/query]2023-07-25 14:00:59,267 - WARNING - The version of firefox cannot be detected. Trying with latest driver version\n",
            "Searching:  19%|█▉        | 206/1058 [2:20:59<9:49:54, 41.54s/query] 2023-07-25 14:01:36,161 - WARNING - The version of firefox cannot be detected. Trying with latest driver version\n",
            "Searching:  20%|█▉        | 207/1058 [2:21:31<9:09:16, 38.73s/query]2023-07-25 14:02:08,197 - WARNING - The version of firefox cannot be detected. Trying with latest driver version\n",
            "Searching:  20%|█▉        | 208/1058 [2:22:07<8:57:51, 37.97s/query]2023-07-25 14:02:46,989 - WARNING - The version of firefox cannot be detected. Trying with latest driver version\n",
            "Searching:  20%|█▉        | 209/1058 [2:22:45<8:55:41, 37.86s/query]2023-07-25 14:03:27,026 - WARNING - The version of firefox cannot be detected. Trying with latest driver version\n",
            "Searching:  20%|█▉        | 210/1058 [2:23:20<8:45:36, 37.19s/query]2023-07-25 14:04:05,324 - WARNING - The version of firefox cannot be detected. Trying with latest driver version\n",
            "Searching:  20%|█▉        | 211/1058 [2:24:07<9:25:53, 40.09s/query]2023-07-25 14:04:45,803 - WARNING - The version of firefox cannot be detected. Trying with latest driver version\n"
          ]
        },
        {
          "name": "stdout",
          "output_type": "stream",
          "text": [
            "Close\n",
            "Close\n",
            "Close\n",
            "Close\n"
          ]
        },
        {
          "name": "stderr",
          "output_type": "stream",
          "text": [
            "Searching:  20%|██        | 212/1058 [2:24:55<9:58:19, 42.43s/query]2023-07-25 14:05:32,641 - WARNING - The version of firefox cannot be detected. Trying with latest driver version\n",
            "Searching:  20%|██        | 213/1058 [2:25:28<9:14:54, 39.40s/query]2023-07-25 14:06:05,205 - WARNING - The version of firefox cannot be detected. Trying with latest driver version\n"
          ]
        },
        {
          "name": "stdout",
          "output_type": "stream",
          "text": [
            "Close\n"
          ]
        },
        {
          "name": "stderr",
          "output_type": "stream",
          "text": [
            "Searching:  20%|██        | 214/1058 [2:26:10<9:26:25, 40.27s/query]2023-07-25 14:06:48,338 - WARNING - The version of firefox cannot be detected. Trying with latest driver version\n"
          ]
        },
        {
          "name": "stdout",
          "output_type": "stream",
          "text": [
            "Close\n",
            "Close\n"
          ]
        },
        {
          "name": "stderr",
          "output_type": "stream",
          "text": [
            "Searching:  20%|██        | 215/1058 [2:26:45<9:03:20, 38.67s/query]2023-07-25 14:07:21,342 - WARNING - The version of firefox cannot be detected. Trying with latest driver version\n"
          ]
        },
        {
          "name": "stdout",
          "output_type": "stream",
          "text": [
            "Close\n",
            "Close\n",
            "Close\n"
          ]
        },
        {
          "name": "stderr",
          "output_type": "stream",
          "text": [
            "Searching:  20%|██        | 216/1058 [2:27:26<9:13:22, 39.43s/query]2023-07-25 14:08:02,536 - WARNING - The version of firefox cannot be detected. Trying with latest driver version\n"
          ]
        },
        {
          "name": "stdout",
          "output_type": "stream",
          "text": [
            "Close\n",
            "Close\n",
            "Close\n",
            "Close\n"
          ]
        },
        {
          "name": "stderr",
          "output_type": "stream",
          "text": [
            "Searching:  21%|██        | 217/1058 [2:28:08<9:25:01, 40.31s/query]2023-07-25 14:08:44,899 - WARNING - The version of firefox cannot be detected. Trying with latest driver version\n"
          ]
        },
        {
          "name": "stdout",
          "output_type": "stream",
          "text": [
            "Close\n",
            "Close\n",
            "Close\n",
            "Close\n",
            "Close\n"
          ]
        },
        {
          "name": "stderr",
          "output_type": "stream",
          "text": [
            "Searching:  21%|██        | 218/1058 [2:28:52<9:38:08, 41.30s/query]2023-07-25 14:09:29,784 - WARNING - The version of firefox cannot be detected. Trying with latest driver version\n",
            "Searching:  21%|██        | 219/1058 [2:29:24<8:57:37, 38.45s/query]2023-07-25 14:10:00,263 - WARNING - The version of firefox cannot be detected. Trying with latest driver version\n",
            "Searching:  21%|██        | 220/1058 [2:29:54<8:23:31, 36.05s/query]2023-07-25 14:10:30,803 - WARNING - The version of firefox cannot be detected. Trying with latest driver version\n",
            "Searching:  21%|██        | 221/1058 [2:31:07<10:56:35, 47.07s/query]2023-07-25 14:11:43,503 - WARNING - The version of firefox cannot be detected. Trying with latest driver version\n"
          ]
        },
        {
          "name": "stdout",
          "output_type": "stream",
          "text": [
            "Close\n",
            "Close\n",
            "Close\n"
          ]
        },
        {
          "name": "stderr",
          "output_type": "stream",
          "text": [
            "Searching:  21%|██        | 222/1058 [2:31:46<10:20:15, 44.52s/query]2023-07-25 14:12:22,627 - WARNING - The version of firefox cannot be detected. Trying with latest driver version\n"
          ]
        },
        {
          "name": "stdout",
          "output_type": "stream",
          "text": [
            "Close\n"
          ]
        },
        {
          "name": "stderr",
          "output_type": "stream",
          "text": [
            "Searching:  21%|██        | 223/1058 [2:32:24<9:52:25, 42.57s/query] 2023-07-25 14:13:00,697 - WARNING - The version of firefox cannot be detected. Trying with latest driver version\n"
          ]
        },
        {
          "name": "stdout",
          "output_type": "stream",
          "text": [
            "Close\n",
            "Close\n",
            "Close\n"
          ]
        },
        {
          "name": "stderr",
          "output_type": "stream",
          "text": [
            "Searching:  21%|██        | 224/1058 [2:33:03<9:40:01, 41.73s/query]2023-07-25 14:13:39,878 - WARNING - The version of firefox cannot be detected. Trying with latest driver version\n",
            "Searching:  21%|██▏       | 225/1058 [2:33:37<9:04:08, 39.19s/query]2023-07-25 14:14:15,705 - WARNING - The version of firefox cannot be detected. Trying with latest driver version\n",
            "Searching:  21%|██▏       | 226/1058 [2:34:18<9:12:18, 39.83s/query]2023-07-25 14:14:55,406 - WARNING - The version of firefox cannot be detected. Trying with latest driver version\n"
          ]
        },
        {
          "name": "stdout",
          "output_type": "stream",
          "text": [
            "Close\n",
            "Close\n",
            "Close\n",
            "Close\n",
            "Close\n",
            "Close\n"
          ]
        },
        {
          "name": "stderr",
          "output_type": "stream",
          "text": [
            "Searching:  21%|██▏       | 227/1058 [2:34:56<9:02:36, 39.18s/query]2023-07-25 14:15:32,844 - WARNING - The version of firefox cannot be detected. Trying with latest driver version\n",
            "Searching:  22%|██▏       | 228/1058 [2:35:35<9:01:25, 39.14s/query]2023-07-25 14:16:11,789 - WARNING - The version of firefox cannot be detected. Trying with latest driver version\n",
            "Searching:  22%|██▏       | 229/1058 [2:36:04<8:19:12, 36.13s/query]2023-07-25 14:16:41,000 - WARNING - The version of firefox cannot be detected. Trying with latest driver version\n"
          ]
        },
        {
          "name": "stdout",
          "output_type": "stream",
          "text": [
            "Close\n",
            "Close\n",
            "Close\n"
          ]
        },
        {
          "name": "stderr",
          "output_type": "stream",
          "text": [
            "Searching:  22%|██▏       | 230/1058 [2:36:42<8:27:07, 36.75s/query]2023-07-25 14:17:18,799 - WARNING - The version of firefox cannot be detected. Trying with latest driver version\n"
          ]
        },
        {
          "name": "stdout",
          "output_type": "stream",
          "text": [
            "Close\n",
            "Close\n",
            "Close\n",
            "Close\n",
            "Close\n",
            "Close\n"
          ]
        },
        {
          "name": "stderr",
          "output_type": "stream",
          "text": [
            "Searching:  22%|██▏       | 231/1058 [2:37:18<8:21:37, 36.39s/query]2023-07-25 14:17:54,026 - WARNING - The version of firefox cannot be detected. Trying with latest driver version\n"
          ]
        },
        {
          "name": "stdout",
          "output_type": "stream",
          "text": [
            "Close\n",
            "Close\n",
            "Close\n",
            "Close\n",
            "Close\n",
            "Close\n",
            "Close\n"
          ]
        },
        {
          "name": "stderr",
          "output_type": "stream",
          "text": [
            "Searching:  22%|██▏       | 232/1058 [2:37:54<8:20:58, 36.39s/query]2023-07-25 14:18:32,472 - WARNING - The version of firefox cannot be detected. Trying with latest driver version\n"
          ]
        },
        {
          "name": "stdout",
          "output_type": "stream",
          "text": [
            "Close\n",
            "Close\n",
            "Close\n",
            "Close\n",
            "Close\n"
          ]
        },
        {
          "name": "stderr",
          "output_type": "stream",
          "text": [
            "Searching:  22%|██▏       | 233/1058 [2:38:35<8:40:50, 37.88s/query]2023-07-25 14:19:14,063 - WARNING - The version of firefox cannot be detected. Trying with latest driver version\n",
            "Searching:  22%|██▏       | 234/1058 [2:39:34<10:04:44, 44.03s/query]2023-07-25 14:20:11,410 - WARNING - The version of firefox cannot be detected. Trying with latest driver version\n",
            "Searching:  22%|██▏       | 235/1058 [2:40:03<9:04:33, 39.70s/query] 2023-07-25 14:20:41,192 - WARNING - The version of firefox cannot be detected. Trying with latest driver version\n"
          ]
        },
        {
          "name": "stdout",
          "output_type": "stream",
          "text": [
            "Close\n",
            "Close\n",
            "Close\n",
            "Close\n",
            "Close\n"
          ]
        },
        {
          "name": "stderr",
          "output_type": "stream",
          "text": [
            "Searching:  22%|██▏       | 236/1058 [2:40:43<9:03:52, 39.70s/query]2023-07-25 14:21:19,723 - WARNING - The version of firefox cannot be detected. Trying with latest driver version\n",
            "Searching:  22%|██▏       | 237/1058 [2:41:08<8:04:49, 35.43s/query]2023-07-25 14:21:45,679 - WARNING - The version of firefox cannot be detected. Trying with latest driver version\n",
            "Searching:  22%|██▏       | 238/1058 [2:41:39<7:46:03, 34.10s/query]2023-07-25 14:22:16,509 - WARNING - The version of firefox cannot be detected. Trying with latest driver version\n",
            "Searching:  23%|██▎       | 239/1058 [2:42:10<7:32:30, 33.15s/query]2023-07-25 14:22:46,862 - WARNING - The version of firefox cannot be detected. Trying with latest driver version\n"
          ]
        },
        {
          "name": "stdout",
          "output_type": "stream",
          "text": [
            "Close\n",
            "Close\n"
          ]
        },
        {
          "name": "stderr",
          "output_type": "stream",
          "text": [
            "Searching:  23%|██▎       | 240/1058 [2:42:45<7:36:10, 33.46s/query]2023-07-25 14:23:21,122 - WARNING - The version of firefox cannot be detected. Trying with latest driver version\n",
            "Searching:  23%|██▎       | 241/1058 [2:43:10<7:02:06, 31.00s/query]2023-07-25 14:23:46,308 - WARNING - The version of firefox cannot be detected. Trying with latest driver version\n"
          ]
        },
        {
          "name": "stdout",
          "output_type": "stream",
          "text": [
            "Close\n",
            "Close\n"
          ]
        },
        {
          "name": "stderr",
          "output_type": "stream",
          "text": [
            "Searching:  23%|██▎       | 242/1058 [2:43:44<7:16:31, 32.10s/query]2023-07-25 14:24:21,244 - WARNING - The version of firefox cannot be detected. Trying with latest driver version\n",
            "Searching:  23%|██▎       | 243/1058 [2:44:16<7:12:35, 31.85s/query]2023-07-25 14:24:52,528 - WARNING - The version of firefox cannot be detected. Trying with latest driver version\n",
            "Searching:  23%|██▎       | 244/1058 [2:44:44<6:57:53, 30.80s/query]2023-07-25 14:25:20,580 - WARNING - The version of firefox cannot be detected. Trying with latest driver version\n",
            "Searching:  23%|██▎       | 245/1058 [2:45:09<6:35:10, 29.16s/query]2023-07-25 14:25:46,521 - WARNING - The version of firefox cannot be detected. Trying with latest driver version\n",
            "Searching:  23%|██▎       | 246/1058 [2:45:40<6:41:32, 29.67s/query]2023-07-25 14:26:16,850 - WARNING - The version of firefox cannot be detected. Trying with latest driver version\n",
            "Searching:  23%|██▎       | 247/1058 [2:46:11<6:47:21, 30.14s/query]2023-07-25 14:26:48,754 - WARNING - The version of firefox cannot be detected. Trying with latest driver version\n"
          ]
        },
        {
          "name": "stdout",
          "output_type": "stream",
          "text": [
            "Close\n",
            "Close\n",
            "Close\n",
            "Close\n",
            "Close\n",
            "Close\n",
            "Close\n"
          ]
        },
        {
          "name": "stderr",
          "output_type": "stream",
          "text": [
            "Searching:  23%|██▎       | 248/1058 [2:46:59<7:56:56, 35.33s/query]2023-07-25 14:27:38,998 - WARNING - The version of firefox cannot be detected. Trying with latest driver version\n"
          ]
        },
        {
          "name": "stdout",
          "output_type": "stream",
          "text": [
            "Close\n",
            "Close\n"
          ]
        },
        {
          "name": "stderr",
          "output_type": "stream",
          "text": [
            "Searching:  24%|██▎       | 249/1058 [2:47:33<7:52:41, 35.06s/query]2023-07-25 14:28:12,917 - WARNING - The version of firefox cannot be detected. Trying with latest driver version\n",
            "Searching:  24%|██▎       | 250/1058 [2:48:08<7:49:57, 34.90s/query]2023-07-25 14:28:45,613 - WARNING - The version of firefox cannot be detected. Trying with latest driver version\n"
          ]
        },
        {
          "name": "stdout",
          "output_type": "stream",
          "text": [
            "Close\n",
            "Close\n",
            "Close\n",
            "Close\n"
          ]
        },
        {
          "name": "stderr",
          "output_type": "stream",
          "text": [
            "Searching:  24%|██▎       | 251/1058 [2:48:50<8:18:40, 37.08s/query]2023-07-25 14:29:27,422 - WARNING - The version of firefox cannot be detected. Trying with latest driver version\n",
            "Searching:  24%|██▍       | 252/1058 [2:49:26<8:12:13, 36.64s/query]2023-07-25 14:30:04,067 - WARNING - The version of firefox cannot be detected. Trying with latest driver version\n"
          ]
        },
        {
          "name": "stdout",
          "output_type": "stream",
          "text": [
            "Close\n",
            "Close\n",
            "Close\n",
            "Close\n"
          ]
        },
        {
          "name": "stderr",
          "output_type": "stream",
          "text": [
            "Searching:  24%|██▍       | 253/1058 [2:50:10<8:40:56, 38.83s/query]2023-07-25 14:30:47,586 - WARNING - The version of firefox cannot be detected. Trying with latest driver version\n",
            "Searching:  24%|██▍       | 254/1058 [2:50:44<8:22:45, 37.52s/query]2023-07-25 14:31:21,693 - WARNING - The version of firefox cannot be detected. Trying with latest driver version\n"
          ]
        },
        {
          "name": "stdout",
          "output_type": "stream",
          "text": [
            "Close\n",
            "Close\n",
            "Close\n",
            "Close\n",
            "Close\n"
          ]
        },
        {
          "name": "stderr",
          "output_type": "stream",
          "text": [
            "Searching:  24%|██▍       | 255/1058 [2:51:29<8:53:03, 39.83s/query]2023-07-25 14:32:06,494 - WARNING - The version of firefox cannot be detected. Trying with latest driver version\n"
          ]
        },
        {
          "name": "stdout",
          "output_type": "stream",
          "text": [
            "Close\n",
            "Close\n",
            "Close\n",
            "Close\n"
          ]
        },
        {
          "name": "stderr",
          "output_type": "stream",
          "text": [
            "Searching:  24%|██▍       | 256/1058 [2:52:03<8:26:46, 37.91s/query]2023-07-25 14:32:39,664 - WARNING - The version of firefox cannot be detected. Trying with latest driver version\n",
            "Searching:  24%|██▍       | 257/1058 [2:52:28<7:35:07, 34.09s/query]2023-07-25 14:33:04,759 - WARNING - The version of firefox cannot be detected. Trying with latest driver version\n",
            "Searching:  24%|██▍       | 258/1058 [2:53:00<7:26:50, 33.51s/query]2023-07-25 14:33:37,680 - WARNING - The version of firefox cannot be detected. Trying with latest driver version\n"
          ]
        },
        {
          "name": "stdout",
          "output_type": "stream",
          "text": [
            "Close\n",
            "Close\n",
            "Close\n",
            "Close\n"
          ]
        },
        {
          "name": "stderr",
          "output_type": "stream",
          "text": [
            "Searching:  24%|██▍       | 259/1058 [2:53:38<7:44:09, 34.86s/query]2023-07-25 14:34:15,110 - WARNING - The version of firefox cannot be detected. Trying with latest driver version\n",
            "Searching:  25%|██▍       | 260/1058 [2:54:08<7:24:39, 33.43s/query]2023-07-25 14:34:46,361 - WARNING - The version of firefox cannot be detected. Trying with latest driver version\n",
            "Searching:  25%|██▍       | 261/1058 [2:54:46<7:42:03, 34.78s/query]2023-07-25 14:35:23,279 - WARNING - The version of firefox cannot be detected. Trying with latest driver version\n",
            "Searching:  25%|██▍       | 262/1058 [2:55:45<9:18:40, 42.11s/query]2023-07-25 14:36:22,555 - WARNING - The version of firefox cannot be detected. Trying with latest driver version\n",
            "Searching:  25%|██▍       | 263/1058 [2:56:41<10:11:54, 46.18s/query]2023-07-25 14:37:18,775 - WARNING - The version of firefox cannot be detected. Trying with latest driver version\n"
          ]
        },
        {
          "name": "stdout",
          "output_type": "stream",
          "text": [
            "Close\n",
            "Close\n",
            "Close\n"
          ]
        },
        {
          "name": "stderr",
          "output_type": "stream",
          "text": [
            "Searching:  25%|██▍       | 264/1058 [2:57:16<9:25:14, 42.71s/query] 2023-07-25 14:37:53,215 - WARNING - The version of firefox cannot be detected. Trying with latest driver version\n"
          ]
        },
        {
          "name": "stdout",
          "output_type": "stream",
          "text": [
            "Close\n",
            "Close\n",
            "Close\n",
            "Close\n",
            "Close\n",
            "Close\n"
          ]
        },
        {
          "name": "stderr",
          "output_type": "stream",
          "text": [
            "Searching:  25%|██▌       | 265/1058 [2:57:59<9:27:01, 42.90s/query]2023-07-25 14:38:37,503 - WARNING - The version of firefox cannot be detected. Trying with latest driver version\n"
          ]
        },
        {
          "name": "stdout",
          "output_type": "stream",
          "text": [
            "Close\n",
            "Close\n",
            "Close\n"
          ]
        },
        {
          "name": "stderr",
          "output_type": "stream",
          "text": [
            "Searching:  25%|██▌       | 266/1058 [2:58:34<8:53:48, 40.44s/query]2023-07-25 14:39:10,722 - WARNING - The version of firefox cannot be detected. Trying with latest driver version\n"
          ]
        },
        {
          "name": "stdout",
          "output_type": "stream",
          "text": [
            "Close\n",
            "Close\n",
            "Close\n",
            "Close\n"
          ]
        },
        {
          "name": "stderr",
          "output_type": "stream",
          "text": [
            "Searching:  25%|██▌       | 267/1058 [2:59:13<8:47:10, 39.99s/query]2023-07-25 14:39:50,148 - WARNING - The version of firefox cannot be detected. Trying with latest driver version\n"
          ]
        }
      ],
      "source": [
        "totlis = [4232 , 5290]\n",
        "st_rng = totlis[0]\n",
        "end_rng = totlis[1]\n",
        "total_rng = abs(end_rng - st_rng)\n",
        "\n",
        "pbar = tqdm(total=total_rng, desc='Searching', unit='query')\n",
        "\n",
        "for sub in range(st_rng, end_rng):\n",
        "  pbar.update(1)\n",
        "\n",
        "  url = 'https://www.domain.com.au/suburb-profile/'+df['0'][sub]\n",
        "  driver = driver_setup() # for each link we are setting a new Firefox instance\n",
        "  driver.get(url)\n",
        "  html = driver.page_source\n",
        "  soup = BeautifulSoup(html, 'html.parser')\n",
        "  table = soup.find(\"table\")\n",
        "\n",
        "  try:\n",
        "    rows = table.find_all(\"tr\")[1:]\n",
        "\n",
        "    for row in range(len(rows)): # accessing the rows.\n",
        "        cells = rows[row].find_all(\"td\") # data collwxtion process collecing all cell data\n",
        "        try: # if the data is avilable it will collect or ignore.\n",
        "          bedrooms = cells[0].text.strip()\n",
        "        except:\n",
        "          bedrooms = None\n",
        "        try:\n",
        "          prop_type = cells[1].text.strip()\n",
        "        except:\n",
        "          prop_type = None\n",
        "        try:\n",
        "          median_price = cells[2].text.strip()\n",
        "        except:\n",
        "          median_price = None\n",
        "        try:\n",
        "          days_on_market = cells[3].text.strip()\n",
        "        except:\n",
        "          days_on_market = None\n",
        "        try:\n",
        "          clearance_rate = cells[4].text.strip()\n",
        "        except:\n",
        "          clearance_rate = None\n",
        "        try:\n",
        "          sold_this_year = cells[5].text.strip()\n",
        "        except:\n",
        "          sold_this_year = None\n",
        "        try:\n",
        "          population = soup.find('div', {'class': 'css-48zwbo'}).find('div', {'class': 'css-54bw0x'}).text\n",
        "        except:\n",
        "          population = None\n",
        "        try:\n",
        "          average_age = soup.find_all('div', {'class': 'css-48zwbo'})[1].find('div', {'class': 'css-54bw0x'}).text\n",
        "        except:\n",
        "          average_age = None\n",
        "        try:\n",
        "          owner_percent = soup.find('span', {'data-testid': 'left-value'}).text.strip()\n",
        "        except:\n",
        "          owner_percent = None\n",
        "        try:\n",
        "          renter_percent = soup.find('span', {'data-testid': 'right-value'}).text.strip()\n",
        "        except:\n",
        "          renter_percent = None\n",
        "        try:\n",
        "          family_percent = soup.find_all('span', {'data-testid': 'left-value'})[1].text.strip()\n",
        "        except:\n",
        "          family_percent = None\n",
        "        try:\n",
        "          single_percent = soup.find_all('span', {'data-testid': 'right-value'})[1].text.strip()\n",
        "        except:\n",
        "          single_percent = None\n",
        "\n",
        "        # Set the timestamp in Mosman, NSW, Australia (GMT+10)\n",
        "        australia_timezone = pytz.timezone('Australia/Sydney')\n",
        "        current_time = datetime.datetime.now(australia_timezone)\n",
        "\n",
        "        # single row collection, we also have the buttonfunction and it has more features like Rental median price.\n",
        "\n",
        "        row_data = { # features to dictionary.\n",
        "            \"Bedrooms\": bedrooms,\n",
        "            \"Type\": prop_type,\n",
        "            \"Median Price\": median_price,\n",
        "            \"Avg Days on Market\": days_on_market,\n",
        "            \"Clearance Rate\": clearance_rate,\n",
        "            \"Sold This Year\": sold_this_year,\n",
        "            'POPULATION': population,\n",
        "            'AVERAGE AGE': average_age,\n",
        "            'OWNER': owner_percent,\n",
        "            'RENTER': renter_percent,\n",
        "            'FAMILY': family_percent,\n",
        "            'SINGLE': single_percent,\n",
        "            'SUBURB': df['0'][sub],\n",
        "            'Time_stamp': current_time\n",
        "        }\n",
        "\n",
        "        one_row_data = pd.DataFrame(row_data,index=[0]) # dictionary to one row dataframe.\n",
        "\n",
        "        try: # if there is no row data then the entire loop has nothing to do.\n",
        "\n",
        "          # row's button function.\n",
        "\n",
        "          buttons = driver.find_elements(By.XPATH, \"//button[@title='Open' or @title='Close']\")\n",
        "          WebDriverWait(driver, 2).until(EC.element_to_be_clickable((By.XPATH, \"//button[@title='Open' or @title='Close']\")))\n",
        "          buttons[row].click()\n",
        "          # WebDriverWait(driver, 10).until(EC.staleness_of(buttons[row]))\n",
        "\n",
        "\n",
        "          button_html = buttons[row].get_attribute('outerHTML')\n",
        "          soup = BeautifulSoup(button_html, 'html.parser')\n",
        "          title_element = soup.find('div').find('title')\n",
        "          title = title_element.get_text()\n",
        "          print(title)\n",
        "          html = driver.page_source\n",
        "          soup = BeautifulSoup(html, 'html.parser')\n",
        "\n",
        "          tr_element = soup.find('tr', class_='css-1wpy7ho')\n",
        "          div_elements = tr_element.find_all('div', class_='css-15ydh5a')\n",
        "          datad = {}\n",
        "\n",
        "          # Extract the data from each div element and add it to the dictionary\n",
        "          for div in div_elements:\n",
        "              h4_element = div.find('h4', class_='css-srsjf4')\n",
        "              data_point = div.find('div', class_='css-1s6j0do')\n",
        "              label = h4_element.text.strip(':')\n",
        "              value = data_point.text.strip()\n",
        "              datad[label] = value\n",
        "\n",
        "          tdf = pd.DataFrame(datad, index=[0]) # dataframe to collect the data from the trend.\n",
        "\n",
        "          table_rows = soup.find_all('tr')  # table of one rows trend year wise.\n",
        "          data = {\n",
        "              'Year': [],\n",
        "              'Median Price': [],\n",
        "              'Growth': [],\n",
        "              'Number of Sales': []\n",
        "          }\n",
        "          for row in table_rows[1:]:\n",
        "              columns = row.find_all('td')\n",
        "              if len(columns) == 4:\n",
        "                  year = columns[0].text.strip()\n",
        "                  median_price = columns[1].text.strip()\n",
        "                  growth = columns[2].text.strip()\n",
        "                  num_sales = columns[3].text.strip()\n",
        "\n",
        "                  data['Year'].append(year)\n",
        "                  data['Median Price'].append(median_price)\n",
        "                  data['Growth'].append(growth)\n",
        "                  data['Number of Sales'].append(num_sales)\n",
        "\n",
        "          yearly_df = pd.DataFrame(data)\n",
        "\n",
        "          years = yearly_df['Year'].tolist()\n",
        "          for year in years:\n",
        "              tdf.loc[0, f'median_price_{year}'] = yearly_df.loc[yearly_df['Year'] == year, 'Median Price'].item()\n",
        "              tdf.loc[0, f'growth_rate_{year}'] = yearly_df.loc[yearly_df['Year'] == year, 'Growth'].item()\n",
        "              tdf.loc[0, f'no_of_sales_{year}'] = yearly_df.loc[yearly_df['Year'] == year, 'Number of Sales'].item()\n",
        "\n",
        "          australia_timezone = pytz.timezone('Australia/Sydney')\n",
        "          current_time = datetime.datetime.now(australia_timezone)\n",
        "\n",
        "          tempdf = pd.concat([one_row_data, tdf], ignore_index=True)\n",
        "          tempfilename = 'Domain_click_5.csv'\n",
        "\n",
        "          save_data_to_disk(tempdf, tempfilename)\n",
        "          tempdf = pd.DataFrame()\n",
        "          one_row_data = pd.DataFrame()\n",
        "        except:\n",
        "          None\n",
        "  except:\n",
        "    None\n",
        "\n",
        "  try:\n",
        "    driver.quit() # killing the firefox instance to maintain the speed of data sourcing.\n",
        "    gc.collect()\n",
        "    os.system(\"pkill firefox\")\n",
        "  except:\n",
        "    None"
      ]
    }
  ],
  "metadata": {
    "colab": {
      "provenance": []
    },
    "kernelspec": {
      "display_name": "Python 3",
      "name": "python3"
    },
    "language_info": {
      "codemirror_mode": {
        "name": "ipython",
        "version": 3
      },
      "file_extension": ".py",
      "mimetype": "text/x-python",
      "name": "python",
      "nbconvert_exporter": "python",
      "pygments_lexer": "ipython3",
      "version": "3.11.4"
    }
  },
  "nbformat": 4,
  "nbformat_minor": 0
}
