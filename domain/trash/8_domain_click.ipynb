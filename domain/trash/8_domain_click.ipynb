{
  "cells": [
    {
      "cell_type": "code",
      "execution_count": 2,
      "metadata": {
        "id": "YReJQI7rbDKP"
      },
      "outputs": [],
      "source": [
        "import pandas as pd\n",
        "import gdown\n",
        "import re\n",
        "import requests\n",
        "from bs4 import BeautifulSoup\n",
        "import json\n",
        "import pandas as pd\n",
        "import os\n",
        "from selenium import webdriver\n",
        "from selenium.webdriver.common.by import By\n",
        "from selenium.webdriver.support.ui import WebDriverWait\n",
        "from selenium.webdriver.support import expected_conditions as EC\n",
        "import gc\n",
        "import time\n",
        "import pytz\n",
        "import datetime\n",
        "import logging\n",
        "from tqdm import tqdm\n",
        "import traceback"
      ]
    },
    {
      "cell_type": "code",
      "execution_count": 3,
      "metadata": {
        "colab": {
          "base_uri": "https://localhost:8080/"
        },
        "id": "wHjBfwkOuA-O",
        "outputId": "11d423d5-7a9a-4955-cc84-3015632eac11"
      },
      "outputs": [
        {
          "name": "stderr",
          "output_type": "stream",
          "text": [
            "Downloading...\n",
            "From: https://drive.google.com/uc?id=1DuT3nnIouLKuRFbGo5lqcQwKTTb5GM8r\n",
            "To: e:\\Programs\\domain\\suburbs.csv\n",
            "100%|██████████| 975k/975k [00:00<00:00, 4.74MB/s]\n"
          ]
        }
      ],
      "source": [
        "gdown.download(id = '1DuT3nnIouLKuRFbGo5lqcQwKTTb5GM8r')\n",
        "df = pd.read_csv('suburbs.csv')"
      ]
    },
    {
      "cell_type": "code",
      "execution_count": 4,
      "metadata": {
        "colab": {
          "base_uri": "https://localhost:8080/"
        },
        "id": "v0FaTNQRu-Su",
        "outputId": "21a2a922-0e7c-4f16-c12a-54932922ba18"
      },
      "outputs": [
        {
          "data": {
            "text/plain": [
              "(15879, 2)"
            ]
          },
          "execution_count": 4,
          "metadata": {},
          "output_type": "execute_result"
        }
      ],
      "source": [
        "df.shape"
      ]
    },
    {
      "cell_type": "code",
      "execution_count": 7,
      "metadata": {
        "id": "gerNcz0mTdZ0"
      },
      "outputs": [],
      "source": [
        "def driver_setup():# Assigning a Headless Firefox Driver\n",
        "  options = webdriver.FirefoxOptions()\n",
        "  options.binary_location = 'C:/Program Files/Mozilla Firefox/firefox.exe'  # Path to Chrome executable\n",
        "  options.add_argument('E:/Programs/geckodriver.exe')\n",
        "  options.add_argument('--headless')\n",
        "  options.add_argument('--no-sandbox')\n",
        "  options.add_argument('--disable-dev-shm-usage')\n",
        "  driver = webdriver.Firefox(options=options)\n",
        "  return driver\n",
        "\n",
        "def save_data_to_disk(data, filename):\n",
        "    if os.path.isfile(filename):\n",
        "        existing_df = pd.read_csv(filename)\n",
        "        data = pd.concat([existing_df, data], ignore_index=True)\n",
        "        os.remove(filename)\n",
        "        data.to_csv(filename,index=False)\n",
        "    else:\n",
        "        data.to_csv(filename, mode='w', header=True, index=False)\n",
        "\n",
        "log_filename = 'exemption_logs.txt'\n",
        "logging.basicConfig(level=logging.INFO, format='%(asctime)s - %(levelname)s - %(message)s')\n",
        "file_handler = logging.FileHandler(log_filename)\n",
        "file_handler.setLevel(logging.INFO)\n",
        "formatter = logging.Formatter('%(asctime)s - %(levelname)s - %(message)s')\n",
        "file_handler.setFormatter(formatter)\n",
        "logging.getLogger().addHandler(file_handler)"
      ]
    },
    {
      "cell_type": "code",
      "execution_count": 5,
      "metadata": {
        "colab": {
          "base_uri": "https://localhost:8080/",
          "height": 35
        },
        "id": "Yeyv5hc_rJi_",
        "outputId": "940d6367-3c51-4117-ab5a-2fa3d4f44740"
      },
      "outputs": [
        {
          "data": {
            "text/plain": [
              "'gibraltar-range-nsw-2370'"
            ]
          },
          "execution_count": 5,
          "metadata": {},
          "output_type": "execute_result"
        }
      ],
      "source": [
        "df['0'][1]"
      ]
    },
    {
      "cell_type": "code",
      "execution_count": 6,
      "metadata": {
        "id": "ixUqo31f24wr"
      },
      "outputs": [],
      "source": [
        "implicit_wait_time = 2\n",
        "explicit_wait_time = 2"
      ]
    },
    {
      "cell_type": "code",
      "execution_count": null,
      "metadata": {
        "colab": {
          "base_uri": "https://localhost:8080/",
          "height": 363
        },
        "id": "Aejew2K7Qr6s",
        "outputId": "9336ddd9-fed4-4abd-93ce-216afa89ad42"
      },
      "outputs": [
        {
          "name": "stderr",
          "output_type": "stream",
          "text": [
            "\rSearching:   0%|          | 0/1058 [00:00<?, ?query/s]"
          ]
        },
        {
          "ename": "WebDriverException",
          "evalue": "ignored",
          "output_type": "error",
          "traceback": [
            "\u001b[0;31m---------------------------------------------------------------------------\u001b[0m",
            "\u001b[0;31mWebDriverException\u001b[0m                        Traceback (most recent call last)",
            "\u001b[0;32m<ipython-input-9-81ff92c59256>\u001b[0m in \u001b[0;36m<cell line: 8>\u001b[0;34m()\u001b[0m\n\u001b[1;32m     10\u001b[0m \u001b[0;34m\u001b[0m\u001b[0m\n\u001b[1;32m     11\u001b[0m   \u001b[0murl\u001b[0m \u001b[0;34m=\u001b[0m \u001b[0;34m'https://www.domain.com.au/suburb-profile/'\u001b[0m\u001b[0;34m+\u001b[0m\u001b[0mdf\u001b[0m\u001b[0;34m[\u001b[0m\u001b[0;34m'0'\u001b[0m\u001b[0;34m]\u001b[0m\u001b[0;34m[\u001b[0m\u001b[0msub\u001b[0m\u001b[0;34m]\u001b[0m\u001b[0;34m\u001b[0m\u001b[0;34m\u001b[0m\u001b[0m\n\u001b[0;32m---> 12\u001b[0;31m   \u001b[0mdriver\u001b[0m \u001b[0;34m=\u001b[0m \u001b[0mdriver_setup\u001b[0m\u001b[0;34m(\u001b[0m\u001b[0;34m)\u001b[0m \u001b[0;31m# for each link we are setting a new Firefox instance\u001b[0m\u001b[0;34m\u001b[0m\u001b[0;34m\u001b[0m\u001b[0m\n\u001b[0m\u001b[1;32m     13\u001b[0m   \u001b[0mdriver\u001b[0m\u001b[0;34m.\u001b[0m\u001b[0mget\u001b[0m\u001b[0;34m(\u001b[0m\u001b[0murl\u001b[0m\u001b[0;34m)\u001b[0m\u001b[0;34m\u001b[0m\u001b[0;34m\u001b[0m\u001b[0m\n\u001b[1;32m     14\u001b[0m   \u001b[0mhtml\u001b[0m \u001b[0;34m=\u001b[0m \u001b[0mdriver\u001b[0m\u001b[0;34m.\u001b[0m\u001b[0mpage_source\u001b[0m\u001b[0;34m\u001b[0m\u001b[0;34m\u001b[0m\u001b[0m\n",
            "\u001b[0;32m<ipython-input-6-a4b13a86dcdb>\u001b[0m in \u001b[0;36mdriver_setup\u001b[0;34m()\u001b[0m\n\u001b[1;32m      4\u001b[0m   \u001b[0moptions\u001b[0m\u001b[0;34m.\u001b[0m\u001b[0madd_argument\u001b[0m\u001b[0;34m(\u001b[0m\u001b[0;34m'--no-sandbox'\u001b[0m\u001b[0;34m)\u001b[0m\u001b[0;34m\u001b[0m\u001b[0;34m\u001b[0m\u001b[0m\n\u001b[1;32m      5\u001b[0m   \u001b[0moptions\u001b[0m\u001b[0;34m.\u001b[0m\u001b[0madd_argument\u001b[0m\u001b[0;34m(\u001b[0m\u001b[0;34m'--disable-dev-shm-usage'\u001b[0m\u001b[0;34m)\u001b[0m\u001b[0;34m\u001b[0m\u001b[0;34m\u001b[0m\u001b[0m\n\u001b[0;32m----> 6\u001b[0;31m   \u001b[0mdriver\u001b[0m \u001b[0;34m=\u001b[0m \u001b[0mwebdriver\u001b[0m\u001b[0;34m.\u001b[0m\u001b[0mFirefox\u001b[0m\u001b[0;34m(\u001b[0m\u001b[0moptions\u001b[0m\u001b[0;34m=\u001b[0m\u001b[0moptions\u001b[0m\u001b[0;34m)\u001b[0m\u001b[0;34m\u001b[0m\u001b[0;34m\u001b[0m\u001b[0m\n\u001b[0m\u001b[1;32m      7\u001b[0m   \u001b[0;32mreturn\u001b[0m \u001b[0mdriver\u001b[0m\u001b[0;34m\u001b[0m\u001b[0;34m\u001b[0m\u001b[0m\n\u001b[1;32m      8\u001b[0m \u001b[0;34m\u001b[0m\u001b[0m\n",
            "\u001b[0;32m/usr/local/lib/python3.10/dist-packages/selenium/webdriver/firefox/webdriver.py\u001b[0m in \u001b[0;36m__init__\u001b[0;34m(self, options, service, keep_alive)\u001b[0m\n\u001b[1;32m     66\u001b[0m             \u001b[0mkeep_alive\u001b[0m\u001b[0;34m=\u001b[0m\u001b[0mself\u001b[0m\u001b[0;34m.\u001b[0m\u001b[0mkeep_alive\u001b[0m\u001b[0;34m,\u001b[0m\u001b[0;34m\u001b[0m\u001b[0;34m\u001b[0m\u001b[0m\n\u001b[1;32m     67\u001b[0m         )\n\u001b[0;32m---> 68\u001b[0;31m         \u001b[0msuper\u001b[0m\u001b[0;34m(\u001b[0m\u001b[0;34m)\u001b[0m\u001b[0;34m.\u001b[0m\u001b[0m__init__\u001b[0m\u001b[0;34m(\u001b[0m\u001b[0mcommand_executor\u001b[0m\u001b[0;34m=\u001b[0m\u001b[0mexecutor\u001b[0m\u001b[0;34m,\u001b[0m \u001b[0moptions\u001b[0m\u001b[0;34m=\u001b[0m\u001b[0mself\u001b[0m\u001b[0;34m.\u001b[0m\u001b[0moptions\u001b[0m\u001b[0;34m)\u001b[0m\u001b[0;34m\u001b[0m\u001b[0;34m\u001b[0m\u001b[0m\n\u001b[0m\u001b[1;32m     69\u001b[0m \u001b[0;34m\u001b[0m\u001b[0m\n\u001b[1;32m     70\u001b[0m         \u001b[0mself\u001b[0m\u001b[0;34m.\u001b[0m\u001b[0m_is_remote\u001b[0m \u001b[0;34m=\u001b[0m \u001b[0;32mFalse\u001b[0m\u001b[0;34m\u001b[0m\u001b[0;34m\u001b[0m\u001b[0m\n",
            "\u001b[0;32m/usr/local/lib/python3.10/dist-packages/selenium/webdriver/remote/webdriver.py\u001b[0m in \u001b[0;36m__init__\u001b[0;34m(self, command_executor, keep_alive, file_detector, options)\u001b[0m\n\u001b[1;32m    204\u001b[0m         \u001b[0mself\u001b[0m\u001b[0;34m.\u001b[0m\u001b[0m_authenticator_id\u001b[0m \u001b[0;34m=\u001b[0m \u001b[0;32mNone\u001b[0m\u001b[0;34m\u001b[0m\u001b[0;34m\u001b[0m\u001b[0m\n\u001b[1;32m    205\u001b[0m         \u001b[0mself\u001b[0m\u001b[0;34m.\u001b[0m\u001b[0mstart_client\u001b[0m\u001b[0;34m(\u001b[0m\u001b[0;34m)\u001b[0m\u001b[0;34m\u001b[0m\u001b[0;34m\u001b[0m\u001b[0m\n\u001b[0;32m--> 206\u001b[0;31m         \u001b[0mself\u001b[0m\u001b[0;34m.\u001b[0m\u001b[0mstart_session\u001b[0m\u001b[0;34m(\u001b[0m\u001b[0mcapabilities\u001b[0m\u001b[0;34m)\u001b[0m\u001b[0;34m\u001b[0m\u001b[0;34m\u001b[0m\u001b[0m\n\u001b[0m\u001b[1;32m    207\u001b[0m \u001b[0;34m\u001b[0m\u001b[0m\n\u001b[1;32m    208\u001b[0m     \u001b[0;32mdef\u001b[0m \u001b[0m__repr__\u001b[0m\u001b[0;34m(\u001b[0m\u001b[0mself\u001b[0m\u001b[0;34m)\u001b[0m\u001b[0;34m:\u001b[0m\u001b[0;34m\u001b[0m\u001b[0;34m\u001b[0m\u001b[0m\n",
            "\u001b[0;32m/usr/local/lib/python3.10/dist-packages/selenium/webdriver/remote/webdriver.py\u001b[0m in \u001b[0;36mstart_session\u001b[0;34m(self, capabilities)\u001b[0m\n\u001b[1;32m    289\u001b[0m \u001b[0;34m\u001b[0m\u001b[0m\n\u001b[1;32m    290\u001b[0m         \u001b[0mcaps\u001b[0m \u001b[0;34m=\u001b[0m \u001b[0m_create_caps\u001b[0m\u001b[0;34m(\u001b[0m\u001b[0mcapabilities\u001b[0m\u001b[0;34m)\u001b[0m\u001b[0;34m\u001b[0m\u001b[0;34m\u001b[0m\u001b[0m\n\u001b[0;32m--> 291\u001b[0;31m         \u001b[0mresponse\u001b[0m \u001b[0;34m=\u001b[0m \u001b[0mself\u001b[0m\u001b[0;34m.\u001b[0m\u001b[0mexecute\u001b[0m\u001b[0;34m(\u001b[0m\u001b[0mCommand\u001b[0m\u001b[0;34m.\u001b[0m\u001b[0mNEW_SESSION\u001b[0m\u001b[0;34m,\u001b[0m \u001b[0mcaps\u001b[0m\u001b[0;34m)\u001b[0m\u001b[0;34m[\u001b[0m\u001b[0;34m\"value\"\u001b[0m\u001b[0;34m]\u001b[0m\u001b[0;34m\u001b[0m\u001b[0;34m\u001b[0m\u001b[0m\n\u001b[0m\u001b[1;32m    292\u001b[0m         \u001b[0mself\u001b[0m\u001b[0;34m.\u001b[0m\u001b[0msession_id\u001b[0m \u001b[0;34m=\u001b[0m \u001b[0mresponse\u001b[0m\u001b[0;34m.\u001b[0m\u001b[0mget\u001b[0m\u001b[0;34m(\u001b[0m\u001b[0;34m\"sessionId\"\u001b[0m\u001b[0;34m)\u001b[0m\u001b[0;34m\u001b[0m\u001b[0;34m\u001b[0m\u001b[0m\n\u001b[1;32m    293\u001b[0m         \u001b[0mself\u001b[0m\u001b[0;34m.\u001b[0m\u001b[0mcaps\u001b[0m \u001b[0;34m=\u001b[0m \u001b[0mresponse\u001b[0m\u001b[0;34m.\u001b[0m\u001b[0mget\u001b[0m\u001b[0;34m(\u001b[0m\u001b[0;34m\"capabilities\"\u001b[0m\u001b[0;34m)\u001b[0m\u001b[0;34m\u001b[0m\u001b[0;34m\u001b[0m\u001b[0m\n",
            "\u001b[0;32m/usr/local/lib/python3.10/dist-packages/selenium/webdriver/remote/webdriver.py\u001b[0m in \u001b[0;36mexecute\u001b[0;34m(self, driver_command, params)\u001b[0m\n\u001b[1;32m    344\u001b[0m         \u001b[0mresponse\u001b[0m \u001b[0;34m=\u001b[0m \u001b[0mself\u001b[0m\u001b[0;34m.\u001b[0m\u001b[0mcommand_executor\u001b[0m\u001b[0;34m.\u001b[0m\u001b[0mexecute\u001b[0m\u001b[0;34m(\u001b[0m\u001b[0mdriver_command\u001b[0m\u001b[0;34m,\u001b[0m \u001b[0mparams\u001b[0m\u001b[0;34m)\u001b[0m\u001b[0;34m\u001b[0m\u001b[0;34m\u001b[0m\u001b[0m\n\u001b[1;32m    345\u001b[0m         \u001b[0;32mif\u001b[0m \u001b[0mresponse\u001b[0m\u001b[0;34m:\u001b[0m\u001b[0;34m\u001b[0m\u001b[0;34m\u001b[0m\u001b[0m\n\u001b[0;32m--> 346\u001b[0;31m             \u001b[0mself\u001b[0m\u001b[0;34m.\u001b[0m\u001b[0merror_handler\u001b[0m\u001b[0;34m.\u001b[0m\u001b[0mcheck_response\u001b[0m\u001b[0;34m(\u001b[0m\u001b[0mresponse\u001b[0m\u001b[0;34m)\u001b[0m\u001b[0;34m\u001b[0m\u001b[0;34m\u001b[0m\u001b[0m\n\u001b[0m\u001b[1;32m    347\u001b[0m             \u001b[0mresponse\u001b[0m\u001b[0;34m[\u001b[0m\u001b[0;34m\"value\"\u001b[0m\u001b[0;34m]\u001b[0m \u001b[0;34m=\u001b[0m \u001b[0mself\u001b[0m\u001b[0;34m.\u001b[0m\u001b[0m_unwrap_value\u001b[0m\u001b[0;34m(\u001b[0m\u001b[0mresponse\u001b[0m\u001b[0;34m.\u001b[0m\u001b[0mget\u001b[0m\u001b[0;34m(\u001b[0m\u001b[0;34m\"value\"\u001b[0m\u001b[0;34m,\u001b[0m \u001b[0;32mNone\u001b[0m\u001b[0;34m)\u001b[0m\u001b[0;34m)\u001b[0m\u001b[0;34m\u001b[0m\u001b[0;34m\u001b[0m\u001b[0m\n\u001b[1;32m    348\u001b[0m             \u001b[0;32mreturn\u001b[0m \u001b[0mresponse\u001b[0m\u001b[0;34m\u001b[0m\u001b[0;34m\u001b[0m\u001b[0m\n",
            "\u001b[0;32m/usr/local/lib/python3.10/dist-packages/selenium/webdriver/remote/errorhandler.py\u001b[0m in \u001b[0;36mcheck_response\u001b[0;34m(self, response)\u001b[0m\n\u001b[1;32m    243\u001b[0m                 \u001b[0malert_text\u001b[0m \u001b[0;34m=\u001b[0m \u001b[0mvalue\u001b[0m\u001b[0;34m[\u001b[0m\u001b[0;34m\"alert\"\u001b[0m\u001b[0;34m]\u001b[0m\u001b[0;34m.\u001b[0m\u001b[0mget\u001b[0m\u001b[0;34m(\u001b[0m\u001b[0;34m\"text\"\u001b[0m\u001b[0;34m)\u001b[0m\u001b[0;34m\u001b[0m\u001b[0;34m\u001b[0m\u001b[0m\n\u001b[1;32m    244\u001b[0m             \u001b[0;32mraise\u001b[0m \u001b[0mexception_class\u001b[0m\u001b[0;34m(\u001b[0m\u001b[0mmessage\u001b[0m\u001b[0;34m,\u001b[0m \u001b[0mscreen\u001b[0m\u001b[0;34m,\u001b[0m \u001b[0mstacktrace\u001b[0m\u001b[0;34m,\u001b[0m \u001b[0malert_text\u001b[0m\u001b[0;34m)\u001b[0m  \u001b[0;31m# type: ignore[call-arg]  # mypy is not smart enough here\u001b[0m\u001b[0;34m\u001b[0m\u001b[0;34m\u001b[0m\u001b[0m\n\u001b[0;32m--> 245\u001b[0;31m         \u001b[0;32mraise\u001b[0m \u001b[0mexception_class\u001b[0m\u001b[0;34m(\u001b[0m\u001b[0mmessage\u001b[0m\u001b[0;34m,\u001b[0m \u001b[0mscreen\u001b[0m\u001b[0;34m,\u001b[0m \u001b[0mstacktrace\u001b[0m\u001b[0;34m)\u001b[0m\u001b[0;34m\u001b[0m\u001b[0;34m\u001b[0m\u001b[0m\n\u001b[0m",
            "\u001b[0;31mWebDriverException\u001b[0m: Message: Process unexpectedly closed with status 1\n"
          ]
        }
      ],
      "source": [
        "totlis = [4232 , 5290]\n",
        "st_rng = totlis[0]\n",
        "end_rng = totlis[1]\n",
        "total_rng = abs(end_rng - st_rng)\n",
        "\n",
        "pbar = tqdm(total=total_rng, desc='Searching', unit='query')\n",
        "\n",
        "for sub in range(st_rng, end_rng):\n",
        "  pbar.update(1)\n",
        "\n",
        "  url = 'https://www.domain.com.au/suburb-profile/'+df['0'][sub]\n",
        "  driver = driver_setup() # for each link we are setting a new Firefox instance\n",
        "  driver.get(url)\n",
        "  html = driver.page_source\n",
        "  soup = BeautifulSoup(html, 'html.parser')\n",
        "  table = soup.find(\"table\")\n",
        "\n",
        "  try:\n",
        "    rows = table.find_all(\"tr\")[1:]\n",
        "\n",
        "    for row in range(len(rows)): # accessing the rows.\n",
        "        cells = rows[row].find_all(\"td\") # data collwxtion process collecing all cell data\n",
        "        try: # if the data is avilable it will collect or ignore.\n",
        "          bedrooms = cells[0].text.strip()\n",
        "        except:\n",
        "          bedrooms = None\n",
        "        try:\n",
        "          prop_type = cells[1].text.strip()\n",
        "        except:\n",
        "          prop_type = None\n",
        "        try:\n",
        "          median_price = cells[2].text.strip()\n",
        "        except:\n",
        "          median_price = None\n",
        "        try:\n",
        "          days_on_market = cells[3].text.strip()\n",
        "        except:\n",
        "          days_on_market = None\n",
        "        try:\n",
        "          clearance_rate = cells[4].text.strip()\n",
        "        except:\n",
        "          clearance_rate = None\n",
        "        try:\n",
        "          sold_this_year = cells[5].text.strip()\n",
        "        except:\n",
        "          sold_this_year = None\n",
        "        try:\n",
        "          population = soup.find('div', {'class': 'css-48zwbo'}).find('div', {'class': 'css-54bw0x'}).text\n",
        "        except:\n",
        "          population = None\n",
        "        try:\n",
        "          average_age = soup.find_all('div', {'class': 'css-48zwbo'})[1].find('div', {'class': 'css-54bw0x'}).text\n",
        "        except:\n",
        "          average_age = None\n",
        "        try:\n",
        "          owner_percent = soup.find('span', {'data-testid': 'left-value'}).text.strip()\n",
        "        except:\n",
        "          owner_percent = None\n",
        "        try:\n",
        "          renter_percent = soup.find('span', {'data-testid': 'right-value'}).text.strip()\n",
        "        except:\n",
        "          renter_percent = None\n",
        "        try:\n",
        "          family_percent = soup.find_all('span', {'data-testid': 'left-value'})[1].text.strip()\n",
        "        except:\n",
        "          family_percent = None\n",
        "        try:\n",
        "          single_percent = soup.find_all('span', {'data-testid': 'right-value'})[1].text.strip()\n",
        "        except:\n",
        "          single_percent = None\n",
        "\n",
        "        # Set the timestamp in Mosman, NSW, Australia (GMT+10)\n",
        "        australia_timezone = pytz.timezone('Australia/Sydney')\n",
        "        current_time = datetime.datetime.now(australia_timezone)\n",
        "\n",
        "        # single row collection, we also have the buttonfunction and it has more features like Rental median price.\n",
        "\n",
        "        row_data = { # features to dictionary.\n",
        "            \"Bedrooms\": bedrooms,\n",
        "            \"Type\": prop_type,\n",
        "            \"Median Price\": median_price,\n",
        "            \"Avg Days on Market\": days_on_market,\n",
        "            \"Clearance Rate\": clearance_rate,\n",
        "            \"Sold This Year\": sold_this_year,\n",
        "            'POPULATION': population,\n",
        "            'AVERAGE AGE': average_age,\n",
        "            'OWNER': owner_percent,\n",
        "            'RENTER': renter_percent,\n",
        "            'FAMILY': family_percent,\n",
        "            'SINGLE': single_percent,\n",
        "            'SUBURB': df['0'][sub],\n",
        "            'Time_stamp': current_time\n",
        "        }\n",
        "\n",
        "        one_row_data = pd.DataFrame(row_data,index=[0]) # dictionary to one row dataframe.\n",
        "\n",
        "        try: # if there is no row data then the entire loop has nothing to do.\n",
        "\n",
        "          # row's button function.\n",
        "\n",
        "          buttons = driver.find_elements(By.XPATH, \"//button[@title='Open' or @title='Close']\")\n",
        "          WebDriverWait(driver, 2).until(EC.element_to_be_clickable((By.XPATH, \"//button[@title='Open' or @title='Close']\")))\n",
        "          buttons[row].click()\n",
        "          # WebDriverWait(driver, 10).until(EC.staleness_of(buttons[row]))\n",
        "\n",
        "\n",
        "          button_html = buttons[row].get_attribute('outerHTML')\n",
        "          soup = BeautifulSoup(button_html, 'html.parser')\n",
        "          title_element = soup.find('div').find('title')\n",
        "          title = title_element.get_text()\n",
        "          print(title)\n",
        "          html = driver.page_source\n",
        "          soup = BeautifulSoup(html, 'html.parser')\n",
        "\n",
        "          tr_element = soup.find('tr', class_='css-1wpy7ho')\n",
        "          div_elements = tr_element.find_all('div', class_='css-15ydh5a')\n",
        "          datad = {}\n",
        "\n",
        "          # Extract the data from each div element and add it to the dictionary\n",
        "          for div in div_elements:\n",
        "              h4_element = div.find('h4', class_='css-srsjf4')\n",
        "              data_point = div.find('div', class_='css-1s6j0do')\n",
        "              label = h4_element.text.strip(':')\n",
        "              value = data_point.text.strip()\n",
        "              datad[label] = value\n",
        "\n",
        "          tdf = pd.DataFrame(datad, index=[0]) # dataframe to collect the data from the trend.\n",
        "\n",
        "          table_rows = soup.find_all('tr')  # table of one rows trend year wise.\n",
        "          data = {\n",
        "              'Year': [],\n",
        "              'Median Price': [],\n",
        "              'Growth': [],\n",
        "              'Number of Sales': []\n",
        "          }\n",
        "          for row in table_rows[1:]:\n",
        "              columns = row.find_all('td')\n",
        "              if len(columns) == 4:\n",
        "                  year = columns[0].text.strip()\n",
        "                  median_price = columns[1].text.strip()\n",
        "                  growth = columns[2].text.strip()\n",
        "                  num_sales = columns[3].text.strip()\n",
        "\n",
        "                  data['Year'].append(year)\n",
        "                  data['Median Price'].append(median_price)\n",
        "                  data['Growth'].append(growth)\n",
        "                  data['Number of Sales'].append(num_sales)\n",
        "\n",
        "          yearly_df = pd.DataFrame(data)\n",
        "\n",
        "          years = yearly_df['Year'].tolist()\n",
        "          for year in years:\n",
        "              tdf.loc[0, f'median_price_{year}'] = yearly_df.loc[yearly_df['Year'] == year, 'Median Price'].item()\n",
        "              tdf.loc[0, f'growth_rate_{year}'] = yearly_df.loc[yearly_df['Year'] == year, 'Growth'].item()\n",
        "              tdf.loc[0, f'no_of_sales_{year}'] = yearly_df.loc[yearly_df['Year'] == year, 'Number of Sales'].item()\n",
        "\n",
        "          australia_timezone = pytz.timezone('Australia/Sydney')\n",
        "          current_time = datetime.datetime.now(australia_timezone)\n",
        "\n",
        "          tempdf = pd.concat([one_row_data, tdf], ignore_index=True)\n",
        "          tempfilename = 'Domain_click_5.csv'\n",
        "\n",
        "          save_data_to_disk(tempdf, tempfilename)\n",
        "          tempdf = pd.DataFrame()\n",
        "          one_row_data = pd.DataFrame()\n",
        "        except:\n",
        "          None\n",
        "  except:\n",
        "    None\n",
        "\n",
        "  try:\n",
        "    driver.quit() # killing the firefox instance to maintain the speed of data sourcing.\n",
        "    gc.collect()\n",
        "    os.system(\"pkill firefox\")\n",
        "  except:\n",
        "    None"
      ]
    },
    {
      "cell_type": "code",
      "execution_count": null,
      "metadata": {
        "id": "1p3EwWvXP5Hk"
      },
      "outputs": [],
      "source": []
    }
  ],
  "metadata": {
    "colab": {
      "provenance": []
    },
    "kernelspec": {
      "display_name": "Python 3",
      "name": "python3"
    },
    "language_info": {
      "codemirror_mode": {
        "name": "ipython",
        "version": 3
      },
      "file_extension": ".py",
      "mimetype": "text/x-python",
      "name": "python",
      "nbconvert_exporter": "python",
      "pygments_lexer": "ipython3",
      "version": "3.11.4"
    }
  },
  "nbformat": 4,
  "nbformat_minor": 0
}
