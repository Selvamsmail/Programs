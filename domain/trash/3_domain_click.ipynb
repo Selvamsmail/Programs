{
  "cells": [
    {
      "cell_type": "code",
      "execution_count": 1,
      "metadata": {
        "id": "YReJQI7rbDKP"
      },
      "outputs": [],
      "source": [
        "import pandas as pd\n",
        "import gdown\n",
        "import re\n",
        "import requests\n",
        "from bs4 import BeautifulSoup\n",
        "import json\n",
        "import pandas as pd\n",
        "import os\n",
        "from selenium import webdriver\n",
        "from selenium.webdriver.common.by import By\n",
        "from selenium.webdriver.support.ui import WebDriverWait\n",
        "from selenium.webdriver.support import expected_conditions as EC\n",
        "import gc\n",
        "import time\n",
        "import pytz\n",
        "import datetime\n",
        "import logging\n",
        "from tqdm import tqdm\n",
        "import traceback"
      ]
    },
    {
      "cell_type": "code",
      "execution_count": 2,
      "metadata": {
        "colab": {
          "base_uri": "https://localhost:8080/"
        },
        "id": "wHjBfwkOuA-O",
        "outputId": "743b90a2-e632-420e-b24d-9d89418603a4"
      },
      "outputs": [
        {
          "name": "stderr",
          "output_type": "stream",
          "text": [
            "Downloading...\n",
            "From: https://drive.google.com/uc?id=1DuT3nnIouLKuRFbGo5lqcQwKTTb5GM8r\n",
            "To: e:\\Programs\\domain\\suburbs.csv\n",
            "100%|██████████| 975k/975k [00:00<00:00, 4.44MB/s]\n"
          ]
        }
      ],
      "source": [
        "gdown.download(id = '1DuT3nnIouLKuRFbGo5lqcQwKTTb5GM8r')\n",
        "df = pd.read_csv('suburbs.csv')"
      ]
    },
    {
      "cell_type": "code",
      "execution_count": 6,
      "metadata": {
        "colab": {
          "base_uri": "https://localhost:8080/"
        },
        "id": "v0FaTNQRu-Su",
        "outputId": "0b889d71-a344-477a-fcc1-4ee1758e2b10"
      },
      "outputs": [
        {
          "data": {
            "text/plain": [
              "(15879, 2)"
            ]
          },
          "execution_count": 6,
          "metadata": {},
          "output_type": "execute_result"
        }
      ],
      "source": [
        "df.shape"
      ]
    },
    {
      "cell_type": "code",
      "execution_count": 7,
      "metadata": {
        "id": "gerNcz0mTdZ0"
      },
      "outputs": [],
      "source": [
        "def driver_setup():# Assigning a Headless Firefox Driver\n",
        "  options = webdriver.FirefoxOptions()\n",
        "  options.binary_location = 'C:/Program Files/Mozilla Firefox/firefox.exe'  # Path to Chrome executable\n",
        "  options.add_argument('E:/Programs/geckodriver.exe')\n",
        "  options.add_argument('--headless')\n",
        "  options.add_argument('--no-sandbox')\n",
        "  options.add_argument('--disable-dev-shm-usage')\n",
        "  driver = webdriver.Firefox(options=options)\n",
        "  return driver\n",
        "\n",
        "def save_data_to_disk(data, filename):\n",
        "    if os.path.isfile(filename):\n",
        "        existing_df = pd.read_csv(filename)\n",
        "        data = pd.concat([existing_df, data], ignore_index=True)\n",
        "        os.remove(filename)\n",
        "        data.to_csv(filename,index=False)\n",
        "    else:\n",
        "        data.to_csv(filename, mode='w', header=True, index=False)\n",
        "\n",
        "log_filename = 'exemption_logs.txt'\n",
        "logging.basicConfig(level=logging.INFO, format='%(asctime)s - %(levelname)s - %(message)s')\n",
        "file_handler = logging.FileHandler(log_filename)\n",
        "file_handler.setLevel(logging.INFO)\n",
        "formatter = logging.Formatter('%(asctime)s - %(levelname)s - %(message)s')\n",
        "file_handler.setFormatter(formatter)\n",
        "logging.getLogger().addHandler(file_handler)"
      ]
    },
    {
      "cell_type": "code",
      "execution_count": 8,
      "metadata": {
        "colab": {
          "base_uri": "https://localhost:8080/"
        },
        "id": "Yeyv5hc_rJi_",
        "outputId": "e4d63b8d-6b35-4220-b4b0-2a3cb04804d5"
      },
      "outputs": [
        {
          "data": {
            "text/plain": [
              "'gibraltar-range-nsw-2370'"
            ]
          },
          "execution_count": 8,
          "metadata": {},
          "output_type": "execute_result"
        }
      ],
      "source": [
        "df['0'][1]"
      ]
    },
    {
      "cell_type": "code",
      "execution_count": 9,
      "metadata": {
        "id": "ixUqo31f24wr"
      },
      "outputs": [],
      "source": [
        "implicit_wait_time = 2\n",
        "explicit_wait_time = 2"
      ]
    },
    {
      "cell_type": "code",
      "execution_count": 11,
      "metadata": {
        "colab": {
          "base_uri": "https://localhost:8080/",
          "height": 1000
        },
        "id": "Aejew2K7Qr6s",
        "outputId": "7cbb6ff1-9222-4596-f0e0-4101ba508570"
      },
      "outputs": [
        {
          "name": "stderr",
          "output_type": "stream",
          "text": [
            "Searching:   6%|▌         | 62/1058 [42:50<11:28:17, 41.46s/query]"
          ]
        },
        {
          "name": "stderr",
          "output_type": "stream",
          "text": [
            "\n",
            "2023-07-25 12:04:22,556 - WARNING - The version of firefox cannot be detected. Trying with latest driver version\n",
            "2023-07-25 12:05:00,484 - WARNING - The version of firefox cannot be detected. Trying with latest driver version\n"
          ]
        },
        {
          "name": "stdout",
          "output_type": "stream",
          "text": [
            "Close\n",
            "Close\n",
            "Close\n"
          ]
        },
        {
          "name": "stderr",
          "output_type": "stream",
          "text": [
            "2023-07-25 12:05:40,047 - WARNING - The version of firefox cannot be detected. Trying with latest driver version\n"
          ]
        },
        {
          "name": "stdout",
          "output_type": "stream",
          "text": [
            "Close\n",
            "Close\n",
            "Close\n",
            "Close\n"
          ]
        },
        {
          "name": "stderr",
          "output_type": "stream",
          "text": [
            "2023-07-25 12:06:18,003 - WARNING - The version of firefox cannot be detected. Trying with latest driver version\n",
            "2023-07-25 12:06:48,676 - WARNING - The version of firefox cannot be detected. Trying with latest driver version\n"
          ]
        },
        {
          "name": "stdout",
          "output_type": "stream",
          "text": [
            "Close\n",
            "Close\n"
          ]
        },
        {
          "name": "stderr",
          "output_type": "stream",
          "text": [
            "2023-07-25 12:07:30,781 - WARNING - The version of firefox cannot be detected. Trying with latest driver version\n",
            "2023-07-25 12:07:56,506 - WARNING - The version of firefox cannot be detected. Trying with latest driver version\n",
            "2023-07-25 12:08:34,068 - WARNING - The version of firefox cannot be detected. Trying with latest driver version\n",
            "2023-07-25 12:09:08,373 - WARNING - The version of firefox cannot be detected. Trying with latest driver version\n"
          ]
        },
        {
          "name": "stdout",
          "output_type": "stream",
          "text": [
            "Close\n",
            "Close\n",
            "Close\n",
            "Close\n"
          ]
        },
        {
          "name": "stderr",
          "output_type": "stream",
          "text": [
            "2023-07-25 12:09:52,478 - WARNING - The version of firefox cannot be detected. Trying with latest driver version\n"
          ]
        },
        {
          "name": "stdout",
          "output_type": "stream",
          "text": [
            "Close\n",
            "Close\n",
            "Close\n"
          ]
        },
        {
          "name": "stderr",
          "output_type": "stream",
          "text": [
            "2023-07-25 12:10:31,787 - WARNING - The version of firefox cannot be detected. Trying with latest driver version\n"
          ]
        },
        {
          "name": "stdout",
          "output_type": "stream",
          "text": [
            "Close\n",
            "Close\n",
            "Close\n"
          ]
        },
        {
          "name": "stderr",
          "output_type": "stream",
          "text": [
            "2023-07-25 12:11:04,537 - WARNING - The version of firefox cannot be detected. Trying with latest driver version\n",
            "2023-07-25 12:11:34,923 - WARNING - The version of firefox cannot be detected. Trying with latest driver version\n",
            "2023-07-25 12:12:14,367 - WARNING - The version of firefox cannot be detected. Trying with latest driver version\n",
            "2023-07-25 12:12:57,507 - WARNING - The version of firefox cannot be detected. Trying with latest driver version\n"
          ]
        },
        {
          "name": "stdout",
          "output_type": "stream",
          "text": [
            "Close\n",
            "Close\n"
          ]
        },
        {
          "name": "stderr",
          "output_type": "stream",
          "text": [
            "2023-07-25 12:13:40,152 - WARNING - The version of firefox cannot be detected. Trying with latest driver version\n"
          ]
        },
        {
          "name": "stdout",
          "output_type": "stream",
          "text": [
            "Close\n",
            "Close\n",
            "Close\n",
            "Close\n"
          ]
        },
        {
          "name": "stderr",
          "output_type": "stream",
          "text": [
            "2023-07-25 12:14:23,867 - WARNING - The version of firefox cannot be detected. Trying with latest driver version\n",
            "2023-07-25 12:14:58,348 - WARNING - The version of firefox cannot be detected. Trying with latest driver version\n",
            "2023-07-25 12:15:34,504 - WARNING - The version of firefox cannot be detected. Trying with latest driver version\n",
            "2023-07-25 12:16:03,564 - WARNING - The version of firefox cannot be detected. Trying with latest driver version\n",
            "2023-07-25 12:16:42,378 - WARNING - The version of firefox cannot be detected. Trying with latest driver version\n",
            "2023-07-25 12:17:18,873 - WARNING - The version of firefox cannot be detected. Trying with latest driver version\n",
            "2023-07-25 12:17:53,966 - WARNING - The version of firefox cannot be detected. Trying with latest driver version\n",
            "2023-07-25 12:18:21,963 - WARNING - The version of firefox cannot be detected. Trying with latest driver version\n",
            "2023-07-25 12:18:57,310 - WARNING - The version of firefox cannot be detected. Trying with latest driver version\n",
            "2023-07-25 12:19:30,282 - WARNING - The version of firefox cannot be detected. Trying with latest driver version\n"
          ]
        },
        {
          "name": "stdout",
          "output_type": "stream",
          "text": [
            "Close\n",
            "Close\n"
          ]
        },
        {
          "name": "stderr",
          "output_type": "stream",
          "text": [
            "2023-07-25 12:20:11,468 - WARNING - The version of firefox cannot be detected. Trying with latest driver version\n"
          ]
        },
        {
          "name": "stdout",
          "output_type": "stream",
          "text": [
            "Close\n",
            "Close\n",
            "Close\n",
            "Close\n"
          ]
        },
        {
          "name": "stderr",
          "output_type": "stream",
          "text": [
            "2023-07-25 12:20:54,707 - WARNING - The version of firefox cannot be detected. Trying with latest driver version\n",
            "2023-07-25 12:21:29,271 - WARNING - The version of firefox cannot be detected. Trying with latest driver version\n",
            "2023-07-25 12:22:01,928 - WARNING - The version of firefox cannot be detected. Trying with latest driver version\n"
          ]
        },
        {
          "name": "stdout",
          "output_type": "stream",
          "text": [
            "Close\n",
            "Close\n",
            "Close\n",
            "Close\n"
          ]
        },
        {
          "name": "stderr",
          "output_type": "stream",
          "text": [
            "2023-07-25 12:22:42,254 - WARNING - The version of firefox cannot be detected. Trying with latest driver version\n",
            "2023-07-25 12:23:41,987 - WARNING - The version of firefox cannot be detected. Trying with latest driver version\n"
          ]
        },
        {
          "name": "stdout",
          "output_type": "stream",
          "text": [
            "Close\n",
            "Close\n",
            "Close\n",
            "Close\n",
            "Close\n",
            "Close\n"
          ]
        },
        {
          "name": "stderr",
          "output_type": "stream",
          "text": [
            "2023-07-25 12:24:31,656 - WARNING - The version of firefox cannot be detected. Trying with latest driver version\n",
            "2023-07-25 12:25:01,621 - WARNING - The version of firefox cannot be detected. Trying with latest driver version\n"
          ]
        },
        {
          "name": "stdout",
          "output_type": "stream",
          "text": [
            "Close\n",
            "Close\n",
            "Close\n",
            "Close\n"
          ]
        },
        {
          "name": "stderr",
          "output_type": "stream",
          "text": [
            "2023-07-25 12:25:49,437 - WARNING - The version of firefox cannot be detected. Trying with latest driver version\n"
          ]
        },
        {
          "name": "stdout",
          "output_type": "stream",
          "text": [
            "Close\n",
            "Close\n",
            "Close\n"
          ]
        },
        {
          "name": "stderr",
          "output_type": "stream",
          "text": [
            "2023-07-25 12:26:25,143 - WARNING - The version of firefox cannot be detected. Trying with latest driver version\n",
            "2023-07-25 12:26:51,648 - WARNING - The version of firefox cannot be detected. Trying with latest driver version\n",
            "2023-07-25 12:27:28,727 - WARNING - The version of firefox cannot be detected. Trying with latest driver version\n"
          ]
        },
        {
          "name": "stdout",
          "output_type": "stream",
          "text": [
            "Close\n",
            "Close\n",
            "Close\n",
            "Close\n",
            "Close\n"
          ]
        },
        {
          "name": "stderr",
          "output_type": "stream",
          "text": [
            "2023-07-25 12:28:16,917 - WARNING - The version of firefox cannot be detected. Trying with latest driver version\n"
          ]
        },
        {
          "name": "stdout",
          "output_type": "stream",
          "text": [
            "Close\n",
            "Close\n",
            "Close\n"
          ]
        },
        {
          "name": "stderr",
          "output_type": "stream",
          "text": [
            "2023-07-25 12:28:53,949 - WARNING - The version of firefox cannot be detected. Trying with latest driver version\n"
          ]
        },
        {
          "name": "stdout",
          "output_type": "stream",
          "text": [
            "Close\n",
            "Close\n",
            "Close\n",
            "Close\n",
            "Close\n",
            "Close\n",
            "Close\n"
          ]
        },
        {
          "name": "stderr",
          "output_type": "stream",
          "text": [
            "2023-07-25 12:29:42,653 - WARNING - The version of firefox cannot be detected. Trying with latest driver version\n",
            "2023-07-25 12:30:15,939 - WARNING - The version of firefox cannot be detected. Trying with latest driver version\n",
            "2023-07-25 12:30:45,420 - WARNING - The version of firefox cannot be detected. Trying with latest driver version\n"
          ]
        },
        {
          "name": "stdout",
          "output_type": "stream",
          "text": [
            "Close\n",
            "Close\n",
            "Close\n"
          ]
        },
        {
          "name": "stderr",
          "output_type": "stream",
          "text": [
            "2023-07-25 12:31:25,836 - WARNING - The version of firefox cannot be detected. Trying with latest driver version\n",
            "2023-07-25 12:31:55,933 - WARNING - The version of firefox cannot be detected. Trying with latest driver version\n"
          ]
        },
        {
          "name": "stdout",
          "output_type": "stream",
          "text": [
            "Close\n"
          ]
        },
        {
          "name": "stderr",
          "output_type": "stream",
          "text": [
            "2023-07-25 12:32:32,427 - WARNING - The version of firefox cannot be detected. Trying with latest driver version\n",
            "2023-07-25 12:33:01,250 - WARNING - The version of firefox cannot be detected. Trying with latest driver version\n",
            "2023-07-25 12:33:34,596 - WARNING - The version of firefox cannot be detected. Trying with latest driver version\n",
            "2023-07-25 12:34:09,727 - WARNING - The version of firefox cannot be detected. Trying with latest driver version\n"
          ]
        },
        {
          "name": "stdout",
          "output_type": "stream",
          "text": [
            "Close\n",
            "Close\n",
            "Close\n",
            "Close\n",
            "Close\n"
          ]
        },
        {
          "name": "stderr",
          "output_type": "stream",
          "text": [
            "2023-07-25 12:34:53,339 - WARNING - The version of firefox cannot be detected. Trying with latest driver version\n",
            "2023-07-25 12:35:21,587 - WARNING - The version of firefox cannot be detected. Trying with latest driver version\n",
            "2023-07-25 12:35:53,291 - WARNING - The version of firefox cannot be detected. Trying with latest driver version\n",
            "2023-07-25 12:36:31,385 - WARNING - The version of firefox cannot be detected. Trying with latest driver version\n",
            "2023-07-25 12:37:06,318 - WARNING - The version of firefox cannot be detected. Trying with latest driver version\n",
            "2023-07-25 12:37:48,469 - WARNING - The version of firefox cannot be detected. Trying with latest driver version\n"
          ]
        },
        {
          "name": "stdout",
          "output_type": "stream",
          "text": [
            "Close\n",
            "Close\n",
            "Close\n"
          ]
        },
        {
          "name": "stderr",
          "output_type": "stream",
          "text": [
            "2023-07-25 12:38:28,314 - WARNING - The version of firefox cannot be detected. Trying with latest driver version\n"
          ]
        },
        {
          "name": "stdout",
          "output_type": "stream",
          "text": [
            "Close\n",
            "Close\n",
            "Close\n",
            "Close\n"
          ]
        },
        {
          "name": "stderr",
          "output_type": "stream",
          "text": [
            "2023-07-25 12:39:01,229 - WARNING - The version of firefox cannot be detected. Trying with latest driver version\n"
          ]
        },
        {
          "name": "stdout",
          "output_type": "stream",
          "text": [
            "Close\n",
            "Close\n"
          ]
        },
        {
          "name": "stderr",
          "output_type": "stream",
          "text": [
            "2023-07-25 12:39:35,754 - WARNING - The version of firefox cannot be detected. Trying with latest driver version\n",
            "2023-07-25 12:40:04,227 - WARNING - The version of firefox cannot be detected. Trying with latest driver version\n"
          ]
        },
        {
          "name": "stdout",
          "output_type": "stream",
          "text": [
            "Close\n",
            "Close\n",
            "Close\n",
            "Close\n"
          ]
        },
        {
          "name": "stderr",
          "output_type": "stream",
          "text": [
            "2023-07-25 12:40:50,956 - WARNING - The version of firefox cannot be detected. Trying with latest driver version\n"
          ]
        },
        {
          "name": "stdout",
          "output_type": "stream",
          "text": [
            "Close\n",
            "Close\n"
          ]
        },
        {
          "name": "stderr",
          "output_type": "stream",
          "text": [
            "2023-07-25 12:41:24,494 - WARNING - The version of firefox cannot be detected. Trying with latest driver version\n",
            "2023-07-25 12:41:55,263 - WARNING - The version of firefox cannot be detected. Trying with latest driver version\n",
            "2023-07-25 12:42:32,085 - WARNING - The version of firefox cannot be detected. Trying with latest driver version\n"
          ]
        },
        {
          "name": "stdout",
          "output_type": "stream",
          "text": [
            "Close\n"
          ]
        },
        {
          "name": "stderr",
          "output_type": "stream",
          "text": [
            "2023-07-25 12:43:12,934 - WARNING - The version of firefox cannot be detected. Trying with latest driver version\n",
            "2023-07-25 12:43:45,285 - WARNING - The version of firefox cannot be detected. Trying with latest driver version\n"
          ]
        },
        {
          "name": "stdout",
          "output_type": "stream",
          "text": [
            "Close\n",
            "Close\n",
            "Close\n",
            "Close\n",
            "Close\n"
          ]
        },
        {
          "name": "stderr",
          "output_type": "stream",
          "text": [
            "2023-07-25 12:44:40,171 - WARNING - The version of firefox cannot be detected. Trying with latest driver version\n",
            "2023-07-25 12:45:31,947 - WARNING - The version of firefox cannot be detected. Trying with latest driver version\n",
            "2023-07-25 12:46:02,736 - WARNING - The version of firefox cannot be detected. Trying with latest driver version\n"
          ]
        },
        {
          "name": "stdout",
          "output_type": "stream",
          "text": [
            "Close\n",
            "Close\n",
            "Close\n",
            "Close\n",
            "Close\n",
            "Close\n",
            "Close\n"
          ]
        },
        {
          "name": "stderr",
          "output_type": "stream",
          "text": [
            "2023-07-25 12:46:48,904 - WARNING - The version of firefox cannot be detected. Trying with latest driver version\n",
            "2023-07-25 12:47:17,690 - WARNING - The version of firefox cannot be detected. Trying with latest driver version\n",
            "2023-07-25 12:47:55,304 - WARNING - The version of firefox cannot be detected. Trying with latest driver version\n"
          ]
        },
        {
          "name": "stdout",
          "output_type": "stream",
          "text": [
            "Close\n",
            "Close\n",
            "Close\n",
            "Close\n",
            "Close\n",
            "Close\n",
            "Close\n"
          ]
        },
        {
          "name": "stderr",
          "output_type": "stream",
          "text": [
            "2023-07-25 12:48:37,419 - WARNING - The version of firefox cannot be detected. Trying with latest driver version\n"
          ]
        },
        {
          "name": "stdout",
          "output_type": "stream",
          "text": [
            "Close\n",
            "Close\n",
            "Close\n",
            "Close\n",
            "Close\n",
            "Close\n"
          ]
        },
        {
          "name": "stderr",
          "output_type": "stream",
          "text": [
            "2023-07-25 12:49:22,927 - WARNING - The version of firefox cannot be detected. Trying with latest driver version\n"
          ]
        },
        {
          "name": "stdout",
          "output_type": "stream",
          "text": [
            "Close\n",
            "Close\n",
            "Close\n",
            "Close\n"
          ]
        },
        {
          "name": "stderr",
          "output_type": "stream",
          "text": [
            "2023-07-25 12:50:05,118 - WARNING - The version of firefox cannot be detected. Trying with latest driver version\n",
            "2023-07-25 12:51:03,946 - WARNING - The version of firefox cannot be detected. Trying with latest driver version\n"
          ]
        },
        {
          "name": "stdout",
          "output_type": "stream",
          "text": [
            "Close\n",
            "Close\n",
            "Close\n",
            "Close\n",
            "Close\n"
          ]
        },
        {
          "name": "stderr",
          "output_type": "stream",
          "text": [
            "2023-07-25 12:51:43,776 - WARNING - The version of firefox cannot be detected. Trying with latest driver version\n"
          ]
        },
        {
          "name": "stdout",
          "output_type": "stream",
          "text": [
            "Close\n"
          ]
        },
        {
          "name": "stderr",
          "output_type": "stream",
          "text": [
            "2023-07-25 12:52:20,605 - WARNING - The version of firefox cannot be detected. Trying with latest driver version\n",
            "2023-07-25 12:53:02,681 - WARNING - The version of firefox cannot be detected. Trying with latest driver version\n"
          ]
        },
        {
          "name": "stdout",
          "output_type": "stream",
          "text": [
            "Close\n",
            "Close\n"
          ]
        },
        {
          "name": "stderr",
          "output_type": "stream",
          "text": [
            "2023-07-25 12:53:45,112 - WARNING - The version of firefox cannot be detected. Trying with latest driver version\n",
            "2023-07-25 12:54:48,082 - WARNING - The version of firefox cannot be detected. Trying with latest driver version\n",
            "2023-07-25 12:55:21,309 - WARNING - The version of firefox cannot be detected. Trying with latest driver version\n",
            "2023-07-25 12:56:35,729 - WARNING - The version of firefox cannot be detected. Trying with latest driver version\n",
            "2023-07-25 12:57:22,407 - WARNING - The version of firefox cannot be detected. Trying with latest driver version\n",
            "2023-07-25 12:58:30,626 - WARNING - The version of firefox cannot be detected. Trying with latest driver version\n",
            "2023-07-25 12:59:02,582 - WARNING - The version of firefox cannot be detected. Trying with latest driver version\n",
            "2023-07-25 12:59:35,464 - WARNING - The version of firefox cannot be detected. Trying with latest driver version\n",
            "2023-07-25 13:00:39,496 - WARNING - The version of firefox cannot be detected. Trying with latest driver version\n",
            "2023-07-25 13:01:21,911 - WARNING - The version of firefox cannot be detected. Trying with latest driver version\n"
          ]
        },
        {
          "name": "stdout",
          "output_type": "stream",
          "text": [
            "Close\n",
            "Close\n",
            "Close\n",
            "Close\n"
          ]
        },
        {
          "name": "stderr",
          "output_type": "stream",
          "text": [
            "2023-07-25 13:02:06,923 - WARNING - The version of firefox cannot be detected. Trying with latest driver version\n",
            "2023-07-25 13:02:35,992 - WARNING - The version of firefox cannot be detected. Trying with latest driver version\n",
            "2023-07-25 13:03:12,575 - WARNING - The version of firefox cannot be detected. Trying with latest driver version\n",
            "2023-07-25 13:04:15,815 - WARNING - The version of firefox cannot be detected. Trying with latest driver version\n",
            "2023-07-25 13:04:48,353 - WARNING - The version of firefox cannot be detected. Trying with latest driver version\n"
          ]
        },
        {
          "name": "stdout",
          "output_type": "stream",
          "text": [
            "Close\n",
            "Close\n",
            "Close\n"
          ]
        },
        {
          "name": "stderr",
          "output_type": "stream",
          "text": [
            "2023-07-25 13:05:29,004 - WARNING - The version of firefox cannot be detected. Trying with latest driver version\n"
          ]
        },
        {
          "name": "stdout",
          "output_type": "stream",
          "text": [
            "Close\n",
            "Close\n",
            "Close\n"
          ]
        },
        {
          "name": "stderr",
          "output_type": "stream",
          "text": [
            "2023-07-25 13:06:14,504 - WARNING - The version of firefox cannot be detected. Trying with latest driver version\n",
            "2023-07-25 13:06:44,088 - WARNING - The version of firefox cannot be detected. Trying with latest driver version\n",
            "2023-07-25 13:07:27,625 - WARNING - The version of firefox cannot be detected. Trying with latest driver version\n",
            "2023-07-25 13:08:48,372 - WARNING - The version of firefox cannot be detected. Trying with latest driver version\n",
            "2023-07-25 13:09:22,694 - WARNING - The version of firefox cannot be detected. Trying with latest driver version\n",
            "2023-07-25 13:10:01,190 - WARNING - The version of firefox cannot be detected. Trying with latest driver version\n",
            "2023-07-25 13:10:34,383 - WARNING - The version of firefox cannot be detected. Trying with latest driver version\n",
            "2023-07-25 13:11:07,255 - WARNING - The version of firefox cannot be detected. Trying with latest driver version\n"
          ]
        },
        {
          "name": "stdout",
          "output_type": "stream",
          "text": [
            "Close\n",
            "Close\n",
            "Close\n",
            "Close\n",
            "Close\n",
            "Close\n",
            "Close\n"
          ]
        },
        {
          "name": "stderr",
          "output_type": "stream",
          "text": [
            "2023-07-25 13:11:52,248 - WARNING - The version of firefox cannot be detected. Trying with latest driver version\n"
          ]
        },
        {
          "name": "stdout",
          "output_type": "stream",
          "text": [
            "Close\n",
            "Close\n",
            "Close\n"
          ]
        },
        {
          "name": "stderr",
          "output_type": "stream",
          "text": [
            "2023-07-25 13:12:26,689 - WARNING - The version of firefox cannot be detected. Trying with latest driver version\n",
            "2023-07-25 13:13:37,852 - WARNING - The version of firefox cannot be detected. Trying with latest driver version\n"
          ]
        },
        {
          "name": "stdout",
          "output_type": "stream",
          "text": [
            "Close\n",
            "Close\n",
            "Close\n",
            "Close\n",
            "Close\n",
            "Close\n",
            "Close\n"
          ]
        },
        {
          "name": "stderr",
          "output_type": "stream",
          "text": [
            "2023-07-25 13:14:29,485 - WARNING - The version of firefox cannot be detected. Trying with latest driver version\n"
          ]
        },
        {
          "name": "stdout",
          "output_type": "stream",
          "text": [
            "Close\n",
            "Close\n",
            "Close\n",
            "Close\n"
          ]
        },
        {
          "name": "stderr",
          "output_type": "stream",
          "text": [
            "2023-07-25 13:15:14,024 - WARNING - The version of firefox cannot be detected. Trying with latest driver version\n",
            "2023-07-25 13:15:40,333 - WARNING - The version of firefox cannot be detected. Trying with latest driver version\n"
          ]
        },
        {
          "name": "stdout",
          "output_type": "stream",
          "text": [
            "Close\n",
            "Close\n",
            "Close\n",
            "Close\n"
          ]
        },
        {
          "name": "stderr",
          "output_type": "stream",
          "text": [
            "2023-07-25 13:16:19,397 - WARNING - The version of firefox cannot be detected. Trying with latest driver version\n",
            "2023-07-25 13:16:47,498 - WARNING - The version of firefox cannot be detected. Trying with latest driver version\n"
          ]
        },
        {
          "name": "stdout",
          "output_type": "stream",
          "text": [
            "Close\n",
            "Close\n",
            "Close\n",
            "Close\n"
          ]
        },
        {
          "name": "stderr",
          "output_type": "stream",
          "text": [
            "2023-07-25 13:17:29,354 - WARNING - The version of firefox cannot be detected. Trying with latest driver version\n",
            "2023-07-25 13:18:04,971 - WARNING - The version of firefox cannot be detected. Trying with latest driver version\n"
          ]
        },
        {
          "name": "stdout",
          "output_type": "stream",
          "text": [
            "Close\n",
            "Close\n",
            "Close\n"
          ]
        },
        {
          "name": "stderr",
          "output_type": "stream",
          "text": [
            "2023-07-25 13:18:50,722 - WARNING - The version of firefox cannot be detected. Trying with latest driver version\n",
            "2023-07-25 13:19:29,041 - WARNING - The version of firefox cannot be detected. Trying with latest driver version\n"
          ]
        },
        {
          "name": "stdout",
          "output_type": "stream",
          "text": [
            "Close\n",
            "Close\n",
            "Close\n"
          ]
        },
        {
          "name": "stderr",
          "output_type": "stream",
          "text": [
            "2023-07-25 13:20:07,843 - WARNING - The version of firefox cannot be detected. Trying with latest driver version\n",
            "2023-07-25 13:20:45,823 - WARNING - The version of firefox cannot be detected. Trying with latest driver version\n"
          ]
        },
        {
          "name": "stdout",
          "output_type": "stream",
          "text": [
            "Close\n",
            "Close\n",
            "Close\n"
          ]
        },
        {
          "name": "stderr",
          "output_type": "stream",
          "text": [
            "2023-07-25 13:21:27,074 - WARNING - The version of firefox cannot be detected. Trying with latest driver version\n",
            "2023-07-25 13:22:01,962 - WARNING - The version of firefox cannot be detected. Trying with latest driver version\n",
            "2023-07-25 13:23:31,282 - WARNING - The version of firefox cannot be detected. Trying with latest driver version\n"
          ]
        },
        {
          "name": "stdout",
          "output_type": "stream",
          "text": [
            "Close\n",
            "Close\n",
            "Close\n"
          ]
        },
        {
          "name": "stderr",
          "output_type": "stream",
          "text": [
            "2023-07-25 13:24:03,895 - WARNING - The version of firefox cannot be detected. Trying with latest driver version\n",
            "2023-07-25 13:24:32,761 - WARNING - The version of firefox cannot be detected. Trying with latest driver version\n",
            "2023-07-25 13:25:12,010 - WARNING - The version of firefox cannot be detected. Trying with latest driver version\n",
            "2023-07-25 13:25:54,083 - WARNING - The version of firefox cannot be detected. Trying with latest driver version\n",
            "2023-07-25 13:26:25,813 - WARNING - The version of firefox cannot be detected. Trying with latest driver version\n",
            "2023-07-25 13:27:01,812 - WARNING - The version of firefox cannot be detected. Trying with latest driver version\n"
          ]
        },
        {
          "name": "stdout",
          "output_type": "stream",
          "text": [
            "Close\n",
            "Close\n",
            "Close\n",
            "Close\n"
          ]
        },
        {
          "name": "stderr",
          "output_type": "stream",
          "text": [
            "2023-07-25 13:27:43,740 - WARNING - The version of firefox cannot be detected. Trying with latest driver version\n",
            "2023-07-25 13:28:14,962 - WARNING - The version of firefox cannot be detected. Trying with latest driver version\n"
          ]
        },
        {
          "name": "stdout",
          "output_type": "stream",
          "text": [
            "Close\n",
            "Close\n",
            "Close\n"
          ]
        },
        {
          "name": "stderr",
          "output_type": "stream",
          "text": [
            "2023-07-25 13:29:03,580 - WARNING - The version of firefox cannot be detected. Trying with latest driver version\n",
            "2023-07-25 13:29:39,684 - WARNING - The version of firefox cannot be detected. Trying with latest driver version\n",
            "2023-07-25 13:30:13,245 - WARNING - The version of firefox cannot be detected. Trying with latest driver version\n"
          ]
        },
        {
          "name": "stdout",
          "output_type": "stream",
          "text": [
            "Close\n",
            "Close\n",
            "Close\n",
            "Close\n",
            "Close\n"
          ]
        },
        {
          "name": "stderr",
          "output_type": "stream",
          "text": [
            "2023-07-25 13:30:58,374 - WARNING - The version of firefox cannot be detected. Trying with latest driver version\n",
            "2023-07-25 13:31:36,167 - WARNING - The version of firefox cannot be detected. Trying with latest driver version\n",
            "2023-07-25 13:32:33,004 - WARNING - The version of firefox cannot be detected. Trying with latest driver version\n",
            "2023-07-25 13:33:32,377 - WARNING - The version of firefox cannot be detected. Trying with latest driver version\n"
          ]
        },
        {
          "name": "stdout",
          "output_type": "stream",
          "text": [
            "Close\n",
            "Close\n",
            "Close\n",
            "Close\n",
            "Close\n",
            "Close\n",
            "Close\n"
          ]
        },
        {
          "name": "stderr",
          "output_type": "stream",
          "text": [
            "2023-07-25 13:34:24,477 - WARNING - The version of firefox cannot be detected. Trying with latest driver version\n",
            "2023-07-25 13:35:21,102 - WARNING - The version of firefox cannot be detected. Trying with latest driver version\n",
            "2023-07-25 13:35:55,054 - WARNING - The version of firefox cannot be detected. Trying with latest driver version\n",
            "2023-07-25 13:37:07,125 - WARNING - The version of firefox cannot be detected. Trying with latest driver version\n",
            "2023-07-25 13:37:46,263 - WARNING - The version of firefox cannot be detected. Trying with latest driver version\n"
          ]
        },
        {
          "name": "stdout",
          "output_type": "stream",
          "text": [
            "Close\n",
            "Close\n",
            "Close\n",
            "Close\n"
          ]
        },
        {
          "name": "stderr",
          "output_type": "stream",
          "text": [
            "2023-07-25 13:38:22,962 - WARNING - The version of firefox cannot be detected. Trying with latest driver version\n"
          ]
        },
        {
          "name": "stdout",
          "output_type": "stream",
          "text": [
            "Close\n",
            "Close\n",
            "Close\n"
          ]
        },
        {
          "name": "stderr",
          "output_type": "stream",
          "text": [
            "2023-07-25 13:39:05,887 - WARNING - The version of firefox cannot be detected. Trying with latest driver version\n",
            "2023-07-25 13:40:06,324 - WARNING - The version of firefox cannot be detected. Trying with latest driver version\n"
          ]
        },
        {
          "name": "stdout",
          "output_type": "stream",
          "text": [
            "Close\n",
            "Close\n",
            "Close\n",
            "Close\n",
            "Close\n",
            "Close\n",
            "Close\n"
          ]
        },
        {
          "name": "stderr",
          "output_type": "stream",
          "text": [
            "2023-07-25 13:40:57,951 - WARNING - The version of firefox cannot be detected. Trying with latest driver version\n"
          ]
        },
        {
          "name": "stdout",
          "output_type": "stream",
          "text": [
            "Close\n",
            "Close\n",
            "Close\n",
            "Close\n"
          ]
        },
        {
          "name": "stderr",
          "output_type": "stream",
          "text": [
            "2023-07-25 13:41:36,696 - WARNING - The version of firefox cannot be detected. Trying with latest driver version\n",
            "2023-07-25 13:42:08,268 - WARNING - The version of firefox cannot be detected. Trying with latest driver version\n"
          ]
        },
        {
          "name": "stdout",
          "output_type": "stream",
          "text": [
            "Close\n",
            "Close\n",
            "Close\n",
            "Close\n",
            "Close\n"
          ]
        },
        {
          "name": "stderr",
          "output_type": "stream",
          "text": [
            "2023-07-25 13:43:01,180 - WARNING - The version of firefox cannot be detected. Trying with latest driver version\n"
          ]
        },
        {
          "name": "stdout",
          "output_type": "stream",
          "text": [
            "Close\n",
            "Close\n"
          ]
        },
        {
          "name": "stderr",
          "output_type": "stream",
          "text": [
            "2023-07-25 13:43:42,433 - WARNING - The version of firefox cannot be detected. Trying with latest driver version\n",
            "2023-07-25 13:44:40,279 - WARNING - The version of firefox cannot be detected. Trying with latest driver version\n",
            "2023-07-25 13:45:21,918 - WARNING - The version of firefox cannot be detected. Trying with latest driver version\n",
            "2023-07-25 13:45:59,855 - WARNING - The version of firefox cannot be detected. Trying with latest driver version\n",
            "2023-07-25 13:46:34,305 - WARNING - The version of firefox cannot be detected. Trying with latest driver version\n"
          ]
        },
        {
          "name": "stdout",
          "output_type": "stream",
          "text": [
            "Close\n",
            "Close\n"
          ]
        },
        {
          "name": "stderr",
          "output_type": "stream",
          "text": [
            "2023-07-25 13:47:11,443 - WARNING - The version of firefox cannot be detected. Trying with latest driver version\n"
          ]
        },
        {
          "name": "stdout",
          "output_type": "stream",
          "text": [
            "Close\n",
            "Close\n",
            "Close\n"
          ]
        },
        {
          "name": "stderr",
          "output_type": "stream",
          "text": [
            "2023-07-25 13:47:57,557 - WARNING - The version of firefox cannot be detected. Trying with latest driver version\n",
            "2023-07-25 13:48:22,890 - WARNING - The version of firefox cannot be detected. Trying with latest driver version\n"
          ]
        },
        {
          "name": "stdout",
          "output_type": "stream",
          "text": [
            "Close\n",
            "Close\n",
            "Close\n",
            "Close\n"
          ]
        },
        {
          "name": "stderr",
          "output_type": "stream",
          "text": [
            "2023-07-25 13:49:05,296 - WARNING - The version of firefox cannot be detected. Trying with latest driver version\n",
            "2023-07-25 13:49:35,964 - WARNING - The version of firefox cannot be detected. Trying with latest driver version\n",
            "2023-07-25 13:50:21,948 - WARNING - The version of firefox cannot be detected. Trying with latest driver version\n"
          ]
        },
        {
          "name": "stdout",
          "output_type": "stream",
          "text": [
            "Close\n",
            "Close\n"
          ]
        },
        {
          "name": "stderr",
          "output_type": "stream",
          "text": [
            "2023-07-25 13:50:58,180 - WARNING - The version of firefox cannot be detected. Trying with latest driver version\n",
            "2023-07-25 13:51:32,601 - WARNING - The version of firefox cannot be detected. Trying with latest driver version\n"
          ]
        },
        {
          "name": "stdout",
          "output_type": "stream",
          "text": [
            "Close\n",
            "Close\n",
            "Close\n",
            "Close\n",
            "Close\n",
            "Close\n",
            "Close\n"
          ]
        },
        {
          "name": "stderr",
          "output_type": "stream",
          "text": [
            "2023-07-25 13:52:19,404 - WARNING - The version of firefox cannot be detected. Trying with latest driver version\n",
            "2023-07-25 13:53:31,984 - WARNING - The version of firefox cannot be detected. Trying with latest driver version\n"
          ]
        },
        {
          "name": "stdout",
          "output_type": "stream",
          "text": [
            "Close\n",
            "Close\n",
            "Close\n",
            "Close\n",
            "Close\n",
            "Close\n"
          ]
        },
        {
          "name": "stderr",
          "output_type": "stream",
          "text": [
            "2023-07-25 13:54:17,296 - WARNING - The version of firefox cannot be detected. Trying with latest driver version\n"
          ]
        },
        {
          "name": "stdout",
          "output_type": "stream",
          "text": [
            "Close\n",
            "Close\n",
            "Close\n",
            "Close\n"
          ]
        },
        {
          "name": "stderr",
          "output_type": "stream",
          "text": [
            "2023-07-25 13:54:54,482 - WARNING - The version of firefox cannot be detected. Trying with latest driver version\n"
          ]
        },
        {
          "name": "stdout",
          "output_type": "stream",
          "text": [
            "Close\n",
            "Close\n",
            "Close\n",
            "Close\n",
            "Close\n"
          ]
        },
        {
          "name": "stderr",
          "output_type": "stream",
          "text": [
            "2023-07-25 13:55:45,297 - WARNING - The version of firefox cannot be detected. Trying with latest driver version\n",
            "2023-07-25 13:56:16,949 - WARNING - The version of firefox cannot be detected. Trying with latest driver version\n"
          ]
        },
        {
          "name": "stdout",
          "output_type": "stream",
          "text": [
            "Close\n",
            "Close\n",
            "Close\n",
            "Close\n"
          ]
        },
        {
          "name": "stderr",
          "output_type": "stream",
          "text": [
            "2023-07-25 13:57:01,925 - WARNING - The version of firefox cannot be detected. Trying with latest driver version\n",
            "2023-07-25 13:57:35,523 - WARNING - The version of firefox cannot be detected. Trying with latest driver version\n",
            "2023-07-25 13:58:09,131 - WARNING - The version of firefox cannot be detected. Trying with latest driver version\n"
          ]
        },
        {
          "name": "stdout",
          "output_type": "stream",
          "text": [
            "Close\n",
            "Close\n",
            "Close\n",
            "Close\n"
          ]
        },
        {
          "name": "stderr",
          "output_type": "stream",
          "text": [
            "2023-07-25 13:58:49,031 - WARNING - The version of firefox cannot be detected. Trying with latest driver version\n",
            "2023-07-25 13:59:21,604 - WARNING - The version of firefox cannot be detected. Trying with latest driver version\n",
            "2023-07-25 13:59:56,062 - WARNING - The version of firefox cannot be detected. Trying with latest driver version\n",
            "2023-07-25 14:00:30,516 - WARNING - The version of firefox cannot be detected. Trying with latest driver version\n",
            "2023-07-25 14:00:59,869 - WARNING - The version of firefox cannot be detected. Trying with latest driver version\n"
          ]
        },
        {
          "name": "stdout",
          "output_type": "stream",
          "text": [
            "Close\n"
          ]
        },
        {
          "name": "stderr",
          "output_type": "stream",
          "text": [
            "2023-07-25 14:01:38,495 - WARNING - The version of firefox cannot be detected. Trying with latest driver version\n",
            "2023-07-25 14:02:08,350 - WARNING - The version of firefox cannot be detected. Trying with latest driver version\n"
          ]
        },
        {
          "name": "stdout",
          "output_type": "stream",
          "text": [
            "Close\n",
            "Close\n",
            "Close\n",
            "Close\n",
            "Close\n",
            "Close\n",
            "Close\n"
          ]
        },
        {
          "name": "stderr",
          "output_type": "stream",
          "text": [
            "2023-07-25 14:03:08,331 - WARNING - The version of firefox cannot be detected. Trying with latest driver version\n",
            "2023-07-25 14:03:36,057 - WARNING - The version of firefox cannot be detected. Trying with latest driver version\n",
            "2023-07-25 14:04:13,829 - WARNING - The version of firefox cannot be detected. Trying with latest driver version\n",
            "2023-07-25 14:04:44,528 - WARNING - The version of firefox cannot be detected. Trying with latest driver version\n",
            "2023-07-25 14:05:38,005 - WARNING - The version of firefox cannot be detected. Trying with latest driver version\n",
            "2023-07-25 14:06:42,442 - WARNING - The version of firefox cannot be detected. Trying with latest driver version\n",
            "2023-07-25 14:07:20,366 - WARNING - The version of firefox cannot be detected. Trying with latest driver version\n"
          ]
        },
        {
          "name": "stdout",
          "output_type": "stream",
          "text": [
            "Close\n",
            "Close\n",
            "Close\n"
          ]
        },
        {
          "name": "stderr",
          "output_type": "stream",
          "text": [
            "2023-07-25 14:08:03,525 - WARNING - The version of firefox cannot be detected. Trying with latest driver version\n"
          ]
        },
        {
          "name": "stdout",
          "output_type": "stream",
          "text": [
            "Close\n",
            "Close\n",
            "Close\n",
            "Close\n"
          ]
        },
        {
          "name": "stderr",
          "output_type": "stream",
          "text": [
            "2023-07-25 14:08:45,195 - WARNING - The version of firefox cannot be detected. Trying with latest driver version\n"
          ]
        },
        {
          "name": "stdout",
          "output_type": "stream",
          "text": [
            "Close\n",
            "Close\n",
            "Close\n"
          ]
        },
        {
          "name": "stderr",
          "output_type": "stream",
          "text": [
            "2023-07-25 14:09:24,798 - WARNING - The version of firefox cannot be detected. Trying with latest driver version\n",
            "2023-07-25 14:10:30,661 - WARNING - The version of firefox cannot be detected. Trying with latest driver version\n",
            "2023-07-25 14:11:07,177 - WARNING - The version of firefox cannot be detected. Trying with latest driver version\n"
          ]
        },
        {
          "name": "stdout",
          "output_type": "stream",
          "text": [
            "Close\n",
            "Close\n",
            "Close\n"
          ]
        },
        {
          "name": "stderr",
          "output_type": "stream",
          "text": [
            "2023-07-25 14:11:45,433 - WARNING - The version of firefox cannot be detected. Trying with latest driver version\n"
          ]
        },
        {
          "name": "stdout",
          "output_type": "stream",
          "text": [
            "Close\n",
            "Close\n"
          ]
        },
        {
          "name": "stderr",
          "output_type": "stream",
          "text": [
            "2023-07-25 14:12:24,274 - WARNING - The version of firefox cannot be detected. Trying with latest driver version\n",
            "2023-07-25 14:12:58,027 - WARNING - The version of firefox cannot be detected. Trying with latest driver version\n"
          ]
        },
        {
          "name": "stdout",
          "output_type": "stream",
          "text": [
            "Close\n",
            "Close\n",
            "Close\n"
          ]
        },
        {
          "name": "stderr",
          "output_type": "stream",
          "text": [
            "2023-07-25 14:13:43,314 - WARNING - The version of firefox cannot be detected. Trying with latest driver version\n",
            "2023-07-25 14:14:15,950 - WARNING - The version of firefox cannot be detected. Trying with latest driver version\n"
          ]
        },
        {
          "name": "stdout",
          "output_type": "stream",
          "text": [
            "Close\n",
            "Close\n"
          ]
        },
        {
          "name": "stderr",
          "output_type": "stream",
          "text": [
            "2023-07-25 14:14:57,658 - WARNING - The version of firefox cannot be detected. Trying with latest driver version\n",
            "2023-07-25 14:15:26,620 - WARNING - The version of firefox cannot be detected. Trying with latest driver version\n"
          ]
        },
        {
          "name": "stdout",
          "output_type": "stream",
          "text": [
            "Close\n",
            "Close\n"
          ]
        },
        {
          "name": "stderr",
          "output_type": "stream",
          "text": [
            "2023-07-25 14:16:13,300 - WARNING - The version of firefox cannot be detected. Trying with latest driver version\n",
            "2023-07-25 14:16:38,821 - WARNING - The version of firefox cannot be detected. Trying with latest driver version\n"
          ]
        },
        {
          "name": "stdout",
          "output_type": "stream",
          "text": [
            "Close\n",
            "Close\n",
            "Close\n",
            "Close\n"
          ]
        },
        {
          "name": "stderr",
          "output_type": "stream",
          "text": [
            "2023-07-25 14:17:16,405 - WARNING - The version of firefox cannot be detected. Trying with latest driver version\n",
            "2023-07-25 14:17:40,316 - WARNING - The version of firefox cannot be detected. Trying with latest driver version\n"
          ]
        },
        {
          "name": "stdout",
          "output_type": "stream",
          "text": [
            "Close\n",
            "Close\n",
            "Close\n",
            "Close\n",
            "Close\n"
          ]
        },
        {
          "name": "stderr",
          "output_type": "stream",
          "text": [
            "2023-07-25 14:18:24,725 - WARNING - The version of firefox cannot be detected. Trying with latest driver version\n"
          ]
        },
        {
          "name": "stdout",
          "output_type": "stream",
          "text": [
            "Close\n",
            "Close\n",
            "Close\n",
            "Close\n",
            "Close\n"
          ]
        },
        {
          "name": "stderr",
          "output_type": "stream",
          "text": [
            "2023-07-25 14:19:06,937 - WARNING - The version of firefox cannot be detected. Trying with latest driver version\n"
          ]
        },
        {
          "name": "stdout",
          "output_type": "stream",
          "text": [
            "Close\n",
            "Close\n",
            "Close\n",
            "Close\n",
            "Close\n",
            "Close\n"
          ]
        },
        {
          "name": "stderr",
          "output_type": "stream",
          "text": [
            "2023-07-25 14:19:45,857 - WARNING - The version of firefox cannot be detected. Trying with latest driver version\n"
          ]
        },
        {
          "name": "stdout",
          "output_type": "stream",
          "text": [
            "Close\n",
            "Close\n",
            "Close\n",
            "Close\n",
            "Close\n",
            "Close\n"
          ]
        },
        {
          "name": "stderr",
          "output_type": "stream",
          "text": [
            "2023-07-25 14:20:21,923 - WARNING - The version of firefox cannot be detected. Trying with latest driver version\n"
          ]
        },
        {
          "name": "stdout",
          "output_type": "stream",
          "text": [
            "Close\n",
            "Close\n",
            "Close\n"
          ]
        },
        {
          "name": "stderr",
          "output_type": "stream",
          "text": [
            "2023-07-25 14:21:21,090 - WARNING - The version of firefox cannot be detected. Trying with latest driver version\n",
            "2023-07-25 14:21:46,162 - WARNING - The version of firefox cannot be detected. Trying with latest driver version\n"
          ]
        },
        {
          "name": "stdout",
          "output_type": "stream",
          "text": [
            "Close\n",
            "Close\n",
            "Close\n"
          ]
        },
        {
          "name": "stderr",
          "output_type": "stream",
          "text": [
            "2023-07-25 14:22:19,772 - WARNING - The version of firefox cannot be detected. Trying with latest driver version\n",
            "2023-07-25 14:22:45,145 - WARNING - The version of firefox cannot be detected. Trying with latest driver version\n",
            "2023-07-25 14:23:19,545 - WARNING - The version of firefox cannot be detected. Trying with latest driver version\n"
          ]
        },
        {
          "name": "stdout",
          "output_type": "stream",
          "text": [
            "Close\n",
            "Close\n",
            "Close\n",
            "Close\n",
            "Close\n",
            "Close\n"
          ]
        },
        {
          "name": "stderr",
          "output_type": "stream",
          "text": [
            "2023-07-25 14:24:26,362 - WARNING - The version of firefox cannot be detected. Trying with latest driver version\n",
            "2023-07-25 14:25:20,538 - WARNING - The version of firefox cannot be detected. Trying with latest driver version\n",
            "2023-07-25 14:25:45,842 - WARNING - The version of firefox cannot be detected. Trying with latest driver version\n",
            "2023-07-25 14:26:16,920 - WARNING - The version of firefox cannot be detected. Trying with latest driver version\n",
            "2023-07-25 14:27:20,768 - WARNING - The version of firefox cannot be detected. Trying with latest driver version\n"
          ]
        },
        {
          "name": "stdout",
          "output_type": "stream",
          "text": [
            "Close\n",
            "Close\n",
            "Close\n",
            "Close\n"
          ]
        },
        {
          "name": "stderr",
          "output_type": "stream",
          "text": [
            "2023-07-25 14:28:02,552 - WARNING - The version of firefox cannot be detected. Trying with latest driver version\n",
            "2023-07-25 14:29:10,790 - WARNING - The version of firefox cannot be detected. Trying with latest driver version\n",
            "2023-07-25 14:30:03,345 - WARNING - The version of firefox cannot be detected. Trying with latest driver version\n",
            "2023-07-25 14:30:38,106 - WARNING - The version of firefox cannot be detected. Trying with latest driver version\n"
          ]
        },
        {
          "name": "stdout",
          "output_type": "stream",
          "text": [
            "Close\n",
            "Close\n",
            "Close\n",
            "Close\n",
            "Close\n",
            "Close\n",
            "Close\n"
          ]
        },
        {
          "name": "stderr",
          "output_type": "stream",
          "text": [
            "2023-07-25 14:31:25,908 - WARNING - The version of firefox cannot be detected. Trying with latest driver version\n"
          ]
        },
        {
          "name": "stdout",
          "output_type": "stream",
          "text": [
            "Close\n",
            "Close\n",
            "Close\n"
          ]
        },
        {
          "name": "stderr",
          "output_type": "stream",
          "text": [
            "2023-07-25 14:32:06,355 - WARNING - The version of firefox cannot be detected. Trying with latest driver version\n",
            "2023-07-25 14:33:04,327 - WARNING - The version of firefox cannot be detected. Trying with latest driver version\n"
          ]
        },
        {
          "name": "stdout",
          "output_type": "stream",
          "text": [
            "Close\n",
            "Close\n",
            "Close\n",
            "Close\n"
          ]
        },
        {
          "name": "stderr",
          "output_type": "stream",
          "text": [
            "2023-07-25 14:33:39,604 - WARNING - The version of firefox cannot be detected. Trying with latest driver version\n"
          ]
        },
        {
          "name": "stdout",
          "output_type": "stream",
          "text": [
            "Close\n",
            "Close\n",
            "Close\n"
          ]
        },
        {
          "name": "stderr",
          "output_type": "stream",
          "text": [
            "2023-07-25 14:34:15,184 - WARNING - The version of firefox cannot be detected. Trying with latest driver version\n"
          ]
        },
        {
          "name": "stdout",
          "output_type": "stream",
          "text": [
            "Close\n",
            "Close\n",
            "Close\n",
            "Close\n"
          ]
        },
        {
          "name": "stderr",
          "output_type": "stream",
          "text": [
            "2023-07-25 14:34:54,696 - WARNING - The version of firefox cannot be detected. Trying with latest driver version\n"
          ]
        },
        {
          "name": "stdout",
          "output_type": "stream",
          "text": [
            "Close\n",
            "Close\n",
            "Close\n",
            "Close\n"
          ]
        },
        {
          "name": "stderr",
          "output_type": "stream",
          "text": [
            "2023-07-25 14:36:01,878 - WARNING - The version of firefox cannot be detected. Trying with latest driver version\n"
          ]
        },
        {
          "name": "stdout",
          "output_type": "stream",
          "text": [
            "Close\n",
            "Close\n",
            "Close\n"
          ]
        },
        {
          "name": "stderr",
          "output_type": "stream",
          "text": [
            "2023-07-25 14:36:39,241 - WARNING - The version of firefox cannot be detected. Trying with latest driver version\n"
          ]
        },
        {
          "name": "stdout",
          "output_type": "stream",
          "text": [
            "Close\n"
          ]
        },
        {
          "name": "stderr",
          "output_type": "stream",
          "text": [
            "2023-07-25 14:37:18,775 - WARNING - The version of firefox cannot be detected. Trying with latest driver version\n"
          ]
        },
        {
          "name": "stdout",
          "output_type": "stream",
          "text": [
            "Close\n"
          ]
        },
        {
          "name": "stderr",
          "output_type": "stream",
          "text": [
            "2023-07-25 14:37:52,469 - WARNING - The version of firefox cannot be detected. Trying with latest driver version\n"
          ]
        },
        {
          "name": "stdout",
          "output_type": "stream",
          "text": [
            "Close\n",
            "Close\n",
            "Close\n"
          ]
        },
        {
          "name": "stderr",
          "output_type": "stream",
          "text": [
            "2023-07-25 14:38:31,840 - WARNING - The version of firefox cannot be detected. Trying with latest driver version\n"
          ]
        },
        {
          "name": "stdout",
          "output_type": "stream",
          "text": [
            "Close\n",
            "Close\n",
            "Close\n"
          ]
        },
        {
          "name": "stderr",
          "output_type": "stream",
          "text": [
            "2023-07-25 14:39:04,279 - WARNING - The version of firefox cannot be detected. Trying with latest driver version\n"
          ]
        },
        {
          "name": "stdout",
          "output_type": "stream",
          "text": [
            "Close\n"
          ]
        },
        {
          "name": "stderr",
          "output_type": "stream",
          "text": [
            "2023-07-25 14:39:35,279 - WARNING - The version of firefox cannot be detected. Trying with latest driver version\n"
          ]
        }
      ],
      "source": [
        "totlis = [2116 , 3174]\n",
        "st_rng = totlis[0] +62\n",
        "end_rng = totlis[1]\n",
        "total_rng = abs(end_rng - st_rng)\n",
        "\n",
        "pbar = tqdm(total=total_rng, desc='Searching', unit='query')\n",
        "\n",
        "for sub in range(st_rng, end_rng):\n",
        "  pbar.update(1)\n",
        "\n",
        "  url = 'https://www.domain.com.au/suburb-profile/'+df['0'][sub]\n",
        "  driver = driver_setup() # for each link we are setting a new Firefox instance\n",
        "  driver.get(url)\n",
        "  html = driver.page_source\n",
        "  soup = BeautifulSoup(html, 'html.parser')\n",
        "  table = soup.find(\"table\")\n",
        "\n",
        "  try:\n",
        "    rows = table.find_all(\"tr\")[1:]\n",
        "\n",
        "    for row in range(len(rows)): # accessing the rows.\n",
        "        cells = rows[row].find_all(\"td\") # data collwxtion process collecing all cell data\n",
        "        try: # if the data is avilable it will collect or ignore.\n",
        "          bedrooms = cells[0].text.strip()\n",
        "        except:\n",
        "          bedrooms = None\n",
        "        try:\n",
        "          prop_type = cells[1].text.strip()\n",
        "        except:\n",
        "          prop_type = None\n",
        "        try:\n",
        "          median_price = cells[2].text.strip()\n",
        "        except:\n",
        "          median_price = None\n",
        "        try:\n",
        "          days_on_market = cells[3].text.strip()\n",
        "        except:\n",
        "          days_on_market = None\n",
        "        try:\n",
        "          clearance_rate = cells[4].text.strip()\n",
        "        except:\n",
        "          clearance_rate = None\n",
        "        try:\n",
        "          sold_this_year = cells[5].text.strip()\n",
        "        except:\n",
        "          sold_this_year = None\n",
        "        try:\n",
        "          population = soup.find('div', {'class': 'css-48zwbo'}).find('div', {'class': 'css-54bw0x'}).text\n",
        "        except:\n",
        "          population = None\n",
        "        try:\n",
        "          average_age = soup.find_all('div', {'class': 'css-48zwbo'})[1].find('div', {'class': 'css-54bw0x'}).text\n",
        "        except:\n",
        "          average_age = None\n",
        "        try:\n",
        "          owner_percent = soup.find('span', {'data-testid': 'left-value'}).text.strip()\n",
        "        except:\n",
        "          owner_percent = None\n",
        "        try:\n",
        "          renter_percent = soup.find('span', {'data-testid': 'right-value'}).text.strip()\n",
        "        except:\n",
        "          renter_percent = None\n",
        "        try:\n",
        "          family_percent = soup.find_all('span', {'data-testid': 'left-value'})[1].text.strip()\n",
        "        except:\n",
        "          family_percent = None\n",
        "        try:\n",
        "          single_percent = soup.find_all('span', {'data-testid': 'right-value'})[1].text.strip()\n",
        "        except:\n",
        "          single_percent = None\n",
        "\n",
        "        # Set the timestamp in Mosman, NSW, Australia (GMT+10)\n",
        "        australia_timezone = pytz.timezone('Australia/Sydney')\n",
        "        current_time = datetime.datetime.now(australia_timezone)\n",
        "\n",
        "        # single row collection, we also have the buttonfunction and it has more features like Rental median price.\n",
        "\n",
        "        row_data = { # features to dictionary.\n",
        "            \"Bedrooms\": bedrooms,\n",
        "            \"Type\": prop_type,\n",
        "            \"Median Price\": median_price,\n",
        "            \"Avg Days on Market\": days_on_market,\n",
        "            \"Clearance Rate\": clearance_rate,\n",
        "            \"Sold This Year\": sold_this_year,\n",
        "            'POPULATION': population,\n",
        "            'AVERAGE AGE': average_age,\n",
        "            'OWNER': owner_percent,\n",
        "            'RENTER': renter_percent,\n",
        "            'FAMILY': family_percent,\n",
        "            'SINGLE': single_percent,\n",
        "            'SUBURB': df['0'][sub],\n",
        "            'Time_stamp': current_time\n",
        "        }\n",
        "\n",
        "        one_row_data = pd.DataFrame(row_data,index=[0]) # dictionary to one row dataframe.\n",
        "\n",
        "        try: # if there is no row data then the entire loop has nothing to do.\n",
        "\n",
        "          # row's button function.\n",
        "\n",
        "          buttons = driver.find_elements(By.XPATH, \"//button[@title='Open' or @title='Close']\")\n",
        "          WebDriverWait(driver, 2).until(EC.element_to_be_clickable((By.XPATH, \"//button[@title='Open' or @title='Close']\")))\n",
        "          buttons[row].click()\n",
        "          # WebDriverWait(driver, 10).until(EC.staleness_of(buttons[row]))\n",
        "\n",
        "\n",
        "          button_html = buttons[row].get_attribute('outerHTML')\n",
        "          soup = BeautifulSoup(button_html, 'html.parser')\n",
        "          title_element = soup.find('div').find('title')\n",
        "          title = title_element.get_text()\n",
        "          print(title)\n",
        "          html = driver.page_source\n",
        "          soup = BeautifulSoup(html, 'html.parser')\n",
        "\n",
        "          tr_element = soup.find('tr', class_='css-1wpy7ho')\n",
        "          div_elements = tr_element.find_all('div', class_='css-15ydh5a')\n",
        "          datad = {}\n",
        "\n",
        "          # Extract the data from each div element and add it to the dictionary\n",
        "          for div in div_elements:\n",
        "              h4_element = div.find('h4', class_='css-srsjf4')\n",
        "              data_point = div.find('div', class_='css-1s6j0do')\n",
        "              label = h4_element.text.strip(':')\n",
        "              value = data_point.text.strip()\n",
        "              datad[label] = value\n",
        "\n",
        "          tdf = pd.DataFrame(datad, index=[0]) # dataframe to collect the data from the trend.\n",
        "\n",
        "          table_rows = soup.find_all('tr')  # table of one rows trend year wise.\n",
        "          data = {\n",
        "              'Year': [],\n",
        "              'Median Price': [],\n",
        "              'Growth': [],\n",
        "              'Number of Sales': []\n",
        "          }\n",
        "          for row in table_rows[1:]:\n",
        "              columns = row.find_all('td')\n",
        "              if len(columns) == 4:\n",
        "                  year = columns[0].text.strip()\n",
        "                  median_price = columns[1].text.strip()\n",
        "                  growth = columns[2].text.strip()\n",
        "                  num_sales = columns[3].text.strip()\n",
        "\n",
        "                  data['Year'].append(year)\n",
        "                  data['Median Price'].append(median_price)\n",
        "                  data['Growth'].append(growth)\n",
        "                  data['Number of Sales'].append(num_sales)\n",
        "\n",
        "          yearly_df = pd.DataFrame(data)\n",
        "\n",
        "          years = yearly_df['Year'].tolist()\n",
        "          for year in years:\n",
        "              tdf.loc[0, f'median_price_{year}'] = yearly_df.loc[yearly_df['Year'] == year, 'Median Price'].item()\n",
        "              tdf.loc[0, f'growth_rate_{year}'] = yearly_df.loc[yearly_df['Year'] == year, 'Growth'].item()\n",
        "              tdf.loc[0, f'no_of_sales_{year}'] = yearly_df.loc[yearly_df['Year'] == year, 'Number of Sales'].item()\n",
        "\n",
        "          australia_timezone = pytz.timezone('Australia/Sydney')\n",
        "          current_time = datetime.datetime.now(australia_timezone)\n",
        "\n",
        "          tempdf = pd.concat([one_row_data, tdf], ignore_index=True)\n",
        "          tempfilename = 'Domain_click_3.csv'\n",
        "\n",
        "          save_data_to_disk(tempdf, tempfilename)\n",
        "          tempdf = pd.DataFrame()\n",
        "          one_row_data = pd.DataFrame()\n",
        "        except:\n",
        "          None\n",
        "  except:\n",
        "    None\n",
        "\n",
        "  try:\n",
        "    driver.quit() # killing the firefox instance to maintain the speed of data sourcing.\n",
        "    gc.collect()\n",
        "    os.system(\"pkill firefox\")\n",
        "  except:\n",
        "    None"
      ]
    },
    {
      "cell_type": "code",
      "execution_count": null,
      "metadata": {
        "id": "FqGT8D-QTCWr"
      },
      "outputs": [],
      "source": []
    }
  ],
  "metadata": {
    "colab": {
      "provenance": []
    },
    "kernelspec": {
      "display_name": "Python 3",
      "name": "python3"
    },
    "language_info": {
      "codemirror_mode": {
        "name": "ipython",
        "version": 3
      },
      "file_extension": ".py",
      "mimetype": "text/x-python",
      "name": "python",
      "nbconvert_exporter": "python",
      "pygments_lexer": "ipython3",
      "version": "3.11.4"
    }
  },
  "nbformat": 4,
  "nbformat_minor": 0
}
