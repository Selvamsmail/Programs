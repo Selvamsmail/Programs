{
  "cells": [
    {
      "cell_type": "code",
      "execution_count": 1,
      "metadata": {
        "id": "YReJQI7rbDKP"
      },
      "outputs": [],
      "source": [
        "import pandas as pd\n",
        "import gdown\n",
        "import re\n",
        "import requests\n",
        "from bs4 import BeautifulSoup\n",
        "import json\n",
        "import pandas as pd\n",
        "import os\n",
        "from selenium import webdriver\n",
        "from selenium.webdriver.common.by import By\n",
        "from selenium.webdriver.support.ui import WebDriverWait\n",
        "from selenium.webdriver.support import expected_conditions as EC\n",
        "import gc\n",
        "import time\n",
        "import pytz\n",
        "import datetime\n",
        "import logging\n",
        "from tqdm import tqdm\n",
        "import traceback"
      ]
    },
    {
      "cell_type": "code",
      "execution_count": 2,
      "metadata": {
        "colab": {
          "base_uri": "https://localhost:8080/"
        },
        "id": "wHjBfwkOuA-O",
        "outputId": "11d423d5-7a9a-4955-cc84-3015632eac11"
      },
      "outputs": [
        {
          "name": "stderr",
          "output_type": "stream",
          "text": [
            "Downloading...\n",
            "From: https://drive.google.com/uc?id=1DuT3nnIouLKuRFbGo5lqcQwKTTb5GM8r\n",
            "To: e:\\Programs\\domain\\suburbs.csv\n",
            "100%|██████████| 975k/975k [00:00<00:00, 5.06MB/s]\n"
          ]
        }
      ],
      "source": [
        "gdown.download(id = '1DuT3nnIouLKuRFbGo5lqcQwKTTb5GM8r')\n",
        "df = pd.read_csv('suburbs.csv')"
      ]
    },
    {
      "cell_type": "code",
      "execution_count": 3,
      "metadata": {
        "colab": {
          "base_uri": "https://localhost:8080/"
        },
        "id": "v0FaTNQRu-Su",
        "outputId": "21a2a922-0e7c-4f16-c12a-54932922ba18"
      },
      "outputs": [
        {
          "data": {
            "text/plain": [
              "(15879, 2)"
            ]
          },
          "execution_count": 3,
          "metadata": {},
          "output_type": "execute_result"
        }
      ],
      "source": [
        "df.shape"
      ]
    },
    {
      "cell_type": "code",
      "execution_count": 4,
      "metadata": {
        "id": "gerNcz0mTdZ0"
      },
      "outputs": [],
      "source": [
        "def driver_setup():# Assigning a Headless Firefox Driver\n",
        "  options = webdriver.FirefoxOptions()\n",
        "  options.binary_location = 'C:/Program Files/Mozilla Firefox/firefox.exe'  # Path to Chrome executable\n",
        "  options.add_argument('E:/Programs/geckodriver.exe')\n",
        "  options.add_argument('--headless')\n",
        "  options.add_argument('--no-sandbox')\n",
        "  options.add_argument('--disable-dev-shm-usage')\n",
        "  driver = webdriver.Firefox(options=options)\n",
        "  return driver\n",
        "\n",
        "def save_data_to_disk(data, filename):\n",
        "    if os.path.isfile(filename):\n",
        "        existing_df = pd.read_csv(filename)\n",
        "        data = pd.concat([existing_df, data], ignore_index=True)\n",
        "        os.remove(filename)\n",
        "        data.to_csv(filename,index=False)\n",
        "    else:\n",
        "        data.to_csv(filename, mode='w', header=True, index=False)\n",
        "\n",
        "log_filename = 'exemption_logs.txt'\n",
        "logging.basicConfig(level=logging.INFO, format='%(asctime)s - %(levelname)s - %(message)s')\n",
        "file_handler = logging.FileHandler(log_filename)\n",
        "file_handler.setLevel(logging.INFO)\n",
        "formatter = logging.Formatter('%(asctime)s - %(levelname)s - %(message)s')\n",
        "file_handler.setFormatter(formatter)\n",
        "logging.getLogger().addHandler(file_handler)"
      ]
    },
    {
      "cell_type": "code",
      "execution_count": 5,
      "metadata": {
        "colab": {
          "base_uri": "https://localhost:8080/",
          "height": 35
        },
        "id": "Yeyv5hc_rJi_",
        "outputId": "940d6367-3c51-4117-ab5a-2fa3d4f44740"
      },
      "outputs": [
        {
          "data": {
            "text/plain": [
              "'gibraltar-range-nsw-2370'"
            ]
          },
          "execution_count": 5,
          "metadata": {},
          "output_type": "execute_result"
        }
      ],
      "source": [
        "df['0'][1]"
      ]
    },
    {
      "cell_type": "code",
      "execution_count": 6,
      "metadata": {
        "id": "ixUqo31f24wr"
      },
      "outputs": [],
      "source": [
        "implicit_wait_time = 2\n",
        "explicit_wait_time = 2"
      ]
    },
    {
      "cell_type": "code",
      "execution_count": 7,
      "metadata": {
        "colab": {
          "base_uri": "https://localhost:8080/",
          "height": 363
        },
        "id": "Aejew2K7Qr6s",
        "outputId": "9336ddd9-fed4-4abd-93ce-216afa89ad42"
      },
      "outputs": [
        {
          "name": "stderr",
          "output_type": "stream",
          "text": [
            "Searching:   0%|          | 0/1058 [00:00<?, ?query/s]2023-07-25 11:52:17,605 - WARNING - The version of firefox cannot be detected. Trying with latest driver version\n"
          ]
        },
        {
          "name": "stdout",
          "output_type": "stream",
          "text": [
            "Close\n",
            "Close\n",
            "Close\n"
          ]
        },
        {
          "name": "stderr",
          "output_type": "stream",
          "text": [
            "Searching:   0%|          | 2/1058 [00:28<4:12:11, 14.33s/query]2023-07-25 11:52:46,325 - WARNING - The version of firefox cannot be detected. Trying with latest driver version\n",
            "Searching:   0%|          | 3/1058 [01:03<6:40:18, 22.77s/query]2023-07-25 11:53:20,056 - WARNING - The version of firefox cannot be detected. Trying with latest driver version\n",
            "Searching:   0%|          | 4/1058 [01:28<6:54:07, 23.57s/query]2023-07-25 11:53:45,803 - WARNING - The version of firefox cannot be detected. Trying with latest driver version\n",
            "Searching:   0%|          | 5/1058 [01:59<7:42:56, 26.38s/query]2023-07-25 11:54:17,423 - WARNING - The version of firefox cannot be detected. Trying with latest driver version\n",
            "Searching:   1%|          | 6/1058 [02:32<8:19:30, 28.49s/query]2023-07-25 11:54:50,518 - WARNING - The version of firefox cannot be detected. Trying with latest driver version\n",
            "Searching:   1%|          | 7/1058 [03:34<11:26:23, 39.19s/query]2023-07-25 11:55:51,888 - WARNING - The version of firefox cannot be detected. Trying with latest driver version\n"
          ]
        },
        {
          "name": "stdout",
          "output_type": "stream",
          "text": [
            "Close\n",
            "Close\n",
            "Close\n",
            "Close\n",
            "Close\n"
          ]
        },
        {
          "name": "stderr",
          "output_type": "stream",
          "text": [
            "Searching:   1%|          | 8/1058 [04:28<12:48:59, 43.94s/query]2023-07-25 11:56:45,842 - WARNING - The version of firefox cannot be detected. Trying with latest driver version\n"
          ]
        },
        {
          "name": "stdout",
          "output_type": "stream",
          "text": [
            "Close\n",
            "Close\n",
            "Close\n"
          ]
        },
        {
          "name": "stderr",
          "output_type": "stream",
          "text": [
            "Searching:   1%|          | 9/1058 [05:35<14:51:26, 50.99s/query]2023-07-25 11:57:52,613 - WARNING - The version of firefox cannot be detected. Trying with latest driver version\n",
            "Searching:   1%|          | 10/1058 [06:25<14:47:52, 50.83s/query]2023-07-25 11:58:43,641 - WARNING - The version of firefox cannot be detected. Trying with latest driver version\n"
          ]
        },
        {
          "name": "stdout",
          "output_type": "stream",
          "text": [
            "Close\n",
            "Close\n",
            "Close\n",
            "Close\n",
            "Close\n",
            "Close\n"
          ]
        },
        {
          "name": "stderr",
          "output_type": "stream",
          "text": [
            "Searching:   1%|          | 11/1058 [07:05<13:50:22, 47.59s/query]2023-07-25 11:59:23,496 - WARNING - The version of firefox cannot be detected. Trying with latest driver version\n"
          ]
        },
        {
          "name": "stdout",
          "output_type": "stream",
          "text": [
            "Close\n",
            "Close\n",
            "Close\n"
          ]
        },
        {
          "name": "stderr",
          "output_type": "stream",
          "text": [
            "Searching:   1%|          | 12/1058 [07:39<12:34:51, 43.30s/query]2023-07-25 11:59:56,619 - WARNING - The version of firefox cannot be detected. Trying with latest driver version\n"
          ]
        },
        {
          "name": "stdout",
          "output_type": "stream",
          "text": [
            "Close\n",
            "Close\n",
            "Close\n",
            "Close\n",
            "Close\n",
            "Close\n",
            "Close\n"
          ]
        },
        {
          "name": "stderr",
          "output_type": "stream",
          "text": [
            "Searching:   1%|          | 13/1058 [08:15<11:54:11, 41.01s/query]2023-07-25 12:00:32,806 - WARNING - The version of firefox cannot be detected. Trying with latest driver version\n",
            "Searching:   1%|▏         | 14/1058 [08:48<11:13:07, 38.69s/query]2023-07-25 12:01:05,504 - WARNING - The version of firefox cannot be detected. Trying with latest driver version\n",
            "Searching:   1%|▏         | 15/1058 [09:18<10:25:02, 35.96s/query]2023-07-25 12:01:35,866 - WARNING - The version of firefox cannot be detected. Trying with latest driver version\n",
            "Searching:   2%|▏         | 16/1058 [09:56<10:39:40, 36.83s/query]2023-07-25 12:02:13,907 - WARNING - The version of firefox cannot be detected. Trying with latest driver version\n"
          ]
        },
        {
          "name": "stdout",
          "output_type": "stream",
          "text": [
            "Close\n",
            "Close\n",
            "Close\n",
            "Close\n"
          ]
        },
        {
          "name": "stderr",
          "output_type": "stream",
          "text": [
            "Searching:   2%|▏         | 17/1058 [10:33<10:37:57, 36.77s/query]2023-07-25 12:02:50,491 - WARNING - The version of firefox cannot be detected. Trying with latest driver version\n"
          ]
        },
        {
          "name": "stdout",
          "output_type": "stream",
          "text": [
            "Close\n",
            "Close\n",
            "Close\n",
            "Close\n"
          ]
        },
        {
          "name": "stderr",
          "output_type": "stream",
          "text": [
            "Searching:   2%|▏         | 18/1058 [11:06<10:16:24, 35.56s/query]2023-07-25 12:03:23,570 - WARNING - The version of firefox cannot be detected. Trying with latest driver version\n",
            "Searching:   2%|▏         | 19/1058 [11:35<9:42:38, 33.65s/query] 2023-07-25 12:03:52,565 - WARNING - The version of firefox cannot be detected. Trying with latest driver version\n",
            "Searching:   2%|▏         | 20/1058 [12:05<9:23:11, 32.55s/query]2023-07-25 12:04:22,354 - WARNING - The version of firefox cannot be detected. Trying with latest driver version\n",
            "Searching:   2%|▏         | 21/1058 [12:43<9:49:48, 34.13s/query]2023-07-25 12:05:00,644 - WARNING - The version of firefox cannot be detected. Trying with latest driver version\n",
            "Searching:   2%|▏         | 22/1058 [13:19<9:59:21, 34.71s/query]2023-07-25 12:05:36,821 - WARNING - The version of firefox cannot be detected. Trying with latest driver version\n",
            "Searching:   2%|▏         | 23/1058 [14:31<13:12:40, 45.95s/query]2023-07-25 12:06:48,677 - WARNING - The version of firefox cannot be detected. Trying with latest driver version\n",
            "Searching:   2%|▏         | 24/1058 [15:07<12:21:06, 43.00s/query]2023-07-25 12:07:25,505 - WARNING - The version of firefox cannot be detected. Trying with latest driver version\n",
            "Searching:   2%|▏         | 25/1058 [15:38<11:18:56, 39.44s/query]2023-07-25 12:07:55,517 - WARNING - The version of firefox cannot be detected. Trying with latest driver version\n"
          ]
        },
        {
          "name": "stdout",
          "output_type": "stream",
          "text": [
            "Close\n",
            "Close\n",
            "Close\n",
            "Close\n",
            "Close\n",
            "Close\n",
            "Close\n"
          ]
        },
        {
          "name": "stderr",
          "output_type": "stream",
          "text": [
            "Searching:   2%|▏         | 26/1058 [16:22<11:42:18, 40.83s/query]2023-07-25 12:08:42,730 - WARNING - The version of firefox cannot be detected. Trying with latest driver version\n",
            "Searching:   3%|▎         | 27/1058 [16:51<10:38:30, 37.16s/query]2023-07-25 12:09:08,613 - WARNING - The version of firefox cannot be detected. Trying with latest driver version\n",
            "Searching:   3%|▎         | 28/1058 [17:29<10:45:01, 37.57s/query]2023-07-25 12:09:47,597 - WARNING - The version of firefox cannot be detected. Trying with latest driver version\n",
            "Searching:   3%|▎         | 29/1058 [18:44<13:56:12, 48.76s/query]2023-07-25 12:11:02,233 - WARNING - The version of firefox cannot be detected. Trying with latest driver version\n"
          ]
        },
        {
          "name": "stdout",
          "output_type": "stream",
          "text": [
            "Close\n",
            "Close\n",
            "Close\n",
            "Close\n",
            "Close\n",
            "Close\n",
            "Close\n"
          ]
        },
        {
          "name": "stderr",
          "output_type": "stream",
          "text": [
            "Searching:   3%|▎         | 30/1058 [19:24<13:07:03, 45.94s/query]2023-07-25 12:11:43,813 - WARNING - The version of firefox cannot be detected. Trying with latest driver version\n",
            "Searching:   3%|▎         | 31/1058 [19:59<12:13:10, 42.83s/query]2023-07-25 12:12:16,603 - WARNING - The version of firefox cannot be detected. Trying with latest driver version\n",
            "Searching:   3%|▎         | 32/1058 [20:40<11:59:54, 42.10s/query]2023-07-25 12:12:57,276 - WARNING - The version of firefox cannot be detected. Trying with latest driver version\n"
          ]
        },
        {
          "name": "stdout",
          "output_type": "stream",
          "text": [
            "Close\n"
          ]
        },
        {
          "name": "stderr",
          "output_type": "stream",
          "text": [
            "Searching:   3%|▎         | 33/1058 [21:21<11:56:05, 41.92s/query]2023-07-25 12:13:38,889 - WARNING - The version of firefox cannot be detected. Trying with latest driver version\n",
            "Searching:   3%|▎         | 34/1058 [22:01<11:44:12, 41.26s/query]2023-07-25 12:14:20,560 - WARNING - The version of firefox cannot be detected. Trying with latest driver version\n",
            "Searching:   3%|▎         | 35/1058 [22:40<11:31:35, 40.56s/query]2023-07-25 12:14:58,342 - WARNING - The version of firefox cannot be detected. Trying with latest driver version\n"
          ]
        },
        {
          "name": "stdout",
          "output_type": "stream",
          "text": [
            "Close\n",
            "Close\n",
            "Close\n",
            "Close\n",
            "Close\n"
          ]
        },
        {
          "name": "stderr",
          "output_type": "stream",
          "text": [
            "Searching:   3%|▎         | 36/1058 [23:25<11:55:36, 42.01s/query]2023-07-25 12:15:43,546 - WARNING - The version of firefox cannot be detected. Trying with latest driver version\n"
          ]
        },
        {
          "name": "stdout",
          "output_type": "stream",
          "text": [
            "Close\n",
            "Close\n"
          ]
        },
        {
          "name": "stderr",
          "output_type": "stream",
          "text": [
            "Searching:   3%|▎         | 37/1058 [24:02<11:30:31, 40.58s/query]2023-07-25 12:16:24,425 - WARNING - The version of firefox cannot be detected. Trying with latest driver version\n"
          ]
        },
        {
          "name": "stdout",
          "output_type": "stream",
          "text": [
            "Close\n",
            "Close\n",
            "Close\n",
            "Close\n",
            "Close\n",
            "Close\n",
            "Close\n"
          ]
        },
        {
          "name": "stderr",
          "output_type": "stream",
          "text": [
            "Searching:   4%|▎         | 38/1058 [24:59<12:50:44, 45.34s/query]2023-07-25 12:17:17,567 - WARNING - The version of firefox cannot be detected. Trying with latest driver version\n",
            "Searching:   4%|▎         | 39/1058 [26:09<14:53:55, 52.64s/query]2023-07-25 12:18:26,093 - WARNING - The version of firefox cannot be detected. Trying with latest driver version\n"
          ]
        },
        {
          "name": "stdout",
          "output_type": "stream",
          "text": [
            "Close\n",
            "Close\n",
            "Close\n",
            "Close\n"
          ]
        },
        {
          "name": "stderr",
          "output_type": "stream",
          "text": [
            "Searching:   4%|▍         | 40/1058 [26:41<13:10:13, 46.57s/query]2023-07-25 12:18:58,694 - WARNING - The version of firefox cannot be detected. Trying with latest driver version\n",
            "Searching:   4%|▍         | 41/1058 [27:13<11:55:28, 42.21s/query]2023-07-25 12:19:30,382 - WARNING - The version of firefox cannot be detected. Trying with latest driver version\n",
            "Searching:   4%|▍         | 42/1058 [27:51<11:33:46, 40.97s/query]2023-07-25 12:20:09,566 - WARNING - The version of firefox cannot be detected. Trying with latest driver version\n"
          ]
        },
        {
          "name": "stdout",
          "output_type": "stream",
          "text": [
            "Close\n",
            "Close\n",
            "Close\n",
            "Close\n",
            "Close\n",
            "Close\n",
            "Close\n"
          ]
        },
        {
          "name": "stderr",
          "output_type": "stream",
          "text": [
            "Searching:   4%|▍         | 43/1058 [28:41<12:16:22, 43.53s/query]2023-07-25 12:20:58,110 - WARNING - The version of firefox cannot be detected. Trying with latest driver version\n",
            "Searching:   4%|▍         | 44/1058 [29:42<13:48:30, 49.02s/query]2023-07-25 12:22:00,220 - WARNING - The version of firefox cannot be detected. Trying with latest driver version\n",
            "Searching:   4%|▍         | 45/1058 [30:18<12:37:06, 44.84s/query]2023-07-25 12:22:34,884 - WARNING - The version of firefox cannot be detected. Trying with latest driver version\n",
            "Searching:   4%|▍         | 46/1058 [31:26<14:34:01, 51.82s/query]2023-07-25 12:23:43,096 - WARNING - The version of firefox cannot be detected. Trying with latest driver version\n",
            "Searching:   4%|▍         | 47/1058 [32:07<13:39:48, 48.65s/query]2023-07-25 12:24:25,450 - WARNING - The version of firefox cannot be detected. Trying with latest driver version\n"
          ]
        },
        {
          "name": "stdout",
          "output_type": "stream",
          "text": [
            "Close\n"
          ]
        },
        {
          "name": "stderr",
          "output_type": "stream",
          "text": [
            "Searching:   5%|▍         | 48/1058 [32:44<12:40:27, 45.18s/query]2023-07-25 12:25:01,279 - WARNING - The version of firefox cannot be detected. Trying with latest driver version\n",
            "Searching:   5%|▍         | 49/1058 [33:20<11:51:54, 42.33s/query]2023-07-25 12:25:39,484 - WARNING - The version of firefox cannot be detected. Trying with latest driver version\n",
            "Searching:   5%|▍         | 50/1058 [33:57<11:27:43, 40.94s/query]2023-07-25 12:26:17,275 - WARNING - The version of firefox cannot be detected. Trying with latest driver version\n"
          ]
        },
        {
          "name": "stdout",
          "output_type": "stream",
          "text": [
            "Close\n",
            "Close\n",
            "Close\n"
          ]
        },
        {
          "name": "stderr",
          "output_type": "stream",
          "text": [
            "Searching:   5%|▍         | 51/1058 [34:36<11:13:47, 40.15s/query]2023-07-25 12:26:53,407 - WARNING - The version of firefox cannot be detected. Trying with latest driver version\n",
            "Searching:   5%|▍         | 52/1058 [35:09<10:39:15, 38.13s/query]2023-07-25 12:27:27,484 - WARNING - The version of firefox cannot be detected. Trying with latest driver version\n",
            "Searching:   5%|▌         | 53/1058 [35:44<10:24:55, 37.31s/query]2023-07-25 12:28:04,566 - WARNING - The version of firefox cannot be detected. Trying with latest driver version\n",
            "Searching:   5%|▌         | 54/1058 [36:34<11:26:57, 41.05s/query]2023-07-25 12:28:52,180 - WARNING - The version of firefox cannot be detected. Trying with latest driver version\n",
            "Searching:   5%|▌         | 55/1058 [37:12<11:08:53, 40.01s/query]2023-07-25 12:29:30,204 - WARNING - The version of firefox cannot be detected. Trying with latest driver version\n"
          ]
        },
        {
          "name": "stdout",
          "output_type": "stream",
          "text": [
            "Close\n",
            "Close\n",
            "Close\n",
            "Close\n"
          ]
        },
        {
          "name": "stderr",
          "output_type": "stream",
          "text": [
            "Searching:   5%|▌         | 56/1058 [37:58<11:40:16, 41.93s/query]2023-07-25 12:30:16,223 - WARNING - The version of firefox cannot be detected. Trying with latest driver version\n",
            "Searching:   5%|▌         | 57/1058 [39:03<13:34:59, 48.85s/query]2023-07-25 12:31:21,000 - WARNING - The version of firefox cannot be detected. Trying with latest driver version\n",
            "Searching:   5%|▌         | 58/1058 [39:36<12:15:37, 44.14s/query]2023-07-25 12:31:56,019 - WARNING - The version of firefox cannot be detected. Trying with latest driver version\n",
            "Searching:   6%|▌         | 59/1058 [40:12<11:31:34, 41.54s/query]2023-07-25 12:32:30,156 - WARNING - The version of firefox cannot be detected. Trying with latest driver version\n",
            "Searching:   6%|▌         | 60/1058 [40:44<10:43:44, 38.70s/query]2023-07-25 12:33:01,222 - WARNING - The version of firefox cannot be detected. Trying with latest driver version\n",
            "Searching:   6%|▌         | 61/1058 [41:19<10:25:00, 37.61s/query]2023-07-25 12:33:36,727 - WARNING - The version of firefox cannot be detected. Trying with latest driver version\n",
            "Searching:   6%|▌         | 62/1058 [41:55<10:18:42, 37.27s/query]2023-07-25 12:34:12,687 - WARNING - The version of firefox cannot be detected. Trying with latest driver version\n",
            "Searching:   6%|▌         | 63/1058 [42:31<10:09:17, 36.74s/query]2023-07-25 12:34:48,935 - WARNING - The version of firefox cannot be detected. Trying with latest driver version\n"
          ]
        },
        {
          "name": "stdout",
          "output_type": "stream",
          "text": [
            "Close\n",
            "Close\n",
            "Close\n"
          ]
        },
        {
          "name": "stderr",
          "output_type": "stream",
          "text": [
            "Searching:   6%|▌         | 64/1058 [43:10<10:20:33, 37.46s/query]2023-07-25 12:35:28,851 - WARNING - The version of firefox cannot be detected. Trying with latest driver version\n",
            "Searching:   6%|▌         | 65/1058 [44:13<12:25:48, 45.06s/query]2023-07-25 12:36:30,130 - WARNING - The version of firefox cannot be detected. Trying with latest driver version\n",
            "Searching:   6%|▌         | 66/1058 [44:49<11:39:07, 42.29s/query]2023-07-25 12:37:06,730 - WARNING - The version of firefox cannot be detected. Trying with latest driver version\n",
            "Searching:   6%|▋         | 67/1058 [45:29<11:30:10, 41.79s/query]2023-07-25 12:37:47,541 - WARNING - The version of firefox cannot be detected. Trying with latest driver version\n",
            "Searching:   6%|▋         | 68/1058 [46:04<10:53:24, 39.60s/query]2023-07-25 12:38:22,498 - WARNING - The version of firefox cannot be detected. Trying with latest driver version\n",
            "Searching:   7%|▋         | 69/1058 [46:37<10:19:48, 37.60s/query]2023-07-25 12:38:54,625 - WARNING - The version of firefox cannot be detected. Trying with latest driver version\n",
            "Searching:   7%|▋         | 70/1058 [47:09<9:50:32, 35.86s/query] 2023-07-25 12:39:26,890 - WARNING - The version of firefox cannot be detected. Trying with latest driver version\n"
          ]
        },
        {
          "name": "stdout",
          "output_type": "stream",
          "text": [
            "Close\n",
            "Close\n",
            "Close\n",
            "Close\n"
          ]
        },
        {
          "name": "stderr",
          "output_type": "stream",
          "text": [
            "Searching:   7%|▋         | 71/1058 [47:52<10:25:09, 38.00s/query]2023-07-25 12:40:12,723 - WARNING - The version of firefox cannot be detected. Trying with latest driver version\n",
            "Searching:   7%|▋         | 72/1058 [48:32<10:36:24, 38.73s/query]2023-07-25 12:40:51,225 - WARNING - The version of firefox cannot be detected. Trying with latest driver version\n",
            "Searching:   7%|▋         | 73/1058 [49:05<10:05:21, 36.88s/query]2023-07-25 12:41:22,964 - WARNING - The version of firefox cannot be detected. Trying with latest driver version\n"
          ]
        },
        {
          "name": "stdout",
          "output_type": "stream",
          "text": [
            "Close\n",
            "Close\n",
            "Close\n",
            "Close\n"
          ]
        },
        {
          "name": "stderr",
          "output_type": "stream",
          "text": [
            "Searching:   7%|▋         | 74/1058 [49:42<10:09:49, 37.18s/query]2023-07-25 12:42:01,669 - WARNING - The version of firefox cannot be detected. Trying with latest driver version\n",
            "Searching:   7%|▋         | 75/1058 [50:14<9:42:30, 35.56s/query] 2023-07-25 12:42:31,916 - WARNING - The version of firefox cannot be detected. Trying with latest driver version\n",
            "Searching:   7%|▋         | 76/1058 [50:48<9:35:13, 35.15s/query]2023-07-25 12:43:06,289 - WARNING - The version of firefox cannot be detected. Trying with latest driver version\n",
            "Searching:   7%|▋         | 77/1058 [51:24<9:37:02, 35.29s/query]2023-07-25 12:43:42,396 - WARNING - The version of firefox cannot be detected. Trying with latest driver version\n",
            "Searching:   7%|▋         | 78/1058 [51:55<9:14:49, 33.97s/query]2023-07-25 12:44:13,882 - WARNING - The version of firefox cannot be detected. Trying with latest driver version\n",
            "Searching:   7%|▋         | 79/1058 [52:27<9:06:21, 33.48s/query]2023-07-25 12:44:44,624 - WARNING - The version of firefox cannot be detected. Trying with latest driver version\n"
          ]
        },
        {
          "name": "stdout",
          "output_type": "stream",
          "text": [
            "Close\n",
            "Close\n",
            "Close\n",
            "Close\n",
            "Close\n",
            "Close\n"
          ]
        },
        {
          "name": "stderr",
          "output_type": "stream",
          "text": [
            "Searching:   8%|▊         | 80/1058 [53:14<10:09:03, 37.37s/query]2023-07-25 12:45:32,438 - WARNING - The version of firefox cannot be detected. Trying with latest driver version\n"
          ]
        },
        {
          "name": "stdout",
          "output_type": "stream",
          "text": [
            "Close\n",
            "Close\n",
            "Close\n",
            "Close\n",
            "Close\n"
          ]
        },
        {
          "name": "stderr",
          "output_type": "stream",
          "text": [
            "Searching:   8%|▊         | 81/1058 [53:56<10:31:05, 38.76s/query]2023-07-25 12:46:15,281 - WARNING - The version of firefox cannot be detected. Trying with latest driver version\n",
            "Searching:   8%|▊         | 82/1058 [54:28<9:59:53, 36.88s/query] 2023-07-25 12:46:46,390 - WARNING - The version of firefox cannot be detected. Trying with latest driver version\n",
            "Searching:   8%|▊         | 83/1058 [54:59<9:28:27, 34.98s/query]2023-07-25 12:47:17,402 - WARNING - The version of firefox cannot be detected. Trying with latest driver version\n"
          ]
        },
        {
          "name": "stdout",
          "output_type": "stream",
          "text": [
            "Close\n"
          ]
        },
        {
          "name": "stderr",
          "output_type": "stream",
          "text": [
            "Searching:   8%|▊         | 84/1058 [55:38<9:47:43, 36.21s/query]2023-07-25 12:47:56,134 - WARNING - The version of firefox cannot be detected. Trying with latest driver version\n",
            "Searching:   8%|▊         | 85/1058 [56:13<9:43:58, 36.01s/query]2023-07-25 12:48:31,241 - WARNING - The version of firefox cannot be detected. Trying with latest driver version\n"
          ]
        },
        {
          "name": "stdout",
          "output_type": "stream",
          "text": [
            "Close\n",
            "Close\n",
            "Close\n",
            "Close\n",
            "Close\n"
          ]
        },
        {
          "name": "stderr",
          "output_type": "stream",
          "text": [
            "Searching:   8%|▊         | 86/1058 [57:03<10:51:28, 40.21s/query]2023-07-25 12:49:20,667 - WARNING - The version of firefox cannot be detected. Trying with latest driver version\n",
            "Searching:   8%|▊         | 87/1058 [57:35<10:09:49, 37.68s/query]2023-07-25 12:49:53,897 - WARNING - The version of firefox cannot be detected. Trying with latest driver version\n",
            "Searching:   8%|▊         | 88/1058 [58:12<10:06:27, 37.51s/query]2023-07-25 12:50:31,730 - WARNING - The version of firefox cannot be detected. Trying with latest driver version\n",
            "Searching:   8%|▊         | 89/1058 [58:44<9:36:40, 35.71s/query] 2023-07-25 12:51:02,289 - WARNING - The version of firefox cannot be detected. Trying with latest driver version\n"
          ]
        },
        {
          "name": "stdout",
          "output_type": "stream",
          "text": [
            "Close\n",
            "Close\n",
            "Close\n",
            "Close\n"
          ]
        },
        {
          "name": "stderr",
          "output_type": "stream",
          "text": [
            "Searching:   9%|▊         | 90/1058 [59:26<10:07:14, 37.64s/query]2023-07-25 12:51:43,761 - WARNING - The version of firefox cannot be detected. Trying with latest driver version\n"
          ]
        },
        {
          "name": "stdout",
          "output_type": "stream",
          "text": [
            "Close\n",
            "Close\n",
            "Close\n"
          ]
        },
        {
          "name": "stderr",
          "output_type": "stream",
          "text": [
            "Searching:   9%|▊         | 91/1058 [1:00:04<10:11:12, 37.92s/query]2023-07-25 12:52:23,002 - WARNING - The version of firefox cannot be detected. Trying with latest driver version\n"
          ]
        },
        {
          "name": "stdout",
          "output_type": "stream",
          "text": [
            "Close\n",
            "Close\n",
            "Close\n",
            "Close\n",
            "Close\n",
            "Close\n"
          ]
        },
        {
          "name": "stderr",
          "output_type": "stream",
          "text": [
            "Searching:   9%|▊         | 92/1058 [1:00:50<10:47:29, 40.22s/query]2023-07-25 12:53:08,248 - WARNING - The version of firefox cannot be detected. Trying with latest driver version\n"
          ]
        },
        {
          "name": "stdout",
          "output_type": "stream",
          "text": [
            "Close\n",
            "Close\n",
            "Close\n",
            "Close\n",
            "Close\n",
            "Close\n",
            "Close\n"
          ]
        },
        {
          "name": "stderr",
          "output_type": "stream",
          "text": [
            "Searching:   9%|▉         | 93/1058 [1:01:39<11:28:12, 42.79s/query]2023-07-25 12:54:03,629 - WARNING - The version of firefox cannot be detected. Trying with latest driver version\n"
          ]
        },
        {
          "name": "stdout",
          "output_type": "stream",
          "text": [
            "Close\n",
            "Close\n",
            "Close\n",
            "Close\n",
            "Close\n",
            "Close\n"
          ]
        },
        {
          "name": "stderr",
          "output_type": "stream",
          "text": [
            "Searching:   9%|▉         | 94/1058 [1:02:29<12:01:50, 44.93s/query]2023-07-25 12:54:47,047 - WARNING - The version of firefox cannot be detected. Trying with latest driver version\n",
            "Searching:   9%|▉         | 95/1058 [1:02:53<10:21:59, 38.75s/query]2023-07-25 12:55:15,389 - WARNING - The version of firefox cannot be detected. Trying with latest driver version\n"
          ]
        },
        {
          "name": "stdout",
          "output_type": "stream",
          "text": [
            "Close\n",
            "Close\n"
          ]
        },
        {
          "name": "stderr",
          "output_type": "stream",
          "text": [
            "Searching:   9%|▉         | 96/1058 [1:04:28<14:50:39, 55.55s/query]2023-07-25 12:56:47,302 - WARNING - The version of firefox cannot be detected. Trying with latest driver version\n",
            "Searching:   9%|▉         | 97/1058 [1:04:56<12:39:39, 47.43s/query]2023-07-25 12:57:14,652 - WARNING - The version of firefox cannot be detected. Trying with latest driver version\n"
          ]
        },
        {
          "name": "stdout",
          "output_type": "stream",
          "text": [
            "Close\n",
            "Close\n",
            "Close\n",
            "Close\n",
            "Close\n",
            "Close\n",
            "Close\n"
          ]
        },
        {
          "name": "stderr",
          "output_type": "stream",
          "text": [
            "Searching:   9%|▉         | 98/1058 [1:05:44<12:39:39, 47.48s/query]2023-07-25 12:58:02,569 - WARNING - The version of firefox cannot be detected. Trying with latest driver version\n",
            "Searching:   9%|▉         | 99/1058 [1:06:12<11:06:30, 41.70s/query]2023-07-25 12:58:29,739 - WARNING - The version of firefox cannot be detected. Trying with latest driver version\n",
            "Searching:   9%|▉         | 100/1058 [1:06:45<10:24:09, 39.09s/query]2023-07-25 12:59:03,347 - WARNING - The version of firefox cannot be detected. Trying with latest driver version\n",
            "Searching:  10%|▉         | 101/1058 [1:07:50<12:25:20, 46.73s/query]2023-07-25 13:00:07,574 - WARNING - The version of firefox cannot be detected. Trying with latest driver version\n"
          ]
        },
        {
          "name": "stdout",
          "output_type": "stream",
          "text": [
            "Close\n",
            "Close\n",
            "Close\n"
          ]
        },
        {
          "name": "stderr",
          "output_type": "stream",
          "text": [
            "Searching:  10%|▉         | 102/1058 [1:08:30<11:53:16, 44.77s/query]2023-07-25 13:00:47,787 - WARNING - The version of firefox cannot be detected. Trying with latest driver version\n",
            "Searching:  10%|▉         | 103/1058 [1:09:06<11:09:17, 42.05s/query]2023-07-25 13:01:24,259 - WARNING - The version of firefox cannot be detected. Trying with latest driver version\n"
          ]
        },
        {
          "name": "stdout",
          "output_type": "stream",
          "text": [
            "Close\n",
            "Close\n",
            "Close\n"
          ]
        },
        {
          "name": "stderr",
          "output_type": "stream",
          "text": [
            "Searching:  10%|▉         | 104/1058 [1:09:51<11:26:25, 43.17s/query]2023-07-25 13:02:09,158 - WARNING - The version of firefox cannot be detected. Trying with latest driver version\n"
          ]
        },
        {
          "name": "stdout",
          "output_type": "stream",
          "text": [
            "Close\n",
            "Close\n"
          ]
        },
        {
          "name": "stderr",
          "output_type": "stream",
          "text": [
            "Searching:  10%|▉         | 105/1058 [1:10:24<10:35:14, 39.99s/query]2023-07-25 13:02:42,886 - WARNING - The version of firefox cannot be detected. Trying with latest driver version\n",
            "Searching:  10%|█         | 106/1058 [1:11:28<12:26:41, 47.06s/query]2023-07-25 13:03:45,685 - WARNING - The version of firefox cannot be detected. Trying with latest driver version\n",
            "Searching:  10%|█         | 107/1058 [1:11:57<11:03:17, 41.85s/query]2023-07-25 13:04:14,865 - WARNING - The version of firefox cannot be detected. Trying with latest driver version\n",
            "Searching:  10%|█         | 108/1058 [1:13:05<13:06:20, 49.66s/query]2023-07-25 13:05:23,896 - WARNING - The version of firefox cannot be detected. Trying with latest driver version\n"
          ]
        },
        {
          "name": "stdout",
          "output_type": "stream",
          "text": [
            "Close\n",
            "Close\n",
            "Close\n",
            "Close\n",
            "Close\n"
          ]
        },
        {
          "name": "stderr",
          "output_type": "stream",
          "text": [
            "Searching:  10%|█         | 109/1058 [1:13:56<13:09:17, 49.90s/query]2023-07-25 13:06:13,524 - WARNING - The version of firefox cannot be detected. Trying with latest driver version\n",
            "Searching:  10%|█         | 110/1058 [1:14:26<11:36:48, 44.10s/query]2023-07-25 13:06:44,673 - WARNING - The version of firefox cannot be detected. Trying with latest driver version\n"
          ]
        },
        {
          "name": "stdout",
          "output_type": "stream",
          "text": [
            "Close\n",
            "Close\n"
          ]
        },
        {
          "name": "stderr",
          "output_type": "stream",
          "text": [
            "Searching:  10%|█         | 111/1058 [1:15:10<11:35:25, 44.06s/query]2023-07-25 13:07:27,769 - WARNING - The version of firefox cannot be detected. Trying with latest driver version\n",
            "Searching:  11%|█         | 112/1058 [1:15:46<10:54:18, 41.50s/query]2023-07-25 13:08:04,156 - WARNING - The version of firefox cannot be detected. Trying with latest driver version\n"
          ]
        },
        {
          "name": "stdout",
          "output_type": "stream",
          "text": [
            "Close\n",
            "Close\n",
            "Close\n",
            "Close\n",
            "Close\n",
            "Close\n"
          ]
        },
        {
          "name": "stderr",
          "output_type": "stream",
          "text": [
            "Searching:  11%|█         | 113/1058 [1:16:39<11:49:21, 45.04s/query]2023-07-25 13:08:56,228 - WARNING - The version of firefox cannot be detected. Trying with latest driver version\n"
          ]
        },
        {
          "name": "stdout",
          "output_type": "stream",
          "text": [
            "Close\n",
            "Close\n"
          ]
        },
        {
          "name": "stderr",
          "output_type": "stream",
          "text": [
            "Searching:  11%|█         | 114/1058 [1:17:13<10:55:17, 41.65s/query]2023-07-25 13:09:32,007 - WARNING - The version of firefox cannot be detected. Trying with latest driver version\n"
          ]
        },
        {
          "name": "stdout",
          "output_type": "stream",
          "text": [
            "Close\n",
            "Close\n",
            "Close\n",
            "Close\n"
          ]
        },
        {
          "name": "stderr",
          "output_type": "stream",
          "text": [
            "Searching:  11%|█         | 115/1058 [1:17:49<10:31:48, 40.20s/query]2023-07-25 13:10:08,589 - WARNING - The version of firefox cannot be detected. Trying with latest driver version\n",
            "Searching:  11%|█         | 116/1058 [1:18:50<12:07:59, 46.37s/query]2023-07-25 13:11:07,569 - WARNING - The version of firefox cannot be detected. Trying with latest driver version\n",
            "Searching:  11%|█         | 117/1058 [1:19:31<11:39:12, 44.58s/query]2023-07-25 13:11:48,382 - WARNING - The version of firefox cannot be detected. Trying with latest driver version\n"
          ]
        },
        {
          "name": "stdout",
          "output_type": "stream",
          "text": [
            "Close\n",
            "Close\n"
          ]
        },
        {
          "name": "stderr",
          "output_type": "stream",
          "text": [
            "Searching:  11%|█         | 118/1058 [1:20:08<11:04:01, 42.38s/query]2023-07-25 13:12:25,702 - WARNING - The version of firefox cannot be detected. Trying with latest driver version\n"
          ]
        },
        {
          "name": "stdout",
          "output_type": "stream",
          "text": [
            "Close\n",
            "Close\n",
            "Close\n",
            "Close\n",
            "Close\n",
            "Close\n",
            "Close\n"
          ]
        },
        {
          "name": "stderr",
          "output_type": "stream",
          "text": [
            "Searching:  11%|█         | 119/1058 [1:20:55<11:23:18, 43.66s/query]2023-07-25 13:13:12,844 - WARNING - The version of firefox cannot be detected. Trying with latest driver version\n",
            "Searching:  11%|█▏        | 120/1058 [1:21:24<10:17:40, 39.51s/query]2023-07-25 13:13:42,414 - WARNING - The version of firefox cannot be detected. Trying with latest driver version\n",
            "Searching:  11%|█▏        | 121/1058 [1:22:00<9:58:43, 38.34s/query] 2023-07-25 13:14:18,989 - WARNING - The version of firefox cannot be detected. Trying with latest driver version\n"
          ]
        },
        {
          "name": "stdout",
          "output_type": "stream",
          "text": [
            "Close\n",
            "Close\n"
          ]
        },
        {
          "name": "stderr",
          "output_type": "stream",
          "text": [
            "Searching:  12%|█▏        | 122/1058 [1:22:40<10:04:50, 38.77s/query]2023-07-25 13:14:57,525 - WARNING - The version of firefox cannot be detected. Trying with latest driver version\n",
            "Searching:  12%|█▏        | 123/1058 [1:22:59<8:31:31, 32.82s/query] 2023-07-25 13:15:22,501 - WARNING - The version of firefox cannot be detected. Trying with latest driver version\n"
          ]
        },
        {
          "name": "stdout",
          "output_type": "stream",
          "text": [
            "Close\n",
            "Close\n",
            "Close\n",
            "Close\n"
          ]
        },
        {
          "name": "stderr",
          "output_type": "stream",
          "text": [
            "Searching:  12%|█▏        | 124/1058 [1:23:51<10:02:01, 38.67s/query]2023-07-25 13:16:09,210 - WARNING - The version of firefox cannot be detected. Trying with latest driver version\n",
            "Searching:  12%|█▏        | 125/1058 [1:24:23<9:31:43, 36.77s/query] 2023-07-25 13:16:42,773 - WARNING - The version of firefox cannot be detected. Trying with latest driver version\n"
          ]
        },
        {
          "name": "stdout",
          "output_type": "stream",
          "text": [
            "Close\n",
            "Close\n",
            "Close\n",
            "Close\n",
            "Close\n"
          ]
        },
        {
          "name": "stderr",
          "output_type": "stream",
          "text": [
            "Searching:  12%|█▏        | 126/1058 [1:25:10<10:19:02, 39.85s/query]2023-07-25 13:17:27,949 - WARNING - The version of firefox cannot be detected. Trying with latest driver version\n"
          ]
        },
        {
          "name": "stdout",
          "output_type": "stream",
          "text": [
            "Close\n",
            "Close\n",
            "Close\n",
            "Close\n",
            "Close\n"
          ]
        },
        {
          "name": "stderr",
          "output_type": "stream",
          "text": [
            "Searching:  12%|█▏        | 127/1058 [1:25:50<10:17:51, 39.82s/query]2023-07-25 13:18:08,499 - WARNING - The version of firefox cannot be detected. Trying with latest driver version\n",
            "Searching:  12%|█▏        | 128/1058 [1:26:32<10:25:17, 40.34s/query]2023-07-25 13:18:50,564 - WARNING - The version of firefox cannot be detected. Trying with latest driver version\n"
          ]
        },
        {
          "name": "stdout",
          "output_type": "stream",
          "text": [
            "Close\n",
            "Close\n",
            "Close\n",
            "Close\n"
          ]
        },
        {
          "name": "stderr",
          "output_type": "stream",
          "text": [
            "Searching:  12%|█▏        | 129/1058 [1:27:15<10:39:18, 41.29s/query]2023-07-25 13:19:32,777 - WARNING - The version of firefox cannot be detected. Trying with latest driver version\n"
          ]
        },
        {
          "name": "stdout",
          "output_type": "stream",
          "text": [
            "Close\n",
            "Close\n",
            "Close\n",
            "Close\n",
            "Close\n",
            "Close\n",
            "Close\n"
          ]
        },
        {
          "name": "stderr",
          "output_type": "stream",
          "text": [
            "Searching:  12%|█▏        | 130/1058 [1:27:55<10:29:41, 40.71s/query]2023-07-25 13:20:14,531 - WARNING - The version of firefox cannot be detected. Trying with latest driver version\n",
            "Searching:  12%|█▏        | 131/1058 [1:28:29<10:01:24, 38.93s/query]2023-07-25 13:20:46,575 - WARNING - The version of firefox cannot be detected. Trying with latest driver version\n",
            "Searching:  12%|█▏        | 132/1058 [1:29:06<9:50:11, 38.24s/query] 2023-07-25 13:21:24,859 - WARNING - The version of firefox cannot be detected. Trying with latest driver version\n",
            "Searching:  13%|█▎        | 133/1058 [1:30:12<11:56:15, 46.46s/query]2023-07-25 13:22:29,728 - WARNING - The version of firefox cannot be detected. Trying with latest driver version\n"
          ]
        },
        {
          "name": "stdout",
          "output_type": "stream",
          "text": [
            "Close\n",
            "Close\n",
            "Close\n",
            "Close\n"
          ]
        },
        {
          "name": "stderr",
          "output_type": "stream",
          "text": [
            "Searching:  13%|█▎        | 134/1058 [1:30:45<10:57:11, 42.67s/query]2023-07-25 13:23:03,089 - WARNING - The version of firefox cannot be detected. Trying with latest driver version\n",
            "Searching:  13%|█▎        | 135/1058 [1:31:42<12:00:20, 46.83s/query]2023-07-25 13:23:59,667 - WARNING - The version of firefox cannot be detected. Trying with latest driver version\n"
          ]
        },
        {
          "name": "stdout",
          "output_type": "stream",
          "text": [
            "Close\n",
            "Close\n",
            "Close\n"
          ]
        },
        {
          "name": "stderr",
          "output_type": "stream",
          "text": [
            "Searching:  13%|█▎        | 136/1058 [1:32:19<11:16:20, 44.01s/query]2023-07-25 13:24:39,001 - WARNING - The version of firefox cannot be detected. Trying with latest driver version\n"
          ]
        },
        {
          "name": "stdout",
          "output_type": "stream",
          "text": [
            "Close\n",
            "Close\n",
            "Close\n",
            "Close\n",
            "Close\n",
            "Close\n"
          ]
        },
        {
          "name": "stderr",
          "output_type": "stream",
          "text": [
            "Searching:  13%|█▎        | 137/1058 [1:33:08<11:36:44, 45.39s/query]2023-07-25 13:25:25,373 - WARNING - The version of firefox cannot be detected. Trying with latest driver version\n",
            "Searching:  13%|█▎        | 138/1058 [1:33:39<10:27:26, 40.92s/query]2023-07-25 13:25:57,029 - WARNING - The version of firefox cannot be detected. Trying with latest driver version\n",
            "Searching:  13%|█▎        | 139/1058 [1:34:11<9:46:31, 38.29s/query] 2023-07-25 13:26:28,354 - WARNING - The version of firefox cannot be detected. Trying with latest driver version\n"
          ]
        },
        {
          "name": "stdout",
          "output_type": "stream",
          "text": [
            "Close\n",
            "Close\n",
            "Close\n"
          ]
        },
        {
          "name": "stderr",
          "output_type": "stream",
          "text": [
            "Searching:  13%|█▎        | 140/1058 [1:34:49<9:45:46, 38.29s/query]2023-07-25 13:27:07,456 - WARNING - The version of firefox cannot be detected. Trying with latest driver version\n",
            "Searching:  13%|█▎        | 141/1058 [1:35:24<9:29:32, 37.27s/query]2023-07-25 13:27:41,568 - WARNING - The version of firefox cannot be detected. Trying with latest driver version\n",
            "Searching:  13%|█▎        | 142/1058 [1:35:58<9:12:53, 36.22s/query]2023-07-25 13:28:15,273 - WARNING - The version of firefox cannot be detected. Trying with latest driver version\n"
          ]
        },
        {
          "name": "stdout",
          "output_type": "stream",
          "text": [
            "Close\n",
            "Close\n",
            "Close\n",
            "Close\n",
            "Close\n",
            "Close\n"
          ]
        },
        {
          "name": "stderr",
          "output_type": "stream",
          "text": [
            "Searching:  14%|█▎        | 143/1058 [1:36:45<10:01:40, 39.45s/query]2023-07-25 13:29:02,318 - WARNING - The version of firefox cannot be detected. Trying with latest driver version\n",
            "Searching:  14%|█▎        | 144/1058 [1:37:19<9:38:51, 38.00s/query] 2023-07-25 13:29:37,655 - WARNING - The version of firefox cannot be detected. Trying with latest driver version\n",
            "Searching:  14%|█▎        | 145/1058 [1:37:55<9:29:17, 37.41s/query]2023-07-25 13:30:12,733 - WARNING - The version of firefox cannot be detected. Trying with latest driver version\n"
          ]
        },
        {
          "name": "stdout",
          "output_type": "stream",
          "text": [
            "Close\n",
            "Close\n",
            "Close\n",
            "Close\n"
          ]
        },
        {
          "name": "stderr",
          "output_type": "stream",
          "text": [
            "Searching:  14%|█▍        | 146/1058 [1:38:35<9:38:11, 38.04s/query]2023-07-25 13:30:52,486 - WARNING - The version of firefox cannot be detected. Trying with latest driver version\n",
            "Searching:  14%|█▍        | 147/1058 [1:39:07<9:12:16, 36.37s/query]2023-07-25 13:31:26,335 - WARNING - The version of firefox cannot be detected. Trying with latest driver version\n",
            "Searching:  14%|█▍        | 148/1058 [1:39:44<9:12:34, 36.43s/query]2023-07-25 13:32:02,349 - WARNING - The version of firefox cannot be detected. Trying with latest driver version\n",
            "Searching:  14%|█▍        | 149/1058 [1:40:47<11:14:06, 44.50s/query]2023-07-25 13:33:04,445 - WARNING - The version of firefox cannot be detected. Trying with latest driver version\n",
            "Searching:  14%|█▍        | 150/1058 [1:41:40<11:51:33, 47.02s/query]2023-07-25 13:33:59,659 - WARNING - The version of firefox cannot be detected. Trying with latest driver version\n"
          ]
        },
        {
          "name": "stdout",
          "output_type": "stream",
          "text": [
            "Close\n",
            "Close\n"
          ]
        },
        {
          "name": "stderr",
          "output_type": "stream",
          "text": [
            "Searching:  14%|█▍        | 151/1058 [1:42:25<11:41:50, 46.43s/query]2023-07-25 13:34:44,029 - WARNING - The version of firefox cannot be detected. Trying with latest driver version\n"
          ]
        },
        {
          "name": "stdout",
          "output_type": "stream",
          "text": [
            "Close\n",
            "Close\n",
            "Close\n",
            "Close\n",
            "Close\n",
            "Close\n"
          ]
        },
        {
          "name": "stderr",
          "output_type": "stream",
          "text": [
            "Searching:  14%|█▍        | 152/1058 [1:43:05<11:10:03, 44.37s/query]2023-07-25 13:35:22,212 - WARNING - The version of firefox cannot be detected. Trying with latest driver version\n"
          ]
        },
        {
          "name": "stdout",
          "output_type": "stream",
          "text": [
            "Close\n",
            "Close\n",
            "Close\n"
          ]
        },
        {
          "name": "stderr",
          "output_type": "stream",
          "text": [
            "Searching:  14%|█▍        | 153/1058 [1:43:40<10:28:42, 41.68s/query]2023-07-25 13:35:57,348 - WARNING - The version of firefox cannot be detected. Trying with latest driver version\n",
            "Searching:  15%|█▍        | 154/1058 [1:44:10<9:34:17, 38.12s/query] 2023-07-25 13:36:27,166 - WARNING - The version of firefox cannot be detected. Trying with latest driver version\n",
            "Searching:  15%|█▍        | 155/1058 [1:44:46<9:26:31, 37.64s/query]2023-07-25 13:37:05,764 - WARNING - The version of firefox cannot be detected. Trying with latest driver version\n"
          ]
        },
        {
          "name": "stdout",
          "output_type": "stream",
          "text": [
            "Close\n"
          ]
        },
        {
          "name": "stderr",
          "output_type": "stream",
          "text": [
            "Searching:  15%|█▍        | 156/1058 [1:45:31<9:58:24, 39.81s/query]2023-07-25 13:37:49,133 - WARNING - The version of firefox cannot be detected. Trying with latest driver version\n",
            "Searching:  15%|█▍        | 157/1058 [1:46:04<9:28:03, 37.83s/query]2023-07-25 13:38:22,661 - WARNING - The version of firefox cannot be detected. Trying with latest driver version\n",
            "Searching:  15%|█▍        | 158/1058 [1:46:39<9:11:56, 36.80s/query]2023-07-25 13:38:56,868 - WARNING - The version of firefox cannot be detected. Trying with latest driver version\n",
            "Searching:  15%|█▌        | 159/1058 [1:47:13<8:58:24, 35.93s/query]2023-07-25 13:39:30,602 - WARNING - The version of firefox cannot be detected. Trying with latest driver version\n"
          ]
        },
        {
          "name": "stdout",
          "output_type": "stream",
          "text": [
            "Close\n",
            "Close\n",
            "Close\n",
            "Close\n",
            "Close\n",
            "Close\n",
            "Close\n"
          ]
        },
        {
          "name": "stderr",
          "output_type": "stream",
          "text": [
            "Searching:  15%|█▌        | 160/1058 [1:47:54<9:21:03, 37.49s/query]2023-07-25 13:40:12,709 - WARNING - The version of firefox cannot be detected. Trying with latest driver version\n"
          ]
        },
        {
          "name": "stdout",
          "output_type": "stream",
          "text": [
            "Close\n",
            "Close\n",
            "Close\n",
            "Close\n",
            "Close\n",
            "Close\n",
            "Close\n"
          ]
        },
        {
          "name": "stderr",
          "output_type": "stream",
          "text": [
            "Searching:  15%|█▌        | 161/1058 [1:48:41<10:05:08, 40.48s/query]2023-07-25 13:40:59,014 - WARNING - The version of firefox cannot be detected. Trying with latest driver version\n"
          ]
        },
        {
          "name": "stdout",
          "output_type": "stream",
          "text": [
            "Close\n"
          ]
        },
        {
          "name": "stderr",
          "output_type": "stream",
          "text": [
            "Searching:  15%|█▌        | 162/1058 [1:49:19<9:51:57, 39.64s/query] 2023-07-25 13:41:37,331 - WARNING - The version of firefox cannot be detected. Trying with latest driver version\n"
          ]
        },
        {
          "name": "stdout",
          "output_type": "stream",
          "text": [
            "Close\n",
            "Close\n",
            "Close\n",
            "Close\n",
            "Close\n",
            "Close\n"
          ]
        },
        {
          "name": "stderr",
          "output_type": "stream",
          "text": [
            "Searching:  15%|█▌        | 163/1058 [1:50:09<10:35:58, 42.64s/query]2023-07-25 13:42:31,173 - WARNING - The version of firefox cannot be detected. Trying with latest driver version\n"
          ]
        },
        {
          "name": "stdout",
          "output_type": "stream",
          "text": [
            "Close\n",
            "Close\n"
          ]
        },
        {
          "name": "stderr",
          "output_type": "stream",
          "text": [
            "Searching:  16%|█▌        | 164/1058 [1:50:52<10:37:56, 42.81s/query]2023-07-25 13:43:12,321 - WARNING - The version of firefox cannot be detected. Trying with latest driver version\n",
            "Searching:  16%|█▌        | 165/1058 [1:51:46<11:27:43, 46.21s/query]2023-07-25 13:44:04,832 - WARNING - The version of firefox cannot be detected. Trying with latest driver version\n",
            "Searching:  16%|█▌        | 166/1058 [1:52:20<10:33:29, 42.61s/query]2023-07-25 13:44:40,874 - WARNING - The version of firefox cannot be detected. Trying with latest driver version\n",
            "Searching:  16%|█▌        | 167/1058 [1:53:03<10:32:43, 42.61s/query]2023-07-25 13:45:21,322 - WARNING - The version of firefox cannot be detected. Trying with latest driver version\n",
            "Searching:  16%|█▌        | 168/1058 [1:53:42<10:17:48, 41.65s/query]2023-07-25 13:46:01,205 - WARNING - The version of firefox cannot be detected. Trying with latest driver version\n",
            "Searching:  16%|█▌        | 169/1058 [1:54:17<9:45:13, 39.50s/query] 2023-07-25 13:46:34,506 - WARNING - The version of firefox cannot be detected. Trying with latest driver version\n",
            "Searching:  16%|█▌        | 170/1058 [1:54:53<9:31:18, 38.60s/query]2023-07-25 13:47:10,713 - WARNING - The version of firefox cannot be detected. Trying with latest driver version\n",
            "Searching:  16%|█▌        | 171/1058 [1:55:28<9:13:16, 37.43s/query]2023-07-25 13:47:48,599 - WARNING - The version of firefox cannot be detected. Trying with latest driver version\n",
            "Searching:  16%|█▋        | 172/1058 [1:56:05<9:09:26, 37.21s/query]2023-07-25 13:48:23,811 - WARNING - The version of firefox cannot be detected. Trying with latest driver version\n",
            "Searching:  16%|█▋        | 173/1058 [1:56:45<9:22:34, 38.14s/query]2023-07-25 13:49:03,408 - WARNING - The version of firefox cannot be detected. Trying with latest driver version\n",
            "Searching:  16%|█▋        | 174/1058 [1:57:19<9:03:21, 36.88s/query]2023-07-25 13:49:36,228 - WARNING - The version of firefox cannot be detected. Trying with latest driver version\n"
          ]
        },
        {
          "name": "stdout",
          "output_type": "stream",
          "text": [
            "Close\n",
            "Close\n",
            "Close\n"
          ]
        },
        {
          "name": "stderr",
          "output_type": "stream",
          "text": [
            "Searching:  17%|█▋        | 175/1058 [1:58:07<9:52:21, 40.25s/query]2023-07-25 13:50:24,647 - WARNING - The version of firefox cannot be detected. Trying with latest driver version\n",
            "Searching:  17%|█▋        | 176/1058 [1:58:38<9:12:27, 37.58s/query]2023-07-25 13:50:56,254 - WARNING - The version of firefox cannot be detected. Trying with latest driver version\n",
            "Searching:  17%|█▋        | 177/1058 [1:59:13<8:58:53, 36.70s/query]2023-07-25 13:51:31,520 - WARNING - The version of firefox cannot be detected. Trying with latest driver version\n",
            "Searching:  17%|█▋        | 178/1058 [1:59:51<9:05:34, 37.20s/query]2023-07-25 13:52:09,944 - WARNING - The version of firefox cannot be detected. Trying with latest driver version\n",
            "Searching:  17%|█▋        | 179/1058 [2:00:37<9:43:13, 39.81s/query]2023-07-25 13:52:54,980 - WARNING - The version of firefox cannot be detected. Trying with latest driver version\n",
            "Searching:  17%|█▋        | 180/1058 [2:01:13<9:23:55, 38.54s/query]2023-07-25 13:53:31,815 - WARNING - The version of firefox cannot be detected. Trying with latest driver version\n",
            "Searching:  17%|█▋        | 181/1058 [2:01:58<9:51:33, 40.47s/query]2023-07-25 13:54:16,363 - WARNING - The version of firefox cannot be detected. Trying with latest driver version\n"
          ]
        },
        {
          "name": "stdout",
          "output_type": "stream",
          "text": [
            "Close\n",
            "Close\n",
            "Close\n",
            "Close\n",
            "Close\n",
            "Close\n"
          ]
        },
        {
          "name": "stderr",
          "output_type": "stream",
          "text": [
            "Searching:  17%|█▋        | 182/1058 [2:02:51<10:46:37, 44.29s/query]2023-07-25 13:55:11,214 - WARNING - The version of firefox cannot be detected. Trying with latest driver version\n"
          ]
        },
        {
          "name": "stdout",
          "output_type": "stream",
          "text": [
            "Close\n",
            "Close\n",
            "Close\n"
          ]
        },
        {
          "name": "stderr",
          "output_type": "stream",
          "text": [
            "Searching:  17%|█▋        | 183/1058 [2:03:31<10:27:10, 43.01s/query]2023-07-25 13:55:49,210 - WARNING - The version of firefox cannot be detected. Trying with latest driver version\n"
          ]
        },
        {
          "name": "stdout",
          "output_type": "stream",
          "text": [
            "Close\n",
            "Close\n",
            "Close\n",
            "Close\n"
          ]
        },
        {
          "name": "stderr",
          "output_type": "stream",
          "text": [
            "Searching:  17%|█▋        | 184/1058 [2:04:08<10:00:23, 41.22s/query]2023-07-25 13:56:26,169 - WARNING - The version of firefox cannot be detected. Trying with latest driver version\n"
          ]
        },
        {
          "name": "stdout",
          "output_type": "stream",
          "text": [
            "Close\n",
            "Close\n",
            "Close\n",
            "Close\n"
          ]
        },
        {
          "name": "stderr",
          "output_type": "stream",
          "text": [
            "Searching:  17%|█▋        | 185/1058 [2:04:47<9:47:52, 40.40s/query] 2023-07-25 13:57:04,045 - WARNING - The version of firefox cannot be detected. Trying with latest driver version\n",
            "Searching:  18%|█▊        | 186/1058 [2:05:19<9:10:46, 37.90s/query]2023-07-25 13:57:35,911 - WARNING - The version of firefox cannot be detected. Trying with latest driver version\n",
            "Searching:  18%|█▊        | 187/1058 [2:05:52<8:52:05, 36.65s/query]2023-07-25 13:58:10,266 - WARNING - The version of firefox cannot be detected. Trying with latest driver version\n",
            "Searching:  18%|█▊        | 188/1058 [2:06:33<9:07:36, 37.77s/query]2023-07-25 13:58:50,059 - WARNING - The version of firefox cannot be detected. Trying with latest driver version\n",
            "Searching:  18%|█▊        | 189/1058 [2:07:03<8:33:38, 35.46s/query]2023-07-25 13:59:21,438 - WARNING - The version of firefox cannot be detected. Trying with latest driver version\n",
            "Searching:  18%|█▊        | 190/1058 [2:07:38<8:30:58, 35.32s/query]2023-07-25 13:59:56,431 - WARNING - The version of firefox cannot be detected. Trying with latest driver version\n"
          ]
        },
        {
          "name": "stdout",
          "output_type": "stream",
          "text": [
            "Close\n",
            "Close\n",
            "Close\n",
            "Close\n"
          ]
        },
        {
          "name": "stderr",
          "output_type": "stream",
          "text": [
            "Searching:  18%|█▊        | 191/1058 [2:08:23<9:14:59, 38.41s/query]2023-07-25 14:00:43,056 - WARNING - The version of firefox cannot be detected. Trying with latest driver version\n",
            "Searching:  18%|█▊        | 192/1058 [2:08:48<8:12:36, 34.13s/query]2023-07-25 14:01:06,055 - WARNING - The version of firefox cannot be detected. Trying with latest driver version\n"
          ]
        },
        {
          "name": "stdout",
          "output_type": "stream",
          "text": [
            "Close\n",
            "Close\n",
            "Close\n",
            "Close\n",
            "Close\n",
            "Close\n",
            "Close\n"
          ]
        },
        {
          "name": "stderr",
          "output_type": "stream",
          "text": [
            "Searching:  18%|█▊        | 193/1058 [2:09:36<9:15:08, 38.51s/query]2023-07-25 14:02:01,944 - WARNING - The version of firefox cannot be detected. Trying with latest driver version\n"
          ]
        },
        {
          "name": "stdout",
          "output_type": "stream",
          "text": [
            "Close\n",
            "Close\n",
            "Close\n"
          ]
        },
        {
          "name": "stderr",
          "output_type": "stream",
          "text": [
            "Searching:  18%|█▊        | 194/1058 [2:10:27<10:07:21, 42.18s/query]2023-07-25 14:02:46,669 - WARNING - The version of firefox cannot be detected. Trying with latest driver version\n",
            "Searching:  18%|█▊        | 195/1058 [2:11:25<11:13:34, 46.83s/query]2023-07-25 14:03:44,920 - WARNING - The version of firefox cannot be detected. Trying with latest driver version\n",
            "Searching:  19%|█▊        | 196/1058 [2:11:57<10:11:20, 42.55s/query]2023-07-25 14:04:15,688 - WARNING - The version of firefox cannot be detected. Trying with latest driver version\n",
            "Searching:  19%|█▊        | 197/1058 [2:12:28<9:20:38, 39.07s/query] 2023-07-25 14:04:46,621 - WARNING - The version of firefox cannot be detected. Trying with latest driver version\n",
            "Searching:  19%|█▊        | 198/1058 [2:13:01<8:54:32, 37.29s/query]2023-07-25 14:05:25,256 - WARNING - The version of firefox cannot be detected. Trying with latest driver version\n",
            "Searching:  19%|█▉        | 199/1058 [2:13:45<9:23:03, 39.33s/query]2023-07-25 14:06:05,203 - WARNING - The version of firefox cannot be detected. Trying with latest driver version\n",
            "Searching:  19%|█▉        | 200/1058 [2:14:23<9:15:10, 38.82s/query]2023-07-25 14:06:42,014 - WARNING - The version of firefox cannot be detected. Trying with latest driver version\n",
            "Searching:  19%|█▉        | 201/1058 [2:15:01<9:09:57, 38.50s/query]2023-07-25 14:07:19,323 - WARNING - The version of firefox cannot be detected. Trying with latest driver version\n",
            "Searching:  19%|█▉        | 202/1058 [2:15:42<9:22:18, 39.41s/query]2023-07-25 14:08:00,889 - WARNING - The version of firefox cannot be detected. Trying with latest driver version\n"
          ]
        },
        {
          "name": "stdout",
          "output_type": "stream",
          "text": [
            "Close\n",
            "Close\n",
            "Close\n",
            "Close\n"
          ]
        },
        {
          "name": "stderr",
          "output_type": "stream",
          "text": [
            "Searching:  19%|█▉        | 203/1058 [2:16:27<9:44:39, 41.03s/query]2023-07-25 14:08:44,775 - WARNING - The version of firefox cannot be detected. Trying with latest driver version\n",
            "Searching:  19%|█▉        | 204/1058 [2:17:04<9:25:13, 39.71s/query]2023-07-25 14:09:21,712 - WARNING - The version of firefox cannot be detected. Trying with latest driver version\n"
          ]
        },
        {
          "name": "stdout",
          "output_type": "stream",
          "text": [
            "Close\n",
            "Close\n",
            "Close\n",
            "Close\n"
          ]
        },
        {
          "name": "stderr",
          "output_type": "stream",
          "text": [
            "Searching:  19%|█▉        | 205/1058 [2:17:44<9:26:47, 39.87s/query]2023-07-25 14:10:01,356 - WARNING - The version of firefox cannot be detected. Trying with latest driver version\n",
            "Searching:  19%|█▉        | 206/1058 [2:18:13<8:40:48, 36.68s/query]2023-07-25 14:10:30,710 - WARNING - The version of firefox cannot be detected. Trying with latest driver version\n",
            "Searching:  20%|█▉        | 207/1058 [2:18:50<8:39:47, 36.65s/query]2023-07-25 14:11:09,126 - WARNING - The version of firefox cannot be detected. Trying with latest driver version\n"
          ]
        },
        {
          "name": "stdout",
          "output_type": "stream",
          "text": [
            "Close\n",
            "Close\n",
            "Close\n"
          ]
        },
        {
          "name": "stderr",
          "output_type": "stream",
          "text": [
            "Searching:  20%|█▉        | 208/1058 [2:19:28<8:44:44, 37.04s/query]2023-07-25 14:11:45,185 - WARNING - The version of firefox cannot be detected. Trying with latest driver version\n",
            "Searching:  20%|█▉        | 209/1058 [2:20:02<8:33:03, 36.26s/query]2023-07-25 14:12:20,594 - WARNING - The version of firefox cannot be detected. Trying with latest driver version\n"
          ]
        },
        {
          "name": "stdout",
          "output_type": "stream",
          "text": [
            "Close\n",
            "Close\n",
            "Close\n"
          ]
        },
        {
          "name": "stderr",
          "output_type": "stream",
          "text": [
            "Searching:  20%|█▉        | 210/1058 [2:20:43<8:50:44, 37.55s/query]2023-07-25 14:13:00,747 - WARNING - The version of firefox cannot be detected. Trying with latest driver version\n",
            "Searching:  20%|█▉        | 211/1058 [2:21:17<8:36:30, 36.59s/query]2023-07-25 14:13:36,530 - WARNING - The version of firefox cannot be detected. Trying with latest driver version\n"
          ]
        },
        {
          "name": "stdout",
          "output_type": "stream",
          "text": [
            "Close\n",
            "Close\n",
            "Close\n",
            "Close\n",
            "Close\n",
            "Close\n",
            "Close\n"
          ]
        },
        {
          "name": "stderr",
          "output_type": "stream",
          "text": [
            "Searching:  20%|██        | 212/1058 [2:22:04<9:18:32, 39.61s/query]2023-07-25 14:14:24,073 - WARNING - The version of firefox cannot be detected. Trying with latest driver version\n",
            "Searching:  20%|██        | 213/1058 [2:22:36<8:44:58, 37.28s/query]2023-07-25 14:14:54,979 - WARNING - The version of firefox cannot be detected. Trying with latest driver version\n",
            "Searching:  20%|██        | 214/1058 [2:23:08<8:23:22, 35.78s/query]2023-07-25 14:15:26,071 - WARNING - The version of firefox cannot be detected. Trying with latest driver version\n"
          ]
        },
        {
          "name": "stdout",
          "output_type": "stream",
          "text": [
            "Close\n",
            "Close\n",
            "Close\n"
          ]
        },
        {
          "name": "stderr",
          "output_type": "stream",
          "text": [
            "Searching:  20%|██        | 215/1058 [2:23:56<9:16:08, 39.58s/query]2023-07-25 14:16:14,753 - WARNING - The version of firefox cannot be detected. Trying with latest driver version\n"
          ]
        },
        {
          "name": "stdout",
          "output_type": "stream",
          "text": [
            "Close\n",
            "Close\n",
            "Close\n",
            "Close\n",
            "Close\n",
            "Close\n"
          ]
        },
        {
          "name": "stderr",
          "output_type": "stream",
          "text": [
            "Searching:  20%|██        | 216/1058 [2:24:30<8:51:42, 37.89s/query]2023-07-25 14:16:48,820 - WARNING - The version of firefox cannot be detected. Trying with latest driver version\n",
            "Searching:  21%|██        | 217/1058 [2:25:24<9:58:44, 42.72s/query]2023-07-25 14:17:41,868 - WARNING - The version of firefox cannot be detected. Trying with latest driver version\n"
          ]
        },
        {
          "name": "stdout",
          "output_type": "stream",
          "text": [
            "Close\n",
            "Close\n",
            "Close\n",
            "Close\n",
            "Close\n",
            "Close\n"
          ]
        },
        {
          "name": "stderr",
          "output_type": "stream",
          "text": [
            "Searching:  21%|██        | 218/1058 [2:26:08<10:02:33, 43.04s/query]2023-07-25 14:18:25,598 - WARNING - The version of firefox cannot be detected. Trying with latest driver version\n"
          ]
        },
        {
          "name": "stdout",
          "output_type": "stream",
          "text": [
            "Close\n",
            "Close\n",
            "Close\n"
          ]
        },
        {
          "name": "stderr",
          "output_type": "stream",
          "text": [
            "Searching:  21%|██        | 219/1058 [2:26:50<9:57:18, 42.72s/query] 2023-07-25 14:19:08,287 - WARNING - The version of firefox cannot be detected. Trying with latest driver version\n"
          ]
        },
        {
          "name": "stdout",
          "output_type": "stream",
          "text": [
            "Close\n",
            "Close\n",
            "Close\n",
            "Close\n",
            "Close\n",
            "Close\n",
            "Close\n"
          ]
        },
        {
          "name": "stderr",
          "output_type": "stream",
          "text": [
            "Searching:  21%|██        | 220/1058 [2:27:34<10:00:11, 42.97s/query]2023-07-25 14:19:54,956 - WARNING - The version of firefox cannot be detected. Trying with latest driver version\n",
            "Searching:  21%|██        | 221/1058 [2:28:26<10:37:22, 45.69s/query]2023-07-25 14:20:42,967 - WARNING - The version of firefox cannot be detected. Trying with latest driver version\n"
          ]
        },
        {
          "name": "stdout",
          "output_type": "stream",
          "text": [
            "Close\n",
            "Close\n",
            "Close\n",
            "Close\n"
          ]
        },
        {
          "name": "stderr",
          "output_type": "stream",
          "text": [
            "Searching:  21%|██        | 222/1058 [2:29:03<10:00:06, 43.07s/query]2023-07-25 14:21:20,659 - WARNING - The version of firefox cannot be detected. Trying with latest driver version\n",
            "Searching:  21%|██        | 223/1058 [2:30:30<13:06:14, 56.50s/query]2023-07-25 14:22:48,641 - WARNING - The version of firefox cannot be detected. Trying with latest driver version\n"
          ]
        },
        {
          "name": "stdout",
          "output_type": "stream",
          "text": [
            "Close\n",
            "Close\n",
            "Close\n",
            "Close\n",
            "Close\n"
          ]
        },
        {
          "name": "stderr",
          "output_type": "stream",
          "text": [
            "Searching:  21%|██        | 224/1058 [2:31:04<11:30:46, 49.70s/query]2023-07-25 14:23:21,820 - WARNING - The version of firefox cannot be detected. Trying with latest driver version\n",
            "Searching:  21%|██▏       | 225/1058 [2:31:58<11:44:33, 50.75s/query]2023-07-25 14:24:16,749 - WARNING - The version of firefox cannot be detected. Trying with latest driver version\n",
            "Searching:  21%|██▏       | 226/1058 [2:32:32<10:37:25, 45.97s/query]2023-07-25 14:24:50,309 - WARNING - The version of firefox cannot be detected. Trying with latest driver version\n"
          ]
        },
        {
          "name": "stdout",
          "output_type": "stream",
          "text": [
            "Close\n",
            "Close\n",
            "Close\n"
          ]
        },
        {
          "name": "stderr",
          "output_type": "stream",
          "text": [
            "Searching:  21%|██▏       | 227/1058 [2:33:04<9:38:36, 41.78s/query] 2023-07-25 14:25:21,642 - WARNING - The version of firefox cannot be detected. Trying with latest driver version\n",
            "Searching:  22%|██▏       | 228/1058 [2:33:28<8:24:29, 36.47s/query]2023-07-25 14:25:45,829 - WARNING - The version of firefox cannot be detected. Trying with latest driver version\n",
            "Searching:  22%|██▏       | 229/1058 [2:34:33<10:18:54, 44.79s/query]2023-07-25 14:26:49,893 - WARNING - The version of firefox cannot be detected. Trying with latest driver version\n",
            "Searching:  22%|██▏       | 230/1058 [2:35:31<11:15:58, 48.98s/query]2023-07-25 14:27:50,921 - WARNING - The version of firefox cannot be detected. Trying with latest driver version\n",
            "Searching:  22%|██▏       | 231/1058 [2:36:26<11:38:32, 50.68s/query]2023-07-25 14:28:44,188 - WARNING - The version of firefox cannot be detected. Trying with latest driver version\n",
            "Searching:  22%|██▏       | 232/1058 [2:37:08<11:02:32, 48.13s/query]2023-07-25 14:29:26,608 - WARNING - The version of firefox cannot be detected. Trying with latest driver version\n"
          ]
        },
        {
          "name": "stdout",
          "output_type": "stream",
          "text": [
            "Close\n",
            "Close\n",
            "Close\n"
          ]
        },
        {
          "name": "stderr",
          "output_type": "stream",
          "text": [
            "Searching:  22%|██▏       | 233/1058 [2:37:48<10:28:09, 45.68s/query]2023-07-25 14:30:06,534 - WARNING - The version of firefox cannot be detected. Trying with latest driver version\n",
            "Searching:  22%|██▏       | 234/1058 [2:38:23<9:42:36, 42.42s/query] 2023-07-25 14:30:41,522 - WARNING - The version of firefox cannot be detected. Trying with latest driver version\n",
            "Searching:  22%|██▏       | 235/1058 [2:39:03<9:30:51, 41.62s/query]2023-07-25 14:31:21,690 - WARNING - The version of firefox cannot be detected. Trying with latest driver version\n",
            "Searching:  22%|██▏       | 236/1058 [2:39:43<9:24:05, 41.17s/query]2023-07-25 14:32:00,767 - WARNING - The version of firefox cannot be detected. Trying with latest driver version\n",
            "Searching:  22%|██▏       | 237/1058 [2:40:19<9:01:18, 39.56s/query]2023-07-25 14:32:36,716 - WARNING - The version of firefox cannot be detected. Trying with latest driver version\n"
          ]
        },
        {
          "name": "stdout",
          "output_type": "stream",
          "text": [
            "Close\n",
            "Close\n"
          ]
        },
        {
          "name": "stderr",
          "output_type": "stream",
          "text": [
            "Searching:  22%|██▏       | 238/1058 [2:40:51<8:31:04, 37.40s/query]2023-07-25 14:33:08,351 - WARNING - The version of firefox cannot be detected. Trying with latest driver version\n"
          ]
        },
        {
          "name": "stdout",
          "output_type": "stream",
          "text": [
            "Close\n",
            "Close\n",
            "Close\n",
            "Close\n"
          ]
        },
        {
          "name": "stderr",
          "output_type": "stream",
          "text": [
            "Searching:  23%|██▎       | 239/1058 [2:41:27<8:23:44, 36.90s/query]2023-07-25 14:33:45,691 - WARNING - The version of firefox cannot be detected. Trying with latest driver version\n",
            "Searching:  23%|██▎       | 240/1058 [2:42:27<10:00:12, 44.02s/query]2023-07-25 14:34:46,371 - WARNING - The version of firefox cannot be detected. Trying with latest driver version\n",
            "Searching:  23%|██▎       | 241/1058 [2:43:33<11:28:47, 50.58s/query]2023-07-25 14:35:51,556 - WARNING - The version of firefox cannot be detected. Trying with latest driver version\n",
            "Searching:  23%|██▎       | 242/1058 [2:44:29<11:48:54, 52.13s/query]2023-07-25 14:36:47,373 - WARNING - The version of firefox cannot be detected. Trying with latest driver version\n",
            "Searching:  23%|██▎       | 243/1058 [2:45:03<10:34:34, 46.72s/query]2023-07-25 14:37:20,724 - WARNING - The version of firefox cannot be detected. Trying with latest driver version\n"
          ]
        },
        {
          "name": "stdout",
          "output_type": "stream",
          "text": [
            "Close\n",
            "Close\n",
            "Close\n",
            "Close\n",
            "Close\n",
            "Close\n",
            "Close\n"
          ]
        },
        {
          "name": "stderr",
          "output_type": "stream",
          "text": [
            "Searching:  23%|██▎       | 244/1058 [2:45:54<10:50:03, 47.92s/query]"
          ]
        },
        {
          "ename": "",
          "evalue": "",
          "output_type": "error",
          "traceback": [
            "\u001b[1;31mCannot execute code, session has been disposed. Please try restarting the Kernel."
          ]
        },
        {
          "ename": "",
          "evalue": "",
          "output_type": "error",
          "traceback": [
            "\u001b[1;31mThe Kernel crashed while executing code in the the current cell or a previous cell. Please review the code in the cell(s) to identify a possible cause of the failure. Click <a href='https://aka.ms/vscodeJupyterKernelCrash'>here</a> for more info. View Jupyter <a href='command:jupyter.viewOutput'>log</a> for further details."
          ]
        }
      ],
      "source": [
        "totlis = [5290 , 6348]\n",
        "st_rng = totlis[0]\n",
        "end_rng = totlis[1]\n",
        "total_rng = abs(end_rng - st_rng)\n",
        "\n",
        "pbar = tqdm(total=total_rng, desc='Searching', unit='query')\n",
        "\n",
        "for sub in range(st_rng, end_rng):\n",
        "  pbar.update(1)\n",
        "\n",
        "  url = 'https://www.domain.com.au/suburb-profile/'+df['0'][sub]\n",
        "  driver = driver_setup() # for each link we are setting a new Firefox instance\n",
        "  driver.get(url)\n",
        "  html = driver.page_source\n",
        "  soup = BeautifulSoup(html, 'html.parser')\n",
        "  table = soup.find(\"table\")\n",
        "\n",
        "  try:\n",
        "    rows = table.find_all(\"tr\")[1:]\n",
        "\n",
        "    for row in range(len(rows)): # accessing the rows.\n",
        "        cells = rows[row].find_all(\"td\") # data collwxtion process collecing all cell data\n",
        "        try: # if the data is avilable it will collect or ignore.\n",
        "          bedrooms = cells[0].text.strip()\n",
        "        except:\n",
        "          bedrooms = None\n",
        "        try:\n",
        "          prop_type = cells[1].text.strip()\n",
        "        except:\n",
        "          prop_type = None\n",
        "        try:\n",
        "          median_price = cells[2].text.strip()\n",
        "        except:\n",
        "          median_price = None\n",
        "        try:\n",
        "          days_on_market = cells[3].text.strip()\n",
        "        except:\n",
        "          days_on_market = None\n",
        "        try:\n",
        "          clearance_rate = cells[4].text.strip()\n",
        "        except:\n",
        "          clearance_rate = None\n",
        "        try:\n",
        "          sold_this_year = cells[5].text.strip()\n",
        "        except:\n",
        "          sold_this_year = None\n",
        "        try:\n",
        "          population = soup.find('div', {'class': 'css-48zwbo'}).find('div', {'class': 'css-54bw0x'}).text\n",
        "        except:\n",
        "          population = None\n",
        "        try:\n",
        "          average_age = soup.find_all('div', {'class': 'css-48zwbo'})[1].find('div', {'class': 'css-54bw0x'}).text\n",
        "        except:\n",
        "          average_age = None\n",
        "        try:\n",
        "          owner_percent = soup.find('span', {'data-testid': 'left-value'}).text.strip()\n",
        "        except:\n",
        "          owner_percent = None\n",
        "        try:\n",
        "          renter_percent = soup.find('span', {'data-testid': 'right-value'}).text.strip()\n",
        "        except:\n",
        "          renter_percent = None\n",
        "        try:\n",
        "          family_percent = soup.find_all('span', {'data-testid': 'left-value'})[1].text.strip()\n",
        "        except:\n",
        "          family_percent = None\n",
        "        try:\n",
        "          single_percent = soup.find_all('span', {'data-testid': 'right-value'})[1].text.strip()\n",
        "        except:\n",
        "          single_percent = None\n",
        "\n",
        "        # Set the timestamp in Mosman, NSW, Australia (GMT+10)\n",
        "        australia_timezone = pytz.timezone('Australia/Sydney')\n",
        "        current_time = datetime.datetime.now(australia_timezone)\n",
        "\n",
        "        # single row collection, we also have the buttonfunction and it has more features like Rental median price.\n",
        "\n",
        "        row_data = { # features to dictionary.\n",
        "            \"Bedrooms\": bedrooms,\n",
        "            \"Type\": prop_type,\n",
        "            \"Median Price\": median_price,\n",
        "            \"Avg Days on Market\": days_on_market,\n",
        "            \"Clearance Rate\": clearance_rate,\n",
        "            \"Sold This Year\": sold_this_year,\n",
        "            'POPULATION': population,\n",
        "            'AVERAGE AGE': average_age,\n",
        "            'OWNER': owner_percent,\n",
        "            'RENTER': renter_percent,\n",
        "            'FAMILY': family_percent,\n",
        "            'SINGLE': single_percent,\n",
        "            'SUBURB': df['0'][sub],\n",
        "            'Time_stamp': current_time\n",
        "        }\n",
        "\n",
        "        one_row_data = pd.DataFrame(row_data,index=[0]) # dictionary to one row dataframe.\n",
        "\n",
        "        try: # if there is no row data then the entire loop has nothing to do.\n",
        "\n",
        "          # row's button function.\n",
        "\n",
        "          buttons = driver.find_elements(By.XPATH, \"//button[@title='Open' or @title='Close']\")\n",
        "          WebDriverWait(driver, 2).until(EC.element_to_be_clickable((By.XPATH, \"//button[@title='Open' or @title='Close']\")))\n",
        "          buttons[row].click()\n",
        "          # WebDriverWait(driver, 10).until(EC.staleness_of(buttons[row]))\n",
        "\n",
        "\n",
        "          button_html = buttons[row].get_attribute('outerHTML')\n",
        "          soup = BeautifulSoup(button_html, 'html.parser')\n",
        "          title_element = soup.find('div').find('title')\n",
        "          title = title_element.get_text()\n",
        "          print(title)\n",
        "          html = driver.page_source\n",
        "          soup = BeautifulSoup(html, 'html.parser')\n",
        "\n",
        "          tr_element = soup.find('tr', class_='css-1wpy7ho')\n",
        "          div_elements = tr_element.find_all('div', class_='css-15ydh5a')\n",
        "          datad = {}\n",
        "\n",
        "          # Extract the data from each div element and add it to the dictionary\n",
        "          for div in div_elements:\n",
        "              h4_element = div.find('h4', class_='css-srsjf4')\n",
        "              data_point = div.find('div', class_='css-1s6j0do')\n",
        "              label = h4_element.text.strip(':')\n",
        "              value = data_point.text.strip()\n",
        "              datad[label] = value\n",
        "\n",
        "          tdf = pd.DataFrame(datad, index=[0]) # dataframe to collect the data from the trend.\n",
        "\n",
        "          table_rows = soup.find_all('tr')  # table of one rows trend year wise.\n",
        "          data = {\n",
        "              'Year': [],\n",
        "              'Median Price': [],\n",
        "              'Growth': [],\n",
        "              'Number of Sales': []\n",
        "          }\n",
        "          for row in table_rows[1:]:\n",
        "              columns = row.find_all('td')\n",
        "              if len(columns) == 4:\n",
        "                  year = columns[0].text.strip()\n",
        "                  median_price = columns[1].text.strip()\n",
        "                  growth = columns[2].text.strip()\n",
        "                  num_sales = columns[3].text.strip()\n",
        "\n",
        "                  data['Year'].append(year)\n",
        "                  data['Median Price'].append(median_price)\n",
        "                  data['Growth'].append(growth)\n",
        "                  data['Number of Sales'].append(num_sales)\n",
        "\n",
        "          yearly_df = pd.DataFrame(data)\n",
        "\n",
        "          years = yearly_df['Year'].tolist()\n",
        "          for year in years:\n",
        "              tdf.loc[0, f'median_price_{year}'] = yearly_df.loc[yearly_df['Year'] == year, 'Median Price'].item()\n",
        "              tdf.loc[0, f'growth_rate_{year}'] = yearly_df.loc[yearly_df['Year'] == year, 'Growth'].item()\n",
        "              tdf.loc[0, f'no_of_sales_{year}'] = yearly_df.loc[yearly_df['Year'] == year, 'Number of Sales'].item()\n",
        "\n",
        "          australia_timezone = pytz.timezone('Australia/Sydney')\n",
        "          current_time = datetime.datetime.now(australia_timezone)\n",
        "\n",
        "          tempdf = pd.concat([one_row_data, tdf], ignore_index=True)\n",
        "          tempfilename = 'Domain_click_6.csv'\n",
        "\n",
        "          save_data_to_disk(tempdf, tempfilename)\n",
        "          tempdf = pd.DataFrame()\n",
        "          one_row_data = pd.DataFrame()\n",
        "        except:\n",
        "          None\n",
        "  except:\n",
        "    None\n",
        "\n",
        "  try:\n",
        "    driver.quit() # killing the firefox instance to maintain the speed of data sourcing.\n",
        "    gc.collect()\n",
        "    os.system(\"pkill firefox\")\n",
        "  except:\n",
        "    None"
      ]
    },
    {
      "cell_type": "code",
      "execution_count": null,
      "metadata": {
        "id": "1p3EwWvXP5Hk"
      },
      "outputs": [],
      "source": []
    }
  ],
  "metadata": {
    "colab": {
      "provenance": []
    },
    "kernelspec": {
      "display_name": "Python 3",
      "name": "python3"
    },
    "language_info": {
      "codemirror_mode": {
        "name": "ipython",
        "version": 3
      },
      "file_extension": ".py",
      "mimetype": "text/x-python",
      "name": "python",
      "nbconvert_exporter": "python",
      "pygments_lexer": "ipython3",
      "version": "3.11.4"
    }
  },
  "nbformat": 4,
  "nbformat_minor": 0
}
