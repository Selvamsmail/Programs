{
  "cells": [
    {
      "cell_type": "code",
      "execution_count": 1,
      "metadata": {
        "id": "YReJQI7rbDKP"
      },
      "outputs": [],
      "source": [
        "import pandas as pd\n",
        "import gdown\n",
        "import re\n",
        "import requests\n",
        "from bs4 import BeautifulSoup\n",
        "import json\n",
        "import pandas as pd\n",
        "import os\n",
        "from selenium import webdriver\n",
        "from selenium.webdriver.common.by import By\n",
        "from selenium.webdriver.support.ui import WebDriverWait\n",
        "from selenium.webdriver.support import expected_conditions as EC\n",
        "import gc\n",
        "import time\n",
        "import pytz\n",
        "import datetime\n",
        "import logging\n",
        "from tqdm import tqdm\n",
        "import traceback"
      ]
    },
    {
      "cell_type": "code",
      "execution_count": 2,
      "metadata": {
        "colab": {
          "base_uri": "https://localhost:8080/"
        },
        "id": "wHjBfwkOuA-O",
        "outputId": "3e10f010-7a97-47f3-dc20-0b070f5a7166"
      },
      "outputs": [
        {
          "name": "stderr",
          "output_type": "stream",
          "text": [
            "Downloading...\n",
            "From: https://drive.google.com/uc?id=1DuT3nnIouLKuRFbGo5lqcQwKTTb5GM8r\n",
            "To: e:\\Programs\\domain\\suburbs.csv\n",
            "100%|██████████| 975k/975k [00:00<00:00, 4.24MB/s]\n"
          ]
        }
      ],
      "source": [
        "gdown.download(id = '1DuT3nnIouLKuRFbGo5lqcQwKTTb5GM8r')\n",
        "df = pd.read_csv('suburbs.csv')"
      ]
    },
    {
      "cell_type": "code",
      "execution_count": 3,
      "metadata": {
        "colab": {
          "base_uri": "https://localhost:8080/"
        },
        "id": "v0FaTNQRu-Su",
        "outputId": "919a9c24-2b9b-4fd2-ecf0-6b5c0051310d"
      },
      "outputs": [
        {
          "data": {
            "text/plain": [
              "(15879, 2)"
            ]
          },
          "execution_count": 3,
          "metadata": {},
          "output_type": "execute_result"
        }
      ],
      "source": [
        "df.shape"
      ]
    },
    {
      "cell_type": "code",
      "execution_count": 4,
      "metadata": {
        "id": "gerNcz0mTdZ0"
      },
      "outputs": [],
      "source": [
        "def driver_setup():# Assigning a Headless Firefox Driver\n",
        "  options = webdriver.FirefoxOptions()\n",
        "  options.binary_location = 'C:/Program Files/Mozilla Firefox/firefox.exe'  # Path to Chrome executable\n",
        "  options.add_argument('E:/Programs/geckodriver.exe')\n",
        "  options.add_argument('--headless')\n",
        "  options.add_argument('--no-sandbox')\n",
        "  options.add_argument('--disable-dev-shm-usage')\n",
        "  driver = webdriver.Firefox(options=options)\n",
        "  return driver\n",
        "\n",
        "def save_data_to_disk(data, filename):\n",
        "    if os.path.isfile(filename):\n",
        "        existing_df = pd.read_csv(filename)\n",
        "        data = pd.concat([existing_df, data], ignore_index=True)\n",
        "        os.remove(filename)\n",
        "        data.to_csv(filename,index=False)\n",
        "    else:\n",
        "        data.to_csv(filename, mode='w', header=True, index=False)\n",
        "\n",
        "log_filename = 'exemption_logs.txt'\n",
        "logging.basicConfig(level=logging.INFO, format='%(asctime)s - %(levelname)s - %(message)s')\n",
        "file_handler = logging.FileHandler(log_filename)\n",
        "file_handler.setLevel(logging.INFO)\n",
        "formatter = logging.Formatter('%(asctime)s - %(levelname)s - %(message)s')\n",
        "file_handler.setFormatter(formatter)\n",
        "logging.getLogger().addHandler(file_handler)"
      ]
    },
    {
      "cell_type": "code",
      "execution_count": 6,
      "metadata": {
        "id": "ixUqo31f24wr"
      },
      "outputs": [],
      "source": [
        "implicit_wait_time = 2\n",
        "explicit_wait_time = 2"
      ]
    },
    {
      "cell_type": "code",
      "execution_count": 7,
      "metadata": {
        "colab": {
          "base_uri": "https://localhost:8080/"
        },
        "id": "Aejew2K7Qr6s",
        "outputId": "aedb86bb-ec01-430f-aa50-d02d40657e6a"
      },
      "outputs": [
        {
          "name": "stderr",
          "output_type": "stream",
          "text": [
            "Searching:   0%|          | 0/1058 [00:00<?, ?query/s]"
          ]
        },
        {
          "name": "stderr",
          "output_type": "stream",
          "text": [
            "2023-07-25 11:26:37,296 - WARNING - The version of firefox cannot be detected. Trying with latest driver version\n"
          ]
        },
        {
          "name": "stdout",
          "output_type": "stream",
          "text": [
            "Close\n",
            "Close\n",
            "Close\n",
            "Close\n",
            "Close\n",
            "Close\n",
            "Close\n"
          ]
        },
        {
          "name": "stderr",
          "output_type": "stream",
          "text": [
            "Searching:   0%|          | 2/1058 [00:37<5:30:22, 18.77s/query]2023-07-25 11:27:15,587 - WARNING - The version of firefox cannot be detected. Trying with latest driver version\n",
            "Searching:   0%|          | 3/1058 [01:02<6:14:27, 21.30s/query]2023-07-25 11:27:40,095 - WARNING - The version of firefox cannot be detected. Trying with latest driver version\n",
            "Searching:   0%|          | 4/1058 [01:28<6:45:31, 23.09s/query]2023-07-25 11:28:05,717 - WARNING - The version of firefox cannot be detected. Trying with latest driver version\n",
            "Searching:   0%|          | 5/1058 [02:17<9:24:46, 32.18s/query]2023-07-25 11:28:55,295 - WARNING - The version of firefox cannot be detected. Trying with latest driver version\n",
            "Searching:   1%|          | 6/1058 [03:04<10:48:39, 37.00s/query]2023-07-25 11:29:41,724 - WARNING - The version of firefox cannot be detected. Trying with latest driver version\n",
            "Searching:   1%|          | 7/1058 [03:47<11:24:01, 39.05s/query]2023-07-25 11:30:25,446 - WARNING - The version of firefox cannot be detected. Trying with latest driver version\n"
          ]
        },
        {
          "name": "stdout",
          "output_type": "stream",
          "text": [
            "Close\n",
            "Close\n",
            "Close\n"
          ]
        },
        {
          "name": "stderr",
          "output_type": "stream",
          "text": [
            "Searching:   1%|          | 8/1058 [04:13<10:09:22, 34.82s/query]2023-07-25 11:30:51,068 - WARNING - The version of firefox cannot be detected. Trying with latest driver version\n",
            "Searching:   1%|          | 9/1058 [05:02<11:26:21, 39.26s/query]2023-07-25 11:31:40,278 - WARNING - The version of firefox cannot be detected. Trying with latest driver version\n"
          ]
        },
        {
          "name": "stdout",
          "output_type": "stream",
          "text": [
            "Close\n",
            "Close\n",
            "Close\n",
            "Close\n"
          ]
        },
        {
          "name": "stderr",
          "output_type": "stream",
          "text": [
            "Searching:   1%|          | 10/1058 [05:35<10:49:45, 37.20s/query]2023-07-25 11:32:12,321 - WARNING - The version of firefox cannot be detected. Trying with latest driver version\n",
            "Searching:   1%|          | 11/1058 [06:21<11:36:58, 39.94s/query]2023-07-25 11:32:59,472 - WARNING - The version of firefox cannot be detected. Trying with latest driver version\n",
            "Searching:   1%|          | 12/1058 [07:12<12:36:13, 43.38s/query]2023-07-25 11:33:50,350 - WARNING - The version of firefox cannot be detected. Trying with latest driver version\n",
            "Searching:   1%|          | 13/1058 [08:03<13:15:33, 45.68s/query]2023-07-25 11:34:40,759 - WARNING - The version of firefox cannot be detected. Trying with latest driver version\n",
            "Searching:   1%|▏         | 14/1058 [08:24<11:06:17, 38.29s/query]2023-07-25 11:35:01,967 - WARNING - The version of firefox cannot be detected. Trying with latest driver version\n"
          ]
        },
        {
          "name": "stdout",
          "output_type": "stream",
          "text": [
            "Close\n",
            "Close\n",
            "Close\n",
            "Close\n",
            "Close\n"
          ]
        },
        {
          "name": "stderr",
          "output_type": "stream",
          "text": [
            "Searching:   1%|▏         | 15/1058 [08:56<10:33:17, 36.43s/query]2023-07-25 11:35:34,151 - WARNING - The version of firefox cannot be detected. Trying with latest driver version\n",
            "Searching:   2%|▏         | 16/1058 [09:42<11:21:15, 39.23s/query]2023-07-25 11:36:19,828 - WARNING - The version of firefox cannot be detected. Trying with latest driver version\n",
            "Searching:   2%|▏         | 17/1058 [10:27<11:49:31, 40.89s/query]2023-07-25 11:37:04,884 - WARNING - The version of firefox cannot be detected. Trying with latest driver version\n",
            "Searching:   2%|▏         | 18/1058 [11:31<13:52:15, 48.02s/query]2023-07-25 11:38:09,652 - WARNING - The version of firefox cannot be detected. Trying with latest driver version\n",
            "Searching:   2%|▏         | 19/1058 [12:35<15:14:18, 52.80s/query]2023-07-25 11:39:13,701 - WARNING - The version of firefox cannot be detected. Trying with latest driver version\n",
            "Searching:   2%|▏         | 20/1058 [13:19<14:23:39, 49.92s/query]2023-07-25 11:39:56,352 - WARNING - The version of firefox cannot be detected. Trying with latest driver version\n"
          ]
        },
        {
          "name": "stdout",
          "output_type": "stream",
          "text": [
            "Close\n",
            "Close\n",
            "Close\n",
            "Close\n"
          ]
        },
        {
          "name": "stderr",
          "output_type": "stream",
          "text": [
            "Searching:   2%|▏         | 21/1058 [13:50<12:48:34, 44.47s/query]2023-07-25 11:40:28,988 - WARNING - The version of firefox cannot be detected. Trying with latest driver version\n",
            "Searching:   2%|▏         | 22/1058 [14:43<13:32:30, 47.06s/query]2023-07-25 11:41:22,826 - WARNING - The version of firefox cannot be detected. Trying with latest driver version\n",
            "Searching:   2%|▏         | 23/1058 [15:34<13:49:34, 48.09s/query]2023-07-25 11:42:11,767 - WARNING - The version of firefox cannot be detected. Trying with latest driver version\n",
            "Searching:   2%|▏         | 24/1058 [16:40<15:20:49, 53.43s/query]2023-07-25 11:43:17,561 - WARNING - The version of firefox cannot be detected. Trying with latest driver version\n",
            "Searching:   2%|▏         | 25/1058 [17:18<14:03:22, 48.99s/query]2023-07-25 11:43:56,178 - WARNING - The version of firefox cannot be detected. Trying with latest driver version\n"
          ]
        },
        {
          "name": "stdout",
          "output_type": "stream",
          "text": [
            "Close\n",
            "Close\n",
            "Close\n"
          ]
        },
        {
          "name": "stderr",
          "output_type": "stream",
          "text": [
            "Searching:   2%|▏         | 26/1058 [18:07<13:59:21, 48.80s/query]2023-07-25 11:44:44,725 - WARNING - The version of firefox cannot be detected. Trying with latest driver version\n"
          ]
        },
        {
          "name": "stdout",
          "output_type": "stream",
          "text": [
            "Close\n",
            "Close\n",
            "Close\n",
            "Close\n",
            "Close\n",
            "Close\n",
            "Close\n"
          ]
        },
        {
          "name": "stderr",
          "output_type": "stream",
          "text": [
            "Searching:   3%|▎         | 27/1058 [18:41<12:44:27, 44.49s/query]2023-07-25 11:45:23,463 - WARNING - The version of firefox cannot be detected. Trying with latest driver version\n",
            "Searching:   3%|▎         | 28/1058 [19:49<14:42:03, 51.38s/query]2023-07-25 11:46:26,846 - WARNING - The version of firefox cannot be detected. Trying with latest driver version\n",
            "Searching:   3%|▎         | 29/1058 [21:02<16:33:33, 57.93s/query]2023-07-25 11:47:40,159 - WARNING - The version of firefox cannot be detected. Trying with latest driver version\n",
            "Searching:   3%|▎         | 30/1058 [21:50<15:43:31, 55.07s/query]2023-07-25 11:48:28,651 - WARNING - The version of firefox cannot be detected. Trying with latest driver version\n",
            "Searching:   3%|▎         | 31/1058 [22:24<13:53:37, 48.70s/query]2023-07-25 11:49:02,793 - WARNING - The version of firefox cannot be detected. Trying with latest driver version\n",
            "Searching:   3%|▎         | 32/1058 [23:31<15:25:13, 54.11s/query]2023-07-25 11:50:09,404 - WARNING - The version of firefox cannot be detected. Trying with latest driver version\n"
          ]
        },
        {
          "name": "stdout",
          "output_type": "stream",
          "text": [
            "Close\n",
            "Close\n",
            "Close\n",
            "Close\n"
          ]
        },
        {
          "name": "stderr",
          "output_type": "stream",
          "text": [
            "Searching:   3%|▎         | 33/1058 [23:54<12:47:45, 44.94s/query]2023-07-25 11:50:32,583 - WARNING - The version of firefox cannot be detected. Trying with latest driver version\n",
            "Searching:   3%|▎         | 34/1058 [24:16<10:48:47, 38.02s/query]2023-07-25 11:50:54,487 - WARNING - The version of firefox cannot be detected. Trying with latest driver version\n",
            "Searching:   3%|▎         | 35/1058 [25:05<11:44:28, 41.32s/query]2023-07-25 11:51:43,340 - WARNING - The version of firefox cannot be detected. Trying with latest driver version\n"
          ]
        },
        {
          "name": "stdout",
          "output_type": "stream",
          "text": [
            "Close\n",
            "Close\n"
          ]
        },
        {
          "name": "stderr",
          "output_type": "stream",
          "text": [
            "Searching:   3%|▎         | 36/1058 [25:34<10:37:27, 37.42s/query]2023-07-25 11:52:11,491 - WARNING - The version of firefox cannot be detected. Trying with latest driver version\n",
            "Searching:   3%|▎         | 37/1058 [26:01<9:43:01, 34.26s/query] 2023-07-25 11:52:40,614 - WARNING - The version of firefox cannot be detected. Trying with latest driver version\n",
            "Searching:   4%|▎         | 38/1058 [27:05<12:17:28, 43.38s/query]2023-07-25 11:53:43,621 - WARNING - The version of firefox cannot be detected. Trying with latest driver version\n"
          ]
        },
        {
          "name": "stdout",
          "output_type": "stream",
          "text": [
            "Close\n",
            "Close\n"
          ]
        },
        {
          "name": "stderr",
          "output_type": "stream",
          "text": [
            "Searching:   4%|▎         | 39/1058 [27:41<11:36:21, 41.00s/query]2023-07-25 11:54:18,903 - WARNING - The version of firefox cannot be detected. Trying with latest driver version\n"
          ]
        },
        {
          "name": "stdout",
          "output_type": "stream",
          "text": [
            "Close\n",
            "Close\n",
            "Close\n",
            "Close\n"
          ]
        },
        {
          "name": "stderr",
          "output_type": "stream",
          "text": [
            "Searching:   4%|▍         | 40/1058 [28:15<11:00:16, 38.92s/query]2023-07-25 11:54:52,498 - WARNING - The version of firefox cannot be detected. Trying with latest driver version\n",
            "Searching:   4%|▍         | 41/1058 [28:46<10:20:35, 36.61s/query]2023-07-25 11:55:24,195 - WARNING - The version of firefox cannot be detected. Trying with latest driver version\n",
            "Searching:   4%|▍         | 42/1058 [29:14<9:35:07, 33.96s/query] 2023-07-25 11:55:51,888 - WARNING - The version of firefox cannot be detected. Trying with latest driver version\n",
            "Searching:   4%|▍         | 43/1058 [29:52<9:55:45, 35.22s/query]2023-07-25 11:56:31,170 - WARNING - The version of firefox cannot be detected. Trying with latest driver version\n"
          ]
        },
        {
          "name": "stdout",
          "output_type": "stream",
          "text": [
            "Close\n",
            "Close\n",
            "Close\n",
            "Close\n",
            "Close\n",
            "Close\n"
          ]
        },
        {
          "name": "stderr",
          "output_type": "stream",
          "text": [
            "Searching:   4%|▍         | 44/1058 [31:13<13:47:10, 48.95s/query]2023-07-25 11:57:51,267 - WARNING - The version of firefox cannot be detected. Trying with latest driver version\n",
            "Searching:   4%|▍         | 45/1058 [31:35<11:29:55, 40.86s/query]2023-07-25 11:58:16,140 - WARNING - The version of firefox cannot be detected. Trying with latest driver version\n"
          ]
        },
        {
          "name": "stdout",
          "output_type": "stream",
          "text": [
            "Close\n",
            "Close\n",
            "Close\n",
            "Close\n",
            "Close\n",
            "Close\n",
            "Close\n"
          ]
        },
        {
          "name": "stderr",
          "output_type": "stream",
          "text": [
            "Searching:   4%|▍         | 46/1058 [32:18<11:41:42, 41.60s/query]2023-07-25 11:58:56,341 - WARNING - The version of firefox cannot be detected. Trying with latest driver version\n",
            "Searching:   4%|▍         | 47/1058 [32:45<10:23:47, 37.02s/query]2023-07-25 11:59:23,144 - WARNING - The version of firefox cannot be detected. Trying with latest driver version\n"
          ]
        },
        {
          "name": "stdout",
          "output_type": "stream",
          "text": [
            "Close\n",
            "Close\n",
            "Close\n"
          ]
        },
        {
          "name": "stderr",
          "output_type": "stream",
          "text": [
            "Searching:   5%|▍         | 48/1058 [33:19<10:09:11, 36.19s/query]2023-07-25 11:59:56,907 - WARNING - The version of firefox cannot be detected. Trying with latest driver version\n"
          ]
        },
        {
          "name": "stdout",
          "output_type": "stream",
          "text": [
            "Close\n",
            "Close\n",
            "Close\n"
          ]
        },
        {
          "name": "stderr",
          "output_type": "stream",
          "text": [
            "Searching:   5%|▍         | 49/1058 [33:52<9:52:54, 35.26s/query] 2023-07-25 12:00:30,188 - WARNING - The version of firefox cannot be detected. Trying with latest driver version\n"
          ]
        },
        {
          "name": "stdout",
          "output_type": "stream",
          "text": [
            "Close\n",
            "Close\n",
            "Close\n",
            "Close\n"
          ]
        },
        {
          "name": "stderr",
          "output_type": "stream",
          "text": [
            "Searching:   5%|▍         | 50/1058 [34:30<10:06:03, 36.07s/query]2023-07-25 12:01:07,665 - WARNING - The version of firefox cannot be detected. Trying with latest driver version\n",
            "Searching:   5%|▍         | 51/1058 [34:59<9:31:36, 34.06s/query] 2023-07-25 12:01:37,671 - WARNING - The version of firefox cannot be detected. Trying with latest driver version\n",
            "Searching:   5%|▍         | 52/1058 [35:36<9:44:55, 34.89s/query]2023-07-25 12:02:13,939 - WARNING - The version of firefox cannot be detected. Trying with latest driver version\n"
          ]
        },
        {
          "name": "stdout",
          "output_type": "stream",
          "text": [
            "Close\n"
          ]
        },
        {
          "name": "stderr",
          "output_type": "stream",
          "text": [
            "Searching:   5%|▌         | 53/1058 [36:10<9:41:42, 34.73s/query]2023-07-25 12:02:48,435 - WARNING - The version of firefox cannot be detected. Trying with latest driver version\n"
          ]
        },
        {
          "name": "stdout",
          "output_type": "stream",
          "text": [
            "Close\n",
            "Close\n",
            "Close\n",
            "Close\n"
          ]
        },
        {
          "name": "stderr",
          "output_type": "stream",
          "text": [
            "Searching:   5%|▌         | 54/1058 [36:43<9:31:09, 34.13s/query]2023-07-25 12:03:21,944 - WARNING - The version of firefox cannot be detected. Trying with latest driver version\n"
          ]
        },
        {
          "name": "stdout",
          "output_type": "stream",
          "text": [
            "Close\n",
            "Close\n",
            "Close\n",
            "Close\n"
          ]
        },
        {
          "name": "stderr",
          "output_type": "stream",
          "text": [
            "Searching:   5%|▌         | 55/1058 [37:16<9:25:36, 33.84s/query]2023-07-25 12:03:54,030 - WARNING - The version of firefox cannot be detected. Trying with latest driver version\n",
            "Searching:   5%|▌         | 56/1058 [37:45<8:58:12, 32.23s/query]2023-07-25 12:04:22,590 - WARNING - The version of firefox cannot be detected. Trying with latest driver version\n",
            "Searching:   5%|▌         | 57/1058 [38:21<9:19:19, 33.53s/query]2023-07-25 12:04:59,843 - WARNING - The version of firefox cannot be detected. Trying with latest driver version\n",
            "Searching:   5%|▌         | 58/1058 [38:59<9:37:35, 34.66s/query]2023-07-25 12:05:36,900 - WARNING - The version of firefox cannot be detected. Trying with latest driver version\n",
            "Searching:   6%|▌         | 59/1058 [39:38<9:58:36, 35.95s/query]2023-07-25 12:06:15,878 - WARNING - The version of firefox cannot be detected. Trying with latest driver version\n",
            "Searching:   6%|▌         | 60/1058 [40:11<9:46:19, 35.25s/query]2023-07-25 12:06:48,921 - WARNING - The version of firefox cannot be detected. Trying with latest driver version\n",
            "Searching:   6%|▌         | 61/1058 [40:47<9:47:04, 35.33s/query]2023-07-25 12:07:25,959 - WARNING - The version of firefox cannot be detected. Trying with latest driver version\n",
            "Searching:   6%|▌         | 62/1058 [41:19<9:29:30, 34.31s/query]2023-07-25 12:07:56,394 - WARNING - The version of firefox cannot be detected. Trying with latest driver version\n",
            "Searching:   6%|▌         | 63/1058 [41:54<9:34:42, 34.66s/query]2023-07-25 12:08:34,370 - WARNING - The version of firefox cannot be detected. Trying with latest driver version\n",
            "Searching:   6%|▌         | 64/1058 [42:30<9:42:13, 35.14s/query]2023-07-25 12:09:08,158 - WARNING - The version of firefox cannot be detected. Trying with latest driver version\n",
            "Searching:   6%|▌         | 65/1058 [43:36<12:13:34, 44.32s/query]2023-07-25 12:10:18,114 - WARNING - The version of firefox cannot be detected. Trying with latest driver version\n"
          ]
        },
        {
          "name": "stdout",
          "output_type": "stream",
          "text": [
            "Close\n",
            "Close\n"
          ]
        },
        {
          "name": "stderr",
          "output_type": "stream",
          "text": [
            "Searching:   6%|▌         | 66/1058 [44:22<12:19:05, 44.70s/query]2023-07-25 12:10:59,915 - WARNING - The version of firefox cannot be detected. Trying with latest driver version\n",
            "Searching:   6%|▋         | 67/1058 [44:55<11:21:32, 41.26s/query]2023-07-25 12:11:33,871 - WARNING - The version of firefox cannot be detected. Trying with latest driver version\n"
          ]
        },
        {
          "name": "stdout",
          "output_type": "stream",
          "text": [
            "Close\n",
            "Close\n",
            "Close\n",
            "Close\n"
          ]
        },
        {
          "name": "stderr",
          "output_type": "stream",
          "text": [
            "Searching:   6%|▋         | 68/1058 [45:37<11:26:39, 41.62s/query]2023-07-25 12:12:15,125 - WARNING - The version of firefox cannot be detected. Trying with latest driver version\n",
            "Searching:   7%|▋         | 69/1058 [46:20<11:29:46, 41.85s/query]2023-07-25 12:12:57,880 - WARNING - The version of firefox cannot be detected. Trying with latest driver version\n",
            "Searching:   7%|▋         | 70/1058 [47:00<11:18:55, 41.23s/query]2023-07-25 12:13:37,740 - WARNING - The version of firefox cannot be detected. Trying with latest driver version\n"
          ]
        },
        {
          "name": "stdout",
          "output_type": "stream",
          "text": [
            "Close\n",
            "Close\n"
          ]
        },
        {
          "name": "stderr",
          "output_type": "stream",
          "text": [
            "Searching:   7%|▋         | 71/1058 [47:42<11:23:38, 41.56s/query]2023-07-25 12:14:21,228 - WARNING - The version of firefox cannot be detected. Trying with latest driver version\n",
            "Searching:   7%|▋         | 72/1058 [48:19<11:02:49, 40.33s/query]2023-07-25 12:14:58,772 - WARNING - The version of firefox cannot be detected. Trying with latest driver version\n",
            "Searching:   7%|▋         | 73/1058 [49:28<13:20:54, 48.79s/query]2023-07-25 12:16:06,251 - WARNING - The version of firefox cannot be detected. Trying with latest driver version\n"
          ]
        },
        {
          "name": "stdout",
          "output_type": "stream",
          "text": [
            "Close\n",
            "Close\n",
            "Close\n",
            "Close\n",
            "Close\n"
          ]
        },
        {
          "name": "stderr",
          "output_type": "stream",
          "text": [
            "Searching:   7%|▋         | 74/1058 [50:08<12:35:55, 46.09s/query]2023-07-25 12:16:46,113 - WARNING - The version of firefox cannot be detected. Trying with latest driver version\n",
            "Searching:   7%|▋         | 75/1058 [51:15<14:20:32, 52.53s/query]2023-07-25 12:17:53,071 - WARNING - The version of firefox cannot be detected. Trying with latest driver version\n",
            "Searching:   7%|▋         | 76/1058 [52:18<15:11:40, 55.70s/query]2023-07-25 12:18:56,855 - WARNING - The version of firefox cannot be detected. Trying with latest driver version\n",
            "Searching:   7%|▋         | 77/1058 [52:53<13:25:33, 49.27s/query]2023-07-25 12:19:30,416 - WARNING - The version of firefox cannot be detected. Trying with latest driver version\n"
          ]
        },
        {
          "name": "stdout",
          "output_type": "stream",
          "text": [
            "Close\n",
            "Close\n",
            "Close\n",
            "Close\n"
          ]
        },
        {
          "name": "stderr",
          "output_type": "stream",
          "text": [
            "Searching:   7%|▋         | 78/1058 [53:36<12:55:49, 47.50s/query]2023-07-25 12:20:13,782 - WARNING - The version of firefox cannot be detected. Trying with latest driver version\n"
          ]
        },
        {
          "name": "stdout",
          "output_type": "stream",
          "text": [
            "Close\n",
            "Close\n",
            "Close\n",
            "Close\n"
          ]
        },
        {
          "name": "stderr",
          "output_type": "stream",
          "text": [
            "Searching:   7%|▋         | 79/1058 [54:19<12:35:34, 46.31s/query]2023-07-25 12:20:57,158 - WARNING - The version of firefox cannot be detected. Trying with latest driver version\n",
            "Searching:   8%|▊         | 80/1058 [54:51<11:21:02, 41.78s/query]2023-07-25 12:21:28,443 - WARNING - The version of firefox cannot be detected. Trying with latest driver version\n",
            "Searching:   8%|▊         | 81/1058 [55:24<10:38:59, 39.24s/query]2023-07-25 12:22:01,929 - WARNING - The version of firefox cannot be detected. Trying with latest driver version\n",
            "Searching:   8%|▊         | 82/1058 [55:58<10:12:10, 37.63s/query]2023-07-25 12:22:36,217 - WARNING - The version of firefox cannot be detected. Trying with latest driver version\n",
            "Searching:   8%|▊         | 83/1058 [57:09<12:53:49, 47.62s/query]2023-07-25 12:23:46,652 - WARNING - The version of firefox cannot be detected. Trying with latest driver version\n",
            "Searching:   8%|▊         | 84/1058 [57:46<12:04:04, 44.60s/query]2023-07-25 12:24:25,345 - WARNING - The version of firefox cannot be detected. Trying with latest driver version\n",
            "Searching:   8%|▊         | 85/1058 [58:24<11:28:32, 42.46s/query]2023-07-25 12:25:02,250 - WARNING - The version of firefox cannot be detected. Trying with latest driver version\n",
            "Searching:   8%|▊         | 86/1058 [58:59<10:50:59, 40.18s/query]2023-07-25 12:25:39,540 - WARNING - The version of firefox cannot be detected. Trying with latest driver version\n",
            "Searching:   8%|▊         | 87/1058 [59:37<10:41:12, 39.62s/query]2023-07-25 12:26:17,439 - WARNING - The version of firefox cannot be detected. Trying with latest driver version\n",
            "Searching:   8%|▊         | 88/1058 [1:00:12<10:19:03, 38.29s/query]2023-07-25 12:26:50,129 - WARNING - The version of firefox cannot be detected. Trying with latest driver version\n",
            "Searching:   8%|▊         | 89/1058 [1:00:49<10:11:45, 37.88s/query]2023-07-25 12:27:27,907 - WARNING - The version of firefox cannot be detected. Trying with latest driver version\n",
            "Searching:   9%|▊         | 90/1058 [1:01:25<10:02:01, 37.32s/query]2023-07-25 12:28:05,892 - WARNING - The version of firefox cannot be detected. Trying with latest driver version\n"
          ]
        },
        {
          "name": "stdout",
          "output_type": "stream",
          "text": [
            "Close\n",
            "Close\n",
            "Close\n",
            "Close\n"
          ]
        },
        {
          "name": "stderr",
          "output_type": "stream",
          "text": [
            "Searching:   9%|▊         | 91/1058 [1:02:14<10:57:57, 40.83s/query]2023-07-25 12:28:52,516 - WARNING - The version of firefox cannot be detected. Trying with latest driver version\n"
          ]
        },
        {
          "name": "stdout",
          "output_type": "stream",
          "text": [
            "Close\n"
          ]
        },
        {
          "name": "stderr",
          "output_type": "stream",
          "text": [
            "Searching:   9%|▊         | 92/1058 [1:02:50<10:31:34, 39.23s/query]2023-07-25 12:29:28,709 - WARNING - The version of firefox cannot be detected. Trying with latest driver version\n",
            "Searching:   9%|▉         | 93/1058 [1:03:30<10:34:55, 39.48s/query]2023-07-25 12:30:11,146 - WARNING - The version of firefox cannot be detected. Trying with latest driver version\n"
          ]
        },
        {
          "name": "stdout",
          "output_type": "stream",
          "text": [
            "Close\n",
            "Close\n",
            "Close\n"
          ]
        },
        {
          "name": "stderr",
          "output_type": "stream",
          "text": [
            "Searching:   9%|▉         | 94/1058 [1:04:08<10:31:04, 39.28s/query]2023-07-25 12:30:47,535 - WARNING - The version of firefox cannot be detected. Trying with latest driver version\n"
          ]
        },
        {
          "name": "stdout",
          "output_type": "stream",
          "text": [
            "Close\n",
            "Close\n",
            "Close\n",
            "Close\n",
            "Close\n",
            "Close\n",
            "Close\n"
          ]
        },
        {
          "name": "stderr",
          "output_type": "stream",
          "text": [
            "Searching:   9%|▉         | 95/1058 [1:04:55<11:05:25, 41.46s/query]2023-07-25 12:31:34,001 - WARNING - The version of firefox cannot be detected. Trying with latest driver version\n"
          ]
        },
        {
          "name": "stdout",
          "output_type": "stream",
          "text": [
            "Close\n",
            "Close\n",
            "Close\n"
          ]
        },
        {
          "name": "stderr",
          "output_type": "stream",
          "text": [
            "Searching:   9%|▉         | 96/1058 [1:05:37<11:06:58, 41.60s/query]2023-07-25 12:32:23,853 - WARNING - The version of firefox cannot be detected. Trying with latest driver version\n",
            "Searching:   9%|▉         | 97/1058 [1:06:12<10:35:49, 39.70s/query]2023-07-25 12:32:56,934 - WARNING - The version of firefox cannot be detected. Trying with latest driver version\n"
          ]
        },
        {
          "name": "stdout",
          "output_type": "stream",
          "text": [
            "Close\n",
            "Close\n",
            "Close\n",
            "Close\n"
          ]
        },
        {
          "name": "stderr",
          "output_type": "stream",
          "text": [
            "Searching:   9%|▉         | 98/1058 [1:06:59<11:10:21, 41.90s/query]2023-07-25 12:33:37,654 - WARNING - The version of firefox cannot be detected. Trying with latest driver version\n",
            "Searching:   9%|▉         | 99/1058 [1:07:32<10:23:39, 39.02s/query]2023-07-25 12:34:09,922 - WARNING - The version of firefox cannot be detected. Trying with latest driver version\n",
            "Searching:   9%|▉         | 100/1058 [1:08:09<10:15:20, 38.54s/query]2023-07-25 12:34:47,885 - WARNING - The version of firefox cannot be detected. Trying with latest driver version\n",
            "Searching:  10%|▉         | 101/1058 [1:09:18<12:40:21, 47.67s/query]2023-07-25 12:35:55,972 - WARNING - The version of firefox cannot be detected. Trying with latest driver version\n",
            "Searching:  10%|▉         | 102/1058 [1:09:51<11:28:54, 43.24s/query]2023-07-25 12:36:29,200 - WARNING - The version of firefox cannot be detected. Trying with latest driver version\n",
            "Searching:  10%|▉         | 103/1058 [1:10:26<10:50:19, 40.86s/query]2023-07-25 12:37:05,036 - WARNING - The version of firefox cannot be detected. Trying with latest driver version\n"
          ]
        },
        {
          "name": "stdout",
          "output_type": "stream",
          "text": [
            "Close\n",
            "Close\n",
            "Close\n",
            "Close\n",
            "Close\n",
            "Close\n",
            "Close\n"
          ]
        },
        {
          "name": "stderr",
          "output_type": "stream",
          "text": [
            "Searching:  10%|▉         | 104/1058 [1:11:11<11:10:56, 42.20s/query]2023-07-25 12:37:49,726 - WARNING - The version of firefox cannot be detected. Trying with latest driver version\n",
            "Searching:  10%|▉         | 105/1058 [1:11:42<10:15:01, 38.72s/query]2023-07-25 12:38:21,988 - WARNING - The version of firefox cannot be detected. Trying with latest driver version\n",
            "Searching:  10%|█         | 106/1058 [1:12:17<9:54:32, 37.47s/query] 2023-07-25 12:38:55,020 - WARNING - The version of firefox cannot be detected. Trying with latest driver version\n"
          ]
        },
        {
          "name": "stdout",
          "output_type": "stream",
          "text": [
            "Close\n",
            "Close\n",
            "Close\n",
            "Close\n",
            "Close\n",
            "Close\n",
            "Close\n"
          ]
        },
        {
          "name": "stderr",
          "output_type": "stream",
          "text": [
            "Searching:  10%|█         | 107/1058 [1:13:08<10:58:34, 41.55s/query]2023-07-25 12:39:57,968 - WARNING - The version of firefox cannot be detected. Trying with latest driver version\n",
            "Searching:  10%|█         | 108/1058 [1:13:44<10:31:35, 39.89s/query]2023-07-25 12:40:30,416 - WARNING - The version of firefox cannot be detected. Trying with latest driver version\n"
          ]
        },
        {
          "name": "stdout",
          "output_type": "stream",
          "text": [
            "Close\n",
            "Close\n",
            "Close\n"
          ]
        },
        {
          "name": "stderr",
          "output_type": "stream",
          "text": [
            "Searching:  10%|█         | 109/1058 [1:14:44<12:06:42, 45.95s/query]2023-07-25 12:41:21,787 - WARNING - The version of firefox cannot be detected. Trying with latest driver version\n",
            "Searching:  10%|█         | 110/1058 [1:15:16<11:02:50, 41.95s/query]2023-07-25 12:41:54,972 - WARNING - The version of firefox cannot be detected. Trying with latest driver version\n"
          ]
        },
        {
          "name": "stdout",
          "output_type": "stream",
          "text": [
            "Close\n",
            "Close\n",
            "Close\n"
          ]
        },
        {
          "name": "stderr",
          "output_type": "stream",
          "text": [
            "Searching:  10%|█         | 111/1058 [1:15:56<10:49:51, 41.17s/query]2023-07-25 12:42:33,756 - WARNING - The version of firefox cannot be detected. Trying with latest driver version\n",
            "Searching:  11%|█         | 112/1058 [1:16:29<10:12:21, 38.84s/query]2023-07-25 12:43:07,756 - WARNING - The version of firefox cannot be detected. Trying with latest driver version\n",
            "Searching:  11%|█         | 113/1058 [1:17:02<9:42:37, 36.99s/query] 2023-07-25 12:43:40,998 - WARNING - The version of firefox cannot be detected. Trying with latest driver version\n",
            "Searching:  11%|█         | 114/1058 [1:17:35<9:21:44, 35.70s/query]2023-07-25 12:44:13,902 - WARNING - The version of firefox cannot be detected. Trying with latest driver version\n",
            "Searching:  11%|█         | 115/1058 [1:18:08<9:09:43, 34.98s/query]2023-07-25 12:44:46,229 - WARNING - The version of firefox cannot be detected. Trying with latest driver version\n",
            "Searching:  11%|█         | 116/1058 [1:18:42<9:04:36, 34.69s/query]2023-07-25 12:45:21,901 - WARNING - The version of firefox cannot be detected. Trying with latest driver version\n",
            "Searching:  11%|█         | 117/1058 [1:19:24<9:39:33, 36.95s/query]2023-07-25 12:46:01,847 - WARNING - The version of firefox cannot be detected. Trying with latest driver version\n",
            "Searching:  11%|█         | 118/1058 [1:20:14<10:40:59, 40.91s/query]2023-07-25 12:46:53,778 - WARNING - The version of firefox cannot be detected. Trying with latest driver version\n",
            "Searching:  11%|█         | 119/1058 [1:20:45<9:52:21, 37.85s/query] 2023-07-25 12:47:25,017 - WARNING - The version of firefox cannot be detected. Trying with latest driver version\n",
            "Searching:  11%|█▏        | 120/1058 [1:21:51<12:05:12, 46.39s/query]2023-07-25 12:48:29,908 - WARNING - The version of firefox cannot be detected. Trying with latest driver version\n"
          ]
        },
        {
          "name": "stdout",
          "output_type": "stream",
          "text": [
            "Close\n",
            "Close\n",
            "Close\n",
            "Close\n"
          ]
        },
        {
          "name": "stderr",
          "output_type": "stream",
          "text": [
            "Searching:  11%|█▏        | 121/1058 [1:22:40<12:14:28, 47.03s/query]2023-07-25 12:49:18,749 - WARNING - The version of firefox cannot be detected. Trying with latest driver version\n"
          ]
        },
        {
          "name": "stdout",
          "output_type": "stream",
          "text": [
            "Close\n",
            "Close\n",
            "Close\n",
            "Close\n"
          ]
        },
        {
          "name": "stderr",
          "output_type": "stream",
          "text": [
            "Searching:  12%|█▏        | 122/1058 [1:23:20<11:40:06, 44.88s/query]2023-07-25 12:49:57,749 - WARNING - The version of firefox cannot be detected. Trying with latest driver version\n",
            "Searching:  12%|█▏        | 123/1058 [1:23:50<10:30:47, 40.48s/query]2023-07-25 12:50:29,091 - WARNING - The version of firefox cannot be detected. Trying with latest driver version\n",
            "Searching:  12%|█▏        | 124/1058 [1:25:01<12:52:27, 49.62s/query]2023-07-25 12:51:39,844 - WARNING - The version of firefox cannot be detected. Trying with latest driver version\n",
            "Searching:  12%|█▏        | 125/1058 [1:25:39<11:58:18, 46.19s/query]2023-07-25 12:52:18,609 - WARNING - The version of firefox cannot be detected. Trying with latest driver version\n",
            "Searching:  12%|█▏        | 126/1058 [1:26:43<13:20:41, 51.55s/query]2023-07-25 12:53:31,790 - WARNING - The version of firefox cannot be detected. Trying with latest driver version\n"
          ]
        },
        {
          "name": "stdout",
          "output_type": "stream",
          "text": [
            "Close\n",
            "Close\n",
            "Close\n",
            "Close\n",
            "Close\n"
          ]
        },
        {
          "name": "stderr",
          "output_type": "stream",
          "text": [
            "Searching:  12%|█▏        | 127/1058 [1:27:38<13:35:44, 52.57s/query]2023-07-25 12:54:16,323 - WARNING - The version of firefox cannot be detected. Trying with latest driver version\n"
          ]
        },
        {
          "name": "stdout",
          "output_type": "stream",
          "text": [
            "Close\n",
            "Close\n",
            "Close\n",
            "Close\n",
            "Close\n",
            "Close\n",
            "Close\n"
          ]
        },
        {
          "name": "stderr",
          "output_type": "stream",
          "text": [
            "Searching:  12%|█▏        | 128/1058 [1:28:16<12:27:55, 48.25s/query]2023-07-25 12:54:55,685 - WARNING - The version of firefox cannot be detected. Trying with latest driver version\n"
          ]
        },
        {
          "name": "stdout",
          "output_type": "stream",
          "text": [
            "Close\n",
            "Close\n",
            "Close\n",
            "Close\n"
          ]
        },
        {
          "name": "stderr",
          "output_type": "stream",
          "text": [
            "Searching:  12%|█▏        | 129/1058 [1:29:20<13:40:30, 52.99s/query]2023-07-25 12:55:58,623 - WARNING - The version of firefox cannot be detected. Trying with latest driver version\n",
            "Searching:  12%|█▏        | 130/1058 [1:30:00<12:37:55, 49.00s/query]2023-07-25 12:56:38,376 - WARNING - The version of firefox cannot be detected. Trying with latest driver version\n"
          ]
        },
        {
          "name": "stdout",
          "output_type": "stream",
          "text": [
            "Close\n",
            "Close\n",
            "Close\n",
            "Close\n",
            "Close\n",
            "Close\n"
          ]
        },
        {
          "name": "stderr",
          "output_type": "stream",
          "text": [
            "Searching:  12%|█▏        | 131/1058 [1:30:41<12:01:46, 46.72s/query]2023-07-25 12:57:19,327 - WARNING - The version of firefox cannot be detected. Trying with latest driver version\n",
            "Searching:  12%|█▏        | 132/1058 [1:31:52<13:52:59, 53.97s/query]2023-07-25 12:58:31,554 - WARNING - The version of firefox cannot be detected. Trying with latest driver version\n",
            "Searching:  13%|█▎        | 133/1058 [1:32:57<14:42:00, 57.21s/query]2023-07-25 12:59:35,618 - WARNING - The version of firefox cannot be detected. Trying with latest driver version\n",
            "Searching:  13%|█▎        | 134/1058 [1:33:27<12:35:45, 49.08s/query]2023-07-25 13:00:05,821 - WARNING - The version of firefox cannot be detected. Trying with latest driver version\n",
            "Searching:  13%|█▎        | 135/1058 [1:34:06<11:49:35, 46.13s/query]2023-07-25 13:00:44,619 - WARNING - The version of firefox cannot be detected. Trying with latest driver version\n"
          ]
        },
        {
          "name": "stdout",
          "output_type": "stream",
          "text": [
            "Close\n"
          ]
        },
        {
          "name": "stderr",
          "output_type": "stream",
          "text": [
            "Searching:  13%|█▎        | 136/1058 [1:34:43<11:05:25, 43.30s/query]2023-07-25 13:01:21,916 - WARNING - The version of firefox cannot be detected. Trying with latest driver version\n",
            "Searching:  13%|█▎        | 137/1058 [1:35:11<9:53:54, 38.69s/query] 2023-07-25 13:01:57,546 - WARNING - The version of firefox cannot be detected. Trying with latest driver version\n",
            "Searching:  13%|█▎        | 138/1058 [1:35:55<10:16:47, 40.23s/query]2023-07-25 13:02:34,654 - WARNING - The version of firefox cannot be detected. Trying with latest driver version\n"
          ]
        },
        {
          "name": "stdout",
          "output_type": "stream",
          "text": [
            "Close\n",
            "Close\n"
          ]
        },
        {
          "name": "stderr",
          "output_type": "stream",
          "text": [
            "Searching:  13%|█▎        | 139/1058 [1:36:35<10:14:12, 40.10s/query]2023-07-25 13:03:12,366 - WARNING - The version of firefox cannot be detected. Trying with latest driver version\n",
            "Searching:  13%|█▎        | 140/1058 [1:37:36<11:49:54, 46.40s/query]2023-07-25 13:04:14,567 - WARNING - The version of firefox cannot be detected. Trying with latest driver version\n"
          ]
        },
        {
          "name": "stdout",
          "output_type": "stream",
          "text": [
            "Close\n",
            "Close\n",
            "Close\n",
            "Close\n"
          ]
        },
        {
          "name": "stderr",
          "output_type": "stream",
          "text": [
            "Searching:  13%|█▎        | 141/1058 [1:38:13<11:08:31, 43.74s/query]2023-07-25 13:04:51,181 - WARNING - The version of firefox cannot be detected. Trying with latest driver version\n"
          ]
        },
        {
          "name": "stdout",
          "output_type": "stream",
          "text": [
            "Close\n",
            "Close\n",
            "Close\n",
            "Close\n"
          ]
        },
        {
          "name": "stderr",
          "output_type": "stream",
          "text": [
            "Searching:  13%|█▎        | 142/1058 [1:38:51<10:38:33, 41.83s/query]2023-07-25 13:05:28,858 - WARNING - The version of firefox cannot be detected. Trying with latest driver version\n"
          ]
        },
        {
          "name": "stdout",
          "output_type": "stream",
          "text": [
            "Close\n",
            "Close\n",
            "Close\n",
            "Close\n",
            "Close\n",
            "Close\n"
          ]
        },
        {
          "name": "stderr",
          "output_type": "stream",
          "text": [
            "Searching:  14%|█▎        | 143/1058 [1:39:37<10:59:17, 43.23s/query]2023-07-25 13:06:15,258 - WARNING - The version of firefox cannot be detected. Trying with latest driver version\n",
            "Searching:  14%|█▎        | 144/1058 [1:40:06<9:51:36, 38.84s/query] 2023-07-25 13:06:44,097 - WARNING - The version of firefox cannot be detected. Trying with latest driver version\n"
          ]
        },
        {
          "name": "stdout",
          "output_type": "stream",
          "text": [
            "Close\n",
            "Close\n",
            "Close\n",
            "Close\n"
          ]
        },
        {
          "name": "stderr",
          "output_type": "stream",
          "text": [
            "Searching:  14%|█▎        | 145/1058 [1:40:51<10:19:39, 40.72s/query]2023-07-25 13:07:29,140 - WARNING - The version of firefox cannot be detected. Trying with latest driver version\n",
            "Searching:  14%|█▍        | 146/1058 [1:41:25<9:51:09, 38.89s/query] 2023-07-25 13:08:04,200 - WARNING - The version of firefox cannot be detected. Trying with latest driver version\n",
            "Searching:  14%|█▍        | 147/1058 [1:42:03<9:42:23, 38.36s/query]2023-07-25 13:08:44,966 - WARNING - The version of firefox cannot be detected. Trying with latest driver version\n",
            "Searching:  14%|█▍        | 148/1058 [1:42:42<9:46:24, 38.66s/query]2023-07-25 13:09:20,735 - WARNING - The version of firefox cannot be detected. Trying with latest driver version\n",
            "Searching:  14%|█▍        | 149/1058 [1:43:24<10:01:00, 39.67s/query]2023-07-25 13:10:02,898 - WARNING - The version of firefox cannot be detected. Trying with latest driver version\n"
          ]
        },
        {
          "name": "stdout",
          "output_type": "stream",
          "text": [
            "Close\n",
            "Close\n",
            "Close\n"
          ]
        },
        {
          "name": "stderr",
          "output_type": "stream",
          "text": [
            "Searching:  14%|█▍        | 150/1058 [1:44:02<9:53:51, 39.24s/query] 2023-07-25 13:10:40,535 - WARNING - The version of firefox cannot be detected. Trying with latest driver version\n",
            "Searching:  14%|█▍        | 151/1058 [1:44:30<9:01:18, 35.81s/query]2023-07-25 13:11:07,838 - WARNING - The version of firefox cannot be detected. Trying with latest driver version\n",
            "Searching:  14%|█▍        | 152/1058 [1:45:10<9:18:44, 37.00s/query]2023-07-25 13:11:48,151 - WARNING - The version of firefox cannot be detected. Trying with latest driver version\n",
            "Searching:  14%|█▍        | 153/1058 [1:45:46<9:16:26, 36.89s/query]2023-07-25 13:12:24,101 - WARNING - The version of firefox cannot be detected. Trying with latest driver version\n",
            "Searching:  15%|█▍        | 154/1058 [1:46:21<9:06:47, 36.29s/query]2023-07-25 13:13:00,265 - WARNING - The version of firefox cannot be detected. Trying with latest driver version\n",
            "Searching:  15%|█▍        | 155/1058 [1:46:58<9:08:43, 36.46s/query]2023-07-25 13:13:38,402 - WARNING - The version of firefox cannot be detected. Trying with latest driver version\n",
            "Searching:  15%|█▍        | 156/1058 [1:48:22<12:43:57, 50.82s/query]2023-07-25 13:15:00,601 - WARNING - The version of firefox cannot be detected. Trying with latest driver version\n",
            "Searching:  15%|█▍        | 157/1058 [1:48:57<11:27:44, 45.80s/query]2023-07-25 13:15:35,871 - WARNING - The version of firefox cannot be detected. Trying with latest driver version\n"
          ]
        },
        {
          "name": "stdout",
          "output_type": "stream",
          "text": [
            "Close\n",
            "Close\n",
            "Close\n"
          ]
        },
        {
          "name": "stderr",
          "output_type": "stream",
          "text": [
            "Searching:  15%|█▍        | 158/1058 [1:49:32<10:38:18, 42.55s/query]2023-07-25 13:16:10,402 - WARNING - The version of firefox cannot be detected. Trying with latest driver version\n",
            "Searching:  15%|█▌        | 159/1058 [1:50:01<9:40:09, 38.72s/query] 2023-07-25 13:16:41,094 - WARNING - The version of firefox cannot be detected. Trying with latest driver version\n",
            "Searching:  15%|█▌        | 160/1058 [1:50:45<10:02:42, 40.27s/query]2023-07-25 13:17:28,572 - WARNING - The version of firefox cannot be detected. Trying with latest driver version\n",
            "Searching:  15%|█▌        | 161/1058 [1:51:25<10:00:22, 40.16s/query]2023-07-25 13:18:03,980 - WARNING - The version of firefox cannot be detected. Trying with latest driver version\n",
            "Searching:  15%|█▌        | 162/1058 [1:52:11<10:26:38, 41.96s/query]2023-07-25 13:18:50,716 - WARNING - The version of firefox cannot be detected. Trying with latest driver version\n"
          ]
        },
        {
          "name": "stdout",
          "output_type": "stream",
          "text": [
            "Close\n",
            "Close\n",
            "Close\n"
          ]
        },
        {
          "name": "stderr",
          "output_type": "stream",
          "text": [
            "Searching:  15%|█▌        | 163/1058 [1:52:54<10:29:28, 42.20s/query]2023-07-25 13:19:32,109 - WARNING - The version of firefox cannot be detected. Trying with latest driver version\n",
            "Searching:  16%|█▌        | 164/1058 [1:53:27<9:49:02, 39.53s/query] 2023-07-25 13:20:06,028 - WARNING - The version of firefox cannot be detected. Trying with latest driver version\n",
            "Searching:  16%|█▌        | 165/1058 [1:54:08<9:52:09, 39.79s/query]2023-07-25 13:20:45,976 - WARNING - The version of firefox cannot be detected. Trying with latest driver version\n"
          ]
        },
        {
          "name": "stdout",
          "output_type": "stream",
          "text": [
            "Close\n",
            "Close\n",
            "Close\n",
            "Close\n"
          ]
        },
        {
          "name": "stderr",
          "output_type": "stream",
          "text": [
            "Searching:  16%|█▌        | 166/1058 [1:54:51<10:08:40, 40.94s/query]2023-07-25 13:21:31,159 - WARNING - The version of firefox cannot be detected. Trying with latest driver version\n",
            "Searching:  16%|█▌        | 167/1058 [1:55:50<11:28:17, 46.35s/query]2023-07-25 13:22:29,266 - WARNING - The version of firefox cannot be detected. Trying with latest driver version\n",
            "Searching:  16%|█▌        | 168/1058 [1:57:02<13:20:39, 53.98s/query]2023-07-25 13:23:42,494 - WARNING - The version of firefox cannot be detected. Trying with latest driver version\n"
          ]
        },
        {
          "name": "stdout",
          "output_type": "stream",
          "text": [
            "Close\n"
          ]
        },
        {
          "name": "stderr",
          "output_type": "stream",
          "text": [
            "Searching:  16%|█▌        | 169/1058 [1:57:53<13:04:51, 52.97s/query]2023-07-25 13:24:30,605 - WARNING - The version of firefox cannot be detected. Trying with latest driver version\n",
            "Searching:  16%|█▌        | 170/1058 [1:58:42<12:46:50, 51.81s/query]2023-07-25 13:25:21,764 - WARNING - The version of firefox cannot be detected. Trying with latest driver version\n",
            "Searching:  16%|█▌        | 171/1058 [1:59:46<13:40:53, 55.53s/query]2023-07-25 13:26:25,792 - WARNING - The version of firefox cannot be detected. Trying with latest driver version\n",
            "Searching:  16%|█▋        | 172/1058 [2:00:26<12:32:50, 50.98s/query]2023-07-25 13:27:04,677 - WARNING - The version of firefox cannot be detected. Trying with latest driver version\n"
          ]
        },
        {
          "name": "stdout",
          "output_type": "stream",
          "text": [
            "Close\n",
            "Close\n"
          ]
        },
        {
          "name": "stderr",
          "output_type": "stream",
          "text": [
            "Searching:  16%|█▋        | 173/1058 [2:01:06<11:42:34, 47.63s/query]2023-07-25 13:27:44,372 - WARNING - The version of firefox cannot be detected. Trying with latest driver version\n",
            "Searching:  16%|█▋        | 174/1058 [2:01:37<10:28:49, 42.68s/query]2023-07-25 13:28:15,824 - WARNING - The version of firefox cannot be detected. Trying with latest driver version\n"
          ]
        },
        {
          "name": "stdout",
          "output_type": "stream",
          "text": [
            "Close\n",
            "Close\n",
            "Close\n",
            "Close\n",
            "Close\n",
            "Close\n"
          ]
        },
        {
          "name": "stderr",
          "output_type": "stream",
          "text": [
            "Searching:  17%|█▋        | 175/1058 [2:02:26<10:53:59, 44.44s/query]2023-07-25 13:29:03,995 - WARNING - The version of firefox cannot be detected. Trying with latest driver version\n"
          ]
        },
        {
          "name": "stdout",
          "output_type": "stream",
          "text": [
            "Close\n",
            "Close\n",
            "Close\n"
          ]
        },
        {
          "name": "stderr",
          "output_type": "stream",
          "text": [
            "Searching:  17%|█▋        | 176/1058 [2:03:04<10:25:18, 42.54s/query]2023-07-25 13:29:42,601 - WARNING - The version of firefox cannot be detected. Trying with latest driver version\n",
            "Searching:  17%|█▋        | 177/1058 [2:04:10<12:10:04, 49.72s/query]2023-07-25 13:30:49,822 - WARNING - The version of firefox cannot be detected. Trying with latest driver version\n",
            "Searching:  17%|█▋        | 178/1058 [2:05:08<12:45:41, 52.21s/query]2023-07-25 13:31:48,673 - WARNING - The version of firefox cannot be detected. Trying with latest driver version\n"
          ]
        },
        {
          "name": "stdout",
          "output_type": "stream",
          "text": [
            "Close\n",
            "Close\n",
            "Close\n"
          ]
        },
        {
          "name": "stderr",
          "output_type": "stream",
          "text": [
            "Searching:  17%|█▋        | 179/1058 [2:05:50<11:59:58, 49.15s/query]2023-07-25 13:32:29,584 - WARNING - The version of firefox cannot be detected. Trying with latest driver version\n",
            "Searching:  17%|█▋        | 180/1058 [2:06:20<10:34:46, 43.38s/query]2023-07-25 13:33:00,740 - WARNING - The version of firefox cannot be detected. Trying with latest driver version\n",
            "Searching:  17%|█▋        | 181/1058 [2:07:29<12:23:14, 50.85s/query]2023-07-25 13:34:08,454 - WARNING - The version of firefox cannot be detected. Trying with latest driver version\n"
          ]
        },
        {
          "name": "stdout",
          "output_type": "stream",
          "text": [
            "Close\n",
            "Close\n",
            "Close\n",
            "Close\n",
            "Close\n",
            "Close\n",
            "Close\n"
          ]
        },
        {
          "name": "stderr",
          "output_type": "stream",
          "text": [
            "Searching:  17%|█▋        | 182/1058 [2:08:13<11:55:38, 49.02s/query]2023-07-25 13:34:52,762 - WARNING - The version of firefox cannot be detected. Trying with latest driver version\n",
            "Searching:  17%|█▋        | 183/1058 [2:08:44<10:33:22, 43.43s/query]2023-07-25 13:35:21,617 - WARNING - The version of firefox cannot be detected. Trying with latest driver version\n"
          ]
        },
        {
          "name": "stdout",
          "output_type": "stream",
          "text": [
            "Close\n",
            "Close\n",
            "Close\n"
          ]
        },
        {
          "name": "stderr",
          "output_type": "stream",
          "text": [
            "Searching:  17%|█▋        | 184/1058 [2:09:21<10:06:36, 41.64s/query]2023-07-25 13:35:59,732 - WARNING - The version of firefox cannot be detected. Trying with latest driver version\n",
            "Searching:  17%|█▋        | 185/1058 [2:09:51<9:11:57, 37.93s/query] 2023-07-25 13:36:28,294 - WARNING - The version of firefox cannot be detected. Trying with latest driver version\n"
          ]
        },
        {
          "name": "stdout",
          "output_type": "stream",
          "text": [
            "Close\n",
            "Close\n",
            "Close\n",
            "Close\n",
            "Close\n",
            "Close\n",
            "Close\n"
          ]
        },
        {
          "name": "stderr",
          "output_type": "stream",
          "text": [
            "Searching:  18%|█▊        | 186/1058 [2:10:37<9:48:34, 40.50s/query]2023-07-25 13:37:16,499 - WARNING - The version of firefox cannot be detected. Trying with latest driver version\n",
            "Searching:  18%|█▊        | 187/1058 [2:11:09<9:10:57, 37.95s/query]2023-07-25 13:37:48,090 - WARNING - The version of firefox cannot be detected. Trying with latest driver version\n",
            "Searching:  18%|█▊        | 188/1058 [2:11:44<8:55:32, 36.93s/query]2023-07-25 13:38:22,180 - WARNING - The version of firefox cannot be detected. Trying with latest driver version\n"
          ]
        },
        {
          "name": "stdout",
          "output_type": "stream",
          "text": [
            "Close\n",
            "Close\n",
            "Close\n",
            "Close\n"
          ]
        },
        {
          "name": "stderr",
          "output_type": "stream",
          "text": [
            "Searching:  18%|█▊        | 189/1058 [2:12:24<9:11:07, 38.05s/query]2023-07-25 13:39:04,637 - WARNING - The version of firefox cannot be detected. Trying with latest driver version\n",
            "Searching:  18%|█▊        | 190/1058 [2:12:52<8:25:03, 34.91s/query]2023-07-25 13:39:29,888 - WARNING - The version of firefox cannot be detected. Trying with latest driver version\n",
            "Searching:  18%|█▊        | 191/1058 [2:13:27<8:24:24, 34.91s/query]2023-07-25 13:40:06,322 - WARNING - The version of firefox cannot be detected. Trying with latest driver version\n",
            "Searching:  18%|█▊        | 192/1058 [2:14:01<8:20:18, 34.66s/query]2023-07-25 13:40:40,705 - WARNING - The version of firefox cannot be detected. Trying with latest driver version\n",
            "Searching:  18%|█▊        | 193/1058 [2:15:02<10:15:18, 42.68s/query]2023-07-25 13:41:40,225 - WARNING - The version of firefox cannot be detected. Trying with latest driver version\n",
            "Searching:  18%|█▊        | 194/1058 [2:16:02<11:29:19, 47.87s/query]2023-07-25 13:42:40,494 - WARNING - The version of firefox cannot be detected. Trying with latest driver version\n"
          ]
        },
        {
          "name": "stdout",
          "output_type": "stream",
          "text": [
            "Close\n",
            "Close\n",
            "Close\n"
          ]
        },
        {
          "name": "stderr",
          "output_type": "stream",
          "text": [
            "Searching:  18%|█▊        | 195/1058 [2:16:41<10:47:44, 45.03s/query]2023-07-25 13:43:19,700 - WARNING - The version of firefox cannot be detected. Trying with latest driver version\n",
            "Searching:  19%|█▊        | 196/1058 [2:17:32<11:13:14, 46.86s/query]2023-07-25 13:44:11,000 - WARNING - The version of firefox cannot be detected. Trying with latest driver version\n"
          ]
        },
        {
          "name": "stdout",
          "output_type": "stream",
          "text": [
            "Close\n",
            "Close\n",
            "Close\n",
            "Close\n",
            "Close\n",
            "Close\n",
            "Close\n"
          ]
        },
        {
          "name": "stderr",
          "output_type": "stream",
          "text": [
            "Searching:  19%|█▊        | 197/1058 [2:18:15<10:55:07, 45.65s/query]2023-07-25 13:44:52,367 - WARNING - The version of firefox cannot be detected. Trying with latest driver version\n"
          ]
        },
        {
          "name": "stdout",
          "output_type": "stream",
          "text": [
            "Close\n",
            "Close\n",
            "Close\n",
            "Close\n",
            "Close\n"
          ]
        },
        {
          "name": "stderr",
          "output_type": "stream",
          "text": [
            "Searching:  19%|█▊        | 198/1058 [2:18:51<10:14:22, 42.86s/query]2023-07-25 13:45:30,362 - WARNING - The version of firefox cannot be detected. Trying with latest driver version\n"
          ]
        },
        {
          "name": "stdout",
          "output_type": "stream",
          "text": [
            "Close\n",
            "Close\n"
          ]
        },
        {
          "name": "stderr",
          "output_type": "stream",
          "text": [
            "Searching:  19%|█▉        | 199/1058 [2:19:27<9:45:44, 40.91s/query] 2023-07-25 13:46:05,949 - WARNING - The version of firefox cannot be detected. Trying with latest driver version\n",
            "Searching:  19%|█▉        | 200/1058 [2:19:57<8:55:04, 37.42s/query]2023-07-25 13:46:34,783 - WARNING - The version of firefox cannot be detected. Trying with latest driver version\n",
            "Searching:  19%|█▉        | 201/1058 [2:20:33<8:49:21, 37.06s/query]2023-07-25 13:47:11,002 - WARNING - The version of firefox cannot be detected. Trying with latest driver version\n"
          ]
        },
        {
          "name": "stdout",
          "output_type": "stream",
          "text": [
            "Close\n",
            "Close\n",
            "Close\n",
            "Close\n",
            "Close\n",
            "Close\n",
            "Close\n"
          ]
        },
        {
          "name": "stderr",
          "output_type": "stream",
          "text": [
            "Searching:  19%|█▉        | 202/1058 [2:21:25<9:54:07, 41.64s/query]2023-07-25 13:48:05,616 - WARNING - The version of firefox cannot be detected. Trying with latest driver version\n",
            "Searching:  19%|█▉        | 203/1058 [2:22:24<11:06:43, 46.79s/query]2023-07-25 13:49:02,177 - WARNING - The version of firefox cannot be detected. Trying with latest driver version\n",
            "Searching:  19%|█▉        | 204/1058 [2:22:57<10:09:13, 42.80s/query]2023-07-25 13:49:35,893 - WARNING - The version of firefox cannot be detected. Trying with latest driver version\n",
            "Searching:  19%|█▉        | 205/1058 [2:23:37<9:54:57, 41.85s/query] 2023-07-25 13:50:19,175 - WARNING - The version of firefox cannot be detected. Trying with latest driver version\n",
            "Searching:  19%|█▉        | 206/1058 [2:24:19<9:54:23, 41.86s/query]2023-07-25 13:50:57,031 - WARNING - The version of firefox cannot be detected. Trying with latest driver version\n",
            "Searching:  20%|█▉        | 207/1058 [2:24:53<9:21:41, 39.60s/query]2023-07-25 13:51:31,795 - WARNING - The version of firefox cannot be detected. Trying with latest driver version\n"
          ]
        },
        {
          "name": "stdout",
          "output_type": "stream",
          "text": [
            "Close\n"
          ]
        },
        {
          "name": "stderr",
          "output_type": "stream",
          "text": [
            "Searching:  20%|█▉        | 208/1058 [2:25:31<9:13:20, 39.06s/query]2023-07-25 13:52:10,087 - WARNING - The version of firefox cannot be detected. Trying with latest driver version\n"
          ]
        },
        {
          "name": "stdout",
          "output_type": "stream",
          "text": [
            "Close\n",
            "Close\n",
            "Close\n",
            "Close\n",
            "Close\n",
            "Close\n"
          ]
        },
        {
          "name": "stderr",
          "output_type": "stream",
          "text": [
            "Searching:  20%|█▉        | 209/1058 [2:26:18<9:46:34, 41.45s/query]2023-07-25 13:52:55,964 - WARNING - The version of firefox cannot be detected. Trying with latest driver version\n",
            "Searching:  20%|█▉        | 210/1058 [2:26:50<9:07:07, 38.71s/query]2023-07-25 13:53:29,856 - WARNING - The version of firefox cannot be detected. Trying with latest driver version\n"
          ]
        },
        {
          "name": "stdout",
          "output_type": "stream",
          "text": [
            "Close\n",
            "Close\n",
            "Close\n",
            "Close\n",
            "Close\n"
          ]
        },
        {
          "name": "stderr",
          "output_type": "stream",
          "text": [
            "Searching:  20%|█▉        | 211/1058 [2:27:37<9:41:13, 41.17s/query]2023-07-25 13:54:16,356 - WARNING - The version of firefox cannot be detected. Trying with latest driver version\n",
            "Searching:  20%|██        | 212/1058 [2:28:33<10:43:28, 45.64s/query]2023-07-25 13:55:15,704 - WARNING - The version of firefox cannot be detected. Trying with latest driver version\n",
            "Searching:  20%|██        | 213/1058 [2:29:07<9:53:38, 42.15s/query] 2023-07-25 13:55:45,859 - WARNING - The version of firefox cannot be detected. Trying with latest driver version\n"
          ]
        },
        {
          "name": "stdout",
          "output_type": "stream",
          "text": [
            "Close\n",
            "Close\n",
            "Close\n"
          ]
        },
        {
          "name": "stderr",
          "output_type": "stream",
          "text": [
            "Searching:  20%|██        | 214/1058 [2:29:46<9:36:55, 41.01s/query]2023-07-25 13:56:23,849 - WARNING - The version of firefox cannot be detected. Trying with latest driver version\n",
            "Searching:  20%|██        | 215/1058 [2:30:22<9:15:29, 39.54s/query]2023-07-25 13:57:00,170 - WARNING - The version of firefox cannot be detected. Trying with latest driver version\n",
            "Searching:  20%|██        | 216/1058 [2:30:57<8:55:45, 38.18s/query]2023-07-25 13:57:35,481 - WARNING - The version of firefox cannot be detected. Trying with latest driver version\n",
            "Searching:  21%|██        | 217/1058 [2:31:32<8:41:57, 37.24s/query]2023-07-25 13:58:09,759 - WARNING - The version of firefox cannot be detected. Trying with latest driver version\n",
            "Searching:  21%|██        | 218/1058 [2:32:10<8:43:43, 37.41s/query]2023-07-25 13:58:47,985 - WARNING - The version of firefox cannot be detected. Trying with latest driver version\n"
          ]
        },
        {
          "name": "stdout",
          "output_type": "stream",
          "text": [
            "Close\n",
            "Close\n",
            "Close\n",
            "Close\n"
          ]
        },
        {
          "name": "stderr",
          "output_type": "stream",
          "text": [
            "Searching:  21%|██        | 219/1058 [2:32:50<8:55:30, 38.30s/query]2023-07-25 13:59:31,602 - WARNING - The version of firefox cannot be detected. Trying with latest driver version\n",
            "Searching:  21%|██        | 220/1058 [2:33:55<10:44:47, 46.17s/query]2023-07-25 14:00:33,584 - WARNING - The version of firefox cannot be detected. Trying with latest driver version\n",
            "Searching:  21%|██        | 221/1058 [2:34:25<9:38:23, 41.46s/query] 2023-07-25 14:01:02,883 - WARNING - The version of firefox cannot be detected. Trying with latest driver version\n",
            "Searching:  21%|██        | 222/1058 [2:34:58<9:01:11, 38.84s/query]2023-07-25 14:01:36,433 - WARNING - The version of firefox cannot be detected. Trying with latest driver version\n"
          ]
        },
        {
          "name": "stdout",
          "output_type": "stream",
          "text": [
            "Close\n",
            "Close\n",
            "Close\n",
            "Close\n"
          ]
        },
        {
          "name": "stderr",
          "output_type": "stream",
          "text": [
            "Searching:  21%|██        | 223/1058 [2:35:35<8:54:30, 38.41s/query]2023-07-25 14:02:18,470 - WARNING - The version of firefox cannot be detected. Trying with latest driver version\n"
          ]
        },
        {
          "name": "stdout",
          "output_type": "stream",
          "text": [
            "Close\n",
            "Close\n",
            "Close\n",
            "Close\n",
            "Close\n",
            "Close\n"
          ]
        },
        {
          "name": "stderr",
          "output_type": "stream",
          "text": [
            "Searching:  21%|██        | 224/1058 [2:36:21<9:23:37, 40.55s/query]2023-07-25 14:02:59,512 - WARNING - The version of firefox cannot be detected. Trying with latest driver version\n"
          ]
        },
        {
          "name": "stdout",
          "output_type": "stream",
          "text": [
            "Close\n",
            "Close\n",
            "Close\n",
            "Close\n",
            "Close\n",
            "Close\n"
          ]
        },
        {
          "name": "stderr",
          "output_type": "stream",
          "text": [
            "Searching:  21%|██▏       | 225/1058 [2:37:03<9:31:35, 41.17s/query]2023-07-25 14:03:44,031 - WARNING - The version of firefox cannot be detected. Trying with latest driver version\n"
          ]
        },
        {
          "name": "stdout",
          "output_type": "stream",
          "text": [
            "Close\n"
          ]
        },
        {
          "name": "stderr",
          "output_type": "stream",
          "text": [
            "Searching:  21%|██▏       | 226/1058 [2:37:38<9:02:12, 39.10s/query]2023-07-25 14:04:16,799 - WARNING - The version of firefox cannot be detected. Trying with latest driver version\n",
            "Searching:  21%|██▏       | 227/1058 [2:38:08<8:25:14, 36.48s/query]2023-07-25 14:04:46,668 - WARNING - The version of firefox cannot be detected. Trying with latest driver version\n"
          ]
        },
        {
          "name": "stdout",
          "output_type": "stream",
          "text": [
            "Close\n",
            "Close\n",
            "Close\n",
            "Close\n",
            "Close\n"
          ]
        },
        {
          "name": "stderr",
          "output_type": "stream",
          "text": [
            "Searching:  22%|██▏       | 228/1058 [2:38:54<9:05:50, 39.46s/query]2023-07-25 14:05:33,360 - WARNING - The version of firefox cannot be detected. Trying with latest driver version\n",
            "Searching:  22%|██▏       | 229/1058 [2:39:27<8:36:40, 37.39s/query]2023-07-25 14:06:06,096 - WARNING - The version of firefox cannot be detected. Trying with latest driver version\n",
            "Searching:  22%|██▏       | 230/1058 [2:40:03<8:31:00, 37.03s/query]2023-07-25 14:06:42,298 - WARNING - The version of firefox cannot be detected. Trying with latest driver version\n"
          ]
        },
        {
          "name": "stdout",
          "output_type": "stream",
          "text": [
            "Close\n",
            "Close\n",
            "Close\n",
            "Close\n"
          ]
        },
        {
          "name": "stderr",
          "output_type": "stream",
          "text": [
            "Searching:  22%|██▏       | 231/1058 [2:40:46<8:53:22, 38.70s/query]2023-07-25 14:07:24,747 - WARNING - The version of firefox cannot be detected. Trying with latest driver version\n"
          ]
        },
        {
          "name": "stdout",
          "output_type": "stream",
          "text": [
            "Close\n",
            "Close\n"
          ]
        },
        {
          "name": "stderr",
          "output_type": "stream",
          "text": [
            "Searching:  22%|██▏       | 232/1058 [2:41:24<8:52:45, 38.70s/query]2023-07-25 14:08:02,649 - WARNING - The version of firefox cannot be detected. Trying with latest driver version\n",
            "Searching:  22%|██▏       | 233/1058 [2:42:04<8:55:45, 38.96s/query]2023-07-25 14:08:43,431 - WARNING - The version of firefox cannot be detected. Trying with latest driver version\n"
          ]
        },
        {
          "name": "stdout",
          "output_type": "stream",
          "text": [
            "Close\n",
            "Close\n"
          ]
        },
        {
          "name": "stderr",
          "output_type": "stream",
          "text": [
            "Searching:  22%|██▏       | 234/1058 [2:42:46<9:06:28, 39.79s/query]2023-07-25 14:09:23,997 - WARNING - The version of firefox cannot be detected. Trying with latest driver version\n",
            "Searching:  22%|██▏       | 235/1058 [2:43:21<8:48:19, 38.52s/query]2023-07-25 14:09:59,462 - WARNING - The version of firefox cannot be detected. Trying with latest driver version\n",
            "Searching:  22%|██▏       | 236/1058 [2:43:52<8:15:50, 36.19s/query]2023-07-25 14:10:29,841 - WARNING - The version of firefox cannot be detected. Trying with latest driver version\n"
          ]
        },
        {
          "name": "stdout",
          "output_type": "stream",
          "text": [
            "Close\n",
            "Close\n",
            "Close\n",
            "Close\n",
            "Close\n",
            "Close\n"
          ]
        },
        {
          "name": "stderr",
          "output_type": "stream",
          "text": [
            "Searching:  22%|██▏       | 237/1058 [2:44:37<8:49:01, 38.66s/query]2023-07-25 14:11:14,718 - WARNING - The version of firefox cannot be detected. Trying with latest driver version\n",
            "Searching:  22%|██▏       | 238/1058 [2:45:07<8:15:12, 36.23s/query]2023-07-25 14:11:44,901 - WARNING - The version of firefox cannot be detected. Trying with latest driver version\n",
            "Searching:  23%|██▎       | 239/1058 [2:45:42<8:09:12, 35.84s/query]2023-07-25 14:12:20,146 - WARNING - The version of firefox cannot be detected. Trying with latest driver version\n"
          ]
        },
        {
          "name": "stdout",
          "output_type": "stream",
          "text": [
            "Close\n",
            "Close\n",
            "Close\n"
          ]
        },
        {
          "name": "stderr",
          "output_type": "stream",
          "text": [
            "Searching:  23%|██▎       | 240/1058 [2:46:23<8:30:21, 37.43s/query]2023-07-25 14:13:01,532 - WARNING - The version of firefox cannot be detected. Trying with latest driver version\n",
            "Searching:  23%|██▎       | 241/1058 [2:46:56<8:10:40, 36.04s/query]2023-07-25 14:13:36,535 - WARNING - The version of firefox cannot be detected. Trying with latest driver version\n",
            "Searching:  23%|██▎       | 242/1058 [2:47:36<8:25:47, 37.19s/query]2023-07-25 14:14:16,322 - WARNING - The version of firefox cannot be detected. Trying with latest driver version\n",
            "Searching:  23%|██▎       | 243/1058 [2:48:15<8:32:44, 37.75s/query]2023-07-25 14:14:54,370 - WARNING - The version of firefox cannot be detected. Trying with latest driver version\n"
          ]
        },
        {
          "name": "stdout",
          "output_type": "stream",
          "text": [
            "Close\n",
            "Close\n",
            "Close\n"
          ]
        },
        {
          "name": "stderr",
          "output_type": "stream",
          "text": [
            "Searching:  23%|██▎       | 244/1058 [2:48:53<8:33:10, 37.83s/query]2023-07-25 14:15:32,016 - WARNING - The version of firefox cannot be detected. Trying with latest driver version\n"
          ]
        },
        {
          "name": "stdout",
          "output_type": "stream",
          "text": [
            "Close\n",
            "Close\n",
            "Close\n"
          ]
        },
        {
          "name": "stderr",
          "output_type": "stream",
          "text": [
            "Searching:  23%|██▎       | 245/1058 [2:49:36<8:52:07, 39.27s/query]2023-07-25 14:16:14,445 - WARNING - The version of firefox cannot be detected. Trying with latest driver version\n",
            "Searching:  23%|██▎       | 246/1058 [2:50:02<8:00:34, 35.51s/query]2023-07-25 14:16:40,919 - WARNING - The version of firefox cannot be detected. Trying with latest driver version\n",
            "Searching:  23%|██▎       | 247/1058 [2:50:36<7:54:49, 35.13s/query]2023-07-25 14:17:14,603 - WARNING - The version of firefox cannot be detected. Trying with latest driver version\n",
            "Searching:  23%|██▎       | 248/1058 [2:51:04<7:22:03, 32.74s/query]2023-07-25 14:17:41,970 - WARNING - The version of firefox cannot be detected. Trying with latest driver version\n",
            "Searching:  24%|██▎       | 249/1058 [2:51:45<7:57:17, 35.40s/query]2023-07-25 14:18:24,633 - WARNING - The version of firefox cannot be detected. Trying with latest driver version\n"
          ]
        },
        {
          "name": "stdout",
          "output_type": "stream",
          "text": [
            "Close\n",
            "Close\n",
            "Close\n",
            "Close\n",
            "Close\n",
            "Close\n",
            "Close\n"
          ]
        },
        {
          "name": "stderr",
          "output_type": "stream",
          "text": [
            "Searching:  24%|██▎       | 250/1058 [2:52:30<8:34:37, 38.21s/query]2023-07-25 14:19:08,106 - WARNING - The version of firefox cannot be detected. Trying with latest driver version\n",
            "Searching:  24%|██▎       | 251/1058 [2:52:59<7:54:57, 35.31s/query]2023-07-25 14:19:36,898 - WARNING - The version of firefox cannot be detected. Trying with latest driver version\n"
          ]
        },
        {
          "name": "stdout",
          "output_type": "stream",
          "text": [
            "Close\n",
            "Close\n",
            "Close\n",
            "Close\n"
          ]
        },
        {
          "name": "stderr",
          "output_type": "stream",
          "text": [
            "Searching:  24%|██▍       | 252/1058 [2:53:41<8:22:02, 37.37s/query]2023-07-25 14:20:19,009 - WARNING - The version of firefox cannot be detected. Trying with latest driver version\n",
            "Searching:  24%|██▍       | 253/1058 [2:54:02<7:17:56, 32.64s/query]2023-07-25 14:20:41,135 - WARNING - The version of firefox cannot be detected. Trying with latest driver version\n",
            "Searching:  24%|██▍       | 254/1058 [2:55:09<9:35:23, 42.94s/query]2023-07-25 14:21:47,175 - WARNING - The version of firefox cannot be detected. Trying with latest driver version\n",
            "Searching:  24%|██▍       | 255/1058 [2:55:38<8:35:42, 38.53s/query]2023-07-25 14:22:15,971 - WARNING - The version of firefox cannot be detected. Trying with latest driver version\n"
          ]
        },
        {
          "name": "stdout",
          "output_type": "stream",
          "text": [
            "Close\n",
            "Close\n",
            "Close\n"
          ]
        },
        {
          "name": "stderr",
          "output_type": "stream",
          "text": [
            "Searching:  24%|██▍       | 256/1058 [2:56:10<8:11:27, 36.77s/query]2023-07-25 14:22:48,517 - WARNING - The version of firefox cannot be detected. Trying with latest driver version\n",
            "Searching:  24%|██▍       | 257/1058 [2:56:38<7:35:58, 34.16s/query]2023-07-25 14:23:17,520 - WARNING - The version of firefox cannot be detected. Trying with latest driver version\n",
            "Searching:  24%|██▍       | 258/1058 [2:57:08<7:16:57, 32.77s/query]2023-07-25 14:23:46,241 - WARNING - The version of firefox cannot be detected. Trying with latest driver version\n",
            "Searching:  24%|██▍       | 259/1058 [2:57:36<6:58:02, 31.39s/query]2023-07-25 14:24:15,576 - WARNING - The version of firefox cannot be detected. Trying with latest driver version\n"
          ]
        },
        {
          "name": "stdout",
          "output_type": "stream",
          "text": [
            "Close\n",
            "Close\n"
          ]
        },
        {
          "name": "stderr",
          "output_type": "stream",
          "text": [
            "Searching:  25%|██▍       | 260/1058 [2:58:15<7:26:45, 33.59s/query]2023-07-25 14:24:52,650 - WARNING - The version of firefox cannot be detected. Trying with latest driver version\n",
            "Searching:  25%|██▍       | 261/1058 [2:59:09<8:46:41, 39.65s/query]2023-07-25 14:25:46,359 - WARNING - The version of firefox cannot be detected. Trying with latest driver version\n"
          ]
        },
        {
          "name": "stdout",
          "output_type": "stream",
          "text": [
            "Close\n",
            "Close\n",
            "Close\n"
          ]
        },
        {
          "name": "stderr",
          "output_type": "stream",
          "text": [
            "Searching:  25%|██▍       | 262/1058 [2:59:41<8:19:17, 37.64s/query]2023-07-25 14:26:19,245 - WARNING - The version of firefox cannot be detected. Trying with latest driver version\n",
            "Searching:  25%|██▍       | 263/1058 [3:00:09<7:39:09, 34.65s/query]2023-07-25 14:26:48,252 - WARNING - The version of firefox cannot be detected. Trying with latest driver version\n"
          ]
        },
        {
          "name": "stdout",
          "output_type": "stream",
          "text": [
            "Close\n",
            "Close\n",
            "Close\n",
            "Close\n",
            "Close\n",
            "Close\n",
            "Close\n"
          ]
        },
        {
          "name": "stderr",
          "output_type": "stream",
          "text": [
            "Searching:  25%|██▍       | 264/1058 [3:00:52<8:09:31, 36.99s/query]2023-07-25 14:27:30,949 - WARNING - The version of firefox cannot be detected. Trying with latest driver version\n"
          ]
        },
        {
          "name": "stdout",
          "output_type": "stream",
          "text": [
            "Close\n",
            "Close\n",
            "Close\n"
          ]
        },
        {
          "name": "stderr",
          "output_type": "stream",
          "text": [
            "Searching:  25%|██▌       | 265/1058 [3:01:28<8:05:31, 36.74s/query]2023-07-25 14:28:06,131 - WARNING - The version of firefox cannot be detected. Trying with latest driver version\n"
          ]
        },
        {
          "name": "stdout",
          "output_type": "stream",
          "text": [
            "Close\n",
            "Close\n",
            "Close\n"
          ]
        },
        {
          "name": "stderr",
          "output_type": "stream",
          "text": [
            "Searching:  25%|██▌       | 266/1058 [3:02:07<8:15:18, 37.52s/query]2023-07-25 14:28:46,609 - WARNING - The version of firefox cannot be detected. Trying with latest driver version\n"
          ]
        },
        {
          "name": "stdout",
          "output_type": "stream",
          "text": [
            "Close\n",
            "Close\n"
          ]
        },
        {
          "name": "stderr",
          "output_type": "stream",
          "text": [
            "Searching:  25%|██▌       | 267/1058 [3:02:47<8:23:10, 38.17s/query]2023-07-25 14:29:25,595 - WARNING - The version of firefox cannot be detected. Trying with latest driver version\n",
            "Searching:  25%|██▌       | 268/1058 [3:03:46<9:46:12, 44.52s/query]2023-07-25 14:30:32,693 - WARNING - The version of firefox cannot be detected. Trying with latest driver version\n"
          ]
        },
        {
          "name": "stdout",
          "output_type": "stream",
          "text": [
            "Close\n",
            "Close\n",
            "Close\n"
          ]
        },
        {
          "name": "stderr",
          "output_type": "stream",
          "text": [
            "Searching:  25%|██▌       | 269/1058 [3:04:42<10:30:18, 47.93s/query]2023-07-25 14:31:20,858 - WARNING - The version of firefox cannot be detected. Trying with latest driver version\n"
          ]
        },
        {
          "name": "stdout",
          "output_type": "stream",
          "text": [
            "Close\n",
            "Close\n",
            "Close\n",
            "Close\n",
            "Close\n",
            "Close\n"
          ]
        },
        {
          "name": "stderr",
          "output_type": "stream",
          "text": [
            "Searching:  26%|██▌       | 270/1058 [3:05:27<10:16:42, 46.96s/query]2023-07-25 14:32:05,434 - WARNING - The version of firefox cannot be detected. Trying with latest driver version\n"
          ]
        },
        {
          "name": "stdout",
          "output_type": "stream",
          "text": [
            "Close\n",
            "Close\n",
            "Close\n",
            "Close\n"
          ]
        },
        {
          "name": "stderr",
          "output_type": "stream",
          "text": [
            "Searching:  26%|██▌       | 271/1058 [3:06:03<9:35:07, 43.85s/query] 2023-07-25 14:32:42,299 - WARNING - The version of firefox cannot be detected. Trying with latest driver version\n",
            "Searching:  26%|██▌       | 272/1058 [3:06:28<8:20:41, 38.22s/query]2023-07-25 14:33:06,403 - WARNING - The version of firefox cannot be detected. Trying with latest driver version\n",
            "Searching:  26%|██▌       | 273/1058 [3:06:58<7:48:14, 35.79s/query]2023-07-25 14:33:37,006 - WARNING - The version of firefox cannot be detected. Trying with latest driver version\n",
            "Searching:  26%|██▌       | 274/1058 [3:07:33<7:40:59, 35.28s/query]2023-07-25 14:34:11,457 - WARNING - The version of firefox cannot be detected. Trying with latest driver version\n"
          ]
        },
        {
          "name": "stdout",
          "output_type": "stream",
          "text": [
            "Close\n",
            "Close\n",
            "Close\n",
            "Close\n",
            "Close\n"
          ]
        },
        {
          "name": "stderr",
          "output_type": "stream",
          "text": [
            "Searching:  26%|██▌       | 275/1058 [3:08:14<8:02:40, 36.99s/query]2023-07-25 14:34:52,013 - WARNING - The version of firefox cannot be detected. Trying with latest driver version\n",
            "Searching:  26%|██▌       | 276/1058 [3:08:42<7:29:52, 34.52s/query]2023-07-25 14:35:21,326 - WARNING - The version of firefox cannot be detected. Trying with latest driver version\n",
            "Searching:  26%|██▌       | 277/1058 [3:09:13<7:14:46, 33.40s/query]2023-07-25 14:35:51,631 - WARNING - The version of firefox cannot be detected. Trying with latest driver version\n",
            "Searching:  26%|██▋       | 278/1058 [3:09:42<6:55:31, 31.96s/query]2023-07-25 14:36:20,600 - WARNING - The version of firefox cannot be detected. Trying with latest driver version\n",
            "Searching:  26%|██▋       | 279/1058 [3:10:10<6:39:45, 30.79s/query]2023-07-25 14:36:48,098 - WARNING - The version of firefox cannot be detected. Trying with latest driver version\n"
          ]
        },
        {
          "name": "stdout",
          "output_type": "stream",
          "text": [
            "Close\n",
            "Close\n",
            "Close\n",
            "Close\n",
            "Close\n"
          ]
        },
        {
          "name": "stderr",
          "output_type": "stream",
          "text": [
            "Searching:  26%|██▋       | 280/1058 [3:11:03<8:04:38, 37.38s/query]2023-07-25 14:37:43,282 - WARNING - The version of firefox cannot be detected. Trying with latest driver version\n"
          ]
        },
        {
          "name": "stdout",
          "output_type": "stream",
          "text": [
            "Close\n",
            "Close\n",
            "Close\n",
            "Close\n"
          ]
        },
        {
          "name": "stderr",
          "output_type": "stream",
          "text": [
            "Searching:  27%|██▋       | 281/1058 [3:11:46<8:28:35, 39.27s/query]2023-07-25 14:38:24,594 - WARNING - The version of firefox cannot be detected. Trying with latest driver version\n",
            "Searching:  27%|██▋       | 282/1058 [3:12:07<7:15:16, 33.66s/query]2023-07-25 14:38:45,341 - WARNING - The version of firefox cannot be detected. Trying with latest driver version\n"
          ]
        },
        {
          "name": "stdout",
          "output_type": "stream",
          "text": [
            "Close\n",
            "Close\n",
            "Close\n",
            "Close\n"
          ]
        },
        {
          "name": "stderr",
          "output_type": "stream",
          "text": [
            "Searching:  27%|██▋       | 283/1058 [3:12:47<7:41:48, 35.75s/query]2023-07-25 14:39:27,120 - WARNING - The version of firefox cannot be detected. Trying with latest driver version\n"
          ]
        },
        {
          "name": "stdout",
          "output_type": "stream",
          "text": [
            "Close\n",
            "Close\n",
            "Close\n"
          ]
        },
        {
          "name": "stderr",
          "output_type": "stream",
          "text": [
            "Searching:  27%|██▋       | 284/1058 [3:13:19<7:23:59, 34.42s/query]2023-07-25 14:39:57,266 - WARNING - The version of firefox cannot be detected. Trying with latest driver version\n"
          ]
        }
      ],
      "source": [
        "totlis = [3174 , 4232]\n",
        "st_rng = totlis[0]\n",
        "end_rng = totlis[1]\n",
        "total_rng = abs(end_rng - st_rng)\n",
        "\n",
        "pbar = tqdm(total=total_rng, desc='Searching', unit='query')\n",
        "\n",
        "for sub in range(st_rng, end_rng):\n",
        "  pbar.update(1)\n",
        "\n",
        "  url = 'https://www.domain.com.au/suburb-profile/'+df['0'][sub]\n",
        "  driver = driver_setup() # for each link we are setting a new Firefox instance\n",
        "  driver.get(url)\n",
        "  html = driver.page_source\n",
        "  soup = BeautifulSoup(html, 'html.parser')\n",
        "  table = soup.find(\"table\")\n",
        "\n",
        "  try:\n",
        "    rows = table.find_all(\"tr\")[1:]\n",
        "\n",
        "    for row in range(len(rows)): # accessing the rows.\n",
        "        cells = rows[row].find_all(\"td\") # data collwxtion process collecing all cell data\n",
        "        try: # if the data is avilable it will collect or ignore.\n",
        "          bedrooms = cells[0].text.strip()\n",
        "        except:\n",
        "          bedrooms = None\n",
        "        try:\n",
        "          prop_type = cells[1].text.strip()\n",
        "        except:\n",
        "          prop_type = None\n",
        "        try:\n",
        "          median_price = cells[2].text.strip()\n",
        "        except:\n",
        "          median_price = None\n",
        "        try:\n",
        "          days_on_market = cells[3].text.strip()\n",
        "        except:\n",
        "          days_on_market = None\n",
        "        try:\n",
        "          clearance_rate = cells[4].text.strip()\n",
        "        except:\n",
        "          clearance_rate = None\n",
        "        try:\n",
        "          sold_this_year = cells[5].text.strip()\n",
        "        except:\n",
        "          sold_this_year = None\n",
        "        try:\n",
        "          population = soup.find('div', {'class': 'css-48zwbo'}).find('div', {'class': 'css-54bw0x'}).text\n",
        "        except:\n",
        "          population = None\n",
        "        try:\n",
        "          average_age = soup.find_all('div', {'class': 'css-48zwbo'})[1].find('div', {'class': 'css-54bw0x'}).text\n",
        "        except:\n",
        "          average_age = None\n",
        "        try:\n",
        "          owner_percent = soup.find('span', {'data-testid': 'left-value'}).text.strip()\n",
        "        except:\n",
        "          owner_percent = None\n",
        "        try:\n",
        "          renter_percent = soup.find('span', {'data-testid': 'right-value'}).text.strip()\n",
        "        except:\n",
        "          renter_percent = None\n",
        "        try:\n",
        "          family_percent = soup.find_all('span', {'data-testid': 'left-value'})[1].text.strip()\n",
        "        except:\n",
        "          family_percent = None\n",
        "        try:\n",
        "          single_percent = soup.find_all('span', {'data-testid': 'right-value'})[1].text.strip()\n",
        "        except:\n",
        "          single_percent = None\n",
        "\n",
        "        # Set the timestamp in Mosman, NSW, Australia (GMT+10)\n",
        "        australia_timezone = pytz.timezone('Australia/Sydney')\n",
        "        current_time = datetime.datetime.now(australia_timezone)\n",
        "\n",
        "        # single row collection, we also have the buttonfunction and it has more features like Rental median price.\n",
        "\n",
        "        row_data = { # features to dictionary.\n",
        "            \"Bedrooms\": bedrooms,\n",
        "            \"Type\": prop_type,\n",
        "            \"Median Price\": median_price,\n",
        "            \"Avg Days on Market\": days_on_market,\n",
        "            \"Clearance Rate\": clearance_rate,\n",
        "            \"Sold This Year\": sold_this_year,\n",
        "            'POPULATION': population,\n",
        "            'AVERAGE AGE': average_age,\n",
        "            'OWNER': owner_percent,\n",
        "            'RENTER': renter_percent,\n",
        "            'FAMILY': family_percent,\n",
        "            'SINGLE': single_percent,\n",
        "            'SUBURB': df['0'][sub],\n",
        "            'Time_stamp': current_time\n",
        "        }\n",
        "\n",
        "        one_row_data = pd.DataFrame(row_data,index=[0]) # dictionary to one row dataframe.\n",
        "\n",
        "        try: # if there is no row data then the entire loop has nothing to do.\n",
        "\n",
        "          # row's button function.\n",
        "\n",
        "          buttons = driver.find_elements(By.XPATH, \"//button[@title='Open' or @title='Close']\")\n",
        "          WebDriverWait(driver, 2).until(EC.element_to_be_clickable((By.XPATH, \"//button[@title='Open' or @title='Close']\")))\n",
        "          buttons[row].click()\n",
        "          # WebDriverWait(driver, 10).until(EC.staleness_of(buttons[row]))\n",
        "\n",
        "\n",
        "          button_html = buttons[row].get_attribute('outerHTML')\n",
        "          soup = BeautifulSoup(button_html, 'html.parser')\n",
        "          title_element = soup.find('div').find('title')\n",
        "          title = title_element.get_text()\n",
        "          print(title)\n",
        "          html = driver.page_source\n",
        "          soup = BeautifulSoup(html, 'html.parser')\n",
        "\n",
        "          tr_element = soup.find('tr', class_='css-1wpy7ho')\n",
        "          div_elements = tr_element.find_all('div', class_='css-15ydh5a')\n",
        "          datad = {}\n",
        "\n",
        "          # Extract the data from each div element and add it to the dictionary\n",
        "          for div in div_elements:\n",
        "              h4_element = div.find('h4', class_='css-srsjf4')\n",
        "              data_point = div.find('div', class_='css-1s6j0do')\n",
        "              label = h4_element.text.strip(':')\n",
        "              value = data_point.text.strip()\n",
        "              datad[label] = value\n",
        "\n",
        "          tdf = pd.DataFrame(datad, index=[0]) # dataframe to collect the data from the trend.\n",
        "\n",
        "          table_rows = soup.find_all('tr')  # table of one rows trend year wise.\n",
        "          data = {\n",
        "              'Year': [],\n",
        "              'Median Price': [],\n",
        "              'Growth': [],\n",
        "              'Number of Sales': []\n",
        "          }\n",
        "          for row in table_rows[1:]:\n",
        "              columns = row.find_all('td')\n",
        "              if len(columns) == 4:\n",
        "                  year = columns[0].text.strip()\n",
        "                  median_price = columns[1].text.strip()\n",
        "                  growth = columns[2].text.strip()\n",
        "                  num_sales = columns[3].text.strip()\n",
        "\n",
        "                  data['Year'].append(year)\n",
        "                  data['Median Price'].append(median_price)\n",
        "                  data['Growth'].append(growth)\n",
        "                  data['Number of Sales'].append(num_sales)\n",
        "\n",
        "          yearly_df = pd.DataFrame(data)\n",
        "\n",
        "          years = yearly_df['Year'].tolist()\n",
        "          for year in years:\n",
        "              tdf.loc[0, f'median_price_{year}'] = yearly_df.loc[yearly_df['Year'] == year, 'Median Price'].item()\n",
        "              tdf.loc[0, f'growth_rate_{year}'] = yearly_df.loc[yearly_df['Year'] == year, 'Growth'].item()\n",
        "              tdf.loc[0, f'no_of_sales_{year}'] = yearly_df.loc[yearly_df['Year'] == year, 'Number of Sales'].item()\n",
        "\n",
        "          australia_timezone = pytz.timezone('Australia/Sydney')\n",
        "          current_time = datetime.datetime.now(australia_timezone)\n",
        "\n",
        "          tempdf = pd.concat([one_row_data, tdf], ignore_index=True)\n",
        "          tempfilename = 'Domain_click_4.csv'\n",
        "\n",
        "          save_data_to_disk(tempdf, tempfilename)\n",
        "          tempdf = pd.DataFrame()\n",
        "          one_row_data = pd.DataFrame()\n",
        "        except:\n",
        "          None\n",
        "  except:\n",
        "    None\n",
        "\n",
        "  try:\n",
        "    driver.quit() # killing the firefox instance to maintain the speed of data sourcing.\n",
        "    gc.collect()\n",
        "    os.system(\"pkill firefox\")\n",
        "  except:\n",
        "    None"
      ]
    }
  ],
  "metadata": {
    "colab": {
      "provenance": []
    },
    "kernelspec": {
      "display_name": "Python 3",
      "name": "python3"
    },
    "language_info": {
      "codemirror_mode": {
        "name": "ipython",
        "version": 3
      },
      "file_extension": ".py",
      "mimetype": "text/x-python",
      "name": "python",
      "nbconvert_exporter": "python",
      "pygments_lexer": "ipython3",
      "version": "3.11.4"
    }
  },
  "nbformat": 4,
  "nbformat_minor": 0
}
