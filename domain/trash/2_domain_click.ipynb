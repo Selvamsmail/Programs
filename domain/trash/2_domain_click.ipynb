{
  "cells": [
    {
      "cell_type": "code",
      "execution_count": 1,
      "metadata": {
        "id": "YReJQI7rbDKP"
      },
      "outputs": [],
      "source": [
        "import pandas as pd\n",
        "import gdown\n",
        "import re\n",
        "import requests\n",
        "from bs4 import BeautifulSoup\n",
        "import json\n",
        "import pandas as pd\n",
        "import os\n",
        "from selenium import webdriver\n",
        "from selenium.webdriver.common.by import By\n",
        "from selenium.webdriver.support.ui import WebDriverWait\n",
        "from selenium.webdriver.support import expected_conditions as EC\n",
        "import gc\n",
        "import time\n",
        "import pytz\n",
        "import datetime\n",
        "import logging\n",
        "from tqdm import tqdm\n",
        "import traceback"
      ]
    },
    {
      "cell_type": "code",
      "execution_count": 5,
      "metadata": {
        "colab": {
          "base_uri": "https://localhost:8080/"
        },
        "id": "wHjBfwkOuA-O",
        "outputId": "3af371cc-c3d0-4e3a-d810-d680a93f60b4"
      },
      "outputs": [
        {
          "name": "stderr",
          "output_type": "stream",
          "text": [
            "Downloading...\n",
            "From: https://drive.google.com/uc?id=1DuT3nnIouLKuRFbGo5lqcQwKTTb5GM8r\n",
            "To: e:\\Programs\\domain\\suburbs.csv\n",
            "100%|██████████| 975k/975k [00:00<00:00, 4.35MB/s]\n"
          ]
        }
      ],
      "source": [
        "gdown.download(id = '1DuT3nnIouLKuRFbGo5lqcQwKTTb5GM8r')\n",
        "df = pd.read_csv('suburbs.csv')"
      ]
    },
    {
      "cell_type": "code",
      "execution_count": 6,
      "metadata": {
        "colab": {
          "base_uri": "https://localhost:8080/"
        },
        "id": "v0FaTNQRu-Su",
        "outputId": "bfe61e6f-08b2-4467-806e-e62b5014bbed"
      },
      "outputs": [
        {
          "data": {
            "text/plain": [
              "(15879, 2)"
            ]
          },
          "execution_count": 6,
          "metadata": {},
          "output_type": "execute_result"
        }
      ],
      "source": [
        "df.shape"
      ]
    },
    {
      "cell_type": "code",
      "execution_count": 7,
      "metadata": {
        "id": "gerNcz0mTdZ0"
      },
      "outputs": [],
      "source": [
        "def driver_setup():# Assigning a Headless Firefox Driver\n",
        "  options = webdriver.FirefoxOptions()\n",
        "  options.binary_location = 'C:/Program Files/Mozilla Firefox/firefox.exe'  # Path to Chrome executable\n",
        "  options.add_argument('E:/Programs/geckodriver.exe')\n",
        "  options.add_argument('--headless')\n",
        "  options.add_argument('--no-sandbox')\n",
        "  options.add_argument('--disable-dev-shm-usage')\n",
        "  driver = webdriver.Firefox(options=options)\n",
        "  return driver\n",
        "\n",
        "def save_data_to_disk(data, filename):\n",
        "    if os.path.isfile(filename):\n",
        "        existing_df = pd.read_csv(filename)\n",
        "        data = pd.concat([existing_df, data], ignore_index=True)\n",
        "        os.remove(filename)\n",
        "        data.to_csv(filename,index=False)\n",
        "    else:\n",
        "        data.to_csv(filename, mode='w', header=True, index=False)\n",
        "\n",
        "log_filename = 'exemption_logs.txt'\n",
        "logging.basicConfig(level=logging.INFO, format='%(asctime)s - %(levelname)s - %(message)s')\n",
        "file_handler = logging.FileHandler(log_filename)\n",
        "file_handler.setLevel(logging.INFO)\n",
        "formatter = logging.Formatter('%(asctime)s - %(levelname)s - %(message)s')\n",
        "file_handler.setFormatter(formatter)\n",
        "logging.getLogger().addHandler(file_handler)"
      ]
    },
    {
      "cell_type": "code",
      "execution_count": 8,
      "metadata": {
        "colab": {
          "base_uri": "https://localhost:8080/"
        },
        "id": "Yeyv5hc_rJi_",
        "outputId": "664b17b5-e17f-4409-c89f-817ac17fd2d3"
      },
      "outputs": [
        {
          "data": {
            "text/plain": [
              "'gibraltar-range-nsw-2370'"
            ]
          },
          "execution_count": 8,
          "metadata": {},
          "output_type": "execute_result"
        }
      ],
      "source": [
        "df['0'][1]"
      ]
    },
    {
      "cell_type": "code",
      "execution_count": 9,
      "metadata": {
        "id": "ixUqo31f24wr"
      },
      "outputs": [],
      "source": [
        "implicit_wait_time = 2\n",
        "explicit_wait_time = 2"
      ]
    },
    {
      "cell_type": "code",
      "execution_count": 11,
      "metadata": {
        "colab": {
          "base_uri": "https://localhost:8080/"
        },
        "id": "Aejew2K7Qr6s",
        "outputId": "30066335-47c4-4218-f3ce-ed181f7b2d61"
      },
      "outputs": [
        {
          "name": "stderr",
          "output_type": "stream",
          "text": [
            "Searching:  14%|█▍        | 153/1058 [1:28:32<8:43:45, 34.72s/query]"
          ]
        },
        {
          "name": "stderr",
          "output_type": "stream",
          "text": [
            "\n",
            "2023-07-25 12:03:24,211 - WARNING - The version of firefox cannot be detected. Trying with latest driver version\n",
            "2023-07-25 12:03:51,496 - WARNING - The version of firefox cannot be detected. Trying with latest driver version\n",
            "2023-07-25 12:04:21,953 - WARNING - The version of firefox cannot be detected. Trying with latest driver version\n",
            "2023-07-25 12:04:59,807 - WARNING - The version of firefox cannot be detected. Trying with latest driver version\n",
            "2023-07-25 12:05:34,158 - WARNING - The version of firefox cannot be detected. Trying with latest driver version\n"
          ]
        },
        {
          "name": "stdout",
          "output_type": "stream",
          "text": [
            "Close\n",
            "Close\n",
            "Close\n"
          ]
        },
        {
          "name": "stderr",
          "output_type": "stream",
          "text": [
            "2023-07-25 12:06:15,077 - WARNING - The version of firefox cannot be detected. Trying with latest driver version\n"
          ]
        },
        {
          "name": "stdout",
          "output_type": "stream",
          "text": [
            "Close\n",
            "Close\n",
            "Close\n"
          ]
        },
        {
          "name": "stderr",
          "output_type": "stream",
          "text": [
            "2023-07-25 12:06:50,118 - WARNING - The version of firefox cannot be detected. Trying with latest driver version\n",
            "2023-07-25 12:07:25,568 - WARNING - The version of firefox cannot be detected. Trying with latest driver version\n",
            "2023-07-25 12:07:56,134 - WARNING - The version of firefox cannot be detected. Trying with latest driver version\n"
          ]
        },
        {
          "name": "stdout",
          "output_type": "stream",
          "text": [
            "Close\n",
            "Close\n",
            "Close\n"
          ]
        },
        {
          "name": "stderr",
          "output_type": "stream",
          "text": [
            "2023-07-25 12:08:44,261 - WARNING - The version of firefox cannot be detected. Trying with latest driver version\n",
            "2023-07-25 12:09:10,206 - WARNING - The version of firefox cannot be detected. Trying with latest driver version\n",
            "2023-07-25 12:09:47,531 - WARNING - The version of firefox cannot be detected. Trying with latest driver version\n",
            "2023-07-25 12:10:26,879 - WARNING - The version of firefox cannot be detected. Trying with latest driver version\n",
            "2023-07-25 12:11:36,227 - WARNING - The version of firefox cannot be detected. Trying with latest driver version\n",
            "2023-07-25 12:12:14,718 - WARNING - The version of firefox cannot be detected. Trying with latest driver version\n"
          ]
        },
        {
          "name": "stdout",
          "output_type": "stream",
          "text": [
            "Close\n",
            "Close\n",
            "Close\n"
          ]
        },
        {
          "name": "stderr",
          "output_type": "stream",
          "text": [
            "2023-07-25 12:12:57,629 - WARNING - The version of firefox cannot be detected. Trying with latest driver version\n"
          ]
        },
        {
          "name": "stdout",
          "output_type": "stream",
          "text": [
            "Close\n",
            "Close\n",
            "Close\n",
            "Close\n"
          ]
        },
        {
          "name": "stderr",
          "output_type": "stream",
          "text": [
            "2023-07-25 12:13:40,471 - WARNING - The version of firefox cannot be detected. Trying with latest driver version\n"
          ]
        },
        {
          "name": "stdout",
          "output_type": "stream",
          "text": [
            "Close\n",
            "Close\n",
            "Close\n",
            "Close\n",
            "Close\n",
            "Close\n"
          ]
        },
        {
          "name": "stderr",
          "output_type": "stream",
          "text": [
            "2023-07-25 12:14:26,143 - WARNING - The version of firefox cannot be detected. Trying with latest driver version\n"
          ]
        },
        {
          "name": "stdout",
          "output_type": "stream",
          "text": [
            "Close\n",
            "Close\n"
          ]
        },
        {
          "name": "stderr",
          "output_type": "stream",
          "text": [
            "2023-07-25 12:15:05,010 - WARNING - The version of firefox cannot be detected. Trying with latest driver version\n",
            "2023-07-25 12:16:05,436 - WARNING - The version of firefox cannot be detected. Trying with latest driver version\n"
          ]
        },
        {
          "name": "stdout",
          "output_type": "stream",
          "text": [
            "Close\n",
            "Close\n",
            "Close\n"
          ]
        },
        {
          "name": "stderr",
          "output_type": "stream",
          "text": [
            "2023-07-25 12:16:44,292 - WARNING - The version of firefox cannot be detected. Trying with latest driver version\n"
          ]
        },
        {
          "name": "stdout",
          "output_type": "stream",
          "text": [
            "Close\n",
            "Close\n",
            "Close\n",
            "Close\n",
            "Close\n"
          ]
        },
        {
          "name": "stderr",
          "output_type": "stream",
          "text": [
            "2023-07-25 12:17:27,805 - WARNING - The version of firefox cannot be detected. Trying with latest driver version\n",
            "2023-07-25 12:18:21,964 - WARNING - The version of firefox cannot be detected. Trying with latest driver version\n",
            "2023-07-25 12:18:56,858 - WARNING - The version of firefox cannot be detected. Trying with latest driver version\n"
          ]
        },
        {
          "name": "stdout",
          "output_type": "stream",
          "text": [
            "Close\n",
            "Close\n",
            "Close\n",
            "Close\n"
          ]
        },
        {
          "name": "stderr",
          "output_type": "stream",
          "text": [
            "2023-07-25 12:19:32,867 - WARNING - The version of firefox cannot be detected. Trying with latest driver version\n"
          ]
        },
        {
          "name": "stdout",
          "output_type": "stream",
          "text": [
            "Close\n",
            "Close\n",
            "Close\n",
            "Close\n"
          ]
        },
        {
          "name": "stderr",
          "output_type": "stream",
          "text": [
            "2023-07-25 12:20:14,201 - WARNING - The version of firefox cannot be detected. Trying with latest driver version\n"
          ]
        },
        {
          "name": "stdout",
          "output_type": "stream",
          "text": [
            "Close\n",
            "Close\n",
            "Close\n",
            "Close\n"
          ]
        },
        {
          "name": "stderr",
          "output_type": "stream",
          "text": [
            "2023-07-25 12:20:57,441 - WARNING - The version of firefox cannot be detected. Trying with latest driver version\n",
            "2023-07-25 12:21:28,915 - WARNING - The version of firefox cannot be detected. Trying with latest driver version\n"
          ]
        },
        {
          "name": "stdout",
          "output_type": "stream",
          "text": [
            "Close\n",
            "Close\n",
            "Close\n",
            "Close\n",
            "Close\n",
            "Close\n",
            "Close\n"
          ]
        },
        {
          "name": "stderr",
          "output_type": "stream",
          "text": [
            "2023-07-25 12:22:31,335 - WARNING - The version of firefox cannot be detected. Trying with latest driver version\n",
            "2023-07-25 12:23:00,811 - WARNING - The version of firefox cannot be detected. Trying with latest driver version\n"
          ]
        },
        {
          "name": "stdout",
          "output_type": "stream",
          "text": [
            "Close\n",
            "Close\n",
            "Close\n",
            "Close\n"
          ]
        },
        {
          "name": "stderr",
          "output_type": "stream",
          "text": [
            "2023-07-25 12:24:28,482 - WARNING - The version of firefox cannot be detected. Trying with latest driver version\n"
          ]
        },
        {
          "name": "stdout",
          "output_type": "stream",
          "text": [
            "Close\n",
            "Close\n",
            "Close\n"
          ]
        },
        {
          "name": "stderr",
          "output_type": "stream",
          "text": [
            "2023-07-25 12:25:03,826 - WARNING - The version of firefox cannot be detected. Trying with latest driver version\n",
            "2023-07-25 12:25:39,930 - WARNING - The version of firefox cannot be detected. Trying with latest driver version\n"
          ]
        },
        {
          "name": "stdout",
          "output_type": "stream",
          "text": [
            "Close\n",
            "Close\n",
            "Close\n",
            "Close\n"
          ]
        },
        {
          "name": "stderr",
          "output_type": "stream",
          "text": [
            "2023-07-25 12:26:24,198 - WARNING - The version of firefox cannot be detected. Trying with latest driver version\n",
            "2023-07-25 12:26:51,697 - WARNING - The version of firefox cannot be detected. Trying with latest driver version\n"
          ]
        },
        {
          "name": "stdout",
          "output_type": "stream",
          "text": [
            "Close\n",
            "Close\n"
          ]
        },
        {
          "name": "stderr",
          "output_type": "stream",
          "text": [
            "2023-07-25 12:27:30,605 - WARNING - The version of firefox cannot be detected. Trying with latest driver version\n"
          ]
        },
        {
          "name": "stdout",
          "output_type": "stream",
          "text": [
            "Close\n",
            "Close\n",
            "Close\n",
            "Close\n",
            "Close\n",
            "Close\n"
          ]
        },
        {
          "name": "stderr",
          "output_type": "stream",
          "text": [
            "2023-07-25 12:28:18,296 - WARNING - The version of firefox cannot be detected. Trying with latest driver version\n",
            "2023-07-25 12:28:52,589 - WARNING - The version of firefox cannot be detected. Trying with latest driver version\n",
            "2023-07-25 12:29:30,222 - WARNING - The version of firefox cannot be detected. Trying with latest driver version\n",
            "2023-07-25 12:30:40,579 - WARNING - The version of firefox cannot be detected. Trying with latest driver version\n",
            "2023-07-25 12:31:19,448 - WARNING - The version of firefox cannot be detected. Trying with latest driver version\n"
          ]
        },
        {
          "name": "stdout",
          "output_type": "stream",
          "text": [
            "Close\n",
            "Close\n",
            "Close\n",
            "Close\n",
            "Close\n",
            "Close\n",
            "Close\n"
          ]
        },
        {
          "name": "stderr",
          "output_type": "stream",
          "text": [
            "2023-07-25 12:32:05,002 - WARNING - The version of firefox cannot be detected. Trying with latest driver version\n",
            "2023-07-25 12:33:01,124 - WARNING - The version of firefox cannot be detected. Trying with latest driver version\n",
            "2023-07-25 12:33:34,797 - WARNING - The version of firefox cannot be detected. Trying with latest driver version\n",
            "2023-07-25 12:34:09,757 - WARNING - The version of firefox cannot be detected. Trying with latest driver version\n"
          ]
        },
        {
          "name": "stdout",
          "output_type": "stream",
          "text": [
            "Close\n",
            "Close\n",
            "Close\n",
            "Close\n",
            "Close\n",
            "Close\n"
          ]
        },
        {
          "name": "stderr",
          "output_type": "stream",
          "text": [
            "2023-07-25 12:34:53,857 - WARNING - The version of firefox cannot be detected. Trying with latest driver version\n",
            "2023-07-25 12:35:54,858 - WARNING - The version of firefox cannot be detected. Trying with latest driver version\n",
            "2023-07-25 12:36:31,282 - WARNING - The version of firefox cannot be detected. Trying with latest driver version\n"
          ]
        },
        {
          "name": "stdout",
          "output_type": "stream",
          "text": [
            "Close\n",
            "Close\n",
            "Close\n"
          ]
        },
        {
          "name": "stderr",
          "output_type": "stream",
          "text": [
            "2023-07-25 12:37:12,581 - WARNING - The version of firefox cannot be detected. Trying with latest driver version\n"
          ]
        },
        {
          "name": "stdout",
          "output_type": "stream",
          "text": [
            "Close\n",
            "Close\n",
            "Close\n",
            "Close\n",
            "Close\n",
            "Close\n"
          ]
        },
        {
          "name": "stderr",
          "output_type": "stream",
          "text": [
            "2023-07-25 12:38:00,447 - WARNING - The version of firefox cannot be detected. Trying with latest driver version\n",
            "2023-07-25 12:38:54,995 - WARNING - The version of firefox cannot be detected. Trying with latest driver version\n"
          ]
        },
        {
          "name": "stdout",
          "output_type": "stream",
          "text": [
            "Close\n",
            "Close\n",
            "Close\n",
            "Close\n",
            "Close\n"
          ]
        },
        {
          "name": "stderr",
          "output_type": "stream",
          "text": [
            "2023-07-25 12:39:37,095 - WARNING - The version of firefox cannot be detected. Trying with latest driver version\n",
            "2023-07-25 12:40:04,017 - WARNING - The version of firefox cannot be detected. Trying with latest driver version\n",
            "2023-07-25 12:41:16,930 - WARNING - The version of firefox cannot be detected. Trying with latest driver version\n"
          ]
        },
        {
          "name": "stdout",
          "output_type": "stream",
          "text": [
            "Close\n",
            "Close\n"
          ]
        },
        {
          "name": "stderr",
          "output_type": "stream",
          "text": [
            "2023-07-25 12:41:55,255 - WARNING - The version of firefox cannot be detected. Trying with latest driver version\n",
            "2023-07-25 12:42:32,055 - WARNING - The version of firefox cannot be detected. Trying with latest driver version\n"
          ]
        },
        {
          "name": "stdout",
          "output_type": "stream",
          "text": [
            "Close\n",
            "Close\n",
            "Close\n",
            "Close\n"
          ]
        },
        {
          "name": "stderr",
          "output_type": "stream",
          "text": [
            "2023-07-25 12:43:11,566 - WARNING - The version of firefox cannot be detected. Trying with latest driver version\n"
          ]
        },
        {
          "name": "stdout",
          "output_type": "stream",
          "text": [
            "Close\n",
            "Close\n",
            "Close\n",
            "Close\n",
            "Close\n",
            "Close\n",
            "Close\n"
          ]
        },
        {
          "name": "stderr",
          "output_type": "stream",
          "text": [
            "2023-07-25 12:43:59,938 - WARNING - The version of firefox cannot be detected. Trying with latest driver version\n"
          ]
        },
        {
          "name": "stdout",
          "output_type": "stream",
          "text": [
            "Close\n",
            "Close\n",
            "Close\n",
            "Close\n",
            "Close\n",
            "Close\n",
            "Close\n"
          ]
        },
        {
          "name": "stderr",
          "output_type": "stream",
          "text": [
            "2023-07-25 12:44:46,383 - WARNING - The version of firefox cannot be detected. Trying with latest driver version\n"
          ]
        },
        {
          "name": "stdout",
          "output_type": "stream",
          "text": [
            "Close\n",
            "Close\n",
            "Close\n",
            "Close\n",
            "Close\n",
            "Close\n"
          ]
        },
        {
          "name": "stderr",
          "output_type": "stream",
          "text": [
            "2023-07-25 12:45:35,135 - WARNING - The version of firefox cannot be detected. Trying with latest driver version\n",
            "2023-07-25 12:46:03,001 - WARNING - The version of firefox cannot be detected. Trying with latest driver version\n",
            "2023-07-25 12:46:46,371 - WARNING - The version of firefox cannot be detected. Trying with latest driver version\n",
            "2023-07-25 12:47:17,848 - WARNING - The version of firefox cannot be detected. Trying with latest driver version\n",
            "2023-07-25 12:47:55,353 - WARNING - The version of firefox cannot be detected. Trying with latest driver version\n",
            "2023-07-25 12:48:31,021 - WARNING - The version of firefox cannot be detected. Trying with latest driver version\n"
          ]
        },
        {
          "name": "stdout",
          "output_type": "stream",
          "text": [
            "Close\n",
            "Close\n"
          ]
        },
        {
          "name": "stderr",
          "output_type": "stream",
          "text": [
            "2023-07-25 12:49:19,432 - WARNING - The version of firefox cannot be detected. Trying with latest driver version\n",
            "2023-07-25 12:49:53,690 - WARNING - The version of firefox cannot be detected. Trying with latest driver version\n",
            "2023-07-25 12:50:30,484 - WARNING - The version of firefox cannot be detected. Trying with latest driver version\n",
            "2023-07-25 12:51:02,504 - WARNING - The version of firefox cannot be detected. Trying with latest driver version\n",
            "2023-07-25 12:51:40,198 - WARNING - The version of firefox cannot be detected. Trying with latest driver version\n",
            "2023-07-25 12:52:18,194 - WARNING - The version of firefox cannot be detected. Trying with latest driver version\n"
          ]
        },
        {
          "name": "stdout",
          "output_type": "stream",
          "text": [
            "Close\n",
            "Close\n",
            "Close\n",
            "Close\n"
          ]
        },
        {
          "name": "stderr",
          "output_type": "stream",
          "text": [
            "2023-07-25 12:53:06,975 - WARNING - The version of firefox cannot be detected. Trying with latest driver version\n",
            "2023-07-25 12:54:12,605 - WARNING - The version of firefox cannot be detected. Trying with latest driver version\n",
            "2023-07-25 12:54:50,067 - WARNING - The version of firefox cannot be detected. Trying with latest driver version\n"
          ]
        },
        {
          "name": "stdout",
          "output_type": "stream",
          "text": [
            "Close\n",
            "Close\n",
            "Close\n"
          ]
        },
        {
          "name": "stderr",
          "output_type": "stream",
          "text": [
            "2023-07-25 12:55:56,150 - WARNING - The version of firefox cannot be detected. Trying with latest driver version\n",
            "2023-07-25 12:57:14,643 - WARNING - The version of firefox cannot be detected. Trying with latest driver version\n"
          ]
        },
        {
          "name": "stdout",
          "output_type": "stream",
          "text": [
            "Close\n",
            "Close\n",
            "Close\n",
            "Close\n",
            "Close\n",
            "Close\n"
          ]
        },
        {
          "name": "stderr",
          "output_type": "stream",
          "text": [
            "2023-07-25 12:57:59,147 - WARNING - The version of firefox cannot be detected. Trying with latest driver version\n",
            "2023-07-25 12:58:27,647 - WARNING - The version of firefox cannot be detected. Trying with latest driver version\n"
          ]
        },
        {
          "name": "stdout",
          "output_type": "stream",
          "text": [
            "Close\n",
            "Close\n",
            "Close\n"
          ]
        },
        {
          "name": "stderr",
          "output_type": "stream",
          "text": [
            "2023-07-25 12:59:04,172 - WARNING - The version of firefox cannot be detected. Trying with latest driver version\n",
            "2023-07-25 13:00:06,989 - WARNING - The version of firefox cannot be detected. Trying with latest driver version\n"
          ]
        },
        {
          "name": "stdout",
          "output_type": "stream",
          "text": [
            "Close\n",
            "Close\n",
            "Close\n",
            "Close\n",
            "Close\n",
            "Close\n",
            "Close\n"
          ]
        },
        {
          "name": "stderr",
          "output_type": "stream",
          "text": [
            "2023-07-25 13:00:50,213 - WARNING - The version of firefox cannot be detected. Trying with latest driver version\n"
          ]
        },
        {
          "name": "stdout",
          "output_type": "stream",
          "text": [
            "Close\n",
            "Close\n",
            "Close\n"
          ]
        },
        {
          "name": "stderr",
          "output_type": "stream",
          "text": [
            "2023-07-25 13:01:36,150 - WARNING - The version of firefox cannot be detected. Trying with latest driver version\n",
            "2023-07-25 13:02:36,998 - WARNING - The version of firefox cannot be detected. Trying with latest driver version\n",
            "2023-07-25 13:03:39,930 - WARNING - The version of firefox cannot be detected. Trying with latest driver version\n",
            "2023-07-25 13:04:40,937 - WARNING - The version of firefox cannot be detected. Trying with latest driver version\n"
          ]
        },
        {
          "name": "stdout",
          "output_type": "stream",
          "text": [
            "Close\n"
          ]
        },
        {
          "name": "stderr",
          "output_type": "stream",
          "text": [
            "2023-07-25 13:05:22,204 - WARNING - The version of firefox cannot be detected. Trying with latest driver version\n",
            "2023-07-25 13:06:12,538 - WARNING - The version of firefox cannot be detected. Trying with latest driver version\n",
            "2023-07-25 13:06:42,542 - WARNING - The version of firefox cannot be detected. Trying with latest driver version\n"
          ]
        },
        {
          "name": "stdout",
          "output_type": "stream",
          "text": [
            "Close\n",
            "Close\n",
            "Close\n",
            "Close\n",
            "Close\n",
            "Close\n"
          ]
        },
        {
          "name": "stderr",
          "output_type": "stream",
          "text": [
            "2023-07-25 13:07:29,101 - WARNING - The version of firefox cannot be detected. Trying with latest driver version\n"
          ]
        },
        {
          "name": "stdout",
          "output_type": "stream",
          "text": [
            "Close\n",
            "Close\n",
            "Close\n",
            "Close\n",
            "Close\n",
            "Close\n"
          ]
        },
        {
          "name": "stderr",
          "output_type": "stream",
          "text": [
            "2023-07-25 13:08:19,562 - WARNING - The version of firefox cannot be detected. Trying with latest driver version\n"
          ]
        },
        {
          "name": "stdout",
          "output_type": "stream",
          "text": [
            "Close\n",
            "Close\n",
            "Close\n",
            "Close\n"
          ]
        },
        {
          "name": "stderr",
          "output_type": "stream",
          "text": [
            "2023-07-25 13:08:57,861 - WARNING - The version of firefox cannot be detected. Trying with latest driver version\n"
          ]
        },
        {
          "name": "stdout",
          "output_type": "stream",
          "text": [
            "Close\n",
            "Close\n"
          ]
        },
        {
          "name": "stderr",
          "output_type": "stream",
          "text": [
            "2023-07-25 13:09:33,171 - WARNING - The version of firefox cannot be detected. Trying with latest driver version\n",
            "2023-07-25 13:10:36,688 - WARNING - The version of firefox cannot be detected. Trying with latest driver version\n",
            "2023-07-25 13:11:07,156 - WARNING - The version of firefox cannot be detected. Trying with latest driver version\n"
          ]
        },
        {
          "name": "stdout",
          "output_type": "stream",
          "text": [
            "Close\n",
            "Close\n"
          ]
        },
        {
          "name": "stderr",
          "output_type": "stream",
          "text": [
            "2023-07-25 13:11:50,612 - WARNING - The version of firefox cannot be detected. Trying with latest driver version\n",
            "2023-07-25 13:12:23,121 - WARNING - The version of firefox cannot be detected. Trying with latest driver version\n",
            "2023-07-25 13:13:00,544 - WARNING - The version of firefox cannot be detected. Trying with latest driver version\n"
          ]
        },
        {
          "name": "stdout",
          "output_type": "stream",
          "text": [
            "Close\n",
            "Close\n",
            "Close\n",
            "Close\n",
            "Close\n",
            "Close\n",
            "Close\n"
          ]
        },
        {
          "name": "stderr",
          "output_type": "stream",
          "text": [
            "2023-07-25 13:13:47,281 - WARNING - The version of firefox cannot be detected. Trying with latest driver version\n",
            "2023-07-25 13:14:22,450 - WARNING - The version of firefox cannot be detected. Trying with latest driver version\n",
            "2023-07-25 13:14:58,884 - WARNING - The version of firefox cannot be detected. Trying with latest driver version\n",
            "2023-07-25 13:16:03,624 - WARNING - The version of firefox cannot be detected. Trying with latest driver version\n"
          ]
        },
        {
          "name": "stdout",
          "output_type": "stream",
          "text": [
            "Close\n",
            "Close\n",
            "Close\n"
          ]
        },
        {
          "name": "stderr",
          "output_type": "stream",
          "text": [
            "2023-07-25 13:16:44,475 - WARNING - The version of firefox cannot be detected. Trying with latest driver version\n"
          ]
        },
        {
          "name": "stdout",
          "output_type": "stream",
          "text": [
            "Close\n",
            "Close\n",
            "Close\n",
            "Close\n"
          ]
        },
        {
          "name": "stderr",
          "output_type": "stream",
          "text": [
            "2023-07-25 13:17:26,254 - WARNING - The version of firefox cannot be detected. Trying with latest driver version\n"
          ]
        },
        {
          "name": "stdout",
          "output_type": "stream",
          "text": [
            "Close\n",
            "Close\n",
            "Close\n",
            "Close\n",
            "Close\n",
            "Close\n"
          ]
        },
        {
          "name": "stderr",
          "output_type": "stream",
          "text": [
            "2023-07-25 13:18:08,786 - WARNING - The version of firefox cannot be detected. Trying with latest driver version\n"
          ]
        },
        {
          "name": "stdout",
          "output_type": "stream",
          "text": [
            "Close\n",
            "Close\n",
            "Close\n",
            "Close\n",
            "Close\n",
            "Close\n",
            "Close\n"
          ]
        },
        {
          "name": "stderr",
          "output_type": "stream",
          "text": [
            "2023-07-25 13:18:54,958 - WARNING - The version of firefox cannot be detected. Trying with latest driver version\n"
          ]
        },
        {
          "name": "stdout",
          "output_type": "stream",
          "text": [
            "Close\n",
            "Close\n",
            "Close\n"
          ]
        },
        {
          "name": "stderr",
          "output_type": "stream",
          "text": [
            "2023-07-25 13:19:32,769 - WARNING - The version of firefox cannot be detected. Trying with latest driver version\n",
            "2023-07-25 13:20:04,562 - WARNING - The version of firefox cannot be detected. Trying with latest driver version\n"
          ]
        },
        {
          "name": "stdout",
          "output_type": "stream",
          "text": [
            "Close\n",
            "Close\n",
            "Close\n",
            "Close\n",
            "Close\n",
            "Close\n"
          ]
        },
        {
          "name": "stderr",
          "output_type": "stream",
          "text": [
            "2023-07-25 13:20:48,366 - WARNING - The version of firefox cannot be detected. Trying with latest driver version\n",
            "2023-07-25 13:21:23,526 - WARNING - The version of firefox cannot be detected. Trying with latest driver version\n",
            "2023-07-25 13:21:59,371 - WARNING - The version of firefox cannot be detected. Trying with latest driver version\n"
          ]
        },
        {
          "name": "stdout",
          "output_type": "stream",
          "text": [
            "Close\n",
            "Close\n"
          ]
        },
        {
          "name": "stderr",
          "output_type": "stream",
          "text": [
            "2023-07-25 13:23:00,809 - WARNING - The version of firefox cannot be detected. Trying with latest driver version\n",
            "2023-07-25 13:23:57,317 - WARNING - The version of firefox cannot be detected. Trying with latest driver version\n",
            "2023-07-25 13:25:12,163 - WARNING - The version of firefox cannot be detected. Trying with latest driver version\n"
          ]
        },
        {
          "name": "stdout",
          "output_type": "stream",
          "text": [
            "Close\n",
            "Close\n",
            "Close\n"
          ]
        },
        {
          "name": "stderr",
          "output_type": "stream",
          "text": [
            "2023-07-25 13:25:54,075 - WARNING - The version of firefox cannot be detected. Trying with latest driver version\n"
          ]
        },
        {
          "name": "stdout",
          "output_type": "stream",
          "text": [
            "Close\n",
            "Close\n",
            "Close\n",
            "Close\n",
            "Close\n",
            "Close\n"
          ]
        },
        {
          "name": "stderr",
          "output_type": "stream",
          "text": [
            "2023-07-25 13:26:37,075 - WARNING - The version of firefox cannot be detected. Trying with latest driver version\n"
          ]
        },
        {
          "name": "stdout",
          "output_type": "stream",
          "text": [
            "Close\n",
            "Close\n",
            "Close\n",
            "Close\n",
            "Close\n"
          ]
        },
        {
          "name": "stderr",
          "output_type": "stream",
          "text": [
            "2023-07-25 13:27:41,048 - WARNING - The version of firefox cannot be detected. Trying with latest driver version\n"
          ]
        },
        {
          "name": "stdout",
          "output_type": "stream",
          "text": [
            "Close\n",
            "Close\n",
            "Close\n",
            "Close\n",
            "Close\n"
          ]
        },
        {
          "name": "stderr",
          "output_type": "stream",
          "text": [
            "2023-07-25 13:28:19,324 - WARNING - The version of firefox cannot be detected. Trying with latest driver version\n"
          ]
        },
        {
          "name": "stdout",
          "output_type": "stream",
          "text": [
            "Close\n",
            "Close\n"
          ]
        },
        {
          "name": "stderr",
          "output_type": "stream",
          "text": [
            "2023-07-25 13:29:00,990 - WARNING - The version of firefox cannot be detected. Trying with latest driver version\n"
          ]
        },
        {
          "name": "stdout",
          "output_type": "stream",
          "text": [
            "Close\n",
            "Close\n",
            "Close\n",
            "Close\n",
            "Close\n"
          ]
        },
        {
          "name": "stderr",
          "output_type": "stream",
          "text": [
            "2023-07-25 13:29:41,688 - WARNING - The version of firefox cannot be detected. Trying with latest driver version\n"
          ]
        },
        {
          "name": "stdout",
          "output_type": "stream",
          "text": [
            "Close\n",
            "Close\n"
          ]
        },
        {
          "name": "stderr",
          "output_type": "stream",
          "text": [
            "2023-07-25 13:30:21,958 - WARNING - The version of firefox cannot be detected. Trying with latest driver version\n"
          ]
        },
        {
          "name": "stdout",
          "output_type": "stream",
          "text": [
            "Close\n"
          ]
        },
        {
          "name": "stderr",
          "output_type": "stream",
          "text": [
            "2023-07-25 13:30:56,984 - WARNING - The version of firefox cannot be detected. Trying with latest driver version\n"
          ]
        },
        {
          "name": "stdout",
          "output_type": "stream",
          "text": [
            "Close\n",
            "Close\n",
            "Close\n",
            "Close\n",
            "Close\n",
            "Close\n",
            "Close\n"
          ]
        },
        {
          "name": "stderr",
          "output_type": "stream",
          "text": [
            "2023-07-25 13:31:45,311 - WARNING - The version of firefox cannot be detected. Trying with latest driver version\n",
            "2023-07-25 13:32:38,255 - WARNING - The version of firefox cannot be detected. Trying with latest driver version\n"
          ]
        },
        {
          "name": "stdout",
          "output_type": "stream",
          "text": [
            "Close\n",
            "Close\n",
            "Close\n",
            "Close\n",
            "Close\n",
            "Close\n"
          ]
        },
        {
          "name": "stderr",
          "output_type": "stream",
          "text": [
            "2023-07-25 13:33:29,174 - WARNING - The version of firefox cannot be detected. Trying with latest driver version\n",
            "2023-07-25 13:33:59,696 - WARNING - The version of firefox cannot be detected. Trying with latest driver version\n",
            "2023-07-25 13:34:43,893 - WARNING - The version of firefox cannot be detected. Trying with latest driver version\n",
            "2023-07-25 13:35:20,681 - WARNING - The version of firefox cannot be detected. Trying with latest driver version\n",
            "2023-07-25 13:35:55,824 - WARNING - The version of firefox cannot be detected. Trying with latest driver version\n",
            "2023-07-25 13:36:27,595 - WARNING - The version of firefox cannot be detected. Trying with latest driver version\n"
          ]
        },
        {
          "name": "stdout",
          "output_type": "stream",
          "text": [
            "Close\n",
            "Close\n",
            "Close\n",
            "Close\n",
            "Close\n",
            "Close\n"
          ]
        },
        {
          "name": "stderr",
          "output_type": "stream",
          "text": [
            "2023-07-25 13:37:18,327 - WARNING - The version of firefox cannot be detected. Trying with latest driver version\n",
            "2023-07-25 13:38:22,660 - WARNING - The version of firefox cannot be detected. Trying with latest driver version\n",
            "2023-07-25 13:39:31,390 - WARNING - The version of firefox cannot be detected. Trying with latest driver version\n",
            "2023-07-25 13:40:06,322 - WARNING - The version of firefox cannot be detected. Trying with latest driver version\n",
            "2023-07-25 13:40:43,690 - WARNING - The version of firefox cannot be detected. Trying with latest driver version\n",
            "2023-07-25 13:41:23,163 - WARNING - The version of firefox cannot be detected. Trying with latest driver version\n",
            "2023-07-25 13:42:30,814 - WARNING - The version of firefox cannot be detected. Trying with latest driver version\n",
            "2023-07-25 13:43:28,325 - WARNING - The version of firefox cannot be detected. Trying with latest driver version\n"
          ]
        },
        {
          "name": "stdout",
          "output_type": "stream",
          "text": [
            "Close\n",
            "Close\n",
            "Close\n",
            "Close\n"
          ]
        },
        {
          "name": "stderr",
          "output_type": "stream",
          "text": [
            "2023-07-25 13:44:10,009 - WARNING - The version of firefox cannot be detected. Trying with latest driver version\n"
          ]
        },
        {
          "name": "stdout",
          "output_type": "stream",
          "text": [
            "Close\n",
            "Close\n",
            "Close\n"
          ]
        },
        {
          "name": "stderr",
          "output_type": "stream",
          "text": [
            "2023-07-25 13:44:49,816 - WARNING - The version of firefox cannot be detected. Trying with latest driver version\n"
          ]
        },
        {
          "name": "stdout",
          "output_type": "stream",
          "text": [
            "Close\n",
            "Close\n",
            "Close\n"
          ]
        },
        {
          "name": "stderr",
          "output_type": "stream",
          "text": [
            "2023-07-25 13:45:24,575 - WARNING - The version of firefox cannot be detected. Trying with latest driver version\n"
          ]
        },
        {
          "name": "stdout",
          "output_type": "stream",
          "text": [
            "Close\n",
            "Close\n",
            "Close\n",
            "Close\n"
          ]
        },
        {
          "name": "stderr",
          "output_type": "stream",
          "text": [
            "2023-07-25 13:46:03,588 - WARNING - The version of firefox cannot be detected. Trying with latest driver version\n",
            "2023-07-25 13:46:34,525 - WARNING - The version of firefox cannot be detected. Trying with latest driver version\n",
            "2023-07-25 13:47:10,996 - WARNING - The version of firefox cannot be detected. Trying with latest driver version\n"
          ]
        },
        {
          "name": "stdout",
          "output_type": "stream",
          "text": [
            "Close\n",
            "Close\n",
            "Close\n",
            "Close\n",
            "Close\n"
          ]
        },
        {
          "name": "stderr",
          "output_type": "stream",
          "text": [
            "2023-07-25 13:48:03,768 - WARNING - The version of firefox cannot be detected. Trying with latest driver version\n",
            "2023-07-25 13:49:03,175 - WARNING - The version of firefox cannot be detected. Trying with latest driver version\n"
          ]
        },
        {
          "name": "stdout",
          "output_type": "stream",
          "text": [
            "Close\n",
            "Close\n"
          ]
        },
        {
          "name": "stderr",
          "output_type": "stream",
          "text": [
            "2023-07-25 13:49:37,984 - WARNING - The version of firefox cannot be detected. Trying with latest driver version\n"
          ]
        },
        {
          "name": "stdout",
          "output_type": "stream",
          "text": [
            "Close\n",
            "Close\n",
            "Close\n",
            "Close\n",
            "Close\n",
            "Close\n"
          ]
        },
        {
          "name": "stderr",
          "output_type": "stream",
          "text": [
            "2023-07-25 13:50:25,974 - WARNING - The version of firefox cannot be detected. Trying with latest driver version\n",
            "2023-07-25 13:50:56,894 - WARNING - The version of firefox cannot be detected. Trying with latest driver version\n"
          ]
        },
        {
          "name": "stdout",
          "output_type": "stream",
          "text": [
            "Close\n",
            "Close\n",
            "Close\n",
            "Close\n"
          ]
        },
        {
          "name": "stderr",
          "output_type": "stream",
          "text": [
            "2023-07-25 13:51:35,746 - WARNING - The version of firefox cannot be detected. Trying with latest driver version\n",
            "2023-07-25 13:52:09,559 - WARNING - The version of firefox cannot be detected. Trying with latest driver version\n"
          ]
        },
        {
          "name": "stdout",
          "output_type": "stream",
          "text": [
            "Close\n",
            "Close\n",
            "Close\n"
          ]
        },
        {
          "name": "stderr",
          "output_type": "stream",
          "text": [
            "2023-07-25 13:52:56,024 - WARNING - The version of firefox cannot be detected. Trying with latest driver version\n"
          ]
        },
        {
          "name": "stdout",
          "output_type": "stream",
          "text": [
            "Close\n",
            "Close\n",
            "Close\n",
            "Close\n",
            "Close\n",
            "Close\n",
            "Close\n"
          ]
        },
        {
          "name": "stderr",
          "output_type": "stream",
          "text": [
            "2023-07-25 13:53:44,795 - WARNING - The version of firefox cannot be detected. Trying with latest driver version\n",
            "2023-07-25 13:54:16,247 - WARNING - The version of firefox cannot be detected. Trying with latest driver version\n",
            "2023-07-25 13:54:51,589 - WARNING - The version of firefox cannot be detected. Trying with latest driver version\n",
            "2023-07-25 13:55:25,131 - WARNING - The version of firefox cannot be detected. Trying with latest driver version\n",
            "2023-07-25 13:56:24,995 - WARNING - The version of firefox cannot be detected. Trying with latest driver version\n",
            "2023-07-25 13:57:01,121 - WARNING - The version of firefox cannot be detected. Trying with latest driver version\n",
            "2023-07-25 13:57:36,205 - WARNING - The version of firefox cannot be detected. Trying with latest driver version\n",
            "2023-07-25 13:58:10,408 - WARNING - The version of firefox cannot be detected. Trying with latest driver version\n",
            "2023-07-25 13:58:44,179 - WARNING - The version of firefox cannot be detected. Trying with latest driver version\n"
          ]
        },
        {
          "name": "stdout",
          "output_type": "stream",
          "text": [
            "Close\n",
            "Close\n",
            "Close\n",
            "Close\n"
          ]
        },
        {
          "name": "stderr",
          "output_type": "stream",
          "text": [
            "2023-07-25 13:59:22,920 - WARNING - The version of firefox cannot be detected. Trying with latest driver version\n",
            "2023-07-25 14:00:24,436 - WARNING - The version of firefox cannot be detected. Trying with latest driver version\n"
          ]
        },
        {
          "name": "stdout",
          "output_type": "stream",
          "text": [
            "Close\n",
            "Close\n"
          ]
        },
        {
          "name": "stderr",
          "output_type": "stream",
          "text": [
            "2023-07-25 14:01:01,762 - WARNING - The version of firefox cannot be detected. Trying with latest driver version\n"
          ]
        },
        {
          "name": "stdout",
          "output_type": "stream",
          "text": [
            "Close\n",
            "Close\n"
          ]
        },
        {
          "name": "stderr",
          "output_type": "stream",
          "text": [
            "2023-07-25 14:01:38,496 - WARNING - The version of firefox cannot be detected. Trying with latest driver version\n",
            "2023-07-25 14:02:07,611 - WARNING - The version of firefox cannot be detected. Trying with latest driver version\n",
            "2023-07-25 14:02:47,176 - WARNING - The version of firefox cannot be detected. Trying with latest driver version\n"
          ]
        },
        {
          "name": "stdout",
          "output_type": "stream",
          "text": [
            "Close\n",
            "Close\n",
            "Close\n",
            "Close\n",
            "Close\n",
            "Close\n"
          ]
        },
        {
          "name": "stderr",
          "output_type": "stream",
          "text": [
            "2023-07-25 14:03:37,907 - WARNING - The version of firefox cannot be detected. Trying with latest driver version\n"
          ]
        },
        {
          "name": "stdout",
          "output_type": "stream",
          "text": [
            "Close\n",
            "Close\n",
            "Close\n",
            "Close\n",
            "Close\n",
            "Close\n",
            "Close\n"
          ]
        },
        {
          "name": "stderr",
          "output_type": "stream",
          "text": [
            "2023-07-25 14:04:30,802 - WARNING - The version of firefox cannot be detected. Trying with latest driver version\n",
            "2023-07-25 14:04:54,256 - WARNING - The version of firefox cannot be detected. Trying with latest driver version\n",
            "2023-07-25 14:05:32,671 - WARNING - The version of firefox cannot be detected. Trying with latest driver version\n"
          ]
        },
        {
          "name": "stdout",
          "output_type": "stream",
          "text": [
            "Close\n",
            "Close\n",
            "Close\n"
          ]
        },
        {
          "name": "stderr",
          "output_type": "stream",
          "text": [
            "2023-07-25 14:06:13,394 - WARNING - The version of firefox cannot be detected. Trying with latest driver version\n",
            "2023-07-25 14:06:42,839 - WARNING - The version of firefox cannot be detected. Trying with latest driver version\n",
            "2023-07-25 14:07:19,199 - WARNING - The version of firefox cannot be detected. Trying with latest driver version\n"
          ]
        },
        {
          "name": "stdout",
          "output_type": "stream",
          "text": [
            "Close\n",
            "Close\n",
            "Close\n"
          ]
        },
        {
          "name": "stderr",
          "output_type": "stream",
          "text": [
            "2023-07-25 14:08:02,926 - WARNING - The version of firefox cannot be detected. Trying with latest driver version\n",
            "2023-07-25 14:08:43,425 - WARNING - The version of firefox cannot be detected. Trying with latest driver version\n",
            "2023-07-25 14:09:21,722 - WARNING - The version of firefox cannot be detected. Trying with latest driver version\n",
            "2023-07-25 14:09:59,458 - WARNING - The version of firefox cannot be detected. Trying with latest driver version\n",
            "2023-07-25 14:10:30,991 - WARNING - The version of firefox cannot be detected. Trying with latest driver version\n"
          ]
        },
        {
          "name": "stdout",
          "output_type": "stream",
          "text": [
            "Close\n"
          ]
        },
        {
          "name": "stderr",
          "output_type": "stream",
          "text": [
            "2023-07-25 14:11:12,855 - WARNING - The version of firefox cannot be detected. Trying with latest driver version\n",
            "2023-07-25 14:11:45,064 - WARNING - The version of firefox cannot be detected. Trying with latest driver version\n",
            "2023-07-25 14:12:20,670 - WARNING - The version of firefox cannot be detected. Trying with latest driver version\n",
            "2023-07-25 14:12:58,696 - WARNING - The version of firefox cannot be detected. Trying with latest driver version\n"
          ]
        },
        {
          "name": "stdout",
          "output_type": "stream",
          "text": [
            "Close\n",
            "Close\n",
            "Close\n"
          ]
        },
        {
          "name": "stderr",
          "output_type": "stream",
          "text": [
            "2023-07-25 14:13:42,061 - WARNING - The version of firefox cannot be detected. Trying with latest driver version\n"
          ]
        },
        {
          "name": "stdout",
          "output_type": "stream",
          "text": [
            "Close\n",
            "Close\n",
            "Close\n",
            "Close\n",
            "Close\n",
            "Close\n",
            "Close\n"
          ]
        },
        {
          "name": "stderr",
          "output_type": "stream",
          "text": [
            "2023-07-25 14:14:25,681 - WARNING - The version of firefox cannot be detected. Trying with latest driver version\n"
          ]
        },
        {
          "name": "stdout",
          "output_type": "stream",
          "text": [
            "Close\n",
            "Close\n",
            "Close\n",
            "Close\n"
          ]
        },
        {
          "name": "stderr",
          "output_type": "stream",
          "text": [
            "2023-07-25 14:15:03,361 - WARNING - The version of firefox cannot be detected. Trying with latest driver version\n"
          ]
        },
        {
          "ename": "NoSuchWindowException",
          "evalue": "Message: Browsing context has been discarded\nStacktrace:\nRemoteError@chrome://remote/content/shared/RemoteError.sys.mjs:8:8\nWebDriverError@chrome://remote/content/shared/webdriver/Errors.sys.mjs:187:5\nNoSuchWindowError@chrome://remote/content/shared/webdriver/Errors.sys.mjs:613:5\nassert.that/<@chrome://remote/content/shared/webdriver/Assert.sys.mjs:485:13\nassert.open@chrome://remote/content/shared/webdriver/Assert.sys.mjs:147:4\nGeckoDriver.prototype.navigateTo@chrome://remote/content/marionette/driver.sys.mjs:821:39\ndespatch@chrome://remote/content/marionette/server.sys.mjs:320:40\nexecute@chrome://remote/content/marionette/server.sys.mjs:291:16\nonPacket/<@chrome://remote/content/marionette/server.sys.mjs:264:20\nonPacket@chrome://remote/content/marionette/server.sys.mjs:265:9\n_onJSONObjectReady/<@chrome://remote/content/marionette/transport.sys.mjs:496:20\n",
          "output_type": "error",
          "traceback": [
            "\u001b[1;31m---------------------------------------------------------------------------\u001b[0m",
            "\u001b[1;31mNoSuchWindowException\u001b[0m                     Traceback (most recent call last)",
            "Cell \u001b[1;32mIn[11], line 13\u001b[0m\n\u001b[0;32m     11\u001b[0m url \u001b[39m=\u001b[39m \u001b[39m'\u001b[39m\u001b[39mhttps://www.domain.com.au/suburb-profile/\u001b[39m\u001b[39m'\u001b[39m\u001b[39m+\u001b[39mdf[\u001b[39m'\u001b[39m\u001b[39m0\u001b[39m\u001b[39m'\u001b[39m][sub]\n\u001b[0;32m     12\u001b[0m driver \u001b[39m=\u001b[39m driver_setup() \u001b[39m# for each link we are setting a new Firefox instance\u001b[39;00m\n\u001b[1;32m---> 13\u001b[0m driver\u001b[39m.\u001b[39;49mget(url)\n\u001b[0;32m     14\u001b[0m html \u001b[39m=\u001b[39m driver\u001b[39m.\u001b[39mpage_source\n\u001b[0;32m     15\u001b[0m soup \u001b[39m=\u001b[39m BeautifulSoup(html, \u001b[39m'\u001b[39m\u001b[39mhtml.parser\u001b[39m\u001b[39m'\u001b[39m)\n",
            "File \u001b[1;32mc:\\Users\\PM\\AppData\\Local\\Programs\\Python\\Python311\\Lib\\site-packages\\selenium\\webdriver\\remote\\webdriver.py:355\u001b[0m, in \u001b[0;36mWebDriver.get\u001b[1;34m(self, url)\u001b[0m\n\u001b[0;32m    353\u001b[0m \u001b[39mdef\u001b[39;00m \u001b[39mget\u001b[39m(\u001b[39mself\u001b[39m, url: \u001b[39mstr\u001b[39m) \u001b[39m-\u001b[39m\u001b[39m>\u001b[39m \u001b[39mNone\u001b[39;00m:\n\u001b[0;32m    354\u001b[0m \u001b[39m    \u001b[39m\u001b[39m\"\"\"Loads a web page in the current browser session.\"\"\"\u001b[39;00m\n\u001b[1;32m--> 355\u001b[0m     \u001b[39mself\u001b[39;49m\u001b[39m.\u001b[39;49mexecute(Command\u001b[39m.\u001b[39;49mGET, {\u001b[39m\"\u001b[39;49m\u001b[39murl\u001b[39;49m\u001b[39m\"\u001b[39;49m: url})\n",
            "File \u001b[1;32mc:\\Users\\PM\\AppData\\Local\\Programs\\Python\\Python311\\Lib\\site-packages\\selenium\\webdriver\\remote\\webdriver.py:346\u001b[0m, in \u001b[0;36mWebDriver.execute\u001b[1;34m(self, driver_command, params)\u001b[0m\n\u001b[0;32m    344\u001b[0m response \u001b[39m=\u001b[39m \u001b[39mself\u001b[39m\u001b[39m.\u001b[39mcommand_executor\u001b[39m.\u001b[39mexecute(driver_command, params)\n\u001b[0;32m    345\u001b[0m \u001b[39mif\u001b[39;00m response:\n\u001b[1;32m--> 346\u001b[0m     \u001b[39mself\u001b[39;49m\u001b[39m.\u001b[39;49merror_handler\u001b[39m.\u001b[39;49mcheck_response(response)\n\u001b[0;32m    347\u001b[0m     response[\u001b[39m\"\u001b[39m\u001b[39mvalue\u001b[39m\u001b[39m\"\u001b[39m] \u001b[39m=\u001b[39m \u001b[39mself\u001b[39m\u001b[39m.\u001b[39m_unwrap_value(response\u001b[39m.\u001b[39mget(\u001b[39m\"\u001b[39m\u001b[39mvalue\u001b[39m\u001b[39m\"\u001b[39m, \u001b[39mNone\u001b[39;00m))\n\u001b[0;32m    348\u001b[0m     \u001b[39mreturn\u001b[39;00m response\n",
            "File \u001b[1;32mc:\\Users\\PM\\AppData\\Local\\Programs\\Python\\Python311\\Lib\\site-packages\\selenium\\webdriver\\remote\\errorhandler.py:245\u001b[0m, in \u001b[0;36mErrorHandler.check_response\u001b[1;34m(self, response)\u001b[0m\n\u001b[0;32m    243\u001b[0m         alert_text \u001b[39m=\u001b[39m value[\u001b[39m\"\u001b[39m\u001b[39malert\u001b[39m\u001b[39m\"\u001b[39m]\u001b[39m.\u001b[39mget(\u001b[39m\"\u001b[39m\u001b[39mtext\u001b[39m\u001b[39m\"\u001b[39m)\n\u001b[0;32m    244\u001b[0m     \u001b[39mraise\u001b[39;00m exception_class(message, screen, stacktrace, alert_text)  \u001b[39m# type: ignore[call-arg]  # mypy is not smart enough here\u001b[39;00m\n\u001b[1;32m--> 245\u001b[0m \u001b[39mraise\u001b[39;00m exception_class(message, screen, stacktrace)\n",
            "\u001b[1;31mNoSuchWindowException\u001b[0m: Message: Browsing context has been discarded\nStacktrace:\nRemoteError@chrome://remote/content/shared/RemoteError.sys.mjs:8:8\nWebDriverError@chrome://remote/content/shared/webdriver/Errors.sys.mjs:187:5\nNoSuchWindowError@chrome://remote/content/shared/webdriver/Errors.sys.mjs:613:5\nassert.that/<@chrome://remote/content/shared/webdriver/Assert.sys.mjs:485:13\nassert.open@chrome://remote/content/shared/webdriver/Assert.sys.mjs:147:4\nGeckoDriver.prototype.navigateTo@chrome://remote/content/marionette/driver.sys.mjs:821:39\ndespatch@chrome://remote/content/marionette/server.sys.mjs:320:40\nexecute@chrome://remote/content/marionette/server.sys.mjs:291:16\nonPacket/<@chrome://remote/content/marionette/server.sys.mjs:264:20\nonPacket@chrome://remote/content/marionette/server.sys.mjs:265:9\n_onJSONObjectReady/<@chrome://remote/content/marionette/transport.sys.mjs:496:20\n"
          ]
        }
      ],
      "source": [
        "totlis = [1058 , 2116]\n",
        "st_rng = totlis[0] +153\n",
        "end_rng = totlis[1]\n",
        "total_rng = abs(end_rng - st_rng)\n",
        "\n",
        "pbar = tqdm(total=total_rng, desc='Searching', unit='query')\n",
        "\n",
        "for sub in range(st_rng, end_rng):\n",
        "  pbar.update(1)\n",
        "\n",
        "  url = 'https://www.domain.com.au/suburb-profile/'+df['0'][sub]\n",
        "  driver = driver_setup() # for each link we are setting a new Firefox instance\n",
        "  driver.get(url)\n",
        "  html = driver.page_source\n",
        "  soup = BeautifulSoup(html, 'html.parser')\n",
        "  table = soup.find(\"table\")\n",
        "\n",
        "  try:\n",
        "    rows = table.find_all(\"tr\")[1:]\n",
        "\n",
        "    for row in range(len(rows)): # accessing the rows.\n",
        "        cells = rows[row].find_all(\"td\") # data collwxtion process collecing all cell data\n",
        "        try: # if the data is avilable it will collect or ignore.\n",
        "          bedrooms = cells[0].text.strip()\n",
        "        except:\n",
        "          bedrooms = None\n",
        "        try:\n",
        "          prop_type = cells[1].text.strip()\n",
        "        except:\n",
        "          prop_type = None\n",
        "        try:\n",
        "          median_price = cells[2].text.strip()\n",
        "        except:\n",
        "          median_price = None\n",
        "        try:\n",
        "          days_on_market = cells[3].text.strip()\n",
        "        except:\n",
        "          days_on_market = None\n",
        "        try:\n",
        "          clearance_rate = cells[4].text.strip()\n",
        "        except:\n",
        "          clearance_rate = None\n",
        "        try:\n",
        "          sold_this_year = cells[5].text.strip()\n",
        "        except:\n",
        "          sold_this_year = None\n",
        "        try:\n",
        "          population = soup.find('div', {'class': 'css-48zwbo'}).find('div', {'class': 'css-54bw0x'}).text\n",
        "        except:\n",
        "          population = None\n",
        "        try:\n",
        "          average_age = soup.find_all('div', {'class': 'css-48zwbo'})[1].find('div', {'class': 'css-54bw0x'}).text\n",
        "        except:\n",
        "          average_age = None\n",
        "        try:\n",
        "          owner_percent = soup.find('span', {'data-testid': 'left-value'}).text.strip()\n",
        "        except:\n",
        "          owner_percent = None\n",
        "        try:\n",
        "          renter_percent = soup.find('span', {'data-testid': 'right-value'}).text.strip()\n",
        "        except:\n",
        "          renter_percent = None\n",
        "        try:\n",
        "          family_percent = soup.find_all('span', {'data-testid': 'left-value'})[1].text.strip()\n",
        "        except:\n",
        "          family_percent = None\n",
        "        try:\n",
        "          single_percent = soup.find_all('span', {'data-testid': 'right-value'})[1].text.strip()\n",
        "        except:\n",
        "          single_percent = None\n",
        "\n",
        "        # Set the timestamp in Mosman, NSW, Australia (GMT+10)\n",
        "        australia_timezone = pytz.timezone('Australia/Sydney')\n",
        "        current_time = datetime.datetime.now(australia_timezone)\n",
        "\n",
        "        # single row collection, we also have the buttonfunction and it has more features like Rental median price.\n",
        "\n",
        "        row_data = { # features to dictionary.\n",
        "            \"Bedrooms\": bedrooms,\n",
        "            \"Type\": prop_type,\n",
        "            \"Median Price\": median_price,\n",
        "            \"Avg Days on Market\": days_on_market,\n",
        "            \"Clearance Rate\": clearance_rate,\n",
        "            \"Sold This Year\": sold_this_year,\n",
        "            'POPULATION': population,\n",
        "            'AVERAGE AGE': average_age,\n",
        "            'OWNER': owner_percent,\n",
        "            'RENTER': renter_percent,\n",
        "            'FAMILY': family_percent,\n",
        "            'SINGLE': single_percent,\n",
        "            'SUBURB': df['0'][sub],\n",
        "            'Time_stamp': current_time\n",
        "        }\n",
        "\n",
        "        one_row_data = pd.DataFrame(row_data,index=[0]) # dictionary to one row dataframe.\n",
        "\n",
        "        try: # if there is no row data then the entire loop has nothing to do.\n",
        "\n",
        "          # row's button function.\n",
        "\n",
        "          buttons = driver.find_elements(By.XPATH, \"//button[@title='Open' or @title='Close']\")\n",
        "          WebDriverWait(driver, 2).until(EC.element_to_be_clickable((By.XPATH, \"//button[@title='Open' or @title='Close']\")))\n",
        "          buttons[row].click()\n",
        "          # WebDriverWait(driver, 10).until(EC.staleness_of(buttons[row]))\n",
        "\n",
        "\n",
        "          button_html = buttons[row].get_attribute('outerHTML')\n",
        "          soup = BeautifulSoup(button_html, 'html.parser')\n",
        "          title_element = soup.find('div').find('title')\n",
        "          title = title_element.get_text()\n",
        "          print(title)\n",
        "          html = driver.page_source\n",
        "          soup = BeautifulSoup(html, 'html.parser')\n",
        "\n",
        "          tr_element = soup.find('tr', class_='css-1wpy7ho')\n",
        "          div_elements = tr_element.find_all('div', class_='css-15ydh5a')\n",
        "          datad = {}\n",
        "\n",
        "          # Extract the data from each div element and add it to the dictionary\n",
        "          for div in div_elements:\n",
        "              h4_element = div.find('h4', class_='css-srsjf4')\n",
        "              data_point = div.find('div', class_='css-1s6j0do')\n",
        "              label = h4_element.text.strip(':')\n",
        "              value = data_point.text.strip()\n",
        "              datad[label] = value\n",
        "\n",
        "          tdf = pd.DataFrame(datad, index=[0]) # dataframe to collect the data from the trend.\n",
        "\n",
        "          table_rows = soup.find_all('tr')  # table of one rows trend year wise.\n",
        "          data = {\n",
        "              'Year': [],\n",
        "              'Median Price': [],\n",
        "              'Growth': [],\n",
        "              'Number of Sales': []\n",
        "          }\n",
        "          for row in table_rows[1:]:\n",
        "              columns = row.find_all('td')\n",
        "              if len(columns) == 4:\n",
        "                  year = columns[0].text.strip()\n",
        "                  median_price = columns[1].text.strip()\n",
        "                  growth = columns[2].text.strip()\n",
        "                  num_sales = columns[3].text.strip()\n",
        "\n",
        "                  data['Year'].append(year)\n",
        "                  data['Median Price'].append(median_price)\n",
        "                  data['Growth'].append(growth)\n",
        "                  data['Number of Sales'].append(num_sales)\n",
        "\n",
        "          yearly_df = pd.DataFrame(data)\n",
        "\n",
        "          years = yearly_df['Year'].tolist()\n",
        "          for year in years:\n",
        "              tdf.loc[0, f'median_price_{year}'] = yearly_df.loc[yearly_df['Year'] == year, 'Median Price'].item()\n",
        "              tdf.loc[0, f'growth_rate_{year}'] = yearly_df.loc[yearly_df['Year'] == year, 'Growth'].item()\n",
        "              tdf.loc[0, f'no_of_sales_{year}'] = yearly_df.loc[yearly_df['Year'] == year, 'Number of Sales'].item()\n",
        "\n",
        "          australia_timezone = pytz.timezone('Australia/Sydney')\n",
        "          current_time = datetime.datetime.now(australia_timezone)\n",
        "\n",
        "          tempdf = pd.concat([one_row_data, tdf], ignore_index=True)\n",
        "          tempfilename = 'Domain_click_2.csv'\n",
        "\n",
        "          save_data_to_disk(tempdf, tempfilename)\n",
        "          tempdf = pd.DataFrame()\n",
        "          one_row_data = pd.DataFrame()\n",
        "        except:\n",
        "          None\n",
        "  except:\n",
        "    None\n",
        "\n",
        "  try:\n",
        "    driver.quit() # killing the firefox instance to maintain the speed of data sourcing.\n",
        "    gc.collect()\n",
        "    os.system(\"pkill firefox\")\n",
        "  except:\n",
        "    None"
      ]
    }
  ],
  "metadata": {
    "colab": {
      "provenance": []
    },
    "kernelspec": {
      "display_name": "Python 3",
      "name": "python3"
    },
    "language_info": {
      "codemirror_mode": {
        "name": "ipython",
        "version": 3
      },
      "file_extension": ".py",
      "mimetype": "text/x-python",
      "name": "python",
      "nbconvert_exporter": "python",
      "pygments_lexer": "ipython3",
      "version": "3.11.4"
    }
  },
  "nbformat": 4,
  "nbformat_minor": 0
}
