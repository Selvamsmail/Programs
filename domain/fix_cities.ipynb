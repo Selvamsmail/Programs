{
 "cells": [
  {
   "cell_type": "code",
   "execution_count": 43,
   "metadata": {},
   "outputs": [],
   "source": [
    "import pandas as pd\n",
    "from geopy.geocoders import Nominatim\n",
    "from tqdm import tqdm"
   ]
  },
  {
   "cell_type": "code",
   "execution_count": 5,
   "metadata": {},
   "outputs": [],
   "source": [
    "subdf = pd.read_excel('suburbs.xlsx')\n",
    "subdf = subdf[['Unnamed: 0','state','domain_search_string']]\n",
    "subdf.rename(columns = {'Unnamed: 0':'suburb_id','state':'state_code'},inplace=True)"
   ]
  },
  {
   "cell_type": "code",
   "execution_count": 9,
   "metadata": {},
   "outputs": [],
   "source": [
    "mapcols = {'Northern Territory':'NT','New South Wales':'NSW','Australian Capital Territory':'ACT',\n",
    " 'Victoria':'VIC','Queensland':'QLD','South Australia':'SA','Western Australia':'WA','Tasmania':'TAS'}\n",
    "subdf['state'] = subdf['state_code'].replace(mapcols)"
   ]
  },
  {
   "cell_type": "code",
   "execution_count": 13,
   "metadata": {},
   "outputs": [
    {
     "data": {
      "text/plain": [
       "Index(['suburb_id', 'state_code', 'domain_search_string', 'state'], dtype='object')"
      ]
     },
     "execution_count": 13,
     "metadata": {},
     "output_type": "execute_result"
    }
   ],
   "source": [
    "subdf.columns"
   ]
  },
  {
   "cell_type": "code",
   "execution_count": 11,
   "metadata": {},
   "outputs": [],
   "source": [
    "latdf = pd.read_excel('Latitude_and_Longitude_Extract_20230802.xlsx')"
   ]
  },
  {
   "cell_type": "code",
   "execution_count": 12,
   "metadata": {},
   "outputs": [],
   "source": [
    "latdf.rename(columns={'lattitude':'latitude'},inplace=True)"
   ]
  },
  {
   "cell_type": "code",
   "execution_count": 15,
   "metadata": {},
   "outputs": [],
   "source": [
    "latdf.rename(columns={'Search_string':'domain_search_string'},inplace=True)\n",
    "latdf.drop(columns=['lat_and_lon'],inplace=True)\n",
    "df = pd.merge(subdf,latdf,how = 'left',left_on='domain_search_string',right_on='domain_search_string')"
   ]
  },
  {
   "cell_type": "code",
   "execution_count": 32,
   "metadata": {},
   "outputs": [
    {
     "data": {
      "text/html": [
       "<div>\n",
       "<style scoped>\n",
       "    .dataframe tbody tr th:only-of-type {\n",
       "        vertical-align: middle;\n",
       "    }\n",
       "\n",
       "    .dataframe tbody tr th {\n",
       "        vertical-align: top;\n",
       "    }\n",
       "\n",
       "    .dataframe thead th {\n",
       "        text-align: right;\n",
       "    }\n",
       "</style>\n",
       "<table border=\"1\" class=\"dataframe\">\n",
       "  <thead>\n",
       "    <tr style=\"text-align: right;\">\n",
       "      <th></th>\n",
       "      <th>suburb_id</th>\n",
       "      <th>state_code</th>\n",
       "      <th>domain_search_string</th>\n",
       "      <th>state</th>\n",
       "      <th>latitude</th>\n",
       "      <th>longitude</th>\n",
       "    </tr>\n",
       "  </thead>\n",
       "  <tbody>\n",
       "    <tr>\n",
       "      <th>0</th>\n",
       "      <td>1</td>\n",
       "      <td>Northern Territory</td>\n",
       "      <td>darwin-city-nt-0800</td>\n",
       "      <td>NT</td>\n",
       "      <td>-12.463733</td>\n",
       "      <td>130.844445</td>\n",
       "    </tr>\n",
       "    <tr>\n",
       "      <th>1</th>\n",
       "      <td>2</td>\n",
       "      <td>Northern Territory</td>\n",
       "      <td>alawa-nt-0810</td>\n",
       "      <td>NT</td>\n",
       "      <td>-12.381136</td>\n",
       "      <td>130.875298</td>\n",
       "    </tr>\n",
       "    <tr>\n",
       "      <th>2</th>\n",
       "      <td>3</td>\n",
       "      <td>Northern Territory</td>\n",
       "      <td>brinkin-nt-0810</td>\n",
       "      <td>NT</td>\n",
       "      <td>-12.370405</td>\n",
       "      <td>130.869843</td>\n",
       "    </tr>\n",
       "    <tr>\n",
       "      <th>3</th>\n",
       "      <td>4</td>\n",
       "      <td>Northern Territory</td>\n",
       "      <td>casuarina-nt-0810</td>\n",
       "      <td>NT</td>\n",
       "      <td>-12.372551</td>\n",
       "      <td>130.883775</td>\n",
       "    </tr>\n",
       "    <tr>\n",
       "      <th>4</th>\n",
       "      <td>5</td>\n",
       "      <td>Northern Territory</td>\n",
       "      <td>coconut-grove-nt-0810</td>\n",
       "      <td>NT</td>\n",
       "      <td>-12.398889</td>\n",
       "      <td>130.852500</td>\n",
       "    </tr>\n",
       "    <tr>\n",
       "      <th>...</th>\n",
       "      <td>...</td>\n",
       "      <td>...</td>\n",
       "      <td>...</td>\n",
       "      <td>...</td>\n",
       "      <td>...</td>\n",
       "      <td>...</td>\n",
       "    </tr>\n",
       "    <tr>\n",
       "      <th>15874</th>\n",
       "      <td>15875</td>\n",
       "      <td>Tasmania</td>\n",
       "      <td>granville-harbour-tas-7469</td>\n",
       "      <td>TAS</td>\n",
       "      <td>-41.807842</td>\n",
       "      <td>145.035194</td>\n",
       "    </tr>\n",
       "    <tr>\n",
       "      <th>15875</th>\n",
       "      <td>15876</td>\n",
       "      <td>Tasmania</td>\n",
       "      <td>renison-bell-tas-7469</td>\n",
       "      <td>TAS</td>\n",
       "      <td>-41.795235</td>\n",
       "      <td>145.435804</td>\n",
       "    </tr>\n",
       "    <tr>\n",
       "      <th>15876</th>\n",
       "      <td>15877</td>\n",
       "      <td>Tasmania</td>\n",
       "      <td>trial-harbour-tas-7469</td>\n",
       "      <td>TAS</td>\n",
       "      <td>-41.928422</td>\n",
       "      <td>145.175424</td>\n",
       "    </tr>\n",
       "    <tr>\n",
       "      <th>15877</th>\n",
       "      <td>15878</td>\n",
       "      <td>Tasmania</td>\n",
       "      <td>zeehan-tas-7469</td>\n",
       "      <td>TAS</td>\n",
       "      <td>-41.882997</td>\n",
       "      <td>145.335915</td>\n",
       "    </tr>\n",
       "    <tr>\n",
       "      <th>15878</th>\n",
       "      <td>15879</td>\n",
       "      <td>Tasmania</td>\n",
       "      <td>rosebery-tas-7470</td>\n",
       "      <td>TAS</td>\n",
       "      <td>-41.804139</td>\n",
       "      <td>145.542596</td>\n",
       "    </tr>\n",
       "  </tbody>\n",
       "</table>\n",
       "<p>15879 rows × 6 columns</p>\n",
       "</div>"
      ],
      "text/plain": [
       "       suburb_id          state_code        domain_search_string state  \\\n",
       "0              1  Northern Territory         darwin-city-nt-0800    NT   \n",
       "1              2  Northern Territory               alawa-nt-0810    NT   \n",
       "2              3  Northern Territory             brinkin-nt-0810    NT   \n",
       "3              4  Northern Territory           casuarina-nt-0810    NT   \n",
       "4              5  Northern Territory       coconut-grove-nt-0810    NT   \n",
       "...          ...                 ...                         ...   ...   \n",
       "15874      15875            Tasmania  granville-harbour-tas-7469   TAS   \n",
       "15875      15876            Tasmania       renison-bell-tas-7469   TAS   \n",
       "15876      15877            Tasmania      trial-harbour-tas-7469   TAS   \n",
       "15877      15878            Tasmania             zeehan-tas-7469   TAS   \n",
       "15878      15879            Tasmania           rosebery-tas-7470   TAS   \n",
       "\n",
       "        latitude   longitude  \n",
       "0     -12.463733  130.844445  \n",
       "1     -12.381136  130.875298  \n",
       "2     -12.370405  130.869843  \n",
       "3     -12.372551  130.883775  \n",
       "4     -12.398889  130.852500  \n",
       "...          ...         ...  \n",
       "15874 -41.807842  145.035194  \n",
       "15875 -41.795235  145.435804  \n",
       "15876 -41.928422  145.175424  \n",
       "15877 -41.882997  145.335915  \n",
       "15878 -41.804139  145.542596  \n",
       "\n",
       "[15879 rows x 6 columns]"
      ]
     },
     "execution_count": 32,
     "metadata": {},
     "output_type": "execute_result"
    }
   ],
   "source": [
    "df"
   ]
  },
  {
   "cell_type": "code",
   "execution_count": 39,
   "metadata": {},
   "outputs": [],
   "source": [
    "geolocator = Nominatim(user_agent=\"my_geocoder\")\n",
    "for index, row in df[(df['latitude'].isna() | df['longitude'].isna())].iterrows():\n",
    "    suburb_name = (' '.join(row['domain_search_string'].split('-')[:-2]))\n",
    "    location = geolocator.geocode(f\"{suburb_name}, {row['state']}, Australia\")\n",
    "    if location:\n",
    "        df.at[index, 'latitude'] = location.latitude\n",
    "        df.at[index, 'longitude'] = location.longitude"
   ]
  },
  {
   "cell_type": "code",
   "execution_count": null,
   "metadata": {},
   "outputs": [],
   "source": [
    "geolocator = Nominatim(user_agent=\"my_geocoder\")\n",
    "\n",
    "def get_city(latitude, longitude):\n",
    "    if pd.isna(latitude) or pd.isna(longitude):\n",
    "        return None\n",
    "    try:\n",
    "        location = geolocator.reverse((latitude, longitude), exactly_one=True)\n",
    "        if location:\n",
    "            return location.raw['address']['city']\n",
    "    except Exception as e:\n",
    "        print(f\"Error: {e}\")\n",
    "    return None\n",
    "\n",
    "# Filter out rows with NaN values in latitude or longitude columns\n",
    "df = df.dropna(subset=['latitude', 'longitude'])\n",
    "\n",
    "# Apply the function to each row in the DataFrame, printing progress\n",
    "tqdm.pandas()  # Enable progress_apply method\n",
    "df['city'] = df.progress_apply(lambda row: get_city(row['latitude'], row['longitude']), axis=1)\n"
   ]
  },
  {
   "cell_type": "code",
   "execution_count": 55,
   "metadata": {},
   "outputs": [
    {
     "name": "stderr",
     "output_type": "stream",
     "text": [
      "100%|██████████| 15859/15859 [2:13:54<00:00,  1.97it/s]  \n"
     ]
    }
   ],
   "source": [
    "geolocator = Nominatim(user_agent=\"my_geocoder\")\n",
    "\n",
    "def get_city(latitude, longitude):\n",
    "    if pd.isna(latitude) or pd.isna(longitude):\n",
    "        return None\n",
    "    try:\n",
    "        location = geolocator.reverse((latitude, longitude), exactly_one=True)\n",
    "        if location:\n",
    "            return location.raw['address']\n",
    "    except Exception as e:\n",
    "        # print(f\"Error: {e}\")\n",
    "        None\n",
    "    return None\n",
    "\n",
    "# Filter out rows with NaN values in latitude or longitude columns\n",
    "df = df.dropna(subset=['latitude', 'longitude'])\n",
    "\n",
    "# Apply the function to each row in the DataFrame, printing progress\n",
    "tqdm.pandas()  # Enable progress_apply method\n",
    "df['adress'] = df.progress_apply(lambda row: get_city(row['latitude'], row['longitude']), axis=1)\n"
   ]
  },
  {
   "cell_type": "code",
   "execution_count": 56,
   "metadata": {},
   "outputs": [],
   "source": [
    "df.to_excel('sub_city_latandlon.xlsx',index=False)"
   ]
  }
 ],
 "metadata": {
  "kernelspec": {
   "display_name": "Python 3",
   "language": "python",
   "name": "python3"
  },
  "language_info": {
   "codemirror_mode": {
    "name": "ipython",
    "version": 3
   },
   "file_extension": ".py",
   "mimetype": "text/x-python",
   "name": "python",
   "nbconvert_exporter": "python",
   "pygments_lexer": "ipython3",
   "version": "3.11.4"
  }
 },
 "nbformat": 4,
 "nbformat_minor": 2
}
