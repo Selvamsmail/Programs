{
 "cells": [
  {
   "cell_type": "code",
   "execution_count": 1,
   "metadata": {},
   "outputs": [],
   "source": [
    "import pandas as pd\n",
    "import re\n",
    "import mysql.connector\n",
    "from sqlalchemy import create_engine"
   ]
  },
  {
   "cell_type": "code",
   "execution_count": 2,
   "metadata": {},
   "outputs": [
    {
     "name": "stdout",
     "output_type": "stream",
     "text": [
      "Connected to MySQL database\n",
      "adeft_education\n",
      "equipay_partners\n",
      "information_schema\n",
      "leather_culture\n",
      "mysql\n",
      "performance_schema\n",
      "risheet\n",
      "sys\n"
     ]
    }
   ],
   "source": [
    "host = \"164.52.194.109\"\n",
    "user = \"root\"\n",
    "password = \"equipaypartners\"\n",
    "database = \"equipay_partners\"\n",
    "\n",
    "# Establish a connection to the database\n",
    "connection = mysql.connector.connect(\n",
    "    host=host,\n",
    "    user=user,\n",
    "    password=password,\n",
    ")\n",
    "\n",
    "# Check if the connection was successful\n",
    "if connection.is_connected():\n",
    "    print(\"Connected to MySQL database\")\n",
    "\n",
    "cursor = connection.cursor()\n",
    "cursor.execute(\"SHOW DATABASES\")\n",
    "\n",
    "databases = cursor.fetchall()\n",
    "for db in databases:\n",
    "    print(db[0])"
   ]
  },
  {
   "cell_type": "code",
   "execution_count": 3,
   "metadata": {},
   "outputs": [],
   "source": [
    "cursor.execute(\"SELECT table_name FROM information_schema.tables WHERE table_schema = 'equipay_partners'\")\n",
    "\n",
    "databases = cursor.fetchall()\n",
    "lis = []\n",
    "for db in databases:\n",
    "    lis.append(db[0])"
   ]
  },
  {
   "cell_type": "code",
   "execution_count": 5,
   "metadata": {},
   "outputs": [],
   "source": [
    "with open('column_info.txt', 'ab') as file:\n",
    "    None\n",
    "    \n",
    "connection = mysql.connector.connect(\n",
    "    host=host,\n",
    "    user=user,\n",
    "    password=password,\n",
    ")\n",
    "for i in lis:    \n",
    "    cursor = connection.cursor()\n",
    "    cursor.execute(f\"SHOW CREATE TABLE equipay_partners.{i}\")\n",
    "    result = cursor.fetchone()\n",
    "\n",
    "    with open('column_info.txt', 'ab') as file:\n",
    "        file.write(b'#' * 50)\n",
    "        file.write('\\n\\n'.encode())\n",
    "        file.write(result[0].encode())\n",
    "        file.write('\\n\\n'.encode())\n",
    "        file.write('\\n'.join(result[1].replace(f'CREATE TABLE `{result[0]}` (\\n  ','').split('\\n')[:-1]).encode())\n",
    "        file.write('\\n\\n'.encode())"
   ]
  }
 ],
 "metadata": {
  "kernelspec": {
   "display_name": "Python 3",
   "language": "python",
   "name": "python3"
  },
  "language_info": {
   "codemirror_mode": {
    "name": "ipython",
    "version": 3
   },
   "file_extension": ".py",
   "mimetype": "text/x-python",
   "name": "python",
   "nbconvert_exporter": "python",
   "pygments_lexer": "ipython3",
   "version": "3.11.4"
  }
 },
 "nbformat": 4,
 "nbformat_minor": 2
}
