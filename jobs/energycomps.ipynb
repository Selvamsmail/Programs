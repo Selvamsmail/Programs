{
 "cells": [
  {
   "cell_type": "code",
   "execution_count": 16,
   "metadata": {},
   "outputs": [],
   "source": [
    "import random"
   ]
  },
  {
   "cell_type": "code",
   "execution_count": 17,
   "metadata": {},
   "outputs": [
    {
     "data": {
      "text/plain": [
       "'%5B\"157359\"%2C\"9519\"%2C\"43267809\"%2C\"30093\"%2C\"30754506\"%2C\"100697\"%2C\"101388263\"%2C\"6459690\"%2C\"296578\"%2C\"1866103\"%5D'"
      ]
     },
     "execution_count": 17,
     "metadata": {},
     "output_type": "execute_result"
    }
   ],
   "source": [
    "currentCompany = '%5B\"1054382\"%2C\"1866103\"%2C\"95956361\"%2C\"91117199\"%2C\"43267809\"%2C\"13310503\"%2C\"60151829\"%2C\"62799378\"%2C\"76171420\"%2C\"407491\"%2C\"233894\"%2C\"11057099\"%2C\"2479453\"%2C\"53422094\"%2C\"762368\"%2C\"1042596\"%2C\"2523630\"%2C\"2599\"%2C\"1021\"%2C\"69475907\"%2C\"30093\"%2C\"607957\"%2C\"101388263\"%2C\"28974109\"%2C\"3061\"%2C\"296578\"%2C\"6459690\"%2C\"36021065\"%2C\"35688600\"%2C\"10658713\"%2C\"4528\"%2C\"25114843\"%2C\"1033\"%2C\"157359\"%2C\"30754506\"%2C\"100697\"%2C\"623161\"%2C\"28133041\"%2C\"2115255\"%2C\"9519\"%2C\"1092713\"%2C\"2591612\"%2C\"2525298\"%5D'\n",
    "\n",
    "randcomps = []\n",
    "for i in currentCompany.split('%2C'):\n",
    "    obj = i+'%2C'\n",
    "    obj.strip('%5B').strip('%5D')\n",
    "    randcomps.append(obj)\n",
    "\n",
    "random.shuffle(randcomps)\n",
    "\n",
    "'%5B'+''.join(list(randcomps)[:10])[:-3]+'%5D'"
   ]
  }
 ],
 "metadata": {
  "kernelspec": {
   "display_name": "Python 3",
   "language": "python",
   "name": "python3"
  },
  "language_info": {
   "codemirror_mode": {
    "name": "ipython",
    "version": 3
   },
   "file_extension": ".py",
   "mimetype": "text/x-python",
   "name": "python",
   "nbconvert_exporter": "python",
   "pygments_lexer": "ipython3",
   "version": "3.11.4"
  }
 },
 "nbformat": 4,
 "nbformat_minor": 2
}
