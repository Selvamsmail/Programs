{
  "cells": [
    {
      "cell_type": "code",
      "execution_count": 1,
      "metadata": {
        "id": "YReJQI7rbDKP"
      },
      "outputs": [],
      "source": [
        "import pandas as pd\n",
        "import gdown\n",
        "import re\n",
        "import requests\n",
        "from bs4 import BeautifulSoup\n",
        "import json\n",
        "import pandas as pd\n",
        "import os\n",
        "from selenium import webdriver\n",
        "from selenium.webdriver.common.by import By\n",
        "from selenium.webdriver.support.ui import WebDriverWait\n",
        "from selenium.webdriver.support import expected_conditions as EC\n",
        "import gc\n",
        "import time\n",
        "import pytz\n",
        "import datetime\n",
        "import logging\n",
        "from tqdm import tqdm\n",
        "import traceback"
      ]
    },
    {
      "cell_type": "code",
      "execution_count": 2,
      "metadata": {
        "id": "gerNcz0mTdZ0"
      },
      "outputs": [],
      "source": [
        "def driver_setup():# Assigning a Headless Firefox Driver\n",
        "  options = webdriver.FirefoxOptions()\n",
        "  options.binary_location = 'C:/Program Files/Mozilla Firefox/firefox.exe'  # Path to Chrome executable\n",
        "  options.add_argument('E:/Programs/geckodriver.exe')\n",
        "  # options.add_argument('--headless')\n",
        "  options.add_argument('--no-sandbox')\n",
        "  options.add_argument('--disable-dev-shm-usage')\n",
        "  driver = webdriver.Firefox(options=options)\n",
        "  return driver\n",
        "\n",
        "def save_data_to_disk(data, filename):\n",
        "    if os.path.isfile(filename):\n",
        "        existing_df = pd.read_csv(filename)\n",
        "        data = pd.concat([existing_df, data], ignore_index=True)\n",
        "        os.remove(filename)\n",
        "        data.to_csv(filename,index=False)\n",
        "    else:\n",
        "        data.to_csv(filename, mode='w', header=True, index=False)"
      ]
    },
    {
      "cell_type": "code",
      "execution_count": 3,
      "metadata": {},
      "outputs": [
        {
          "name": "stderr",
          "output_type": "stream",
          "text": [
            "The version of firefox cannot be detected. Trying with latest driver version\n"
          ]
        }
      ],
      "source": [
        "i = 0\n",
        "driver = driver_setup()"
      ]
    },
    {
      "cell_type": "code",
      "execution_count": 4,
      "metadata": {},
      "outputs": [],
      "source": [
        "url = 'https://www.naukri.com/jobs-in-india-1?clusters=functionalAreaGid&functionAreaIdGid=1&functionAreaIdGid=3&functionAreaIdGid=4&functionAreaIdGid=5&functionAreaIdGid=7&functionAreaIdGid=8&functionAreaIdGid=9&functionAreaIdGid=11&functionAreaIdGid=14&functionAreaIdGid=15&functionAreaIdGid=19&functionAreaIdGid=25&cityTypeGid=4&cityTypeGid=6&cityTypeGid=17&cityTypeGid=51&cityTypeGid=64&cityTypeGid=65&cityTypeGid=73&cityTypeGid=97&cityTypeGid=110&cityTypeGid=125&cityTypeGid=134&cityTypeGid=135&cityTypeGid=138&cityTypeGid=139&cityTypeGid=173&cityTypeGid=183&cityTypeGid=184&cityTypeGid=220&cityTypeGid=232&cityTypeGid=323&cityTypeGid=9508&cityTypeGid=9509&jobAge=1'\n",
        "# url = 'https://www.naukri.com/energy-jobs?k=energy&nignbevent_src=jobsearchDeskGNB&functionAreaIdGid=3&functionAreaIdGid=19'\n",
        "driver.get(url)"
      ]
    },
    {
      "cell_type": "code",
      "execution_count": 17,
      "metadata": {
        "colab": {
          "base_uri": "https://localhost:8080/",
          "height": 363
        },
        "id": "Aejew2K7Qr6s",
        "outputId": "9336ddd9-fed4-4abd-93ce-216afa89ad42"
      },
      "outputs": [
        {
          "name": "stdout",
          "output_type": "stream",
          "text": [
            "Progress: 225"
          ]
        },
        {
          "ename": "NoSuchElementException",
          "evalue": "Message: Unable to locate element: Next; For documentation on this error, please visit: https://www.selenium.dev/documentation/webdriver/troubleshooting/errors#no-such-element-exception\nStacktrace:\nRemoteError@chrome://remote/content/shared/RemoteError.sys.mjs:8:8\nWebDriverError@chrome://remote/content/shared/webdriver/Errors.sys.mjs:183:5\nNoSuchElementError@chrome://remote/content/shared/webdriver/Errors.sys.mjs:395:5\nelement.find/</<@chrome://remote/content/marionette/element.sys.mjs:134:16\n",
          "output_type": "error",
          "traceback": [
            "\u001b[1;31m---------------------------------------------------------------------------\u001b[0m",
            "\u001b[1;31mNoSuchElementException\u001b[0m                    Traceback (most recent call last)",
            "\u001b[1;32me:\\Programs\\jobs\\naukri extractor.ipynb Cell 5\u001b[0m line \u001b[0;36m1\n\u001b[0;32m    <a href='vscode-notebook-cell:/e%3A/Programs/jobs/naukri%20extractor.ipynb#W4sZmlsZQ%3D%3D?line=99'>100</a>\u001b[0m \u001b[39m# next_button = driver.find_elements(By.CLASS_NAME, 'styles_btn-secondary__2AsIP')[1]\u001b[39;00m\n\u001b[0;32m    <a href='vscode-notebook-cell:/e%3A/Programs/jobs/naukri%20extractor.ipynb#W4sZmlsZQ%3D%3D?line=100'>101</a>\u001b[0m \u001b[39m# next_button = driver.find_element(By.CSS_SELECTOR, 'a.fright.fs14.btn-secondary.br2')\u001b[39;00m\n\u001b[0;32m    <a href='vscode-notebook-cell:/e%3A/Programs/jobs/naukri%20extractor.ipynb#W4sZmlsZQ%3D%3D?line=101'>102</a>\u001b[0m time\u001b[39m.\u001b[39msleep(\u001b[39m1\u001b[39m)\n\u001b[1;32m--> <a href='vscode-notebook-cell:/e%3A/Programs/jobs/naukri%20extractor.ipynb#W4sZmlsZQ%3D%3D?line=102'>103</a>\u001b[0m next_button \u001b[39m=\u001b[39m driver\u001b[39m.\u001b[39;49mfind_element(By\u001b[39m.\u001b[39;49mLINK_TEXT, \u001b[39m\"\u001b[39;49m\u001b[39mNext\u001b[39;49m\u001b[39m\"\u001b[39;49m)\n\u001b[0;32m    <a href='vscode-notebook-cell:/e%3A/Programs/jobs/naukri%20extractor.ipynb#W4sZmlsZQ%3D%3D?line=103'>104</a>\u001b[0m is_disabled \u001b[39m=\u001b[39m next_button\u001b[39m.\u001b[39mget_attribute(\u001b[39m'\u001b[39m\u001b[39mdisabled\u001b[39m\u001b[39m'\u001b[39m) \u001b[39mis\u001b[39;00m \u001b[39mnot\u001b[39;00m \u001b[39mNone\u001b[39;00m\n\u001b[0;32m    <a href='vscode-notebook-cell:/e%3A/Programs/jobs/naukri%20extractor.ipynb#W4sZmlsZQ%3D%3D?line=104'>105</a>\u001b[0m \u001b[39mif\u001b[39;00m is_disabled:\n",
            "File \u001b[1;32mc:\\Users\\PM\\AppData\\Local\\Programs\\Python\\Python311\\Lib\\site-packages\\selenium\\webdriver\\remote\\webdriver.py:740\u001b[0m, in \u001b[0;36mWebDriver.find_element\u001b[1;34m(self, by, value)\u001b[0m\n\u001b[0;32m    737\u001b[0m     by \u001b[39m=\u001b[39m By\u001b[39m.\u001b[39mCSS_SELECTOR\n\u001b[0;32m    738\u001b[0m     value \u001b[39m=\u001b[39m \u001b[39mf\u001b[39m\u001b[39m'\u001b[39m\u001b[39m[name=\u001b[39m\u001b[39m\"\u001b[39m\u001b[39m{\u001b[39;00mvalue\u001b[39m}\u001b[39;00m\u001b[39m\"\u001b[39m\u001b[39m]\u001b[39m\u001b[39m'\u001b[39m\n\u001b[1;32m--> 740\u001b[0m \u001b[39mreturn\u001b[39;00m \u001b[39mself\u001b[39;49m\u001b[39m.\u001b[39;49mexecute(Command\u001b[39m.\u001b[39;49mFIND_ELEMENT, {\u001b[39m\"\u001b[39;49m\u001b[39musing\u001b[39;49m\u001b[39m\"\u001b[39;49m: by, \u001b[39m\"\u001b[39;49m\u001b[39mvalue\u001b[39;49m\u001b[39m\"\u001b[39;49m: value})[\u001b[39m\"\u001b[39m\u001b[39mvalue\u001b[39m\u001b[39m\"\u001b[39m]\n",
            "File \u001b[1;32mc:\\Users\\PM\\AppData\\Local\\Programs\\Python\\Python311\\Lib\\site-packages\\selenium\\webdriver\\remote\\webdriver.py:346\u001b[0m, in \u001b[0;36mWebDriver.execute\u001b[1;34m(self, driver_command, params)\u001b[0m\n\u001b[0;32m    344\u001b[0m response \u001b[39m=\u001b[39m \u001b[39mself\u001b[39m\u001b[39m.\u001b[39mcommand_executor\u001b[39m.\u001b[39mexecute(driver_command, params)\n\u001b[0;32m    345\u001b[0m \u001b[39mif\u001b[39;00m response:\n\u001b[1;32m--> 346\u001b[0m     \u001b[39mself\u001b[39;49m\u001b[39m.\u001b[39;49merror_handler\u001b[39m.\u001b[39;49mcheck_response(response)\n\u001b[0;32m    347\u001b[0m     response[\u001b[39m\"\u001b[39m\u001b[39mvalue\u001b[39m\u001b[39m\"\u001b[39m] \u001b[39m=\u001b[39m \u001b[39mself\u001b[39m\u001b[39m.\u001b[39m_unwrap_value(response\u001b[39m.\u001b[39mget(\u001b[39m\"\u001b[39m\u001b[39mvalue\u001b[39m\u001b[39m\"\u001b[39m, \u001b[39mNone\u001b[39;00m))\n\u001b[0;32m    348\u001b[0m     \u001b[39mreturn\u001b[39;00m response\n",
            "File \u001b[1;32mc:\\Users\\PM\\AppData\\Local\\Programs\\Python\\Python311\\Lib\\site-packages\\selenium\\webdriver\\remote\\errorhandler.py:245\u001b[0m, in \u001b[0;36mErrorHandler.check_response\u001b[1;34m(self, response)\u001b[0m\n\u001b[0;32m    243\u001b[0m         alert_text \u001b[39m=\u001b[39m value[\u001b[39m\"\u001b[39m\u001b[39malert\u001b[39m\u001b[39m\"\u001b[39m]\u001b[39m.\u001b[39mget(\u001b[39m\"\u001b[39m\u001b[39mtext\u001b[39m\u001b[39m\"\u001b[39m)\n\u001b[0;32m    244\u001b[0m     \u001b[39mraise\u001b[39;00m exception_class(message, screen, stacktrace, alert_text)  \u001b[39m# type: ignore[call-arg]  # mypy is not smart enough here\u001b[39;00m\n\u001b[1;32m--> 245\u001b[0m \u001b[39mraise\u001b[39;00m exception_class(message, screen, stacktrace)\n",
            "\u001b[1;31mNoSuchElementException\u001b[0m: Message: Unable to locate element: Next; For documentation on this error, please visit: https://www.selenium.dev/documentation/webdriver/troubleshooting/errors#no-such-element-exception\nStacktrace:\nRemoteError@chrome://remote/content/shared/RemoteError.sys.mjs:8:8\nWebDriverError@chrome://remote/content/shared/webdriver/Errors.sys.mjs:183:5\nNoSuchElementError@chrome://remote/content/shared/webdriver/Errors.sys.mjs:395:5\nelement.find/</<@chrome://remote/content/marionette/element.sys.mjs:134:16\n"
          ]
        }
      ],
      "source": [
        "# i = 0\n",
        "save = 1\n",
        "while True:\n",
        "    \n",
        "    time.sleep(4)\n",
        "    \n",
        "    # job_articles = driver.find_elements(By.CLASS_NAME, 'jobTuple')\n",
        "    job_articles = driver.find_elements(By.CLASS_NAME, 'cust-job-tuple')\n",
        "    for job_element in job_articles:\n",
        "        # Find the title element within the job element\n",
        "        \n",
        "        try:\n",
        "            job_title = job_element.find_element(By.CLASS_NAME, 'title').text\n",
        "        except:\n",
        "            job_title = \"N/A\"\n",
        "        \n",
        "        try:\n",
        "            company_name = job_element.find_element(By.CLASS_NAME, 'comp-name').text\n",
        "        except:\n",
        "            company_name = \"N/A\"\n",
        "        \n",
        "        try:\n",
        "            experience = job_element.find_element(By.CLASS_NAME, 'expwdth').text\n",
        "        except:\n",
        "            experience = \"N/A\"\n",
        "        \n",
        "        try:\n",
        "            salary = job_element.find_element(By.CLASS_NAME, 'sal').text\n",
        "            if (salary == 'Not disclosed')or(salary == 'Unpaid'):\n",
        "                continue\n",
        "        except:\n",
        "            continue\n",
        "        \n",
        "        try:\n",
        "            location = job_element.find_element(By.CLASS_NAME, 'locWdth').text\n",
        "        except:\n",
        "            location = \"N/A\"\n",
        "        \n",
        "        try:\n",
        "            description = job_element.find_element(By.CLASS_NAME, 'job-desc').text\n",
        "        except:\n",
        "            description = \"N/A\"\n",
        "        \n",
        "        try:\n",
        "            li_elements = job_element.find_elements(By.CSS_SELECTOR, 'ul.tags-gt li.tag-li')\n",
        "            l = [i.text for i in li_elements]\n",
        "        except:\n",
        "            l = []\n",
        "        \n",
        "        try:\n",
        "            posted_on = job_element.find_element(By.CLASS_NAME, 'job-post-day').text\n",
        "        except:\n",
        "            days_ago = \"N/A\"\n",
        "        \n",
        "        current_date = datetime.datetime.now().date()\n",
        "        data = {\n",
        "            'job_title':job_title,\n",
        "            'company_name':company_name,\n",
        "            'experience':experience,\n",
        "            'salary':salary,\n",
        "            'location':location,\n",
        "            'description':description,\n",
        "            'posted_on':posted_on,\n",
        "            'current_date':current_date\n",
        "        }\n",
        "        \n",
        "        for i in range(len(l)):\n",
        "            data['skill'+str(i+1)]=l[i]\n",
        "            \n",
        "        try:\n",
        "            job_element.find_element(By.TAG_NAME, 'a').click()\n",
        "            time.sleep(3)\n",
        "            driver.switch_to.window(driver.window_handles[1])\n",
        "            poi = driver.find_element(By.CLASS_NAME, 'styles_other-details__oEN4O')\n",
        "            div_elements = poi.find_elements(By.CLASS_NAME, 'styles_details__Y424J')\n",
        "\n",
        "            for eleind in range(len(div_elements)):\n",
        "                label = div_elements[eleind].find_element(By.XPATH, './/label').text.strip(':').lower()\n",
        "                ans = div_elements[eleind].find_element(By.XPATH, './/label/following-sibling::span').text.lower()\n",
        "                data[label] = ans\n",
        "            \n",
        "            data['job_description'] = driver.find_element(By.CLASS_NAME, \"styles_JDC__dang-inner-html__h0K4t\").text\n",
        "\n",
        "            driver.close()\n",
        "            driver.switch_to.window(driver.window_handles[0])        \n",
        "        except Exception as e:\n",
        "            driver.close()\n",
        "            driver.switch_to.window(driver.window_handles[0])\n",
        "            continue\n",
        "        \n",
        "        if data != {}:\n",
        "            print(f'\\rProgress: {save}', end='')\n",
        "            save+=1\n",
        "            tempdf = pd.DataFrame(data, index=[0])\n",
        "            tempfilename = 'Naukri_raw.csv'\n",
        "            # tempfilename = 'energy_roles.csv'#---------------------------------------------------------------------------------\n",
        "            save_data_to_disk(tempdf, tempfilename)\n",
        "            tempdf = pd.DataFrame()\n",
        "    \n",
        "    # next_button = driver.find_elements(By.CLASS_NAME, 'styles_btn-secondary__2AsIP')[1]\n",
        "    # next_button = driver.find_element(By.CSS_SELECTOR, 'a.fright.fs14.btn-secondary.br2')\n",
        "    time.sleep(1)\n",
        "    next_button = driver.find_element(By.LINK_TEXT, \"Next\")\n",
        "    is_disabled = next_button.get_attribute('disabled') is not None\n",
        "    if is_disabled:\n",
        "        break\n",
        "    else:\n",
        "        next_button.click()\n",
        "    # i += 1"
      ]
    },
    {
      "cell_type": "code",
      "execution_count": 6,
      "metadata": {},
      "outputs": [],
      "source": [
        "# ndf = pd.DataFrame()\n",
        "# ndf = pd.read_excel('Naukri_Extract_20231121.xlsx')\n",
        "# ndf1 = pd.read_csv(r'Naukri_raw.csv')\n",
        "\n",
        "# ndf = pd.concat([ndf, ndf1], ignore_index=True)\n",
        "# subsetcols = ndf.columns.to_list()\n",
        "# subsetcols.remove('current_date')\n",
        "# subsetcols.remove('posted_on')\n",
        "# ndf = ndf[ndf['salary'] != 'Unpaid']\n",
        "\n",
        "# ndf.drop_duplicates(subset=subsetcols, inplace=True)\n",
        "# ndf.reset_index(drop=True,inplace=True)\n",
        "# ndf.shape\n",
        "# ndf.to_csv('Naukri_raw.csv',index=False)"
      ]
    },
    {
      "cell_type": "code",
      "execution_count": 7,
      "metadata": {},
      "outputs": [],
      "source": [
        "# df= pd.read_csv('energy_roles.csv')\n",
        "# df.to_excel('Energy_roles_Naukri.xlsx',index=False)"
      ]
    },
    {
      "cell_type": "code",
      "execution_count": 8,
      "metadata": {},
      "outputs": [],
      "source": [
        "# df = pd.read_csv(r'C:\\Users\\PM\\Desktop\\jobs\\Naukri_raw.csv')\n",
        "# df.fillna('Nan', inplace=True)\n",
        "# df.to_csv('Naukri_raw.csv',index=False)"
      ]
    },
    {
      "cell_type": "code",
      "execution_count": 18,
      "metadata": {},
      "outputs": [],
      "source": [
        "df = pd.read_csv(r'Naukri_raw.csv')\n",
        "subsetcols = df.columns.to_list()\n",
        "subsetcols.remove('current_date')\n",
        "subsetcols.remove('posted_on')\n",
        "df = df[df['salary'] != 'Unpaid']\n",
        "\n",
        "df.drop_duplicates(subset=subsetcols, inplace=True)\n",
        "df.reset_index(drop=True,inplace=True)\n",
        "# df.to_csv('Naukri_raw.csv',index=False)"
      ]
    },
    {
      "cell_type": "code",
      "execution_count": 10,
      "metadata": {},
      "outputs": [],
      "source": [
        "# df = pd.read_csv(r'energy_roles.csv')\n",
        "# subsetcols = df.columns.to_list()\n",
        "# subsetcols.remove('current_date')\n",
        "# subsetcols.remove('posted_on')\n",
        "# df = df[df['salary'] != 'Unpaid']\n",
        "\n",
        "# df.drop_duplicates(subset=subsetcols, inplace=True)\n",
        "# df.reset_index(drop=True,inplace=True)\n",
        "\n",
        "# current_time = datetime.datetime.now()\n",
        "# filename = 'Energy_Extract_'+ str(current_time.date()).replace('-', '')+'.xlsx'\n",
        "# df.to_excel(filename,index = False)"
      ]
    },
    {
      "cell_type": "code",
      "execution_count": 19,
      "metadata": {},
      "outputs": [
        {
          "data": {
            "text/plain": [
              "(61423, 22)"
            ]
          },
          "execution_count": 19,
          "metadata": {},
          "output_type": "execute_result"
        }
      ],
      "source": [
        "df.shape"
      ]
    },
    {
      "cell_type": "code",
      "execution_count": 12,
      "metadata": {},
      "outputs": [],
      "source": [
        "# driver.quit()"
      ]
    },
    {
      "cell_type": "code",
      "execution_count": 20,
      "metadata": {},
      "outputs": [
        {
          "data": {
            "text/plain": [
              "Index(['job_title', 'company_name', 'experience', 'salary', 'location',\n",
              "       'description', 'posted_on', 'current_date', 'skill1', 'skill2',\n",
              "       'skill3', 'skill4', 'skill5', 'skill6', 'skill7', 'skill8', 'role',\n",
              "       'industry type', 'department', 'employment type', 'role category',\n",
              "       'job_description'],\n",
              "      dtype='object')"
            ]
          },
          "execution_count": 20,
          "metadata": {},
          "output_type": "execute_result"
        }
      ],
      "source": [
        "df.columns"
      ]
    },
    {
      "cell_type": "code",
      "execution_count": 21,
      "metadata": {},
      "outputs": [],
      "source": [
        "def clean_text(text):\n",
        "    if pd.isna(text):\n",
        "        return \"\"\n",
        "    \n",
        "    # Replace specific characters that cause issues in Excel\n",
        "    cleaned_text = re.sub(r'[\\x00-\\x08\\x0B-\\x0C\\x0E-\\x1F]+', '', str(text))\n",
        "    return cleaned_text\n",
        "\n",
        "# Apply the clean_text function to the relevant columns in your DataFrame\n",
        "df['location'] = df['location'].apply(clean_text)\n",
        "df['job_description'] = df['job_description'].apply(clean_text)"
      ]
    },
    {
      "cell_type": "code",
      "execution_count": 22,
      "metadata": {},
      "outputs": [],
      "source": [
        "current_time = datetime.datetime.now()\n",
        "filename = 'Naukri_Extract_'+ str(current_time.date()).replace('-', '')+'.xlsx'\n",
        "df.to_excel(filename,index = False)"
      ]
    },
    {
      "cell_type": "code",
      "execution_count": 23,
      "metadata": {},
      "outputs": [
        {
          "data": {
            "text/plain": [
              "'https://onedrive.live.com/?id=F87FC3AA6EB46E0%21205009&cid=0F87FC3AA6EB46E0'"
            ]
          },
          "execution_count": 23,
          "metadata": {},
          "output_type": "execute_result"
        }
      ],
      "source": [
        "'https://onedrive.live.com/?id=F87FC3AA6EB46E0%21205009&cid=0F87FC3AA6EB46E0'"
      ]
    },
    {
      "cell_type": "code",
      "execution_count": null,
      "metadata": {},
      "outputs": [],
      "source": []
    }
  ],
  "metadata": {
    "colab": {
      "provenance": []
    },
    "kernelspec": {
      "display_name": "Python 3",
      "name": "python3"
    },
    "language_info": {
      "codemirror_mode": {
        "name": "ipython",
        "version": 3
      },
      "file_extension": ".py",
      "mimetype": "text/x-python",
      "name": "python",
      "nbconvert_exporter": "python",
      "pygments_lexer": "ipython3",
      "version": "3.11.4"
    }
  },
  "nbformat": 4,
  "nbformat_minor": 0
}
