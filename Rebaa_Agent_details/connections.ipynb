{
 "cells": [
  {
   "cell_type": "code",
   "execution_count": 1,
   "metadata": {},
   "outputs": [],
   "source": [
    "import pandas as pd\n",
    "from selenium import webdriver\n",
    "from selenium.webdriver.common.by import By\n",
    "from selenium.webdriver.support.ui import WebDriverWait\n",
    "from selenium.webdriver.support import expected_conditions as EC\n",
    "from selenium.common.exceptions import NoSuchElementException\n",
    "from selenium.common.exceptions import StaleElementReferenceException\n",
    "import pyperclip\n",
    "import time\n",
    "import datetime\n",
    "import os\n",
    "from tqdm import tqdm\n",
    "import random"
   ]
  },
  {
   "cell_type": "code",
   "execution_count": 2,
   "metadata": {},
   "outputs": [],
   "source": [
    "def driver_setup():# Assigning a Headless Firefox Driver\n",
    "    options = webdriver.FirefoxOptions()\n",
    "    options.binary_location = 'C:/Program Files/Mozilla Firefox/firefox.exe'  # Path to Chrome executable\n",
    "    options.add_argument('E:/Programs/geckodriver.exe')\n",
    "    # options.add_argument('--headless')\n",
    "    options.add_argument('--no-sandbox')\n",
    "    options.add_argument('--disable-dev-shm-usage')\n",
    "    driver = webdriver.Firefox(options=options)\n",
    "    return driver"
   ]
  },
  {
   "cell_type": "code",
   "execution_count": 3,
   "metadata": {},
   "outputs": [
    {
     "name": "stderr",
     "output_type": "stream",
     "text": [
      "The version of firefox cannot be detected. Trying with latest driver version\n"
     ]
    }
   ],
   "source": [
    "driver = driver_setup()"
   ]
  },
  {
   "cell_type": "code",
   "execution_count": 4,
   "metadata": {},
   "outputs": [],
   "source": [
    "driver.get('https://rebaa.com.au/buyers-agents/rebaa-member-directory/')"
   ]
  },
  {
   "cell_type": "code",
   "execution_count": 6,
   "metadata": {},
   "outputs": [],
   "source": [
    "states = \"\"\"ACT\n",
    "NSW\n",
    "QLD\n",
    "SA\n",
    "TAS\n",
    "VIC\n",
    "WA\"\"\""
   ]
  },
  {
   "cell_type": "code",
   "execution_count": 14,
   "metadata": {},
   "outputs": [],
   "source": [
    "links = set()\n",
    "for i in states.split('\\n'):\n",
    "    driver.get('https://rebaa.com.au/location/'+i+'/')\n",
    "    driver.execute_script(\"window.scrollTo(0, document.body.scrollHeight);\")\n",
    "    time.sleep(4)\n",
    "    for i in driver.find_elements(By.CSS_SELECTOR,'.members-list.gutter-bottom > div > a'):\n",
    "        links.add(i.get_attribute('href'))"
   ]
  },
  {
   "cell_type": "code",
   "execution_count": 41,
   "metadata": {},
   "outputs": [],
   "source": [
    "datalis = []\n",
    "for i in links:\n",
    "    driver.get(i)\n",
    "    time.sleep(3)\n",
    "    data = {}\n",
    "    for li in driver.find_elements(By.CSS_SELECTOR, '.contact li'):\n",
    "        data['company_name'] = driver.find_element(By.TAG_NAME,'h1').text\n",
    "        data['link'] = i \n",
    "        try:\n",
    "            head = (li.find_element(By.TAG_NAME, 'i').get_attribute('class').split('-',1)[-1])\n",
    "            tail = (li.find_element(By.TAG_NAME, 'a').get_attribute('href'))\n",
    "            data[head] = tail \n",
    "        except:\n",
    "            continue\n",
    "    datalis.append(data)"
   ]
  },
  {
   "cell_type": "code",
   "execution_count": 44,
   "metadata": {},
   "outputs": [],
   "source": [
    "pd.DataFrame(datalis).to_excel('Rebaa_Agent_details.xlsx',index=False)"
   ]
  }
 ],
 "metadata": {
  "kernelspec": {
   "display_name": "Python 3",
   "language": "python",
   "name": "python3"
  },
  "language_info": {
   "codemirror_mode": {
    "name": "ipython",
    "version": 3
   },
   "file_extension": ".py",
   "mimetype": "text/x-python",
   "name": "python",
   "nbconvert_exporter": "python",
   "pygments_lexer": "ipython3",
   "version": "3.11.4"
  }
 },
 "nbformat": 4,
 "nbformat_minor": 2
}
