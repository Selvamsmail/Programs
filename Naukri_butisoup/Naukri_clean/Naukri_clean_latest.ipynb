{
 "cells": [
  {
   "cell_type": "code",
   "execution_count": 1,
   "metadata": {},
   "outputs": [],
   "source": [
    "import pandas as pd\n",
    "import numpy as np\n",
    "import re\n",
    "import os\n",
    "from tqdm import tqdm\n",
    "from geopy.geocoders import Nominatim\n",
    "import mysql.connector\n",
    "from sqlalchemy import create_engine\n",
    "from datetime import datetime, timedelta"
   ]
  },
  {
   "cell_type": "code",
   "execution_count": 2,
   "metadata": {},
   "outputs": [],
   "source": [
    "def save_data_to_disk(data, filename):\n",
    "    if os.path.isfile(filename):\n",
    "        existing_df = pd.read_csv(filename)\n",
    "        data = pd.concat([existing_df, data], ignore_index=True)\n",
    "        os.remove(filename)\n",
    "        data.to_csv(filename,index=False)\n",
    "    else:\n",
    "        data.to_csv(filename, mode='w', header=True, index=False)"
   ]
  },
  {
   "cell_type": "markdown",
   "metadata": {},
   "source": [
    "# loading the extracts columns to nomancleature"
   ]
  },
  {
   "cell_type": "code",
   "execution_count": 3,
   "metadata": {},
   "outputs": [],
   "source": [
    "parquet_folder = \"../completed extracts\"\n",
    "extracts = [i for i in os.listdir(parquet_folder) if 'Naukri_Extract' in i]\n",
    "extracts.sort()"
   ]
  },
  {
   "cell_type": "code",
   "execution_count": 4,
   "metadata": {},
   "outputs": [
    {
     "data": {
      "text/plain": [
       "['Naukri_Extract_2024-04-19.parquet']"
      ]
     },
     "execution_count": 4,
     "metadata": {},
     "output_type": "execute_result"
    }
   ],
   "source": [
    "extracts"
   ]
  },
  {
   "cell_type": "code",
   "execution_count": 5,
   "metadata": {},
   "outputs": [
    {
     "name": "stdout",
     "output_type": "stream",
     "text": [
      "(57035, 57)\n"
     ]
    }
   ],
   "source": [
    "df = pd.DataFrame()\n",
    "for i in extracts:\n",
    "    i = parquet_folder+'/'+i\n",
    "    temp = pd.read_parquet(i)\n",
    "    print(temp.shape)\n",
    "    df = pd.concat([df,temp],ignore_index=True)"
   ]
  },
  {
   "cell_type": "code",
   "execution_count": 6,
   "metadata": {},
   "outputs": [],
   "source": [
    "df.columns = df.columns.str.replace(r'\\W+', '_', regex=True).str.replace(r'_+', '_', regex=True).str.strip('_').str.lower()"
   ]
  },
  {
   "cell_type": "code",
   "execution_count": 7,
   "metadata": {},
   "outputs": [],
   "source": [
    "df = df[~df.isna().all(axis=1)]"
   ]
  },
  {
   "cell_type": "code",
   "execution_count": 8,
   "metadata": {},
   "outputs": [],
   "source": [
    "del df['']"
   ]
  },
  {
   "cell_type": "code",
   "execution_count": 9,
   "metadata": {},
   "outputs": [],
   "source": [
    "df.rename(columns={'current_date':'extracted_on'},inplace=True)"
   ]
  },
  {
   "cell_type": "code",
   "execution_count": 10,
   "metadata": {},
   "outputs": [],
   "source": [
    "df2 = pd.read_csv(parquet_folder+'/'+'PayPulse_backup_2024-04-07.csv')\n",
    "df2 = df2[~df2['salary'].isin(['3-6', '6-10', '10-15', '15-25', '25-50', '50-75', '75-100','100-500', '0-3'])]\n",
    "df2.rename(columns={\n",
    "    'salmin':'salary_minimum',\n",
    "    'salmax':'salary_maximum',\n",
    "    'minexp':'experience_minimum', \n",
    "    'maxexp':'experience_maximum'\n",
    "},inplace=True)"
   ]
  },
  {
   "cell_type": "code",
   "execution_count": 11,
   "metadata": {},
   "outputs": [],
   "source": [
    "# def fillsal(row):\n",
    "#     if 'not disclosed' in row['salary'].lower():\n",
    "#         retval = '-'.join(row['sal_range'].split('to'))\n",
    "#         return retval\n",
    "#     else:\n",
    "#         return row['salary']\n",
    "# df['salary'] = df[['salary','sal_range']].apply(fillsal,axis=1)"
   ]
  },
  {
   "cell_type": "markdown",
   "metadata": {},
   "source": [
    "# Correcting Salary Column"
   ]
  },
  {
   "cell_type": "code",
   "execution_count": 12,
   "metadata": {},
   "outputs": [],
   "source": [
    "df = df[df['salary']!='Not Disclosed']\n",
    "df = df[~df['salary'].str.contains('Not Disclosed')]\n",
    "df = df[~df['salary'].str.contains('N/A')]"
   ]
  },
  {
   "cell_type": "code",
   "execution_count": 13,
   "metadata": {},
   "outputs": [],
   "source": [
    "df.reset_index(drop=True,inplace=True)\n",
    "del df['sal_range']"
   ]
  },
  {
   "cell_type": "code",
   "execution_count": 14,
   "metadata": {},
   "outputs": [],
   "source": [
    "def extract_min_max(salary_str):\n",
    "    if isinstance(salary_str, str):\n",
    "        # print(salary_str)\n",
    "        salary_str = salary_str.replace('₹ ','')\n",
    "        if '$' in salary_str:\n",
    "            salary_min = None\n",
    "            salary_max = None \n",
    "            return pd.Series({'salmin': salary_min, 'salmax': salary_max})\n",
    "        l = []\n",
    "        salary_str = salary_str.replace('Less than', '')\n",
    "        \n",
    "        if '/month' in salary_str:\n",
    "            salary_str = salary_str.replace('/month', '').replace(',', '')\n",
    "            salary_min = None\n",
    "            salary_max = None \n",
    "            return pd.Series({'salmin': salary_min, 'salmax': salary_max})\n",
    "        \n",
    "        try:\n",
    "            a = salary_str.split('-')\n",
    "            if a[0] == a[1]:        # min and max range are same numbers.\n",
    "                salary_str = a[0]\n",
    "        except:\n",
    "            pass\n",
    "            \n",
    "        l = list(salary_str)\n",
    "        \n",
    "        if ('-' not in l) and all(ltr not in l for ltr in ['P','C','L']):\n",
    "            salary_min = None\n",
    "            salary_max = None\n",
    "            return pd.Series({'salmin': salary_min, 'salmax': salary_max})\n",
    "        \n",
    "        if 'L' in l and 'C' in l:    \n",
    "            ind = l.index('L')\n",
    "            lak = ''.join(l[:ind])\n",
    "            l = ''.join(l)\n",
    "            l = l.replace(',','')\n",
    "            if '-' in l:    \n",
    "                l = l.split('-')\n",
    "                indc = l[1].index('C')\n",
    "                cro = ''.join(l[1][:indc])\n",
    "                cro = cro.strip()\n",
    "            if None in l:\n",
    "                return pd.Series({'salmin': None, 'salmax': None})\n",
    "            lak = lak.strip()\n",
    "            if len(lak) > 4:\n",
    "                lak = lak/100000 \n",
    "            else:\n",
    "                lak = float(lak)           \n",
    "            cro = float(cro)\n",
    "            cro = cro*100\n",
    "            salary_min = lak \n",
    "            salary_max = cro  \n",
    "            return pd.Series({'salmin': salary_min, 'salmax': salary_max})\n",
    "        \n",
    "        elif 'L' in l:    \n",
    "            ind = l.index('L')\n",
    "            l = ''.join(l[:ind])\n",
    "            l = l.strip()\n",
    "            l = [i.replace(',', '') for i in l]\n",
    "            l = ''.join(l[:ind])\n",
    "            if '-' in l:    \n",
    "                l = l.split('-')\n",
    "                if None in l:\n",
    "                    return pd.Series({'salmin': None, 'salmax': None})\n",
    "                l = [float(i)/100000 if len(i) > 4 else float(i) for i in l]\n",
    "                salary_min = l[0]\n",
    "                salary_max = l[1] \n",
    "                return pd.Series({'salmin': salary_min, 'salmax': salary_max})\n",
    "            else:\n",
    "                if len(l) > 4:\n",
    "                    l = l/100000\n",
    "                salary_min = l\n",
    "                salary_max = l\n",
    "                return pd.Series({'salmin': salary_min, 'salmax': salary_max})\n",
    "\n",
    "        elif 'C' in l:\n",
    "            ind = l.index('C')\n",
    "            l = ''.join(l[:ind])\n",
    "            l = l.strip()\n",
    "            l = [i.replace(',', '') for i in l]\n",
    "            l = ''.join(l[:ind])\n",
    "            if '-' in l:    \n",
    "                l = l.split('-')\n",
    "                if None in l:\n",
    "                    return pd.Series({'salmin': None, 'salmax': None})\n",
    "                l = [float(i)/10000000 if len(i) > 4 else float(i)*100 for i in l]\n",
    "                salary_min = l[0]\n",
    "                salary_max = l[1] \n",
    "                return pd.Series({'salmin': salary_min, 'salmax': salary_max})\n",
    "            else:\n",
    "                salary_min = None\n",
    "                salary_max = None\n",
    "                return pd.Series({'salmin': salary_min, 'salmax': salary_max})\n",
    "\n",
    "        elif 'P' in l:\n",
    "            ind = l.index('P')\n",
    "            l = l[:ind]\n",
    "            l = ''.join(l)\n",
    "            l = l.replace(',','').strip(' ')\n",
    "            if '-' in l:\n",
    "                l = l.split('-')\n",
    "                salary_min = float(l[0])/100000\n",
    "                salary_max = float(l[1])/100000\n",
    "                return pd.Series({'salmin': salary_min, 'salmax': salary_max})\n",
    "            else:\n",
    "                salary_min = float(l)/100000\n",
    "                salary_max = float(l)/100000\n",
    "                return pd.Series({'salmin': salary_min, 'salmax': salary_max})\n",
    "        \n",
    "        elif ('-' in l):\n",
    "            print(l)\n",
    "            l = ''.join(l).strip()\n",
    "            l = l.split('-')\n",
    "            salary_min = l[0]\n",
    "            salary_max = l[1]\n",
    "            return pd.Series({'salmin': salary_min, 'salmax': salary_max})\n",
    "        \n",
    "        elif all(ltr not in l for ltr in ['P','C','L']):\n",
    "            salary_min = None\n",
    "            salary_max = None\n",
    "            return pd.Series({'salmin': salary_min, 'salmax': salary_max})\n",
    "    \n",
    "    return pd.Series({'salmin': None, 'salmax': None})\n",
    "\n",
    "df[['salary_minimum', 'salary_maximum']] = df['salary'].apply(extract_min_max)"
   ]
  },
  {
   "cell_type": "code",
   "execution_count": 15,
   "metadata": {},
   "outputs": [],
   "source": [
    "# df['salmin'] = pd.to_numeric(df['salmin'],errors='coerce')\n",
    "# df['salmax'] = pd.to_numeric(df['salmax'],errors='coerce')\n",
    "df['salary_minimum'] = pd.to_numeric(df['salary_minimum'])\n",
    "df['salary_maximum'] = pd.to_numeric(df['salary_maximum'])"
   ]
  },
  {
   "cell_type": "code",
   "execution_count": 16,
   "metadata": {},
   "outputs": [],
   "source": [
    "for i in df[df['salary_minimum'].isna()]['salary'].unique(): # code skipped entries\n",
    "    print(i)"
   ]
  },
  {
   "cell_type": "code",
   "execution_count": 17,
   "metadata": {},
   "outputs": [],
   "source": [
    "df['salary_minimum'] = df['salary_minimum']*100000\n",
    "df['salary_maximum'] = df['salary_maximum']*100000"
   ]
  },
  {
   "cell_type": "code",
   "execution_count": 18,
   "metadata": {},
   "outputs": [],
   "source": [
    "df2['salary_minimum'] = df2['salary_minimum']*100000\n",
    "df2['salary_maximum'] = df2['salary_maximum']*100000"
   ]
  },
  {
   "cell_type": "markdown",
   "metadata": {},
   "source": [
    "# Correcting Loaction Columns"
   ]
  },
  {
   "cell_type": "code",
   "execution_count": 19,
   "metadata": {},
   "outputs": [],
   "source": [
    "df['location'] = df['location'].str.lower()\n",
    "df['location'] = df['location'].astype(str).str.lower().str.replace('hybrid -', '').str.strip()"
   ]
  },
  {
   "cell_type": "code",
   "execution_count": 20,
   "metadata": {},
   "outputs": [],
   "source": [
    "df2['location'] = df2['location'].str.lower()\n",
    "df2['location'] = df2['location'].astype(str).str.lower().str.replace('hybrid -', '').str.strip()"
   ]
  },
  {
   "cell_type": "code",
   "execution_count": 21,
   "metadata": {},
   "outputs": [],
   "source": [
    "locset = set()\n",
    "for loc in df['location']:\n",
    "    sublocs = loc.split(',')\n",
    "    for subloc in sublocs:\n",
    "        locset.add(subloc.strip())\n",
    "for loc in df2['location']:\n",
    "    sublocs = loc.split(',')\n",
    "    for subloc in sublocs:\n",
    "        locset.add(subloc.strip())"
   ]
  },
  {
   "cell_type": "code",
   "execution_count": 22,
   "metadata": {},
   "outputs": [
    {
     "data": {
      "text/plain": [
       "2223"
      ]
     },
     "execution_count": 22,
     "metadata": {},
     "output_type": "execute_result"
    }
   ],
   "source": [
    "len(locset)"
   ]
  },
  {
   "cell_type": "code",
   "execution_count": 23,
   "metadata": {},
   "outputs": [],
   "source": [
    "locationmapper = {}"
   ]
  },
  {
   "cell_type": "code",
   "execution_count": 24,
   "metadata": {},
   "outputs": [],
   "source": [
    "anyinlist = ['delh','ncr','noida','guru','gurga']\n",
    "allinlist = []\n",
    "notinlist = []\n",
    "\n",
    "apl = set()\n",
    "for i in locset:\n",
    "    if all(word in i for word in allinlist) and all(word not in i for word in notinlist) and any(word in i for word in anyinlist):\n",
    "        apl.add(i)\n",
    "apl\n",
    "locationmapper['Delhi']= apl \n",
    "#------------------------------------------------------------------------------------------------------\n",
    "anyinlist = ['ahmed']\n",
    "allinlist = []\n",
    "notinlist = []\n",
    "\n",
    "apl = set()\n",
    "for i in locset:\n",
    "    if all(word in i for word in allinlist) and all(word not in i for word in notinlist) and any(word in i for word in anyinlist):\n",
    "        apl.add(i)\n",
    "apl\n",
    "locationmapper['Ahmedabad']= apl \n",
    "#------------------------------------------------------------------------------------------------------\n",
    "anyinlist = ['mumbai']\n",
    "allinlist = []\n",
    "notinlist = []\n",
    "\n",
    "apl = set()\n",
    "for i in locset:\n",
    "    if all(word in i for word in allinlist) and all(word not in i for word in notinlist) and any(word in i for word in anyinlist):\n",
    "        apl.add(i)\n",
    "apl\n",
    "locationmapper['Mumbai']= apl \n",
    "#------------------------------------------------------------------------------------------------------\n",
    "anyinlist = ['banga']\n",
    "allinlist = []\n",
    "notinlist = []\n",
    "\n",
    "apl = set()\n",
    "for i in locset:\n",
    "    if all(word in i for word in allinlist) and all(word not in i for word in notinlist) and any(word in i for word in anyinlist):\n",
    "        apl.add(i)\n",
    "apl\n",
    "locationmapper['Bangalore']= apl \n",
    "#------------------------------------------------------------------------------------------------------\n",
    "anyinlist = ['pune']\n",
    "allinlist = []\n",
    "notinlist = []\n",
    "\n",
    "apl = set()\n",
    "for i in locset:\n",
    "    if all(word in i for word in allinlist) and all(word not in i for word in notinlist) and any(word in i for word in anyinlist):\n",
    "        apl.add(i)\n",
    "apl\n",
    "locationmapper['Pune']= apl \n",
    "#------------------------------------------------------------------------------------------------------\n",
    "anyinlist = ['kolka']\n",
    "allinlist = []\n",
    "notinlist = []\n",
    "\n",
    "apl = set()\n",
    "for i in locset:\n",
    "    if all(word in i for word in allinlist) and all(word not in i for word in notinlist) and any(word in i for word in anyinlist):\n",
    "        apl.add(i)\n",
    "apl\n",
    "locationmapper['Kolkata']= apl \n",
    "#------------------------------------------------------------------------------------------------------"
   ]
  },
  {
   "cell_type": "code",
   "execution_count": 25,
   "metadata": {},
   "outputs": [
    {
     "data": {
      "text/plain": [
       "'Group Delhi – Delhi, Noida, Gurgaon, Gurugram \\nGroup Ahmedabad – Ahmedabad \\nGroup Mumbai - Mumbai, Navi Mumbai, Mumbai All areas \\nGroup Bangalore – Bangalore \\nGroup Pune – Pune \\nGroup Kolkata – Kolkata'"
      ]
     },
     "execution_count": 25,
     "metadata": {},
     "output_type": "execute_result"
    }
   ],
   "source": [
    "\"\"\"Group Delhi – Delhi, Noida, Gurgaon, Gurugram \n",
    "Group Ahmedabad – Ahmedabad \n",
    "Group Mumbai - Mumbai, Navi Mumbai, Mumbai All areas \n",
    "Group Bangalore – Bangalore \n",
    "Group Pune – Pune \n",
    "Group Kolkata – Kolkata\"\"\""
   ]
  },
  {
   "cell_type": "code",
   "execution_count": 26,
   "metadata": {},
   "outputs": [],
   "source": [
    "def location_mapper(lis):\n",
    "    newlis = set()\n",
    "    for i in range(len(lis)):\n",
    "        for k,v in locationmapper.items():\n",
    "            if lis[i] in v:\n",
    "                newlis.add(k)\n",
    "            # else:\n",
    "                # newlis.add(lis[i])\n",
    "    return ','.join(newlis)"
   ]
  },
  {
   "cell_type": "code",
   "execution_count": 27,
   "metadata": {},
   "outputs": [],
   "source": [
    "for inde,row in df.iterrows():\n",
    "    row = row['location'].split(',')\n",
    "    df.at[inde,'location'] = location_mapper(row)"
   ]
  },
  {
   "cell_type": "code",
   "execution_count": 28,
   "metadata": {},
   "outputs": [],
   "source": [
    "for inde,row in df2.iterrows():\n",
    "    row = row['location'].split(',')\n",
    "    df2.at[inde,'location'] = location_mapper(row)"
   ]
  },
  {
   "cell_type": "markdown",
   "metadata": {},
   "source": [
    "# Correcting Experience Columns"
   ]
  },
  {
   "cell_type": "code",
   "execution_count": 29,
   "metadata": {},
   "outputs": [],
   "source": [
    "wrong = []\n",
    "for i in range(53):\n",
    "    wrong.append(str(i)+' Yrs')\n",
    "def correct_exp(exps):\n",
    "    # print(exps)\n",
    "    if pd.isna(exps) or exps == 'Nan' or exps == 'N/A':\n",
    "        return np.nan\n",
    "    exps = exps.replace('years','Yrs').replace('year','Yrs')\n",
    "    # if \"+\" in exps:\n",
    "    #     return '15+'\n",
    "    if ('-' not in exps) and ('Yrs' in exps):#for 0 year(s) of experience\n",
    "        try:\n",
    "            exps = exps.split('Yrs')[0].strip().split(' ')[-1] + ' Yrs'\n",
    "        except:\n",
    "            pass    \n",
    "    wrong1 = ['entry level']\n",
    "    if exps in wrong1:\n",
    "        exps = '0-2'    \n",
    "    \n",
    "    if exps in wrong:\n",
    "        num = int(exps.split(' ')[0])\n",
    "        exps = str(num)+'-'+str(num)\n",
    "\n",
    "    if 'to' in exps: #From 5 to 10 year(s) of experience\n",
    "        exp1 = exps.split('to')[0].strip().split(' ')[-1]\n",
    "        exp2 = exps.split('to')[1].strip().split(' ')[0]\n",
    "        exps = '-'.join([exp1,exp2])\n",
    "    \n",
    "    strang = str(exps[0])\n",
    "    enrang = str(exps.split('-')[1].strip().split(' ')[0])\n",
    "    exps = '-'.join([strang,enrang])\n",
    "    return exps\n",
    "\n",
    "df['dup_experience'] = df['experience'].apply(correct_exp)"
   ]
  },
  {
   "cell_type": "code",
   "execution_count": 30,
   "metadata": {},
   "outputs": [],
   "source": [
    "df['experience_minimum'] = df['dup_experience'].apply(lambda x: float(x.split('-')[0].strip()) if pd.notnull(x) else None)\n",
    "df['experience_maximum'] = df['dup_experience'].apply(lambda x: float(x.split('-')[1].strip().split(' ')[0]) if pd.notnull(x) else None)"
   ]
  },
  {
   "cell_type": "code",
   "execution_count": 31,
   "metadata": {},
   "outputs": [],
   "source": [
    "del df['dup_experience']"
   ]
  },
  {
   "cell_type": "markdown",
   "metadata": {},
   "source": [
    "# loading existing data"
   ]
  },
  {
   "cell_type": "code",
   "execution_count": 32,
   "metadata": {},
   "outputs": [],
   "source": [
    "df = pd.concat([df,df2],ignore_index=True)"
   ]
  },
  {
   "cell_type": "code",
   "execution_count": 33,
   "metadata": {},
   "outputs": [],
   "source": [
    "jobsdf = df[['job_title',\n",
    " 'company_name',\n",
    " 'experience',\n",
    " 'salary',\n",
    " 'salary_minimum',\n",
    " 'salary_maximum',\n",
    " 'experience_minimum',\n",
    " 'experience_maximum',\n",
    " 'posted_on',\n",
    " 'extracted_on']]"
   ]
  },
  {
   "cell_type": "code",
   "execution_count": 34,
   "metadata": {},
   "outputs": [],
   "source": [
    "# df2 = df2[['job_title', 'company_name', 'experience', 'salary', 'location','posted_on', 'extracted_on','role', 'industry_type', 'department', 'employment_type','role_category','skill1','skill2','skill3','skill4','skill5','skill6','skill7','skill8',\n",
    "#      'salary_minimum', 'salary_maximum', 'experience_minimum', 'experience_maximum']]"
   ]
  },
  {
   "cell_type": "code",
   "execution_count": 35,
   "metadata": {},
   "outputs": [],
   "source": [
    "# df = pd.concat([df,df2],ignore_index=True)"
   ]
  },
  {
   "cell_type": "code",
   "execution_count": 36,
   "metadata": {},
   "outputs": [
    {
     "name": "stderr",
     "output_type": "stream",
     "text": [
      "C:\\Users\\PM\\AppData\\Local\\Temp\\ipykernel_9776\\1960682411.py:2: SettingWithCopyWarning: \n",
      "A value is trying to be set on a copy of a slice from a DataFrame.\n",
      "Try using .loc[row_indexer,col_indexer] = value instead\n",
      "\n",
      "See the caveats in the documentation: https://pandas.pydata.org/pandas-docs/stable/user_guide/indexing.html#returning-a-view-versus-a-copy\n",
      "  jobsdf['id'] = jobsdf.index +1\n"
     ]
    }
   ],
   "source": [
    "jobsdf.reset_index(drop=True,inplace=True)\n",
    "jobsdf['id'] = jobsdf.index +1\n",
    "df.reset_index(drop=True,inplace=True)\n",
    "df['id'] = df.index +1"
   ]
  },
  {
   "cell_type": "markdown",
   "metadata": {},
   "source": [
    "# Date_Correction"
   ]
  },
  {
   "cell_type": "code",
   "execution_count": 37,
   "metadata": {},
   "outputs": [
    {
     "name": "stderr",
     "output_type": "stream",
     "text": [
      "C:\\Users\\PM\\AppData\\Local\\Temp\\ipykernel_9776\\1438185700.py:1: SettingWithCopyWarning: \n",
      "A value is trying to be set on a copy of a slice from a DataFrame.\n",
      "Try using .loc[row_indexer,col_indexer] = value instead\n",
      "\n",
      "See the caveats in the documentation: https://pandas.pydata.org/pandas-docs/stable/user_guide/indexing.html#returning-a-view-versus-a-copy\n",
      "  jobsdf['posted_on'] = jobsdf['posted_on'].str.replace('Posted: ','')\n"
     ]
    }
   ],
   "source": [
    "jobsdf['posted_on'] = jobsdf['posted_on'].str.replace('Posted: ','') "
   ]
  },
  {
   "cell_type": "code",
   "execution_count": 38,
   "metadata": {},
   "outputs": [],
   "source": [
    "jobsdf.loc[jobsdf['posted_on'].str.contains('Opening'),'posted_on']=jobsdf[jobsdf['posted_on'].str.contains('Opening')]['extracted_on']"
   ]
  },
  {
   "cell_type": "code",
   "execution_count": 39,
   "metadata": {},
   "outputs": [],
   "source": [
    "def posted_corrector(value,ext):\n",
    "    value = value.lower()\n",
    "    wronglis = ['just now','few hours ago','today']\n",
    "    c = value.replace('-','')\n",
    "    if c.isdigit():\n",
    "        return value\n",
    "    if value not in wronglis:\n",
    "        value = int(value.split(' ')[0].replace('+',''))\n",
    "        if value < 100:\n",
    "            date_obj = datetime.strptime(ext, \"%Y-%m-%d\")\n",
    "            new_date = date_obj - timedelta(days=10)\n",
    "            new_date_string = new_date.strftime(\"%Y-%m-%d\")\n",
    "            return new_date_string\n",
    "        else:\n",
    "            date_obj = datetime.strptime(ext, \"%Y-%m-%d\")\n",
    "            return date_obj\n",
    "    else:\n",
    "        date_obj = datetime.strptime(ext, \"%Y-%m-%d\")\n",
    "        return date_obj"
   ]
  },
  {
   "cell_type": "code",
   "execution_count": 40,
   "metadata": {},
   "outputs": [
    {
     "name": "stderr",
     "output_type": "stream",
     "text": [
      "C:\\Users\\PM\\AppData\\Local\\Temp\\ipykernel_9776\\1815589175.py:1: SettingWithCopyWarning: \n",
      "A value is trying to be set on a copy of a slice from a DataFrame.\n",
      "Try using .loc[row_indexer,col_indexer] = value instead\n",
      "\n",
      "See the caveats in the documentation: https://pandas.pydata.org/pandas-docs/stable/user_guide/indexing.html#returning-a-view-versus-a-copy\n",
      "  jobsdf['posted_on'] = jobsdf.apply(lambda row: posted_corrector(row['posted_on'], row['extracted_on']), axis=1)\n"
     ]
    }
   ],
   "source": [
    "jobsdf['posted_on'] = jobsdf.apply(lambda row: posted_corrector(row['posted_on'], row['extracted_on']), axis=1)"
   ]
  },
  {
   "cell_type": "code",
   "execution_count": 41,
   "metadata": {},
   "outputs": [
    {
     "name": "stderr",
     "output_type": "stream",
     "text": [
      "C:\\Users\\PM\\AppData\\Local\\Temp\\ipykernel_9776\\4244471813.py:1: SettingWithCopyWarning: \n",
      "A value is trying to be set on a copy of a slice from a DataFrame.\n",
      "Try using .loc[row_indexer,col_indexer] = value instead\n",
      "\n",
      "See the caveats in the documentation: https://pandas.pydata.org/pandas-docs/stable/user_guide/indexing.html#returning-a-view-versus-a-copy\n",
      "  jobsdf['posted_on'] = pd.to_datetime(jobsdf['posted_on']).dt.date\n"
     ]
    }
   ],
   "source": [
    "jobsdf['posted_on'] = pd.to_datetime(jobsdf['posted_on']).dt.date"
   ]
  },
  {
   "cell_type": "markdown",
   "metadata": {},
   "source": [
    "# Creating Tables and push to Database"
   ]
  },
  {
   "cell_type": "code",
   "execution_count": 42,
   "metadata": {},
   "outputs": [],
   "source": [
    "# employment_type\n",
    "# mapped_average_sal\n",
    "# mapped_job_title\n",
    "# combined_skills\n",
    "# ori_experience\n",
    "# title_id"
   ]
  },
  {
   "cell_type": "code",
   "execution_count": 43,
   "metadata": {},
   "outputs": [],
   "source": [
    "del df['combined_skills']"
   ]
  },
  {
   "cell_type": "code",
   "execution_count": 45,
   "metadata": {},
   "outputs": [],
   "source": [
    "df.to_parquet('Cleaned_Extract.parquet',index=False)"
   ]
  },
  {
   "cell_type": "code",
   "execution_count": 168,
   "metadata": {},
   "outputs": [
    {
     "name": "stderr",
     "output_type": "stream",
     "text": [
      "C:\\Users\\PM\\AppData\\Local\\Temp\\ipykernel_12692\\2504277871.py:2: SettingWithCopyWarning: \n",
      "A value is trying to be set on a copy of a slice from a DataFrame.\n",
      "Try using .loc[row_indexer,col_indexer] = value instead\n",
      "\n",
      "See the caveats in the documentation: https://pandas.pydata.org/pandas-docs/stable/user_guide/indexing.html#returning-a-view-versus-a-copy\n",
      "  jobsdf['id'] = jobsdf.index +1\n"
     ]
    }
   ],
   "source": [
    "jobsdf.reset_index(drop=True,inplace=True)\n",
    "jobsdf['id'] = jobsdf.index +1"
   ]
  },
  {
   "cell_type": "code",
   "execution_count": 169,
   "metadata": {},
   "outputs": [],
   "source": [
    "# del df['id']"
   ]
  },
  {
   "cell_type": "code",
   "execution_count": 170,
   "metadata": {},
   "outputs": [],
   "source": [
    "# del df['combined_skills']"
   ]
  },
  {
   "cell_type": "code",
   "execution_count": 171,
   "metadata": {},
   "outputs": [],
   "source": [
    "# host = \"164.52.194.109\"\n",
    "# user = \"root\"\n",
    "# password = \"equipaypartners\"\n",
    "# database = \"paypulse\"\n",
    "\n",
    "# engine = create_engine(f\"mysql+mysqlconnector://{user}:{password}@{host}/{database}\")\n",
    "\n",
    "# df.to_sql(name='naukri_staging', con=engine, if_exists='replace', index=False)"
   ]
  },
  {
   "cell_type": "code",
   "execution_count": 172,
   "metadata": {},
   "outputs": [
    {
     "data": {
      "text/html": [
       "<div>\n",
       "<style scoped>\n",
       "    .dataframe tbody tr th:only-of-type {\n",
       "        vertical-align: middle;\n",
       "    }\n",
       "\n",
       "    .dataframe tbody tr th {\n",
       "        vertical-align: top;\n",
       "    }\n",
       "\n",
       "    .dataframe thead th {\n",
       "        text-align: right;\n",
       "    }\n",
       "</style>\n",
       "<table border=\"1\" class=\"dataframe\">\n",
       "  <thead>\n",
       "    <tr style=\"text-align: right;\">\n",
       "      <th></th>\n",
       "      <th>job_title</th>\n",
       "      <th>company_name</th>\n",
       "      <th>experience</th>\n",
       "      <th>salary</th>\n",
       "      <th>salary_minimum</th>\n",
       "      <th>salary_maximum</th>\n",
       "      <th>experience_minimum</th>\n",
       "      <th>experience_maximum</th>\n",
       "      <th>posted_on</th>\n",
       "      <th>extracted_on</th>\n",
       "      <th>id</th>\n",
       "    </tr>\n",
       "  </thead>\n",
       "  <tbody>\n",
       "    <tr>\n",
       "      <th>0</th>\n",
       "      <td>Customer Service Executive - Up To 32k: Fluent...</td>\n",
       "      <td>Wipro</td>\n",
       "      <td>0 - 5 years</td>\n",
       "      <td>2.25-4 Lacs P.A.</td>\n",
       "      <td>225000.0</td>\n",
       "      <td>400000.0</td>\n",
       "      <td>0.0</td>\n",
       "      <td>5.0</td>\n",
       "      <td>2024-04-06</td>\n",
       "      <td>2024-04-16</td>\n",
       "      <td>1</td>\n",
       "    </tr>\n",
       "    <tr>\n",
       "      <th>1</th>\n",
       "      <td>AppDynamics</td>\n",
       "      <td>Tata Consultancy Services (TCS)</td>\n",
       "      <td>4 - 6 years</td>\n",
       "      <td>5.5-15 Lacs P.A.</td>\n",
       "      <td>550000.0</td>\n",
       "      <td>1500000.0</td>\n",
       "      <td>4.0</td>\n",
       "      <td>6.0</td>\n",
       "      <td>2024-04-06</td>\n",
       "      <td>2024-04-16</td>\n",
       "      <td>2</td>\n",
       "    </tr>\n",
       "    <tr>\n",
       "      <th>2</th>\n",
       "      <td>Sales Executive-Building Segment</td>\n",
       "      <td>Fosroc Chemicals</td>\n",
       "      <td>2 - 7 years</td>\n",
       "      <td>4-6 Lacs P.A.</td>\n",
       "      <td>400000.0</td>\n",
       "      <td>600000.0</td>\n",
       "      <td>2.0</td>\n",
       "      <td>7.0</td>\n",
       "      <td>2024-04-06</td>\n",
       "      <td>2024-04-16</td>\n",
       "      <td>3</td>\n",
       "    </tr>\n",
       "    <tr>\n",
       "      <th>3</th>\n",
       "      <td>Mainframe Developer</td>\n",
       "      <td>Tata Consultancy Services (TCS)</td>\n",
       "      <td>4 - 9 years</td>\n",
       "      <td>60,000-3 Lacs P.A.</td>\n",
       "      <td>60000.0</td>\n",
       "      <td>300000.0</td>\n",
       "      <td>4.0</td>\n",
       "      <td>9.0</td>\n",
       "      <td>2024-04-06</td>\n",
       "      <td>2024-04-16</td>\n",
       "      <td>4</td>\n",
       "    </tr>\n",
       "    <tr>\n",
       "      <th>4</th>\n",
       "      <td>Admission Counsellor</td>\n",
       "      <td>upGrad</td>\n",
       "      <td>1 - 6 years</td>\n",
       "      <td>4-9 Lacs P.A.</td>\n",
       "      <td>400000.0</td>\n",
       "      <td>900000.0</td>\n",
       "      <td>1.0</td>\n",
       "      <td>6.0</td>\n",
       "      <td>2024-04-07</td>\n",
       "      <td>2024-04-17</td>\n",
       "      <td>5</td>\n",
       "    </tr>\n",
       "    <tr>\n",
       "      <th>...</th>\n",
       "      <td>...</td>\n",
       "      <td>...</td>\n",
       "      <td>...</td>\n",
       "      <td>...</td>\n",
       "      <td>...</td>\n",
       "      <td>...</td>\n",
       "      <td>...</td>\n",
       "      <td>...</td>\n",
       "      <td>...</td>\n",
       "      <td>...</td>\n",
       "      <td>...</td>\n",
       "    </tr>\n",
       "    <tr>\n",
       "      <th>120184</th>\n",
       "      <td>Executive-HR</td>\n",
       "      <td>jbm neel metal</td>\n",
       "      <td>3 - 8 Yrs</td>\n",
       "      <td>2.25-4.5 Lacs P.A.</td>\n",
       "      <td>225000.0</td>\n",
       "      <td>450000.0</td>\n",
       "      <td>3.0</td>\n",
       "      <td>8.0</td>\n",
       "      <td>2024-03-25</td>\n",
       "      <td>2024-04-04</td>\n",
       "      <td>120185</td>\n",
       "    </tr>\n",
       "    <tr>\n",
       "      <th>120185</th>\n",
       "      <td>Engineer-Robot Maintenance</td>\n",
       "      <td>jbm neel metal</td>\n",
       "      <td>3 - 8 Yrs</td>\n",
       "      <td>2.5-5 Lacs P.A.</td>\n",
       "      <td>250000.0</td>\n",
       "      <td>500000.0</td>\n",
       "      <td>3.0</td>\n",
       "      <td>8.0</td>\n",
       "      <td>2024-03-25</td>\n",
       "      <td>2024-04-04</td>\n",
       "      <td>120186</td>\n",
       "    </tr>\n",
       "    <tr>\n",
       "      <th>120186</th>\n",
       "      <td>Executive-Quality</td>\n",
       "      <td>neel metal products ltd</td>\n",
       "      <td>1 - 4 Yrs</td>\n",
       "      <td>1-3.5 Lacs P.A.</td>\n",
       "      <td>100000.0</td>\n",
       "      <td>350000.0</td>\n",
       "      <td>1.0</td>\n",
       "      <td>4.0</td>\n",
       "      <td>2024-03-25</td>\n",
       "      <td>2024-04-04</td>\n",
       "      <td>120187</td>\n",
       "    </tr>\n",
       "    <tr>\n",
       "      <th>120187</th>\n",
       "      <td>Payment Associate(Customer Support Executive</td>\n",
       "      <td>kochar infotech</td>\n",
       "      <td>0-2</td>\n",
       "      <td>2-2.5 Lacs P.A.</td>\n",
       "      <td>200000.0</td>\n",
       "      <td>250000.0</td>\n",
       "      <td>0.0</td>\n",
       "      <td>2.0</td>\n",
       "      <td>2024-03-25</td>\n",
       "      <td>2024-04-04</td>\n",
       "      <td>120188</td>\n",
       "    </tr>\n",
       "    <tr>\n",
       "      <th>120188</th>\n",
       "      <td>Office Assistant - Urgent Opening | Pune (Camp)</td>\n",
       "      <td>infinity solutions</td>\n",
       "      <td>1 - 6 Yrs</td>\n",
       "      <td>1.25-2.75 Lacs P.A.</td>\n",
       "      <td>125000.0</td>\n",
       "      <td>275000.0</td>\n",
       "      <td>1.0</td>\n",
       "      <td>6.0</td>\n",
       "      <td>2024-03-25</td>\n",
       "      <td>2024-04-04</td>\n",
       "      <td>120189</td>\n",
       "    </tr>\n",
       "  </tbody>\n",
       "</table>\n",
       "<p>120189 rows × 11 columns</p>\n",
       "</div>"
      ],
      "text/plain": [
       "                                                job_title  \\\n",
       "0       Customer Service Executive - Up To 32k: Fluent...   \n",
       "1                                             AppDynamics   \n",
       "2                        Sales Executive-Building Segment   \n",
       "3                                     Mainframe Developer   \n",
       "4                                    Admission Counsellor   \n",
       "...                                                   ...   \n",
       "120184                                       Executive-HR   \n",
       "120185                         Engineer-Robot Maintenance   \n",
       "120186                                  Executive-Quality   \n",
       "120187       Payment Associate(Customer Support Executive   \n",
       "120188    Office Assistant - Urgent Opening | Pune (Camp)   \n",
       "\n",
       "                           company_name   experience               salary  \\\n",
       "0                                 Wipro  0 - 5 years     2.25-4 Lacs P.A.   \n",
       "1       Tata Consultancy Services (TCS)  4 - 6 years     5.5-15 Lacs P.A.   \n",
       "2                      Fosroc Chemicals  2 - 7 years        4-6 Lacs P.A.   \n",
       "3       Tata Consultancy Services (TCS)  4 - 9 years   60,000-3 Lacs P.A.   \n",
       "4                                upGrad  1 - 6 years        4-9 Lacs P.A.   \n",
       "...                                 ...          ...                  ...   \n",
       "120184                   jbm neel metal    3 - 8 Yrs   2.25-4.5 Lacs P.A.   \n",
       "120185                   jbm neel metal    3 - 8 Yrs      2.5-5 Lacs P.A.   \n",
       "120186          neel metal products ltd    1 - 4 Yrs      1-3.5 Lacs P.A.   \n",
       "120187                  kochar infotech          0-2      2-2.5 Lacs P.A.   \n",
       "120188               infinity solutions    1 - 6 Yrs  1.25-2.75 Lacs P.A.   \n",
       "\n",
       "        salary_minimum  salary_maximum  experience_minimum  \\\n",
       "0             225000.0        400000.0                 0.0   \n",
       "1             550000.0       1500000.0                 4.0   \n",
       "2             400000.0        600000.0                 2.0   \n",
       "3              60000.0        300000.0                 4.0   \n",
       "4             400000.0        900000.0                 1.0   \n",
       "...                ...             ...                 ...   \n",
       "120184        225000.0        450000.0                 3.0   \n",
       "120185        250000.0        500000.0                 3.0   \n",
       "120186        100000.0        350000.0                 1.0   \n",
       "120187        200000.0        250000.0                 0.0   \n",
       "120188        125000.0        275000.0                 1.0   \n",
       "\n",
       "        experience_maximum   posted_on extracted_on      id  \n",
       "0                      5.0  2024-04-06   2024-04-16       1  \n",
       "1                      6.0  2024-04-06   2024-04-16       2  \n",
       "2                      7.0  2024-04-06   2024-04-16       3  \n",
       "3                      9.0  2024-04-06   2024-04-16       4  \n",
       "4                      6.0  2024-04-07   2024-04-17       5  \n",
       "...                    ...         ...          ...     ...  \n",
       "120184                 8.0  2024-03-25   2024-04-04  120185  \n",
       "120185                 8.0  2024-03-25   2024-04-04  120186  \n",
       "120186                 4.0  2024-03-25   2024-04-04  120187  \n",
       "120187                 2.0  2024-03-25   2024-04-04  120188  \n",
       "120188                 6.0  2024-03-25   2024-04-04  120189  \n",
       "\n",
       "[120189 rows x 11 columns]"
      ]
     },
     "execution_count": 172,
     "metadata": {},
     "output_type": "execute_result"
    }
   ],
   "source": [
    "jobsdf"
   ]
  },
  {
   "cell_type": "markdown",
   "metadata": {},
   "source": [
    "## location tables"
   ]
  },
  {
   "cell_type": "code",
   "execution_count": 173,
   "metadata": {},
   "outputs": [],
   "source": [
    "df['location'] = df['location'].astype('str')"
   ]
  },
  {
   "cell_type": "code",
   "execution_count": 174,
   "metadata": {},
   "outputs": [],
   "source": [
    "unique_locations = set()\n",
    "for ind,row in df.iterrows():\n",
    "    if isinstance(row['location'],str):\n",
    "        loclist = row['location'].split(',')\n",
    "        for i in loclist:\n",
    "            unique_locations.add(i)"
   ]
  },
  {
   "cell_type": "code",
   "execution_count": 175,
   "metadata": {},
   "outputs": [],
   "source": [
    "locationdf = pd.DataFrame(unique_locations,columns=['location'])\n",
    "locationdf = locationdf[locationdf['location'] != '']\n",
    "locationdf.reset_index(drop=True,inplace=True)\n",
    "locationdf['id'] = locationdf.index+1"
   ]
  },
  {
   "cell_type": "code",
   "execution_count": 176,
   "metadata": {},
   "outputs": [],
   "source": [
    "joblocation = []\n",
    "for locind, locrow in locationdf.iterrows():\n",
    "    for dfind, dfrow in df[df['location'].str.contains(re.escape(locrow['location']))].iterrows():\n",
    "        joblocation.append({'location_id': locrow['id'], 'job_id': dfrow['id']})"
   ]
  },
  {
   "cell_type": "code",
   "execution_count": 177,
   "metadata": {},
   "outputs": [],
   "source": [
    "joblocationdf = pd.DataFrame(joblocation)\n",
    "joblocationdf['id'] = joblocationdf.index+1"
   ]
  },
  {
   "cell_type": "code",
   "execution_count": 178,
   "metadata": {},
   "outputs": [
    {
     "data": {
      "text/html": [
       "<div>\n",
       "<style scoped>\n",
       "    .dataframe tbody tr th:only-of-type {\n",
       "        vertical-align: middle;\n",
       "    }\n",
       "\n",
       "    .dataframe tbody tr th {\n",
       "        vertical-align: top;\n",
       "    }\n",
       "\n",
       "    .dataframe thead th {\n",
       "        text-align: right;\n",
       "    }\n",
       "</style>\n",
       "<table border=\"1\" class=\"dataframe\">\n",
       "  <thead>\n",
       "    <tr style=\"text-align: right;\">\n",
       "      <th></th>\n",
       "      <th>location_id</th>\n",
       "      <th>job_id</th>\n",
       "      <th>id</th>\n",
       "    </tr>\n",
       "  </thead>\n",
       "  <tbody>\n",
       "    <tr>\n",
       "      <th>0</th>\n",
       "      <td>1</td>\n",
       "      <td>2</td>\n",
       "      <td>1</td>\n",
       "    </tr>\n",
       "    <tr>\n",
       "      <th>1</th>\n",
       "      <td>1</td>\n",
       "      <td>5</td>\n",
       "      <td>2</td>\n",
       "    </tr>\n",
       "    <tr>\n",
       "      <th>2</th>\n",
       "      <td>1</td>\n",
       "      <td>10</td>\n",
       "      <td>3</td>\n",
       "    </tr>\n",
       "    <tr>\n",
       "      <th>3</th>\n",
       "      <td>1</td>\n",
       "      <td>18</td>\n",
       "      <td>4</td>\n",
       "    </tr>\n",
       "    <tr>\n",
       "      <th>4</th>\n",
       "      <td>1</td>\n",
       "      <td>23</td>\n",
       "      <td>5</td>\n",
       "    </tr>\n",
       "    <tr>\n",
       "      <th>...</th>\n",
       "      <td>...</td>\n",
       "      <td>...</td>\n",
       "      <td>...</td>\n",
       "    </tr>\n",
       "    <tr>\n",
       "      <th>76748</th>\n",
       "      <td>6</td>\n",
       "      <td>120147</td>\n",
       "      <td>76749</td>\n",
       "    </tr>\n",
       "    <tr>\n",
       "      <th>76749</th>\n",
       "      <td>6</td>\n",
       "      <td>120174</td>\n",
       "      <td>76750</td>\n",
       "    </tr>\n",
       "    <tr>\n",
       "      <th>76750</th>\n",
       "      <td>6</td>\n",
       "      <td>120181</td>\n",
       "      <td>76751</td>\n",
       "    </tr>\n",
       "    <tr>\n",
       "      <th>76751</th>\n",
       "      <td>6</td>\n",
       "      <td>120182</td>\n",
       "      <td>76752</td>\n",
       "    </tr>\n",
       "    <tr>\n",
       "      <th>76752</th>\n",
       "      <td>6</td>\n",
       "      <td>120183</td>\n",
       "      <td>76753</td>\n",
       "    </tr>\n",
       "  </tbody>\n",
       "</table>\n",
       "<p>76753 rows × 3 columns</p>\n",
       "</div>"
      ],
      "text/plain": [
       "       location_id  job_id     id\n",
       "0                1       2      1\n",
       "1                1       5      2\n",
       "2                1      10      3\n",
       "3                1      18      4\n",
       "4                1      23      5\n",
       "...            ...     ...    ...\n",
       "76748            6  120147  76749\n",
       "76749            6  120174  76750\n",
       "76750            6  120181  76751\n",
       "76751            6  120182  76752\n",
       "76752            6  120183  76753\n",
       "\n",
       "[76753 rows x 3 columns]"
      ]
     },
     "execution_count": 178,
     "metadata": {},
     "output_type": "execute_result"
    }
   ],
   "source": [
    "joblocationdf"
   ]
  },
  {
   "cell_type": "markdown",
   "metadata": {},
   "source": [
    "## Skill Tables"
   ]
  },
  {
   "cell_type": "code",
   "execution_count": 179,
   "metadata": {},
   "outputs": [],
   "source": [
    "skill_columns = df.filter(like='skill').columns\n",
    "skillset = set(df[skill_columns].values.flatten())"
   ]
  },
  {
   "cell_type": "code",
   "execution_count": 180,
   "metadata": {},
   "outputs": [],
   "source": [
    "skilldf = pd.DataFrame(skillset,columns=['skill'])\n",
    "skilldf.dropna(inplace=True)\n",
    "skilldf['id'] = skilldf.index+1"
   ]
  },
  {
   "cell_type": "code",
   "execution_count": 181,
   "metadata": {},
   "outputs": [],
   "source": [
    "df['combined_skills'] = df[skill_columns].apply(lambda row: ','.join(row.dropna().astype(str)), axis=1)"
   ]
  },
  {
   "cell_type": "code",
   "execution_count": 182,
   "metadata": {},
   "outputs": [],
   "source": [
    "df['combined_skills'] = df['combined_skills'].astype('str')"
   ]
  },
  {
   "cell_type": "code",
   "execution_count": 183,
   "metadata": {},
   "outputs": [],
   "source": [
    "jobskill = []\n",
    "for skillind, skillrow in skilldf.iterrows():\n",
    "    for dfind, dfrow in df[df['combined_skills'].str.contains(re.escape(skillrow['skill']))].iterrows():\n",
    "        jobskill.append({'skill_id': skillrow['id'], 'job_id': dfrow['id']})"
   ]
  },
  {
   "cell_type": "code",
   "execution_count": 184,
   "metadata": {},
   "outputs": [],
   "source": [
    "jobskilldf = pd.DataFrame(jobskill)"
   ]
  },
  {
   "cell_type": "code",
   "execution_count": 185,
   "metadata": {},
   "outputs": [],
   "source": [
    "jobskilldf['id'] = jobskilldf.index+1"
   ]
  },
  {
   "cell_type": "code",
   "execution_count": 186,
   "metadata": {},
   "outputs": [
    {
     "data": {
      "text/html": [
       "<div>\n",
       "<style scoped>\n",
       "    .dataframe tbody tr th:only-of-type {\n",
       "        vertical-align: middle;\n",
       "    }\n",
       "\n",
       "    .dataframe tbody tr th {\n",
       "        vertical-align: top;\n",
       "    }\n",
       "\n",
       "    .dataframe thead th {\n",
       "        text-align: right;\n",
       "    }\n",
       "</style>\n",
       "<table border=\"1\" class=\"dataframe\">\n",
       "  <thead>\n",
       "    <tr style=\"text-align: right;\">\n",
       "      <th></th>\n",
       "      <th>skill_id</th>\n",
       "      <th>job_id</th>\n",
       "      <th>id</th>\n",
       "    </tr>\n",
       "  </thead>\n",
       "  <tbody>\n",
       "    <tr>\n",
       "      <th>0</th>\n",
       "      <td>1</td>\n",
       "      <td>5748</td>\n",
       "      <td>1</td>\n",
       "    </tr>\n",
       "    <tr>\n",
       "      <th>1</th>\n",
       "      <td>2</td>\n",
       "      <td>4108</td>\n",
       "      <td>2</td>\n",
       "    </tr>\n",
       "    <tr>\n",
       "      <th>2</th>\n",
       "      <td>2</td>\n",
       "      <td>4942</td>\n",
       "      <td>3</td>\n",
       "    </tr>\n",
       "    <tr>\n",
       "      <th>3</th>\n",
       "      <td>3</td>\n",
       "      <td>8013</td>\n",
       "      <td>4</td>\n",
       "    </tr>\n",
       "    <tr>\n",
       "      <th>4</th>\n",
       "      <td>4</td>\n",
       "      <td>7017</td>\n",
       "      <td>5</td>\n",
       "    </tr>\n",
       "    <tr>\n",
       "      <th>...</th>\n",
       "      <td>...</td>\n",
       "      <td>...</td>\n",
       "      <td>...</td>\n",
       "    </tr>\n",
       "    <tr>\n",
       "      <th>1449351</th>\n",
       "      <td>16619</td>\n",
       "      <td>1422</td>\n",
       "      <td>1449352</td>\n",
       "    </tr>\n",
       "    <tr>\n",
       "      <th>1449352</th>\n",
       "      <td>16620</td>\n",
       "      <td>4582</td>\n",
       "      <td>1449353</td>\n",
       "    </tr>\n",
       "    <tr>\n",
       "      <th>1449353</th>\n",
       "      <td>16621</td>\n",
       "      <td>2133</td>\n",
       "      <td>1449354</td>\n",
       "    </tr>\n",
       "    <tr>\n",
       "      <th>1449354</th>\n",
       "      <td>16621</td>\n",
       "      <td>4277</td>\n",
       "      <td>1449355</td>\n",
       "    </tr>\n",
       "    <tr>\n",
       "      <th>1449355</th>\n",
       "      <td>16621</td>\n",
       "      <td>4957</td>\n",
       "      <td>1449356</td>\n",
       "    </tr>\n",
       "  </tbody>\n",
       "</table>\n",
       "<p>1449356 rows × 3 columns</p>\n",
       "</div>"
      ],
      "text/plain": [
       "         skill_id  job_id       id\n",
       "0               1    5748        1\n",
       "1               2    4108        2\n",
       "2               2    4942        3\n",
       "3               3    8013        4\n",
       "4               4    7017        5\n",
       "...           ...     ...      ...\n",
       "1449351     16619    1422  1449352\n",
       "1449352     16620    4582  1449353\n",
       "1449353     16621    2133  1449354\n",
       "1449354     16621    4277  1449355\n",
       "1449355     16621    4957  1449356\n",
       "\n",
       "[1449356 rows x 3 columns]"
      ]
     },
     "execution_count": 186,
     "metadata": {},
     "output_type": "execute_result"
    }
   ],
   "source": [
    "jobskilldf"
   ]
  },
  {
   "cell_type": "markdown",
   "metadata": {},
   "source": [
    "## industry table"
   ]
  },
  {
   "cell_type": "code",
   "execution_count": 187,
   "metadata": {},
   "outputs": [],
   "source": [
    "countkey = 500"
   ]
  },
  {
   "cell_type": "code",
   "execution_count": 188,
   "metadata": {},
   "outputs": [],
   "source": [
    "df['industry_type'] = df['industry_type'].str.lower()"
   ]
  },
  {
   "cell_type": "code",
   "execution_count": 189,
   "metadata": {},
   "outputs": [],
   "source": [
    "industrydf = df['industry_type'].value_counts().reset_index()\n",
    "industrydf.columns = ['industry', 'count']\n",
    "industrydf = industrydf[(industrydf['count'] > countkey)]\n",
    "industrydf['id']=industrydf.index+1"
   ]
  },
  {
   "cell_type": "code",
   "execution_count": 190,
   "metadata": {},
   "outputs": [],
   "source": [
    "del industrydf['count']"
   ]
  },
  {
   "cell_type": "markdown",
   "metadata": {},
   "source": [
    "## Department table"
   ]
  },
  {
   "cell_type": "code",
   "execution_count": 191,
   "metadata": {},
   "outputs": [],
   "source": [
    "df['department'] = df['department'].str.lower()"
   ]
  },
  {
   "cell_type": "code",
   "execution_count": 192,
   "metadata": {},
   "outputs": [],
   "source": [
    "departmentdf = df['department'].value_counts().reset_index()\n",
    "departmentdf.columns = ['department', 'count']\n",
    "departmentdf = departmentdf[(departmentdf['count'] > countkey)]\n",
    "departmentdf['id']=departmentdf.index+1"
   ]
  },
  {
   "cell_type": "code",
   "execution_count": 193,
   "metadata": {},
   "outputs": [],
   "source": [
    "del departmentdf['count']"
   ]
  },
  {
   "cell_type": "markdown",
   "metadata": {},
   "source": [
    "## rolecategory"
   ]
  },
  {
   "cell_type": "code",
   "execution_count": 194,
   "metadata": {},
   "outputs": [],
   "source": [
    "df['role_category'] = df['role_category'].str.lower()"
   ]
  },
  {
   "cell_type": "code",
   "execution_count": 195,
   "metadata": {},
   "outputs": [],
   "source": [
    "rolecategorydf = df['role_category'].value_counts().reset_index()\n",
    "rolecategorydf.columns = ['role_category', 'count']\n",
    "rolecategorydf = rolecategorydf[(rolecategorydf['count'] > countkey)]\n",
    "rolecategorydf['id']=rolecategorydf.index+1"
   ]
  },
  {
   "cell_type": "code",
   "execution_count": 196,
   "metadata": {},
   "outputs": [],
   "source": [
    "del rolecategorydf['count']"
   ]
  },
  {
   "cell_type": "markdown",
   "metadata": {},
   "source": [
    "## role table"
   ]
  },
  {
   "cell_type": "code",
   "execution_count": 197,
   "metadata": {},
   "outputs": [],
   "source": [
    "df['role'] = df['role'].str.lower()"
   ]
  },
  {
   "cell_type": "code",
   "execution_count": 198,
   "metadata": {},
   "outputs": [],
   "source": [
    "roledf = df['role'].value_counts().reset_index()\n",
    "roledf.columns = ['role', 'count']\n",
    "roledf = roledf[(roledf['count'] > countkey)]\n",
    "roledf['id']=roledf.index+1"
   ]
  },
  {
   "cell_type": "code",
   "execution_count": 199,
   "metadata": {},
   "outputs": [],
   "source": [
    "del roledf['count']"
   ]
  },
  {
   "cell_type": "code",
   "execution_count": 200,
   "metadata": {},
   "outputs": [
    {
     "data": {
      "text/plain": [
       "'industry_id\\ndepartment_id\\nrole_category_id\\nrole_id'"
      ]
     },
     "execution_count": 200,
     "metadata": {},
     "output_type": "execute_result"
    }
   ],
   "source": [
    "\"\"\"industry_id\n",
    "department_id\n",
    "role_category_id\n",
    "role_id\"\"\""
   ]
  },
  {
   "cell_type": "markdown",
   "metadata": {},
   "source": [
    "## all ids in job table"
   ]
  },
  {
   "cell_type": "code",
   "execution_count": 201,
   "metadata": {},
   "outputs": [],
   "source": [
    "# for jobinde,jobrow in joblocationdf.iterrows():\n",
    "#     jobsdf.at[jobrow['job_id'],'location_id'] = jobrow['location_id']\n",
    "    \n",
    "# for jobinde,jobrow in jobskilldf.iterrows():\n",
    "#     jobsdf.at[jobrow['job_id'],'skill_id'] = jobrow['skill_id']"
   ]
  },
  {
   "cell_type": "code",
   "execution_count": 202,
   "metadata": {},
   "outputs": [
    {
     "name": "stderr",
     "output_type": "stream",
     "text": [
      "C:\\Users\\PM\\AppData\\Local\\Temp\\ipykernel_12692\\3360376506.py:3: SettingWithCopyWarning: \n",
      "A value is trying to be set on a copy of a slice from a DataFrame.\n",
      "Try using .loc[row_indexer,col_indexer] = value instead\n",
      "\n",
      "See the caveats in the documentation: https://pandas.pydata.org/pandas-docs/stable/user_guide/indexing.html#returning-a-view-versus-a-copy\n",
      "  jobsdf.loc[indexes,'industry_id'] = jobrow['id']\n"
     ]
    },
    {
     "name": "stderr",
     "output_type": "stream",
     "text": [
      "C:\\Users\\PM\\AppData\\Local\\Temp\\ipykernel_12692\\3360376506.py:7: SettingWithCopyWarning: \n",
      "A value is trying to be set on a copy of a slice from a DataFrame.\n",
      "Try using .loc[row_indexer,col_indexer] = value instead\n",
      "\n",
      "See the caveats in the documentation: https://pandas.pydata.org/pandas-docs/stable/user_guide/indexing.html#returning-a-view-versus-a-copy\n",
      "  jobsdf.loc[indexes,'department_id'] = jobrow['id']\n",
      "C:\\Users\\PM\\AppData\\Local\\Temp\\ipykernel_12692\\3360376506.py:11: SettingWithCopyWarning: \n",
      "A value is trying to be set on a copy of a slice from a DataFrame.\n",
      "Try using .loc[row_indexer,col_indexer] = value instead\n",
      "\n",
      "See the caveats in the documentation: https://pandas.pydata.org/pandas-docs/stable/user_guide/indexing.html#returning-a-view-versus-a-copy\n",
      "  jobsdf.loc[indexes,'role_category_id'] = jobrow['id']\n",
      "C:\\Users\\PM\\AppData\\Local\\Temp\\ipykernel_12692\\3360376506.py:15: SettingWithCopyWarning: \n",
      "A value is trying to be set on a copy of a slice from a DataFrame.\n",
      "Try using .loc[row_indexer,col_indexer] = value instead\n",
      "\n",
      "See the caveats in the documentation: https://pandas.pydata.org/pandas-docs/stable/user_guide/indexing.html#returning-a-view-versus-a-copy\n",
      "  jobsdf.loc[indexes,'role_id'] = jobrow['id']\n"
     ]
    }
   ],
   "source": [
    "for jobinde,jobrow in industrydf.iterrows():\n",
    "    indexes = df.loc[df['industry_type'] == jobrow['industry']].index\n",
    "    jobsdf.loc[indexes,'industry_id'] = jobrow['id']\n",
    "    \n",
    "for jobinde,jobrow in departmentdf.iterrows():\n",
    "    indexes = df.loc[df['department'] == jobrow['department']].index\n",
    "    jobsdf.loc[indexes,'department_id'] = jobrow['id']    \n",
    "    \n",
    "for jobinde,jobrow in rolecategorydf.iterrows():\n",
    "    indexes = df.loc[df['role_category'] == jobrow['role_category']].index\n",
    "    jobsdf.loc[indexes,'role_category_id'] = jobrow['id']    \n",
    "    \n",
    "for jobinde,jobrow in roledf.iterrows():\n",
    "    indexes = df.loc[df['role'] == jobrow['role']].index\n",
    "    jobsdf.loc[indexes,'role_id'] = jobrow['id']            "
   ]
  },
  {
   "cell_type": "code",
   "execution_count": 203,
   "metadata": {},
   "outputs": [
    {
     "data": {
      "text/html": [
       "<div>\n",
       "<style scoped>\n",
       "    .dataframe tbody tr th:only-of-type {\n",
       "        vertical-align: middle;\n",
       "    }\n",
       "\n",
       "    .dataframe tbody tr th {\n",
       "        vertical-align: top;\n",
       "    }\n",
       "\n",
       "    .dataframe thead th {\n",
       "        text-align: right;\n",
       "    }\n",
       "</style>\n",
       "<table border=\"1\" class=\"dataframe\">\n",
       "  <thead>\n",
       "    <tr style=\"text-align: right;\">\n",
       "      <th></th>\n",
       "      <th>job_title</th>\n",
       "      <th>company_name</th>\n",
       "      <th>experience</th>\n",
       "      <th>salary</th>\n",
       "      <th>salary_minimum</th>\n",
       "      <th>salary_maximum</th>\n",
       "      <th>experience_minimum</th>\n",
       "      <th>experience_maximum</th>\n",
       "      <th>posted_on</th>\n",
       "      <th>extracted_on</th>\n",
       "      <th>id</th>\n",
       "      <th>industry_id</th>\n",
       "      <th>department_id</th>\n",
       "      <th>role_category_id</th>\n",
       "      <th>role_id</th>\n",
       "    </tr>\n",
       "  </thead>\n",
       "  <tbody>\n",
       "    <tr>\n",
       "      <th>0</th>\n",
       "      <td>Customer Service Executive - Up To 32k: Fluent...</td>\n",
       "      <td>Wipro</td>\n",
       "      <td>0 - 5 years</td>\n",
       "      <td>2.25-4 Lacs P.A.</td>\n",
       "      <td>225000.0</td>\n",
       "      <td>400000.0</td>\n",
       "      <td>0.0</td>\n",
       "      <td>5.0</td>\n",
       "      <td>2024-04-06</td>\n",
       "      <td>2024-04-16</td>\n",
       "      <td>1</td>\n",
       "      <td>3.0</td>\n",
       "      <td>10.0</td>\n",
       "      <td>30.0</td>\n",
       "      <td>NaN</td>\n",
       "    </tr>\n",
       "    <tr>\n",
       "      <th>1</th>\n",
       "      <td>AppDynamics</td>\n",
       "      <td>Tata Consultancy Services (TCS)</td>\n",
       "      <td>4 - 6 years</td>\n",
       "      <td>5.5-15 Lacs P.A.</td>\n",
       "      <td>550000.0</td>\n",
       "      <td>1500000.0</td>\n",
       "      <td>4.0</td>\n",
       "      <td>6.0</td>\n",
       "      <td>2024-04-06</td>\n",
       "      <td>2024-04-16</td>\n",
       "      <td>2</td>\n",
       "      <td>2.0</td>\n",
       "      <td>5.0</td>\n",
       "      <td>11.0</td>\n",
       "      <td>20.0</td>\n",
       "    </tr>\n",
       "    <tr>\n",
       "      <th>2</th>\n",
       "      <td>Sales Executive-Building Segment</td>\n",
       "      <td>Fosroc Chemicals</td>\n",
       "      <td>2 - 7 years</td>\n",
       "      <td>4-6 Lacs P.A.</td>\n",
       "      <td>400000.0</td>\n",
       "      <td>600000.0</td>\n",
       "      <td>2.0</td>\n",
       "      <td>7.0</td>\n",
       "      <td>2024-04-06</td>\n",
       "      <td>2024-04-16</td>\n",
       "      <td>3</td>\n",
       "      <td>13.0</td>\n",
       "      <td>2.0</td>\n",
       "      <td>3.0</td>\n",
       "      <td>16.0</td>\n",
       "    </tr>\n",
       "    <tr>\n",
       "      <th>3</th>\n",
       "      <td>Mainframe Developer</td>\n",
       "      <td>Tata Consultancy Services (TCS)</td>\n",
       "      <td>4 - 9 years</td>\n",
       "      <td>60,000-3 Lacs P.A.</td>\n",
       "      <td>60000.0</td>\n",
       "      <td>300000.0</td>\n",
       "      <td>4.0</td>\n",
       "      <td>9.0</td>\n",
       "      <td>2024-04-06</td>\n",
       "      <td>2024-04-16</td>\n",
       "      <td>4</td>\n",
       "      <td>2.0</td>\n",
       "      <td>3.0</td>\n",
       "      <td>2.0</td>\n",
       "      <td>3.0</td>\n",
       "    </tr>\n",
       "    <tr>\n",
       "      <th>4</th>\n",
       "      <td>Admission Counsellor</td>\n",
       "      <td>upGrad</td>\n",
       "      <td>1 - 6 years</td>\n",
       "      <td>4-9 Lacs P.A.</td>\n",
       "      <td>400000.0</td>\n",
       "      <td>900000.0</td>\n",
       "      <td>1.0</td>\n",
       "      <td>6.0</td>\n",
       "      <td>2024-04-07</td>\n",
       "      <td>2024-04-17</td>\n",
       "      <td>5</td>\n",
       "      <td>18.0</td>\n",
       "      <td>2.0</td>\n",
       "      <td>4.0</td>\n",
       "      <td>2.0</td>\n",
       "    </tr>\n",
       "    <tr>\n",
       "      <th>...</th>\n",
       "      <td>...</td>\n",
       "      <td>...</td>\n",
       "      <td>...</td>\n",
       "      <td>...</td>\n",
       "      <td>...</td>\n",
       "      <td>...</td>\n",
       "      <td>...</td>\n",
       "      <td>...</td>\n",
       "      <td>...</td>\n",
       "      <td>...</td>\n",
       "      <td>...</td>\n",
       "      <td>...</td>\n",
       "      <td>...</td>\n",
       "      <td>...</td>\n",
       "      <td>...</td>\n",
       "    </tr>\n",
       "    <tr>\n",
       "      <th>120184</th>\n",
       "      <td>Executive-HR</td>\n",
       "      <td>jbm neel metal</td>\n",
       "      <td>3 - 8 Yrs</td>\n",
       "      <td>2.25-4.5 Lacs P.A.</td>\n",
       "      <td>225000.0</td>\n",
       "      <td>450000.0</td>\n",
       "      <td>3.0</td>\n",
       "      <td>8.0</td>\n",
       "      <td>2024-03-25</td>\n",
       "      <td>2024-04-04</td>\n",
       "      <td>120185</td>\n",
       "      <td>30.0</td>\n",
       "      <td>6.0</td>\n",
       "      <td>16.0</td>\n",
       "      <td>NaN</td>\n",
       "    </tr>\n",
       "    <tr>\n",
       "      <th>120185</th>\n",
       "      <td>Engineer-Robot Maintenance</td>\n",
       "      <td>jbm neel metal</td>\n",
       "      <td>3 - 8 Yrs</td>\n",
       "      <td>2.5-5 Lacs P.A.</td>\n",
       "      <td>250000.0</td>\n",
       "      <td>500000.0</td>\n",
       "      <td>3.0</td>\n",
       "      <td>8.0</td>\n",
       "      <td>2024-03-25</td>\n",
       "      <td>2024-04-04</td>\n",
       "      <td>120186</td>\n",
       "      <td>30.0</td>\n",
       "      <td>9.0</td>\n",
       "      <td>19.0</td>\n",
       "      <td>NaN</td>\n",
       "    </tr>\n",
       "    <tr>\n",
       "      <th>120186</th>\n",
       "      <td>Executive-Quality</td>\n",
       "      <td>neel metal products ltd</td>\n",
       "      <td>1 - 4 Yrs</td>\n",
       "      <td>1-3.5 Lacs P.A.</td>\n",
       "      <td>100000.0</td>\n",
       "      <td>350000.0</td>\n",
       "      <td>1.0</td>\n",
       "      <td>4.0</td>\n",
       "      <td>2024-03-25</td>\n",
       "      <td>2024-04-04</td>\n",
       "      <td>120187</td>\n",
       "      <td>30.0</td>\n",
       "      <td>NaN</td>\n",
       "      <td>NaN</td>\n",
       "      <td>NaN</td>\n",
       "    </tr>\n",
       "    <tr>\n",
       "      <th>120187</th>\n",
       "      <td>Payment Associate(Customer Support Executive</td>\n",
       "      <td>kochar infotech</td>\n",
       "      <td>0-2</td>\n",
       "      <td>2-2.5 Lacs P.A.</td>\n",
       "      <td>200000.0</td>\n",
       "      <td>250000.0</td>\n",
       "      <td>0.0</td>\n",
       "      <td>2.0</td>\n",
       "      <td>2024-03-25</td>\n",
       "      <td>2024-04-04</td>\n",
       "      <td>120188</td>\n",
       "      <td>3.0</td>\n",
       "      <td>10.0</td>\n",
       "      <td>NaN</td>\n",
       "      <td>NaN</td>\n",
       "    </tr>\n",
       "    <tr>\n",
       "      <th>120188</th>\n",
       "      <td>Office Assistant - Urgent Opening | Pune (Camp)</td>\n",
       "      <td>infinity solutions</td>\n",
       "      <td>1 - 6 Yrs</td>\n",
       "      <td>1.25-2.75 Lacs P.A.</td>\n",
       "      <td>125000.0</td>\n",
       "      <td>275000.0</td>\n",
       "      <td>1.0</td>\n",
       "      <td>6.0</td>\n",
       "      <td>2024-03-25</td>\n",
       "      <td>2024-04-04</td>\n",
       "      <td>120189</td>\n",
       "      <td>NaN</td>\n",
       "      <td>NaN</td>\n",
       "      <td>NaN</td>\n",
       "      <td>NaN</td>\n",
       "    </tr>\n",
       "  </tbody>\n",
       "</table>\n",
       "<p>120189 rows × 15 columns</p>\n",
       "</div>"
      ],
      "text/plain": [
       "                                                job_title  \\\n",
       "0       Customer Service Executive - Up To 32k: Fluent...   \n",
       "1                                             AppDynamics   \n",
       "2                        Sales Executive-Building Segment   \n",
       "3                                     Mainframe Developer   \n",
       "4                                    Admission Counsellor   \n",
       "...                                                   ...   \n",
       "120184                                       Executive-HR   \n",
       "120185                         Engineer-Robot Maintenance   \n",
       "120186                                  Executive-Quality   \n",
       "120187       Payment Associate(Customer Support Executive   \n",
       "120188    Office Assistant - Urgent Opening | Pune (Camp)   \n",
       "\n",
       "                           company_name   experience               salary  \\\n",
       "0                                 Wipro  0 - 5 years     2.25-4 Lacs P.A.   \n",
       "1       Tata Consultancy Services (TCS)  4 - 6 years     5.5-15 Lacs P.A.   \n",
       "2                      Fosroc Chemicals  2 - 7 years        4-6 Lacs P.A.   \n",
       "3       Tata Consultancy Services (TCS)  4 - 9 years   60,000-3 Lacs P.A.   \n",
       "4                                upGrad  1 - 6 years        4-9 Lacs P.A.   \n",
       "...                                 ...          ...                  ...   \n",
       "120184                   jbm neel metal    3 - 8 Yrs   2.25-4.5 Lacs P.A.   \n",
       "120185                   jbm neel metal    3 - 8 Yrs      2.5-5 Lacs P.A.   \n",
       "120186          neel metal products ltd    1 - 4 Yrs      1-3.5 Lacs P.A.   \n",
       "120187                  kochar infotech          0-2      2-2.5 Lacs P.A.   \n",
       "120188               infinity solutions    1 - 6 Yrs  1.25-2.75 Lacs P.A.   \n",
       "\n",
       "        salary_minimum  salary_maximum  experience_minimum  \\\n",
       "0             225000.0        400000.0                 0.0   \n",
       "1             550000.0       1500000.0                 4.0   \n",
       "2             400000.0        600000.0                 2.0   \n",
       "3              60000.0        300000.0                 4.0   \n",
       "4             400000.0        900000.0                 1.0   \n",
       "...                ...             ...                 ...   \n",
       "120184        225000.0        450000.0                 3.0   \n",
       "120185        250000.0        500000.0                 3.0   \n",
       "120186        100000.0        350000.0                 1.0   \n",
       "120187        200000.0        250000.0                 0.0   \n",
       "120188        125000.0        275000.0                 1.0   \n",
       "\n",
       "        experience_maximum   posted_on extracted_on      id  industry_id  \\\n",
       "0                      5.0  2024-04-06   2024-04-16       1          3.0   \n",
       "1                      6.0  2024-04-06   2024-04-16       2          2.0   \n",
       "2                      7.0  2024-04-06   2024-04-16       3         13.0   \n",
       "3                      9.0  2024-04-06   2024-04-16       4          2.0   \n",
       "4                      6.0  2024-04-07   2024-04-17       5         18.0   \n",
       "...                    ...         ...          ...     ...          ...   \n",
       "120184                 8.0  2024-03-25   2024-04-04  120185         30.0   \n",
       "120185                 8.0  2024-03-25   2024-04-04  120186         30.0   \n",
       "120186                 4.0  2024-03-25   2024-04-04  120187         30.0   \n",
       "120187                 2.0  2024-03-25   2024-04-04  120188          3.0   \n",
       "120188                 6.0  2024-03-25   2024-04-04  120189          NaN   \n",
       "\n",
       "        department_id  role_category_id  role_id  \n",
       "0                10.0              30.0      NaN  \n",
       "1                 5.0              11.0     20.0  \n",
       "2                 2.0               3.0     16.0  \n",
       "3                 3.0               2.0      3.0  \n",
       "4                 2.0               4.0      2.0  \n",
       "...               ...               ...      ...  \n",
       "120184            6.0              16.0      NaN  \n",
       "120185            9.0              19.0      NaN  \n",
       "120186            NaN               NaN      NaN  \n",
       "120187           10.0               NaN      NaN  \n",
       "120188            NaN               NaN      NaN  \n",
       "\n",
       "[120189 rows x 15 columns]"
      ]
     },
     "execution_count": 203,
     "metadata": {},
     "output_type": "execute_result"
    }
   ],
   "source": [
    "jobsdf"
   ]
  },
  {
   "cell_type": "markdown",
   "metadata": {},
   "source": [
    "## tables to sql"
   ]
  },
  {
   "cell_type": "code",
   "execution_count": 204,
   "metadata": {},
   "outputs": [],
   "source": [
    "host = \"164.52.194.109\"\n",
    "user = \"root\"\n",
    "password = \"equipaypartners\"\n",
    "database = \"paypulse\"\n",
    "\n",
    "engine = create_engine(f\"mysql+mysqlconnector://{user}:{password}@{host}/{database}\")"
   ]
  },
  {
   "cell_type": "code",
   "execution_count": 205,
   "metadata": {},
   "outputs": [
    {
     "data": {
      "text/html": [
       "<div>\n",
       "<style scoped>\n",
       "    .dataframe tbody tr th:only-of-type {\n",
       "        vertical-align: middle;\n",
       "    }\n",
       "\n",
       "    .dataframe tbody tr th {\n",
       "        vertical-align: top;\n",
       "    }\n",
       "\n",
       "    .dataframe thead th {\n",
       "        text-align: right;\n",
       "    }\n",
       "</style>\n",
       "<table border=\"1\" class=\"dataframe\">\n",
       "  <thead>\n",
       "    <tr style=\"text-align: right;\">\n",
       "      <th></th>\n",
       "      <th>skill</th>\n",
       "      <th>id</th>\n",
       "    </tr>\n",
       "  </thead>\n",
       "  <tbody>\n",
       "    <tr>\n",
       "      <th>0</th>\n",
       "      <td>SVA</td>\n",
       "      <td>1</td>\n",
       "    </tr>\n",
       "    <tr>\n",
       "      <th>1</th>\n",
       "      <td>Stat Audit</td>\n",
       "      <td>2</td>\n",
       "    </tr>\n",
       "    <tr>\n",
       "      <th>2</th>\n",
       "      <td>Arc Map</td>\n",
       "      <td>3</td>\n",
       "    </tr>\n",
       "    <tr>\n",
       "      <th>3</th>\n",
       "      <td>eee</td>\n",
       "      <td>4</td>\n",
       "    </tr>\n",
       "    <tr>\n",
       "      <th>4</th>\n",
       "      <td>Ercp</td>\n",
       "      <td>5</td>\n",
       "    </tr>\n",
       "    <tr>\n",
       "      <th>...</th>\n",
       "      <td>...</td>\n",
       "      <td>...</td>\n",
       "    </tr>\n",
       "    <tr>\n",
       "      <th>16616</th>\n",
       "      <td>TCH RTP</td>\n",
       "      <td>16617</td>\n",
       "    </tr>\n",
       "    <tr>\n",
       "      <th>16617</th>\n",
       "      <td>Contracts</td>\n",
       "      <td>16618</td>\n",
       "    </tr>\n",
       "    <tr>\n",
       "      <th>16618</th>\n",
       "      <td>Microsoft Dynamics NAV</td>\n",
       "      <td>16619</td>\n",
       "    </tr>\n",
       "    <tr>\n",
       "      <th>16619</th>\n",
       "      <td>PI Perfmon</td>\n",
       "      <td>16620</td>\n",
       "    </tr>\n",
       "    <tr>\n",
       "      <th>16620</th>\n",
       "      <td>wireless</td>\n",
       "      <td>16621</td>\n",
       "    </tr>\n",
       "  </tbody>\n",
       "</table>\n",
       "<p>16619 rows × 2 columns</p>\n",
       "</div>"
      ],
      "text/plain": [
       "                        skill     id\n",
       "0                         SVA      1\n",
       "1                  Stat Audit      2\n",
       "2                     Arc Map      3\n",
       "3                         eee      4\n",
       "4                        Ercp      5\n",
       "...                       ...    ...\n",
       "16616                 TCH RTP  16617\n",
       "16617               Contracts  16618\n",
       "16618  Microsoft Dynamics NAV  16619\n",
       "16619              PI Perfmon  16620\n",
       "16620                wireless  16621\n",
       "\n",
       "[16619 rows x 2 columns]"
      ]
     },
     "execution_count": 205,
     "metadata": {},
     "output_type": "execute_result"
    }
   ],
   "source": [
    "skilldf"
   ]
  },
  {
   "cell_type": "code",
   "execution_count": 206,
   "metadata": {},
   "outputs": [
    {
     "data": {
      "text/plain": [
       "16619"
      ]
     },
     "execution_count": 206,
     "metadata": {},
     "output_type": "execute_result"
    }
   ],
   "source": [
    "industrydf.to_sql(name='industry', con=engine, if_exists='append', index=False)\n",
    "departmentdf.to_sql(name='department', con=engine, if_exists='append', index=False)\n",
    "rolecategorydf.to_sql(name='role_category', con=engine, if_exists='append', index=False)\n",
    "roledf.to_sql(name='role', con=engine, if_exists='append', index=False)\n",
    "locationdf.to_sql(name='location', con=engine, if_exists='append', index=False)\n",
    "skilldf.to_sql(name='skill', con=engine, if_exists='append', index=False)"
   ]
  },
  {
   "cell_type": "code",
   "execution_count": 207,
   "metadata": {},
   "outputs": [
    {
     "data": {
      "text/plain": [
       "120189"
      ]
     },
     "execution_count": 207,
     "metadata": {},
     "output_type": "execute_result"
    }
   ],
   "source": [
    "jobsdf.to_sql(name='job', con=engine, if_exists='append', index=False)"
   ]
  },
  {
   "cell_type": "code",
   "execution_count": 208,
   "metadata": {},
   "outputs": [
    {
     "data": {
      "text/plain": [
       "1449356"
      ]
     },
     "execution_count": 208,
     "metadata": {},
     "output_type": "execute_result"
    }
   ],
   "source": [
    "joblocationdf.to_sql(name='job_location', con=engine, if_exists='append', index=False)\n",
    "jobskilldf.to_sql(name='job_skill', con=engine, if_exists='append', index=False)"
   ]
  },
  {
   "cell_type": "markdown",
   "metadata": {},
   "source": [
    "# End"
   ]
  }
 ],
 "metadata": {
  "kernelspec": {
   "display_name": "Python 3",
   "language": "python",
   "name": "python3"
  },
  "language_info": {
   "codemirror_mode": {
    "name": "ipython",
    "version": 3
   },
   "file_extension": ".py",
   "mimetype": "text/x-python",
   "name": "python",
   "nbconvert_exporter": "python",
   "pygments_lexer": "ipython3",
   "version": "3.11.4"
  },
  "orig_nbformat": 4
 },
 "nbformat": 4,
 "nbformat_minor": 2
}
