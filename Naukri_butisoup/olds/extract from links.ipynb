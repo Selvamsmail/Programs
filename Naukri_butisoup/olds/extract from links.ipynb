{
 "cells": [
  {
   "cell_type": "code",
   "execution_count": 1,
   "metadata": {},
   "outputs": [],
   "source": [
    "import pandas as pd\n",
    "import gdown\n",
    "import re\n",
    "import requests\n",
    "from bs4 import BeautifulSoup\n",
    "from requests_html import HTMLSession\n",
    "import asyncio\n",
    "from requests_html import AsyncHTMLSession\n",
    "import json\n",
    "import pandas as pd\n",
    "import os\n",
    "from selenium import webdriver\n",
    "from selenium.webdriver.common.by import By\n",
    "from selenium.webdriver.support.ui import WebDriverWait\n",
    "from selenium.webdriver.support import expected_conditions as EC\n",
    "from selenium.common.exceptions import NoSuchElementException\n",
    "import gc\n",
    "import time\n",
    "import pytz\n",
    "import datetime\n",
    "import logging\n",
    "from tqdm import tqdm\n",
    "import traceback"
   ]
  },
  {
   "cell_type": "code",
   "execution_count": 2,
   "metadata": {},
   "outputs": [],
   "source": [
    "def driver_setup():# Assigning a Headless Firefox Driver\n",
    "    options = webdriver.FirefoxOptions()\n",
    "    options.binary_location = 'C:/Program Files/Mozilla Firefox/firefox.exe'  # Path to Chrome executable\n",
    "    options.add_argument('E:/Programs/geckodriver.exe')\n",
    "    options.add_argument('--headless')\n",
    "    options.add_argument(\"--start-with-cache\")\n",
    "    options.add_argument(\"0\")\n",
    "    options.add_argument(\"--disk-cache-size=0\")\n",
    "    options.add_argument('--no-sandbox')\n",
    "    options.add_argument('--disable-dev-shm-usage')\n",
    "    driver = webdriver.Firefox(options=options)\n",
    "    return driver\n",
    "\n",
    "def save_data_to_disk(data, filename):\n",
    "    if os.path.isfile(filename):\n",
    "        existing_df = pd.read_parquet(filename)\n",
    "        data = pd.concat([existing_df, data], ignore_index=True)\n",
    "        os.remove(filename)\n",
    "        data.to_parquet(filename, index=False)\n",
    "    else:\n",
    "        data.to_parquet(filename, index=False)"
   ]
  },
  {
   "cell_type": "code",
   "execution_count": 13,
   "metadata": {},
   "outputs": [],
   "source": [
    "ranlis = [str(i) + '-' + str(i+30) for i in range(40000) if i % 400 == 0]\n",
    "\n",
    "def in_ranlis(number):\n",
    "    for ran in ranlis:\n",
    "        start, end = map(int, ran.split('-'))\n",
    "        if start <= number <= end:\n",
    "            return True\n",
    "    return False"
   ]
  },
  {
   "cell_type": "code",
   "execution_count": 3,
   "metadata": {},
   "outputs": [],
   "source": [
    "linksdf = pd.read_parquet('links.parquet')"
   ]
  },
  {
   "cell_type": "code",
   "execution_count": 4,
   "metadata": {},
   "outputs": [
    {
     "name": "stdout",
     "output_type": "stream",
     "text": [
      "(260, 2)\n",
      "(260, 2)\n"
     ]
    }
   ],
   "source": [
    "print(linksdf.shape)\n",
    "linksdf.drop_duplicates(inplace=True)\n",
    "linksdf.dropna(inplace=True)\n",
    "linksdf.reset_index(drop=True, inplace=True)\n",
    "print(linksdf.shape)"
   ]
  },
  {
   "cell_type": "code",
   "execution_count": 6,
   "metadata": {},
   "outputs": [
    {
     "name": "stderr",
     "output_type": "stream",
     "text": [
      "The version of firefox cannot be detected. Trying with latest driver version\n"
     ]
    }
   ],
   "source": [
    "driver = driver_setup()"
   ]
  },
  {
   "cell_type": "code",
   "execution_count": 2,
   "metadata": {},
   "outputs": [],
   "source": [
    "with open('Naukri_Comp.txt', 'r') as file:\n",
    "    st_rng = int(file.read())"
   ]
  },
  {
   "cell_type": "code",
   "execution_count": 3,
   "metadata": {},
   "outputs": [
    {
     "data": {
      "text/plain": [
       "725"
      ]
     },
     "execution_count": 3,
     "metadata": {},
     "output_type": "execute_result"
    }
   ],
   "source": [
    "st_rng"
   ]
  },
  {
   "cell_type": "code",
   "execution_count": 9,
   "metadata": {},
   "outputs": [
    {
     "name": "stderr",
     "output_type": "stream",
     "text": [
      "Processing Rows:   1%|          | 558/48666 [38:02<54:39:24,  4.09s/it]\n"
     ]
    },
    {
     "ename": "KeyboardInterrupt",
     "evalue": "",
     "output_type": "error",
     "traceback": [
      "\u001b[1;31m---------------------------------------------------------------------------\u001b[0m",
      "\u001b[1;31mKeyboardInterrupt\u001b[0m                         Traceback (most recent call last)",
      "Cell \u001b[1;32mIn[9], line 3\u001b[0m\n\u001b[0;32m      1\u001b[0m \u001b[38;5;28;01mfor\u001b[39;00m inde, row \u001b[38;5;129;01min\u001b[39;00m tqdm(linksdf\u001b[38;5;241m.\u001b[39miloc[st_rng:]\u001b[38;5;241m.\u001b[39miterrows(), total\u001b[38;5;241m=\u001b[39m\u001b[38;5;28mlen\u001b[39m(linksdf), desc\u001b[38;5;241m=\u001b[39m\u001b[38;5;124m\"\u001b[39m\u001b[38;5;124mProcessing Rows\u001b[39m\u001b[38;5;124m\"\u001b[39m):\n\u001b[0;32m      2\u001b[0m     driver\u001b[38;5;241m.\u001b[39mget(row[\u001b[38;5;124m'\u001b[39m\u001b[38;5;124mlink\u001b[39m\u001b[38;5;124m'\u001b[39m])\n\u001b[1;32m----> 3\u001b[0m     time\u001b[38;5;241m.\u001b[39msleep(\u001b[38;5;241m2\u001b[39m)\n\u001b[0;32m      4\u001b[0m     \u001b[38;5;28;01mtry\u001b[39;00m:\n\u001b[0;32m      5\u001b[0m         WebDriverWait(driver, \u001b[38;5;241m10\u001b[39m)\u001b[38;5;241m.\u001b[39muntil(EC\u001b[38;5;241m.\u001b[39mvisibility_of_all_elements_located((By\u001b[38;5;241m.\u001b[39mCSS_SELECTOR, \u001b[38;5;124m'\u001b[39m\u001b[38;5;124m.styles_key-skill__GIPn_ > div > a, .getJobKeySkillsSection.key-skill a\u001b[39m\u001b[38;5;124m'\u001b[39m)))\n",
      "\u001b[1;31mKeyboardInterrupt\u001b[0m: "
     ]
    }
   ],
   "source": [
    "for inde, row in tqdm(linksdf.iloc[st_rng:].iterrows(), total=len(linksdf), desc=\"Processing Rows\"):\n",
    "    driver.get(row['link'])\n",
    "    time.sleep(2)\n",
    "    try:\n",
    "        WebDriverWait(driver, 10).until(EC.visibility_of_all_elements_located((By.CSS_SELECTOR, '.styles_key-skill__GIPn_ > div > a, .getJobKeySkillsSection.key-skill a')))\n",
    "    except:\n",
    "        print(\"...\")\n",
    "        driver.quit()\n",
    "        driver = driver_setup()\n",
    "        driver.get(row['link'])\n",
    "        time.sleep(2)\n",
    "    try:\n",
    "        job_title = driver.find_element(By.TAG_NAME, 'h1').text\n",
    "    except:\n",
    "        job_title = \"N/A\"\n",
    "\n",
    "    try:\n",
    "        company_name = driver.find_element(By.CSS_SELECTOR, '.styles_jd-header-comp-name__MvqAI > a').text\n",
    "    except:\n",
    "        company_name = \"N/A\"\n",
    "\n",
    "    try:\n",
    "        experience = driver.find_element(By.CSS_SELECTOR, '.styles_jhc__exp__k_giM, .slide-meta.getExperience > span').text\n",
    "    except:\n",
    "        experience = \"N/A\"\n",
    "\n",
    "    try:\n",
    "        salary = driver.find_element(By.CSS_SELECTOR, '.styles_jhc__salary__jdfEC, .job-meta.slide-meta-sal').text\n",
    "    except:\n",
    "        salary = \"N/A\"\n",
    "    try:\n",
    "        location = driver.find_element(By.CSS_SELECTOR, '.styles_jhc__loc___Du2H, .row.nomb.getCityLinks').text\n",
    "    except:\n",
    "        location = \"N/A\"\n",
    "\n",
    "    try:\n",
    "        description = driver.find_element(By.CSS_SELECTOR, '.styles_job-desc-container__txpYf > div > div , .nConfig_textblock').text\n",
    "    except:\n",
    "        description = \"N/A\"\n",
    "\n",
    "    try:\n",
    "        li_elements = driver.find_elements(By.CSS_SELECTOR, '.styles_key-skill__GIPn_ > div > a, .getJobKeySkillsSection.key-skill a')\n",
    "        l = [i.text for i in li_elements]\n",
    "    except:\n",
    "        l = []\n",
    "\n",
    "    try:\n",
    "        posted_on = driver.find_element(By.CSS_SELECTOR, '.styles_jhc__stat__PgY67 > span, .sumFoot > span').text\n",
    "    except:\n",
    "        days_ago = \"N/A\"\n",
    "\n",
    "    current_date = datetime.datetime.now().date()\n",
    "    data = {\n",
    "        'job_title':job_title,\n",
    "        'company_name':company_name,\n",
    "        'experience':experience,\n",
    "        'salary':salary,\n",
    "        'location':location,\n",
    "        'description':description,\n",
    "        'posted_on':posted_on,\n",
    "        'current_date':current_date,\n",
    "        'link':row['link'],\n",
    "        'sal_range': row['sal_range']\n",
    "    }\n",
    "    for i in range(len(l)):\n",
    "        data['skill'+str(i+1)]=l[i]\n",
    "    try:\n",
    "        lable_span = driver.find_elements(By.CSS_SELECTOR, '.styles_job-desc-container__txpYf > div > div.styles_other-details__oEN4O > div')    \n",
    "        for lable in lable_span:\n",
    "            labl = lable.find_element(By.CSS_SELECTOR, 'label').text\n",
    "            ans = lable.find_element(By.CSS_SELECTOR, 'span').text\n",
    "            data[labl] = ans\n",
    "    except:\n",
    "        lable_span = driver.find_elements(By.CSS_SELECTOR, '.getJobDescriptionOtherDetails.JD.av_textblock_section.jDisc.mt25 p')\n",
    "        for lable in lable_span:\n",
    "            labl = lable.find_element(By.CSS_SELECTOR, 'em').text\n",
    "            ans = lable.find_element(By.CSS_SELECTOR, 'span').text\n",
    "            data[labl] = ans\n",
    "    if data != {}:\n",
    "        tempdf = pd.DataFrame(data, index=[0])\n",
    "        tempdf['current_date'] = tempdf['current_date'].astype(str)\n",
    "        tempfilename = 'Naukri_raw.parquet'  # Change the file extension to '.parquet'\n",
    "        save_data_to_disk(tempdf, tempfilename)\n",
    "        tempdf = pd.DataFrame()\n",
    "        with open('Naukri_Comp.txt', 'w') as file:\n",
    "            file.write(str(inde))\n",
    "    if in_ranlis(inde):\n",
    "        \n"
   ]
  }
 ],
 "metadata": {
  "kernelspec": {
   "display_name": "Python 3",
   "language": "python",
   "name": "python3"
  },
  "language_info": {
   "codemirror_mode": {
    "name": "ipython",
    "version": 3
   },
   "file_extension": ".py",
   "mimetype": "text/x-python",
   "name": "python",
   "nbconvert_exporter": "python",
   "pygments_lexer": "ipython3",
   "version": "3.11.4"
  }
 },
 "nbformat": 4,
 "nbformat_minor": 2
}
