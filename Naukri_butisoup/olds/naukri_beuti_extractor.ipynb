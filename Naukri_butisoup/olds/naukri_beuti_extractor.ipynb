{
 "cells": [
  {
   "cell_type": "code",
   "execution_count": 1,
   "metadata": {},
   "outputs": [],
   "source": [
    "import pandas as pd\n",
    "import gdown\n",
    "import re\n",
    "import requests\n",
    "from bs4 import BeautifulSoup\n",
    "from requests_html import HTMLSession\n",
    "import asyncio\n",
    "from requests_html import AsyncHTMLSession\n",
    "import json\n",
    "import pandas as pd\n",
    "import os\n",
    "from selenium import webdriver\n",
    "from selenium.webdriver.common.by import By\n",
    "from selenium.webdriver.support.ui import WebDriverWait\n",
    "from selenium.webdriver.support import expected_conditions as EC\n",
    "from selenium.common.exceptions import NoSuchElementException\n",
    "import gc\n",
    "import time\n",
    "import pytz\n",
    "import datetime\n",
    "import logging\n",
    "from tqdm import tqdm\n",
    "import traceback"
   ]
  },
  {
   "cell_type": "code",
   "execution_count": 2,
   "metadata": {},
   "outputs": [],
   "source": [
    "def driver_setup():# Assigning a Headless Firefox Driver\n",
    "  options = webdriver.FirefoxOptions()\n",
    "  options.binary_location = 'C:/Program Files/Mozilla Firefox/firefox.exe'  # Path to Chrome executable\n",
    "  options.add_argument('E:/Programs/geckodriver.exe')\n",
    "  options.add_argument('--headless')\n",
    "  options.add_argument(\"--start-with-cache\")\n",
    "  options.add_argument(\"0\")\n",
    "  options.add_argument(\"--disk-cache-size=0\")\n",
    "  options.add_argument('--no-sandbox')\n",
    "  options.add_argument('--disable-dev-shm-usage')\n",
    "  driver = webdriver.Firefox(options=options)\n",
    "  return driver\n",
    "\n",
    "def save_data_to_disk(data, filename):\n",
    "    if os.path.isfile(filename):\n",
    "        existing_df = pd.read_parquet(filename)\n",
    "        data = pd.concat([existing_df, data], ignore_index=True)\n",
    "        os.remove(filename)\n",
    "        data.to_parquet(filename, index=False)\n",
    "    else:\n",
    "        data.to_parquet(filename, index=False)"
   ]
  },
  {
   "cell_type": "code",
   "execution_count": 3,
   "metadata": {},
   "outputs": [
    {
     "name": "stderr",
     "output_type": "stream",
     "text": [
      "The version of firefox cannot be detected. Trying with latest driver version\n"
     ]
    }
   ],
   "source": [
    "driver = driver_setup()"
   ]
  },
  {
   "cell_type": "code",
   "execution_count": 7,
   "metadata": {},
   "outputs": [],
   "source": [
    "save = 0\n",
    "strng = 0\n",
    "pg = 0"
   ]
  },
  {
   "cell_type": "code",
   "execution_count": 6,
   "metadata": {},
   "outputs": [
    {
     "name": "stdout",
     "output_type": "stream",
     "text": [
      "pg: 67 / 128, Progress: 68653 filtlevel_save: 2061, total: 2576, filtlevel: 5"
     ]
    },
    {
     "ename": "KeyboardInterrupt",
     "evalue": "",
     "output_type": "error",
     "traceback": [
      "\u001b[1;31m---------------------------------------------------------------------------\u001b[0m",
      "\u001b[1;31mKeyboardInterrupt\u001b[0m                         Traceback (most recent call last)",
      "Cell \u001b[1;32mIn[6], line 15\u001b[0m\n\u001b[0;32m     11\u001b[0m \u001b[38;5;66;03m################################\u001b[39;00m\n\u001b[0;32m     12\u001b[0m \u001b[38;5;66;03m# sub_save = 1801\u001b[39;00m\n\u001b[0;32m     13\u001b[0m \u001b[38;5;66;03m################################\u001b[39;00m\n\u001b[0;32m     14\u001b[0m \u001b[38;5;28;01mwhile\u001b[39;00m \u001b[38;5;28;01mTrue\u001b[39;00m:    \n\u001b[1;32m---> 15\u001b[0m     time\u001b[38;5;241m.\u001b[39msleep(\u001b[38;5;241m3\u001b[39m)\n\u001b[0;32m     16\u001b[0m     \u001b[38;5;28;01mtry\u001b[39;00m:\n\u001b[0;32m     17\u001b[0m         next_button \u001b[38;5;241m=\u001b[39m driver\u001b[38;5;241m.\u001b[39mfind_element(By\u001b[38;5;241m.\u001b[39mLINK_TEXT, \u001b[38;5;124m\"\u001b[39m\u001b[38;5;124mNext\u001b[39m\u001b[38;5;124m\"\u001b[39m)\n",
      "\u001b[1;31mKeyboardInterrupt\u001b[0m: "
     ]
    }
   ],
   "source": [
    "pageinfoserch = 1\n",
    "rangesal = ['3to6', '6to10', '10to15', '15to25', '25to50', '50to75', '75to100', '100to500', '0to3']\n",
    "for filt in range(strng,len((rangesal))):\n",
    "    strng = filt \n",
    "    if pageinfoserch == 1:\n",
    "        driver.get('https://www.naukri.com/jobs-in-india-'+str(pg)+'?ctcFilter='+rangesal[filt])\n",
    "        pageinfoserch = 0\n",
    "    else:\n",
    "        driver.get('https://www.naukri.com/jobs-in-india?ctcFilter='+rangesal[filt])\n",
    "    time.sleep(2)\n",
    "    total = int(driver.find_element(By.CLASS_NAME, 'styles_h1-wrapper__mHVA1').text.split('of')[-1].split('\\n')[0].strip())\n",
    "    ################################\n",
    "    sub_save = 0\n",
    "    ################################\n",
    "    while True:    \n",
    "        time.sleep(3)\n",
    "        try:\n",
    "            next_button = driver.find_element(By.LINK_TEXT, \"Next\")\n",
    "        except NoSuchElementException:\n",
    "            print(\"...\")\n",
    "            driver.quit()\n",
    "            driver = driver_setup()\n",
    "            driver.get('https://www.naukri.com/jobs-in-india-'+str(pg)+'?ctcFilter='+rangesal[filt])\n",
    "            time.sleep(3)\n",
    "        \n",
    "        job_articles = WebDriverWait(driver, 10).until(EC.presence_of_all_elements_located((By.CLASS_NAME, 'cust-job-tuple')))\n",
    "        for job_element in job_articles:\n",
    "            data = {}\n",
    "            data['sal_range'] = filt \n",
    "            try:\n",
    "                data['link'] = job_element.find_element(By.TAG_NAME, 'a').get_attribute('href')\n",
    "            except:\n",
    "                continue\n",
    "            if data != {}:\n",
    "                try:\n",
    "                    print(f'\\rpg: {pg} / {total//20}, Progress: {save} filtlevel_save: {sub_save}, total: {total}, filtlevel: {filt}', end='')\n",
    "                except:\n",
    "                    print(f'\\rProgress: {save}, filtlevel_save: {sub_save}, total: {total}, filtlevel: {filt}', end='')\n",
    "                save += 1\n",
    "                sub_save +=1\n",
    "                tempfilename = 'links.parquet'  # Change the file extension to '.parquet'\n",
    "                save_data_to_disk(pd.DataFrame(data, index=[0]), tempfilename)\n",
    "                tempdf = pd.DataFrame()\n",
    "                # linksdf = pd.concat([linksdf,pd.DataFrame(data, index=[0])], ignore_index=True)\n",
    "        time.sleep(1)\n",
    "        next_button = driver.find_element(By.LINK_TEXT, \"Next\")\n",
    "        is_disabled = next_button.get_attribute('disabled') is not None\n",
    "        if is_disabled or sub_save > 10000:\n",
    "            break\n",
    "        else:\n",
    "            try:\n",
    "                next_button.click()\n",
    "            except:\n",
    "                driver.refresh()\n",
    "                time.sleep(2)\n",
    "                print('*')\n",
    "                continue                    \n",
    "        pg = driver.current_url.split('india-')\n",
    "        if len(pg) > 1:\n",
    "            pg = (pg[1].split('?')[0])\n",
    "        else:\n",
    "            pg = 1\n",
    "        print(end='')"
   ]
  }
 ],
 "metadata": {
  "kernelspec": {
   "display_name": "Python 3",
   "language": "python",
   "name": "python3"
  },
  "language_info": {
   "codemirror_mode": {
    "name": "ipython",
    "version": 3
   },
   "file_extension": ".py",
   "mimetype": "text/x-python",
   "name": "python",
   "nbconvert_exporter": "python",
   "pygments_lexer": "ipython3",
   "version": "3.11.4"
  }
 },
 "nbformat": 4,
 "nbformat_minor": 2
}
