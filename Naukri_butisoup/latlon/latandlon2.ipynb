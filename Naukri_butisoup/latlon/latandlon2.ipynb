{
 "cells": [
  {
   "cell_type": "code",
   "execution_count": 8,
   "metadata": {},
   "outputs": [],
   "source": [
    "import pandas as pd\n",
    "from geopy.geocoders import Nominatim\n",
    "from tqdm import tqdm"
   ]
  },
  {
   "cell_type": "code",
   "execution_count": 5,
   "metadata": {},
   "outputs": [],
   "source": [
    "df1 = pd.read_csv('E:/Programs/Naukri_butisoup/latlon/Lat_and_lon_of_locations_1.csv')\n",
    "df2 = pd.read_csv('E:/Programs/Naukri_butisoup/latlon/Lat_and_lon_of_locations_2.csv')"
   ]
  },
  {
   "cell_type": "code",
   "execution_count": 7,
   "metadata": {},
   "outputs": [],
   "source": [
    "df = pd.concat([df1,df2],ignore_index=True)"
   ]
  },
  {
   "cell_type": "code",
   "execution_count": 11,
   "metadata": {},
   "outputs": [
    {
     "name": "stderr",
     "output_type": "stream",
     "text": [
      "100%|██████████| 7627/7627 [1:04:46<00:00,  1.96it/s]\n"
     ]
    }
   ],
   "source": [
    "geolocator = Nominatim(user_agent=\"my_geocoder\")\n",
    "\n",
    "def get_city(latitude, longitude):\n",
    "    if pd.isna(latitude) or pd.isna(longitude):\n",
    "        return None\n",
    "    try:\n",
    "        location = geolocator.reverse((latitude, longitude), exactly_one=True)\n",
    "        if location:\n",
    "            return location.raw['address']\n",
    "    except Exception as e:\n",
    "        # print(f\"Error: {e}\")\n",
    "        None\n",
    "    return None\n",
    "\n",
    "df = df.dropna(subset=['lat', 'lon'])\n",
    "tqdm.pandas()  # Enable progress_apply method\n",
    "df['adress'] = df.progress_apply(lambda row: get_city(row['lat'], row['lon']), axis=1)\n"
   ]
  },
  {
   "cell_type": "code",
   "execution_count": 13,
   "metadata": {},
   "outputs": [],
   "source": [
    "df.to_csv('adresses.csv',index=False)"
   ]
  }
 ],
 "metadata": {
  "kernelspec": {
   "display_name": "Python 3",
   "language": "python",
   "name": "python3"
  },
  "language_info": {
   "codemirror_mode": {
    "name": "ipython",
    "version": 3
   },
   "file_extension": ".py",
   "mimetype": "text/x-python",
   "name": "python",
   "nbconvert_exporter": "python",
   "pygments_lexer": "ipython3",
   "version": "3.11.4"
  }
 },
 "nbformat": 4,
 "nbformat_minor": 2
}
