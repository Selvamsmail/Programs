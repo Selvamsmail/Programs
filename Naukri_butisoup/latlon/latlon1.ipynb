{
 "cells": [
  {
   "cell_type": "code",
   "execution_count": 1,
   "metadata": {},
   "outputs": [],
   "source": [
    "import pandas as pd\n",
    "import gdown\n",
    "import re\n",
    "import requests\n",
    "from bs4 import BeautifulSoup\n",
    "import json\n",
    "import pandas as pd\n",
    "import os\n",
    "from selenium import webdriver\n",
    "from selenium.webdriver.common.by import By\n",
    "from selenium.webdriver.support.ui import WebDriverWait\n",
    "from selenium.webdriver.support import expected_conditions as EC\n",
    "import time\n",
    "from tqdm import tqdm"
   ]
  },
  {
   "cell_type": "code",
   "execution_count": 2,
   "metadata": {},
   "outputs": [],
   "source": [
    "def driver_setup():# Assigning a Headless Firefox Driver\n",
    "    options = webdriver.FirefoxOptions()\n",
    "    options.binary_location = 'C:/Program Files/Mozilla Firefox/firefox.exe'  # Path to Chrome executable\n",
    "    options.add_argument('E:/Programs/geckodriver.exe')\n",
    "    options.add_argument('--headless')\n",
    "    options.add_argument(\"--start-with-cache\")\n",
    "    options.add_argument(\"0\")\n",
    "    options.add_argument(\"--disk-cache-size=0\")\n",
    "    options.add_argument('--no-sandbox')\n",
    "    options.add_argument('--disable-dev-shm-usage')\n",
    "    driver = webdriver.Firefox(options=options)\n",
    "    return driver\n",
    "\n",
    "def save_data_to_disk(data, filename):\n",
    "    if os.path.isfile(filename):\n",
    "        existing_df = pd.read_csv(filename)\n",
    "        data = pd.concat([existing_df, data], ignore_index=True)\n",
    "        os.remove(filename)\n",
    "        data.to_csv(filename,index=False)\n",
    "    else:\n",
    "        data.to_csv(filename, mode='w', header=True, index=False)"
   ]
  },
  {
   "cell_type": "code",
   "execution_count": 3,
   "metadata": {},
   "outputs": [],
   "source": [
    "df= pd.read_csv('location_req.csv')"
   ]
  },
  {
   "cell_type": "code",
   "execution_count": 4,
   "metadata": {},
   "outputs": [
    {
     "name": "stderr",
     "output_type": "stream",
     "text": [
      "The version of firefox cannot be detected. Trying with latest driver version\n"
     ]
    }
   ],
   "source": [
    "driver = driver_setup()\n",
    "driver.implicitly_wait(5)\n",
    "driver.get('https://www.google.com/maps/')"
   ]
  },
  {
   "cell_type": "code",
   "execution_count": 5,
   "metadata": {},
   "outputs": [
    {
     "name": "stderr",
     "output_type": "stream",
     "text": [
      "Searching:   0%|          | 0/275 [00:00<?, ?query/s]"
     ]
    },
    {
     "name": "stderr",
     "output_type": "stream",
     "text": [
      "Searching: 100%|██████████| 275/275 [17:10<00:00,  3.70s/query]"
     ]
    }
   ],
   "source": [
    "totlis = [3785+420+1684+1407, 7571]\n",
    "st_rng = totlis[0]\n",
    "end_rng = totlis[1]\n",
    "total_rng = abs(end_rng - st_rng)\n",
    "\n",
    "pbar = tqdm(total=total_rng, desc='Searching', unit='query')\n",
    "\n",
    "for sub in range(st_rng, end_rng):\n",
    "\n",
    "    pbar.update(1)\n",
    "    \n",
    "    driver.find_element(By.XPATH, '//*[@id=\"searchboxinput\"]').send_keys(df['unique_locstions'][sub])\n",
    "    driver.find_element(By.XPATH, '//*[@id=\"searchbox-searchbutton\"]').click()\n",
    "    time.sleep(3)\n",
    "    current_url = driver.current_url\n",
    "\n",
    "    pattern = r'@(-?\\d+\\.\\d+),(-?\\d+\\.\\d+)'\n",
    "    match = re.search(pattern, current_url)\n",
    "\n",
    "    if match:\n",
    "        lat = float(match.group(1))\n",
    "        lon = float(match.group(2))\n",
    "        \n",
    "        main ={\n",
    "            'Search_string': df['unique_locstions'][sub],\n",
    "            'lat' : lat,\n",
    "            'lon':lon\n",
    "        }\n",
    "\n",
    "        tempdf = pd.DataFrame(main, index=[0])\n",
    "        tempfilename = 'Lat_and_lon_of_locations_2.csv'\n",
    "        save_data_to_disk(tempdf, tempfilename)\n",
    "        tempdf = pd.DataFrame()\n",
    "    try:\n",
    "        WebDriverWait(driver, 10).until(EC.element_to_be_clickable((By.CSS_SELECTOR, '.lSDxNd button'))).click()\n",
    "    except:\n",
    "        driver.quit()\n",
    "        driver = driver_setup()\n",
    "        driver.implicitly_wait(5)\n",
    "        driver.get('https://www.google.com/maps/')"
   ]
  }
 ],
 "metadata": {
  "kernelspec": {
   "display_name": "Python 3",
   "language": "python",
   "name": "python3"
  },
  "language_info": {
   "codemirror_mode": {
    "name": "ipython",
    "version": 3
   },
   "file_extension": ".py",
   "mimetype": "text/x-python",
   "name": "python",
   "nbconvert_exporter": "python",
   "pygments_lexer": "ipython3",
   "version": "3.11.4"
  }
 },
 "nbformat": 4,
 "nbformat_minor": 2
}
