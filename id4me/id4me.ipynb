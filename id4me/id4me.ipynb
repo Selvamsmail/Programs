{
 "cells": [
  {
   "cell_type": "code",
   "execution_count": 1,
   "metadata": {},
   "outputs": [],
   "source": [
    "import pandas as pd\n",
    "import gdown\n",
    "import re\n",
    "import requests\n",
    "from bs4 import BeautifulSoup\n",
    "import json\n",
    "import pandas as pd\n",
    "import os\n",
    "from selenium import webdriver\n",
    "from selenium.webdriver.common.by import By\n",
    "from selenium.webdriver.support.ui import WebDriverWait\n",
    "from selenium.webdriver.support import expected_conditions as EC\n",
    "from selenium.common.exceptions import NoSuchElementException\n",
    "import gc\n",
    "import time\n",
    "import pytz\n",
    "import datetime\n",
    "import logging\n",
    "from tqdm import tqdm\n",
    "import traceback\n",
    "import sys\n",
    "\n",
    "def driver_setup():# Assigning a Headless Firefox Driver\n",
    "  options = webdriver.FirefoxOptions()\n",
    "  options.binary_location = 'C:/Program Files/Mozilla Firefox/firefox.exe'  # Path to Chrome executable\n",
    "  options.add_argument('E:/Programs/geckodriver.exe')\n",
    "#   options.add_argument('--headless')\n",
    "  options.add_argument('--no-sandbox')\n",
    "  options.add_argument('--disable-dev-shm-usage')\n",
    "  driver = webdriver.Firefox(options=options)\n",
    "  return driver\n",
    "\n",
    "def save_data_to_disk(data, filename):\n",
    "    if os.path.isfile(filename):\n",
    "        existing_df = pd.read_csv(filename)\n",
    "        data = pd.concat([existing_df, data], ignore_index=True)\n",
    "        os.remove(filename)\n",
    "        data.to_csv(filename,index=False)\n",
    "    else:\n",
    "        data.to_csv(filename, mode='w', header=True, index=False)"
   ]
  },
  {
   "cell_type": "code",
   "execution_count": 2,
   "metadata": {},
   "outputs": [],
   "source": [
    "df=pd.read_excel('Contact details of property holders.xlsx')"
   ]
  },
  {
   "cell_type": "code",
   "execution_count": 848,
   "metadata": {},
   "outputs": [
    {
     "name": "stderr",
     "output_type": "stream",
     "text": [
      "The version of firefox cannot be detected. Trying with latest driver version\n"
     ]
    }
   ],
   "source": [
    "driver = driver_setup()"
   ]
  },
  {
   "cell_type": "code",
   "execution_count": 1041,
   "metadata": {},
   "outputs": [],
   "source": [
    "page_html = driver.page_source#--------------------------------------------------------------------------------------------"
   ]
  },
  {
   "cell_type": "code",
   "execution_count": 1042,
   "metadata": {},
   "outputs": [
    {
     "data": {
      "text/plain": [
       "(944, 9)"
      ]
     },
     "execution_count": 1042,
     "metadata": {},
     "output_type": "execute_result"
    }
   ],
   "source": [
    "soup = BeautifulSoup(page_html, 'html.parser')\n",
    "tables = soup.select(\"table\")\n",
    "df1 = pd.read_html(str(tables[0]))[0]\n",
    "df1.shape"
   ]
  },
  {
   "cell_type": "code",
   "execution_count": 1043,
   "metadata": {},
   "outputs": [],
   "source": [
    "df = pd.concat([df, df1], ignore_index=True)"
   ]
  },
  {
   "cell_type": "code",
   "execution_count": 1044,
   "metadata": {},
   "outputs": [],
   "source": [
    "df.drop_duplicates(inplace=True)\n",
    "df.reset_index(inplace=True,drop=True)"
   ]
  },
  {
   "cell_type": "code",
   "execution_count": 1045,
   "metadata": {},
   "outputs": [
    {
     "name": "stdout",
     "output_type": "stream",
     "text": [
      "total rows (382839, 9)\n",
      "total contacts that have atlest one info available (362853, 9)\n",
      "email available (303897, 9)\n",
      "mobile available (282287, 9)\n",
      "landline available (123089, 9)\n"
     ]
    }
   ],
   "source": [
    "print('total rows',df.shape)\n",
    "mask = df[~df[['Mobile', 'Landline', 'Email']].isnull().all(axis=1)]\n",
    "print('total contacts that have atlest one info available',mask.shape)\n",
    "mask = df[~df['Email'].isnull()]\n",
    "print('email available',mask.shape)\n",
    "mask = df[~df['Mobile'].isnull()]\n",
    "print('mobile available',mask.shape)\n",
    "mask = df[~df['Landline'].isnull()]\n",
    "print('landline available',mask.shape)"
   ]
  },
  {
   "cell_type": "code",
   "execution_count": 1049,
   "metadata": {},
   "outputs": [],
   "source": [
    "df.to_excel('Contact details of property holders.xlsx',index = False)"
   ]
  },
  {
   "cell_type": "code",
   "execution_count": 1047,
   "metadata": {},
   "outputs": [
    {
     "data": {
      "text/html": [
       "<div>\n",
       "<style scoped>\n",
       "    .dataframe tbody tr th:only-of-type {\n",
       "        vertical-align: middle;\n",
       "    }\n",
       "\n",
       "    .dataframe tbody tr th {\n",
       "        vertical-align: top;\n",
       "    }\n",
       "\n",
       "    .dataframe thead th {\n",
       "        text-align: right;\n",
       "    }\n",
       "</style>\n",
       "<table border=\"1\" class=\"dataframe\">\n",
       "  <thead>\n",
       "    <tr style=\"text-align: right;\">\n",
       "      <th></th>\n",
       "      <th>Unnamed: 0</th>\n",
       "      <th>Name</th>\n",
       "      <th>Name.1</th>\n",
       "      <th>Address</th>\n",
       "      <th>Date of Birth</th>\n",
       "      <th>Mobile</th>\n",
       "      <th>Landline</th>\n",
       "      <th>Email</th>\n",
       "      <th>Last Seen</th>\n",
       "    </tr>\n",
       "  </thead>\n",
       "  <tbody>\n",
       "    <tr>\n",
       "      <th>0</th>\n",
       "      <td>NaN</td>\n",
       "      <td>Gagan Sahi  Male</td>\n",
       "      <td>NaN</td>\n",
       "      <td>Sunset Views Boulevard TARNEIT VIC 3029</td>\n",
       "      <td>04-Aug-1986  (37 years)</td>\n",
       "      <td>Last Called  0430540737</td>\n",
       "      <td>NaN</td>\n",
       "      <td>&lt; Last &gt;  gagansahi@gmail.com</td>\n",
       "      <td>01-Jan-2019</td>\n",
       "    </tr>\n",
       "    <tr>\n",
       "      <th>1</th>\n",
       "      <td>NaN</td>\n",
       "      <td>Amelia Bowers  Female</td>\n",
       "      <td>NaN</td>\n",
       "      <td>14 Kayla Avenue TARNEIT VIC 3029</td>\n",
       "      <td>06-Oct-1979  (43 years)</td>\n",
       "      <td>Last Called  0431622923</td>\n",
       "      <td>NaN</td>\n",
       "      <td>&lt; Last &gt;  amelia.bowers@hotmail.com</td>\n",
       "      <td>18-Jan-2021</td>\n",
       "    </tr>\n",
       "    <tr>\n",
       "      <th>2</th>\n",
       "      <td>NaN</td>\n",
       "      <td>Hayley Portelli  Female</td>\n",
       "      <td>NaN</td>\n",
       "      <td>109 Penrose Promenade TARNEIT VIC 3029</td>\n",
       "      <td>30-May-1987  (36 years)</td>\n",
       "      <td>NaN</td>\n",
       "      <td>NaN</td>\n",
       "      <td>NaN</td>\n",
       "      <td>18-Jan-2021</td>\n",
       "    </tr>\n",
       "    <tr>\n",
       "      <th>3</th>\n",
       "      <td>NaN</td>\n",
       "      <td>Michelle Cimino  Female</td>\n",
       "      <td>NaN</td>\n",
       "      <td>50 Sunset Views Boulevard TARNEIT VIC 3029</td>\n",
       "      <td>19-Feb-1985  (38 years)</td>\n",
       "      <td>Last Called  0401052850</td>\n",
       "      <td>NaN</td>\n",
       "      <td>&lt; Last &gt;  michelle_cimino@hotmail.com</td>\n",
       "      <td>18-Jan-2021</td>\n",
       "    </tr>\n",
       "    <tr>\n",
       "      <th>4</th>\n",
       "      <td>NaN</td>\n",
       "      <td>J Singh</td>\n",
       "      <td>NaN</td>\n",
       "      <td>12 Welford Street TARNEIT VIC 3029</td>\n",
       "      <td>16-Jan-1983  (40 years)</td>\n",
       "      <td>NaN</td>\n",
       "      <td>Last Called  0387424925</td>\n",
       "      <td>NaN</td>\n",
       "      <td>18-Jan-2021</td>\n",
       "    </tr>\n",
       "    <tr>\n",
       "      <th>...</th>\n",
       "      <td>...</td>\n",
       "      <td>...</td>\n",
       "      <td>...</td>\n",
       "      <td>...</td>\n",
       "      <td>...</td>\n",
       "      <td>...</td>\n",
       "      <td>...</td>\n",
       "      <td>...</td>\n",
       "      <td>...</td>\n",
       "    </tr>\n",
       "    <tr>\n",
       "      <th>382834</th>\n",
       "      <td>NaN</td>\n",
       "      <td>Maria Bolos Last called 15-Sep-2023  Female</td>\n",
       "      <td>NaN</td>\n",
       "      <td>331 Queen Street CONCORD WEST NSW 2138</td>\n",
       "      <td>08-Jun-1969  (54 years)</td>\n",
       "      <td>Last Called  0424737683</td>\n",
       "      <td>Last Called  0297478744</td>\n",
       "      <td>&lt; Last &gt;  manager@egbolos.com.au</td>\n",
       "      <td>15-Sep-2023</td>\n",
       "    </tr>\n",
       "    <tr>\n",
       "      <th>382835</th>\n",
       "      <td>NaN</td>\n",
       "      <td>Maria Bolos Last called 15-Sep-2023  Female</td>\n",
       "      <td>NaN</td>\n",
       "      <td>331 Queen Street CONCORD WEST NSW 2138</td>\n",
       "      <td>08-Jun-1969  (54 years)</td>\n",
       "      <td>Last Called  0410605925</td>\n",
       "      <td>NaN</td>\n",
       "      <td>NaN</td>\n",
       "      <td>15-Sep-2023</td>\n",
       "    </tr>\n",
       "    <tr>\n",
       "      <th>382836</th>\n",
       "      <td>NaN</td>\n",
       "      <td>Nader Samuel Last called 12-Sep-2023  Male</td>\n",
       "      <td>NaN</td>\n",
       "      <td>54 Nirranda Street CONCORD WEST NSW 2138</td>\n",
       "      <td>01-Jan-1971  (52 years)</td>\n",
       "      <td>Last Called  0419443182 Last called 12-Sep-2023</td>\n",
       "      <td>Last Called  0287658122</td>\n",
       "      <td>NaN</td>\n",
       "      <td>12-Sep-2023</td>\n",
       "    </tr>\n",
       "    <tr>\n",
       "      <th>382837</th>\n",
       "      <td>NaN</td>\n",
       "      <td>Judy Coulson Last called 26-Sep-2023  Female</td>\n",
       "      <td>NaN</td>\n",
       "      <td>360 Concord Road CONCORD WEST NSW 2138</td>\n",
       "      <td>11-Dec-1973  (49 years)</td>\n",
       "      <td>Last Called  0406784355 Last called 26-Sep-2023</td>\n",
       "      <td>NaN</td>\n",
       "      <td>&lt; Last &gt;  judycac@gmail.com</td>\n",
       "      <td>26-Sep-2023</td>\n",
       "    </tr>\n",
       "    <tr>\n",
       "      <th>382838</th>\n",
       "      <td>NaN</td>\n",
       "      <td>Dussadee Veeraphan Last called 26-Sep-2023</td>\n",
       "      <td>NaN</td>\n",
       "      <td>13 Stuart Street CONCORD WEST NSW 2138</td>\n",
       "      <td>14-Sep-1976  (47 years)</td>\n",
       "      <td>Last Called  0422597449 Last called 26-Sep-2023</td>\n",
       "      <td>NaN</td>\n",
       "      <td>&lt; Last &gt;  dop29@hotmail.com</td>\n",
       "      <td>26-Sep-2023</td>\n",
       "    </tr>\n",
       "  </tbody>\n",
       "</table>\n",
       "<p>382839 rows × 9 columns</p>\n",
       "</div>"
      ],
      "text/plain": [
       "        Unnamed: 0                                          Name  Name.1  \\\n",
       "0              NaN                              Gagan Sahi  Male     NaN   \n",
       "1              NaN                         Amelia Bowers  Female     NaN   \n",
       "2              NaN                       Hayley Portelli  Female     NaN   \n",
       "3              NaN                       Michelle Cimino  Female     NaN   \n",
       "4              NaN                                       J Singh     NaN   \n",
       "...            ...                                           ...     ...   \n",
       "382834         NaN   Maria Bolos Last called 15-Sep-2023  Female     NaN   \n",
       "382835         NaN   Maria Bolos Last called 15-Sep-2023  Female     NaN   \n",
       "382836         NaN    Nader Samuel Last called 12-Sep-2023  Male     NaN   \n",
       "382837         NaN  Judy Coulson Last called 26-Sep-2023  Female     NaN   \n",
       "382838         NaN    Dussadee Veeraphan Last called 26-Sep-2023     NaN   \n",
       "\n",
       "                                           Address            Date of Birth  \\\n",
       "0          Sunset Views Boulevard TARNEIT VIC 3029  04-Aug-1986  (37 years)   \n",
       "1                 14 Kayla Avenue TARNEIT VIC 3029  06-Oct-1979  (43 years)   \n",
       "2           109 Penrose Promenade TARNEIT VIC 3029  30-May-1987  (36 years)   \n",
       "3       50 Sunset Views Boulevard TARNEIT VIC 3029  19-Feb-1985  (38 years)   \n",
       "4               12 Welford Street TARNEIT VIC 3029  16-Jan-1983  (40 years)   \n",
       "...                                            ...                      ...   \n",
       "382834      331 Queen Street CONCORD WEST NSW 2138  08-Jun-1969  (54 years)   \n",
       "382835      331 Queen Street CONCORD WEST NSW 2138  08-Jun-1969  (54 years)   \n",
       "382836    54 Nirranda Street CONCORD WEST NSW 2138  01-Jan-1971  (52 years)   \n",
       "382837      360 Concord Road CONCORD WEST NSW 2138  11-Dec-1973  (49 years)   \n",
       "382838      13 Stuart Street CONCORD WEST NSW 2138  14-Sep-1976  (47 years)   \n",
       "\n",
       "                                                 Mobile  \\\n",
       "0                               Last Called  0430540737   \n",
       "1                               Last Called  0431622923   \n",
       "2                                                   NaN   \n",
       "3                               Last Called  0401052850   \n",
       "4                                                   NaN   \n",
       "...                                                 ...   \n",
       "382834                          Last Called  0424737683   \n",
       "382835                          Last Called  0410605925   \n",
       "382836  Last Called  0419443182 Last called 12-Sep-2023   \n",
       "382837  Last Called  0406784355 Last called 26-Sep-2023   \n",
       "382838  Last Called  0422597449 Last called 26-Sep-2023   \n",
       "\n",
       "                       Landline                                  Email  \\\n",
       "0                           NaN          < Last >  gagansahi@gmail.com   \n",
       "1                           NaN    < Last >  amelia.bowers@hotmail.com   \n",
       "2                           NaN                                    NaN   \n",
       "3                           NaN  < Last >  michelle_cimino@hotmail.com   \n",
       "4       Last Called  0387424925                                    NaN   \n",
       "...                         ...                                    ...   \n",
       "382834  Last Called  0297478744       < Last >  manager@egbolos.com.au   \n",
       "382835                      NaN                                    NaN   \n",
       "382836  Last Called  0287658122                                    NaN   \n",
       "382837                      NaN            < Last >  judycac@gmail.com   \n",
       "382838                      NaN            < Last >  dop29@hotmail.com   \n",
       "\n",
       "          Last Seen  \n",
       "0       01-Jan-2019  \n",
       "1       18-Jan-2021  \n",
       "2       18-Jan-2021  \n",
       "3       18-Jan-2021  \n",
       "4       18-Jan-2021  \n",
       "...             ...  \n",
       "382834  15-Sep-2023  \n",
       "382835  15-Sep-2023  \n",
       "382836  12-Sep-2023  \n",
       "382837  26-Sep-2023  \n",
       "382838  26-Sep-2023  \n",
       "\n",
       "[382839 rows x 9 columns]"
      ]
     },
     "execution_count": 1047,
     "metadata": {},
     "output_type": "execute_result"
    }
   ],
   "source": [
    "df"
   ]
  },
  {
   "cell_type": "code",
   "execution_count": 1048,
   "metadata": {},
   "outputs": [
    {
     "data": {
      "text/plain": [
       "'https://onedrive.live.com/?id=F87FC3AA6EB46E0%21197343&cid=0F87FC3AA6EB46E0'"
      ]
     },
     "execution_count": 1048,
     "metadata": {},
     "output_type": "execute_result"
    }
   ],
   "source": [
    "'https://onedrive.live.com/?id=F87FC3AA6EB46E0%21197343&cid=0F87FC3AA6EB46E0'"
   ]
  }
 ],
 "metadata": {
  "kernelspec": {
   "display_name": "Python 3",
   "language": "python",
   "name": "python3"
  },
  "language_info": {
   "codemirror_mode": {
    "name": "ipython",
    "version": 3
   },
   "file_extension": ".py",
   "mimetype": "text/x-python",
   "name": "python",
   "nbconvert_exporter": "python",
   "pygments_lexer": "ipython3",
   "version": "3.11.4"
  },
  "orig_nbformat": 4
 },
 "nbformat": 4,
 "nbformat_minor": 2
}
