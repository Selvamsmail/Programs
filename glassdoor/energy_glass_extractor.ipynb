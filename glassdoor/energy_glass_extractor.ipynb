{
 "cells": [
  {
   "cell_type": "code",
   "execution_count": 1,
   "metadata": {},
   "outputs": [],
   "source": [
    "import pandas as pd\n",
    "import gdown\n",
    "import re\n",
    "import requests\n",
    "from bs4 import BeautifulSoup\n",
    "import json\n",
    "import pandas as pd\n",
    "import os\n",
    "from selenium import webdriver\n",
    "from selenium.webdriver.common.by import By\n",
    "from selenium.webdriver.support.ui import WebDriverWait\n",
    "from selenium.webdriver.support import expected_conditions as EC\n",
    "import gc\n",
    "import time\n",
    "import pytz\n",
    "import datetime\n",
    "import logging\n",
    "from tqdm import tqdm\n",
    "import traceback"
   ]
  },
  {
   "cell_type": "code",
   "execution_count": 2,
   "metadata": {},
   "outputs": [],
   "source": [
    "def driver_setup():# Assigning a Headless Firefox Driver\n",
    "  options = webdriver.FirefoxOptions()\n",
    "  options.binary_location = 'C:/Program Files/Mozilla Firefox/firefox.exe'  # Path to Chrome executable\n",
    "  options.add_argument('E:/Programs/geckodriver.exe')\n",
    "  # options.add_argument('--headless')\n",
    "  options.add_argument('--no-sandbox')\n",
    "  options.add_argument('--disable-dev-shm-usage')\n",
    "  driver = webdriver.Firefox(options=options)\n",
    "  return driver\n",
    "\n",
    "def save_data_to_disk(data, filename):\n",
    "    if os.path.isfile(filename):\n",
    "        existing_df = pd.read_csv(filename)\n",
    "        data = pd.concat([existing_df, data], ignore_index=True)\n",
    "        os.remove(filename)\n",
    "        data.to_csv(filename,index=False)\n",
    "    else:\n",
    "        data.to_csv(filename, mode='w', header=True, index=False)"
   ]
  },
  {
   "cell_type": "code",
   "execution_count": 3,
   "metadata": {},
   "outputs": [
    {
     "name": "stderr",
     "output_type": "stream",
     "text": [
      "The version of firefox cannot be detected. Trying with latest driver version\n"
     ]
    }
   ],
   "source": [
    "i = 0\n",
    "driver = driver_setup()"
   ]
  },
  {
   "cell_type": "code",
   "execution_count": 4,
   "metadata": {},
   "outputs": [],
   "source": [
    "url = 'https://www.glassdoor.co.in/Job/energy-jobs-SRCH_KO0,6.htm?industryNId=10006'\n",
    "driver.get(url)"
   ]
  },
  {
   "cell_type": "code",
   "execution_count": 5,
   "metadata": {},
   "outputs": [],
   "source": [
    "save = 1\n",
    "job_title = None\n",
    "company = None\n",
    "salary = None\n",
    "location = None \n",
    "description = None\n",
    "posted_on = None\n",
    "current_date = None \n",
    "avg_sal_estimate = None\n",
    "minrange = None \n",
    "maxrange = None \n",
    "i = 0"
   ]
  },
  {
   "cell_type": "code",
   "execution_count": 12,
   "metadata": {},
   "outputs": [
    {
     "name": "stdout",
     "output_type": "stream",
     "text": [
      "Progress: 110"
     ]
    }
   ],
   "source": [
    "li_elements = driver.find_elements(By.CSS_SELECTOR, '.JobsList_jobsList__Ey2Vo > li')\n",
    "itirator = len(li_elements)\n",
    "\n",
    "while i < itirator:\n",
    "    time.sleep(2)\n",
    "    data = {}\n",
    "    try:\n",
    "        li_elements[i].find_elements(By.CSS_SELECTOR, 'a')[-1].click()\n",
    "    except:\n",
    "        i+=1\n",
    "        continue\n",
    "    try:\n",
    "        salary = li_elements[i].find_element(By.CLASS_NAME, 'JobCard_salaryEstimate___m9kY').text.split('\\n')[0]\n",
    "    except:\n",
    "        i+=1\n",
    "        continue\n",
    "    try:\n",
    "        job_title = ' '.join(driver.find_element(By.CLASS_NAME, 'JobDetails_jobTitle__Rw_gn').text.split('\\n'))\n",
    "    except:\n",
    "        None \n",
    "    try:\n",
    "        company = li_elements[i].find_element(By.CLASS_NAME, 'EmployerProfile_profileContainer__d5rMb').text.split('\\n')[0]\n",
    "    except:\n",
    "        None\n",
    "    try:\n",
    "        location = li_elements[i].find_element(By.CLASS_NAME, 'JobCard_location__N_iYE').text.split('\\n')[0]\n",
    "    except:\n",
    "        None \n",
    "    try:\n",
    "        posted_on = li_elements[i].find_element(By.CSS_SELECTOR, \".JobCard_jobCardContainer__l0svv .JobCard_listingAge__KuaxZ\").text\n",
    "    except:\n",
    "        None\n",
    "    try:\n",
    "        show_more_button = WebDriverWait(driver, 10).until(\n",
    "            EC.element_to_be_clickable((By.CSS_SELECTOR, \".JobDetails_showMoreWrapper__I6uBt .JobDetails_showMore__j5Z_h\"))\n",
    "        )\n",
    "        show_more_button.click()\n",
    "    except:\n",
    "        None\n",
    "    try:\n",
    "        description = driver.find_element(By.CSS_SELECTOR, \".JobDetails_jobDescription__6VeBn\").text\n",
    "    except:\n",
    "        None \n",
    "    try:\n",
    "        avg_sal_estimate = driver.find_element(By.CSS_SELECTOR, \".SalaryEstimate_averageEstimate__xF_7h\").text\n",
    "    except:\n",
    "        None \n",
    "    try:\n",
    "        sal_range = driver.find_element(By.CSS_SELECTOR, \".SalaryEstimate_salaryRange__TSUO0\").text.split('\\n')\n",
    "        minrange = sal_range[1]\n",
    "        maxrange = sal_range[3]\n",
    "    except:\n",
    "        None \n",
    "    try:\n",
    "        temp = {}\n",
    "        compoverview = driver.find_elements(By.CSS_SELECTOR, \".JobDetails_companyOverviewGrid__CV62w > div\")\n",
    "        for overv in compoverview:\n",
    "            overv = overv.text.split('\\n')\n",
    "            temp.update({overv[0]:overv[1]})\n",
    "    except:\n",
    "        None\n",
    "    \n",
    "    current_date = datetime.datetime.now().date()\n",
    "    data = {\n",
    "        'job_title':job_title,\n",
    "        'company_name':company,\n",
    "        'salary':salary,\n",
    "        'location':location,\n",
    "        'description':description,\n",
    "        'posted_on':posted_on,\n",
    "        'current_date':current_date,\n",
    "        'avg_sal_estimate':avg_sal_estimate,\n",
    "        'minrange':minrange,\n",
    "        'maxrange':maxrange\n",
    "    }\n",
    "    data.update(temp)\n",
    "    \n",
    "    if data != {}:\n",
    "        print(f'\\rProgress: {save}', end='')\n",
    "        save+=1\n",
    "        tempdf = pd.DataFrame(data, index=[0])\n",
    "        tempfilename = 'glassdoor_energy_roles.csv'\n",
    "        save_data_to_disk(tempdf, tempfilename)\n",
    "        # make all nans.\n",
    "        tempdf = pd.DataFrame()\n",
    "    \n",
    "    job_title = None\n",
    "    company = None\n",
    "    salary = None\n",
    "    location = None \n",
    "    description = None\n",
    "    posted_on = None\n",
    "    current_date = None \n",
    "    avg_sal_estimate = None\n",
    "    minrange = None \n",
    "    maxrange = None   \n",
    "    \n",
    "    i += 1\n",
    "    if i in range(itirator-2, itirator):\n",
    "        try:\n",
    "            driver.find_element(By.CSS_SELECTOR, '.button_Button__meEg5').click()\n",
    "            time.sleep(4)\n",
    "            itirator = len(li_elements)\n",
    "        except:\n",
    "            None \n",
    "        try:\n",
    "            popup = WebDriverWait(driver, 10).until(EC.presence_of_element_located((By.CLASS_NAME, \"Modal\")))\n",
    "            if popup.is_displayed():\n",
    "                driver.find_element(By.CSS_SELECTOR, '.CloseButton').click()\n",
    "                try:\n",
    "                    driver.find_element(By.CSS_SELECTOR, '.button_Button__meEg5').click()\n",
    "                    time.sleep(4)\n",
    "                    itirator = len(li_elements)\n",
    "                except:\n",
    "                    None\n",
    "        except:\n",
    "            None         \n",
    "        time.sleep(5)"
   ]
  },
  {
   "cell_type": "code",
   "execution_count": 13,
   "metadata": {},
   "outputs": [
    {
     "name": "stdout",
     "output_type": "stream",
     "text": [
      "181\n"
     ]
    }
   ],
   "source": [
    "# i = 60\n",
    "print(i)"
   ]
  },
  {
   "cell_type": "code",
   "execution_count": 14,
   "metadata": {},
   "outputs": [
    {
     "data": {
      "text/plain": [
       "(110, 16)"
      ]
     },
     "execution_count": 14,
     "metadata": {},
     "output_type": "execute_result"
    }
   ],
   "source": [
    "df = pd.read_csv(r'glassdoor_energy_roles.csv')\n",
    "subsetcols = df.columns.to_list()\n",
    "subsetcols.remove('current_date')\n",
    "subsetcols.remove('posted_on')\n",
    "df = df[df['salary'] != 'Unpaid']\n",
    "\n",
    "df.drop_duplicates(subset=subsetcols, inplace=True)\n",
    "df.reset_index(drop=True,inplace=True)\n",
    "# df.to_csv('Naukri_raw.csv',index=False)\n",
    "\n",
    "df.shape"
   ]
  },
  {
   "cell_type": "code",
   "execution_count": 15,
   "metadata": {},
   "outputs": [],
   "source": [
    "current_time = datetime.datetime.now()\n",
    "filename = 'Glassdoor_Energy_Extract_'+ str(current_time.date()).replace('-', '')+'.xlsx'\n",
    "df.to_excel(filename,index = False)"
   ]
  }
 ],
 "metadata": {
  "kernelspec": {
   "display_name": "Python 3",
   "language": "python",
   "name": "python3"
  },
  "language_info": {
   "codemirror_mode": {
    "name": "ipython",
    "version": 3
   },
   "file_extension": ".py",
   "mimetype": "text/x-python",
   "name": "python",
   "nbconvert_exporter": "python",
   "pygments_lexer": "ipython3",
   "version": "3.11.4"
  }
 },
 "nbformat": 4,
 "nbformat_minor": 2
}
