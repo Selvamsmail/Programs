{
 "cells": [
  {
   "cell_type": "code",
   "execution_count": 1,
   "metadata": {},
   "outputs": [],
   "source": [
    "import pandas as pd"
   ]
  },
  {
   "cell_type": "code",
   "execution_count": 20,
   "metadata": {},
   "outputs": [],
   "source": [
    "import chardet\n",
    "\n",
    "with open('Salary Data.csv', 'rb') as f:\n",
    "    result = chardet.detect(f.read())\n",
    "\n",
    "df1 = pd.read_csv('Salary Data.csv', encoding=result['encoding'])\n"
   ]
  },
  {
   "cell_type": "code",
   "execution_count": 21,
   "metadata": {},
   "outputs": [],
   "source": [
    "df = pd.read_excel('Glassdoor_Energy_Extract_20231207.xlsx')"
   ]
  },
  {
   "cell_type": "code",
   "execution_count": 22,
   "metadata": {},
   "outputs": [],
   "source": [
    "del df['Unnamed: 17']"
   ]
  },
  {
   "cell_type": "code",
   "execution_count": 23,
   "metadata": {},
   "outputs": [
    {
     "data": {
      "text/plain": [
       "0      Energy Markets Consultant – Analytics\n",
       "1      Energy Markets Consultant – Analytics\n",
       "2      Energy Markets Consultant – Analytics\n",
       "3      Energy Markets Consultant – Analytics\n",
       "4               Consultant – Analytics (DER)\n",
       "                       ...                  \n",
       "105                                      NaN\n",
       "106                                      NaN\n",
       "107                                      NaN\n",
       "108                                      NaN\n",
       "109                                      NaN\n",
       "Name: Classifications, Length: 110, dtype: object"
      ]
     },
     "execution_count": 23,
     "metadata": {},
     "output_type": "execute_result"
    }
   ],
   "source": [
    "df['Classifications']"
   ]
  },
  {
   "cell_type": "code",
   "execution_count": 24,
   "metadata": {},
   "outputs": [
    {
     "data": {
      "text/plain": [
       "array(['Energy Market Researcher - Power',\n",
       "       'Project Coordinator – Technical Advisory',\n",
       "       'Energy Market Analyst– Transmission', 'GIS Analyst – Power',\n",
       "       'Analyst – Energy Analytics(FLM)', 'Analyst – Analytics(DER)',\n",
       "       'Energy Engineer - Solar & Storage', 'Energy Markets Consultant',\n",
       "       'Senior Data Scientist - Energy Markets',\n",
       "       'Energy Markets Consultant – Analytics',\n",
       "       'Consultant – Analytics (DER)', 'Energy Market Consultant– Power',\n",
       "       'Consultant, Transmission', 'Senior Energy Markets Consultant',\n",
       "       'Senior Energy Markets Consultant - Power',\n",
       "       'Senior Energy Engineer', 'Lead- Energy Market - Power',\n",
       "       'Manager - Technical Advisory',\n",
       "       'Manager – Energy Market Analytics (FLM)',\n",
       "       'Manager, Energy Markets - Power',\n",
       "       'Senior Manager, Energy Market Analytics',\n",
       "       'Senior Manager, Energy Markets - Power'], dtype=object)"
      ]
     },
     "execution_count": 24,
     "metadata": {},
     "output_type": "execute_result"
    }
   ],
   "source": [
    "df1['Business title'].unique()"
   ]
  },
  {
   "cell_type": "code",
   "execution_count": null,
   "metadata": {},
   "outputs": [],
   "source": [
    "df = pd.merge(df,df1,how = 'left', left_on='Classifications',right_on='Business title').drop(columns = 'Classifications')"
   ]
  },
  {
   "cell_type": "code",
   "execution_count": 27,
   "metadata": {},
   "outputs": [],
   "source": [
    "df.dropna(inplace=True)"
   ]
  },
  {
   "cell_type": "code",
   "execution_count": 29,
   "metadata": {},
   "outputs": [],
   "source": [
    "df.to_excel('merged_data.xlsx',index = False)"
   ]
  }
 ],
 "metadata": {
  "kernelspec": {
   "display_name": "Python 3",
   "language": "python",
   "name": "python3"
  },
  "language_info": {
   "codemirror_mode": {
    "name": "ipython",
    "version": 3
   },
   "file_extension": ".py",
   "mimetype": "text/x-python",
   "name": "python",
   "nbconvert_exporter": "python",
   "pygments_lexer": "ipython3",
   "version": "3.11.4"
  }
 },
 "nbformat": 4,
 "nbformat_minor": 2
}
